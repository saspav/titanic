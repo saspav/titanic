{
 "cells": [
  {
   "cell_type": "markdown",
   "metadata": {
    "id": "2f9be3fc-9bbd-41c7-b03b-1131fcf5e02b"
   },
   "source": [
    "# <center>[🦏 Автоматический стэкинг и блендинг](https://stepik.org/lesson/872530/)</center>"
   ]
  },
  {
   "cell_type": "markdown",
   "metadata": {
    "id": "4af7362f-d951-4dd9-8eef-ebe7caf3174e"
   },
   "source": [
    "## Импортируем библиотеки"
   ]
  },
  {
   "cell_type": "code",
   "execution_count": 1,
   "metadata": {
    "execution": {
     "iopub.execute_input": "2025-01-03T12:51:21.128046Z",
     "iopub.status.busy": "2025-01-03T12:51:21.127587Z",
     "iopub.status.idle": "2025-01-03T12:51:21.132676Z",
     "shell.execute_reply": "2025-01-03T12:51:21.131653Z",
     "shell.execute_reply.started": "2025-01-03T12:51:21.128007Z"
    },
    "id": "0e230ddd-f5ff-4d17-8f67-a48bf4d6bd1a"
   },
   "outputs": [],
   "source": [
    "import warnings\n",
    "warnings.filterwarnings(\"ignore\")"
   ]
  },
  {
   "cell_type": "code",
   "execution_count": 2,
   "metadata": {
    "execution": {
     "iopub.execute_input": "2025-01-03T12:51:16.856489Z",
     "iopub.status.busy": "2025-01-03T12:51:16.856004Z",
     "iopub.status.idle": "2025-01-03T12:51:21.126296Z",
     "shell.execute_reply": "2025-01-03T12:51:21.125204Z",
     "shell.execute_reply.started": "2025-01-03T12:51:16.856456Z"
    },
    "id": "56d5f730-6c7c-46e0-b035-6d9bc99727dc"
   },
   "outputs": [],
   "source": [
    "import numpy as np\n",
    "import pandas as pd\n",
    "\n",
    "from sklearn.model_selection import train_test_split\n",
    "from sklearn.metrics import accuracy_score\n",
    "\n",
    "import lightgbm as lgbm\n",
    "import xgboost as xgb\n",
    "import catboost as cb"
   ]
  },
  {
   "cell_type": "code",
   "execution_count": 3,
   "metadata": {},
   "outputs": [],
   "source": [
    "from data_process import (RANDOM_SEED, PREDICTIONS_DIR, get_max_num, DataTransform,\n",
    "                          make_predict, add_info_to_log, merge_submits, LOCAL_FILE)\n",
    "\n",
    "from print_time import print_time, print_msg\n",
    "from set_all_seeds import set_all_seeds\n",
    "\n",
    "\n",
    "set_all_seeds(seed=RANDOM_SEED)"
   ]
  },
  {
   "cell_type": "markdown",
   "metadata": {
    "id": "148738ed-3394-4afd-8290-abbcaaa48d35"
   },
   "source": [
    "## Считываем данные"
   ]
  },
  {
   "cell_type": "code",
   "execution_count": 4,
   "metadata": {
    "execution": {
     "iopub.execute_input": "2025-01-03T12:51:21.134167Z",
     "iopub.status.busy": "2025-01-03T12:51:21.133716Z",
     "iopub.status.idle": "2025-01-03T12:51:31.625597Z",
     "shell.execute_reply": "2025-01-03T12:51:31.624621Z",
     "shell.execute_reply.started": "2025-01-03T12:51:21.134112Z"
    },
    "id": "badb38d4-fe4a-40bb-9557-3d58410e7284",
    "outputId": "04ced74a-0b62-488f-d971-d0092bcbd343"
   },
   "outputs": [
    {
     "name": "stdout",
     "output_type": "stream",
     "text": [
      "Читаю подготовленные данные...\n",
      "Время обработки: 0.0 сек\n",
      "Обучаюсь на колонках: ['Pclass', 'SibSp', 'Parch', 'title', 'len_name', 'alone', 'family', 'delta', 'fare', 'age', 'sex', 'embarked', 'cabin', 'title_cat', 'retirer', 'idx_family', 'len_ticket', 'fst_sym_ticket', 'ticket_freq', 'ticket_fare', 'idx_deck', 'fare_zero', 'fare_log', 'double_name']\n",
      "Категорийные колонки: ['Pclass', 'title', 'embarked', 'title_cat', 'idx_family', 'fst_sym_ticket', 'idx_deck']\n",
      "Исключенные колонки: ['Survived', 'idx_age', 'idx_fare', 'idx_ticket', 'idx_len_ticket', 'learn', 'Name', 'Sex', 'Age', 'Ticket', 'Fare', 'Cabin', 'Embarked', 'new_deck', 'is_cabin', 'name_delta', 'deck', 'ticket']\n",
      "Размер train_df = (891, 41), test = (418, 40)\n",
      "train.shape (891, 24) пропусков: 0\n",
      "test.shape (418, 24) пропусков: 0\n"
     ]
    }
   ],
   "source": [
    "sub_pref = 'st_'\n",
    "\n",
    "numeric_columns = []\n",
    "\n",
    "cat_columns = ['Pclass',\n",
    "               # 'SibSp',  # Количество Братьев (Сестер) / Супругов на борту\n",
    "               # 'Parch',  # Количество Родителей / Детей на борту\n",
    "               'Embarked',\n",
    "               'title',\n",
    "               # 'family',  # Количество всех членов семьи\n",
    "               'deck',  # Палуба символ\n",
    "               'embarked',  # индекс Порт посадки\n",
    "               'title_cat',\n",
    "               'idx_age',  # разбивка возрастов по категориям\n",
    "               'idx_family',  # разбивка семей по категориям\n",
    "               # 'len_ticket',  # Длина номера билета\n",
    "               'fst_sym_ticket',\n",
    "               # 'ticket_freq',  # частота использования билета\n",
    "               'idx_deck',  # Индекс Палубы\n",
    "               'idx_fare',  # Индекс Тарифа\n",
    "               ]\n",
    "\n",
    "# Чтение и предобработка данных\n",
    "data_cls = DataTransform(use_catboost=True,\n",
    "                         category_columns=cat_columns,\n",
    "                         drop_first=False,\n",
    "                         # numeric_columns=numeric_columns, scaler=StandardScaler,\n",
    "                         )\n",
    "\n",
    "train_df, test_df = data_cls.make_agg_data()\n",
    "\n",
    "train_df.set_index('PassengerId', inplace=True)\n",
    "test_df.set_index('PassengerId', inplace=True)\n",
    "\n",
    "# # Добавление группировок по целевому признаку\n",
    "# train_df = data_cls.fit_transform(train_df)\n",
    "# test_df = data_cls.transform(test_df)\n",
    "\n",
    "features2drop = ['Survived']\n",
    "\n",
    "exclude_columns = [\n",
    "    'idx_age',  # разбивка возрастов по категориям\n",
    "    'idx_fare',  # Индекс Тарифа\n",
    "    'idx_ticket',\n",
    "    'idx_len_ticket',\n",
    "    # 'len_ticket',  # Длина номера билета\n",
    "]\n",
    "\n",
    "exclude_columns.extend(data_cls.exclude_columns)\n",
    "\n",
    "model_columns = test_df.columns.to_list()\n",
    "\n",
    "model_columns = [col for col in model_columns if col not in exclude_columns]\n",
    "\n",
    "# Добавим в категориальные признаки те, что были посчитаны как мода\n",
    "cat_columns.extend([col for col in model_columns if col.upper().startswith('MODE_')])\n",
    "\n",
    "model_columns = [col for col in model_columns if col not in exclude_columns]\n",
    "cat_columns = [col for col in cat_columns if col in model_columns + features2drop]\n",
    "num_columns = [col for col in model_columns if col not in cat_columns + features2drop]\n",
    "\n",
    "exclude_columns = features2drop + exclude_columns\n",
    "\n",
    "print('Обучаюсь на колонках:', model_columns)\n",
    "print('Категорийные колонки:', cat_columns)\n",
    "print('Исключенные колонки:', exclude_columns)\n",
    "\n",
    "print(f'Размер train_df = {train_df.shape}, test = {test_df.shape}')\n",
    "\n",
    "train = train_df[model_columns].drop(columns=features2drop, errors='ignore')\n",
    "target = train_df['Survived']\n",
    "test_df = test_df[model_columns].copy()\n",
    "\n",
    "for col in cat_columns:\n",
    "    train[col] = train[col].astype('category')\n",
    "    test_df[col] = test_df[col].astype('category')\n",
    "\n",
    "print('train.shape', train.shape, 'пропусков:', train.isna().sum().sum())\n",
    "print('test.shape', test_df.drop(columns=features2drop, errors='ignore').shape,\n",
    "      'пропусков:', test_df.isna().sum().sum())"
   ]
  },
  {
   "cell_type": "markdown",
   "metadata": {
    "id": "48b6ad9e-6ce1-40b8-86b7-b3f5a78e8829"
   },
   "source": [
    "### Разделим выборку на валидационную и обучающую"
   ]
  },
  {
   "cell_type": "code",
   "execution_count": 5,
   "metadata": {
    "execution": {
     "iopub.execute_input": "2025-01-03T12:51:31.627052Z",
     "iopub.status.busy": "2025-01-03T12:51:31.626759Z",
     "iopub.status.idle": "2025-01-03T12:51:31.642668Z",
     "shell.execute_reply": "2025-01-03T12:51:31.641571Z",
     "shell.execute_reply.started": "2025-01-03T12:51:31.627022Z"
    },
    "id": "e0c56c6f-7d89-422a-bb23-361e44a66ef2"
   },
   "outputs": [
    {
     "name": "stdout",
     "output_type": "stream",
     "text": [
      "valid_size: 0.2, SEED=127\n",
      "X_train.shape (712, 24)\n",
      "X_valid.shape (179, 24)\n"
     ]
    }
   ],
   "source": [
    "test_size = 0.2\n",
    "\n",
    "num_folds = 5\n",
    "\n",
    "test_size = round(test_size, 2)\n",
    "\n",
    "print(f'valid_size: {test_size}, SEED={RANDOM_SEED}')\n",
    "\n",
    "# Создаем комбинированный столбец для стратификации\n",
    "train_df['survd_sex'] = train_df['Survived'].astype(str) + '_' + train['sex'].astype(str)\n",
    "\n",
    "stratified = None\n",
    "stratified = ['Survived']\n",
    "# stratified = ['survd_sex']\n",
    "\n",
    "stratified_target = train_df[stratified] if stratified else None\n",
    "\n",
    "# Разделение на обучающую и валидационную выборки\n",
    "\n",
    "X_train, X_valid, y_train, y_valid = train_test_split(train, target,\n",
    "                                                      test_size=test_size,\n",
    "                                                      stratify=stratified_target,\n",
    "                                                      random_state=RANDOM_SEED)\n",
    "\n",
    "splited = X_train, X_valid, y_train, y_valid\n",
    "\n",
    "print('X_train.shape', X_train.shape)\n",
    "print('X_valid.shape', X_valid.shape)"
   ]
  },
  {
   "cell_type": "markdown",
   "metadata": {
    "id": "19b10ebc-c0a4-4811-ab78-b636cfbf982f"
   },
   "source": [
    "# <center> ☘️ Объявим 3 модели"
   ]
  },
  {
   "cell_type": "markdown",
   "metadata": {
    "id": "43e5c617-ddaf-485e-a433-889dd40164b7"
   },
   "source": [
    "#  😺🚀 Модель `CatBoost`"
   ]
  },
  {
   "cell_type": "code",
   "execution_count": 6,
   "metadata": {
    "execution": {
     "iopub.execute_input": "2025-01-03T12:51:31.673757Z",
     "iopub.status.busy": "2025-01-03T12:51:31.673321Z",
     "iopub.status.idle": "2025-01-03T12:51:31.679849Z",
     "shell.execute_reply": "2025-01-03T12:51:31.678786Z",
     "shell.execute_reply.started": "2025-01-03T12:51:31.673710Z"
    },
    "id": "230e9b67-b4ff-449a-bb3b-df63991b3980"
   },
   "outputs": [],
   "source": [
    "params_cat = {'iterations': 1000,\n",
    "              'learning_rate': 0.12562363132860913,\n",
    "              'depth': 5,\n",
    "              'l2_leaf_reg': 22.283641064716228,\n",
    "              'rsm': 0.6522619525341526,\n",
    "              'loss_function': 'Logloss',\n",
    "              'border_count': 132,\n",
    "              'leaf_estimation_method': 'Gradient',\n",
    "              'random_seed': RANDOM_SEED,\n",
    "              'one_hot_max_size': 8,\n",
    "              'random_strength': 4.170112970772482,\n",
    "              'eval_metric': 'Accuracy',\n",
    "              'bagging_temperature': 7.796458100670984,\n",
    "              'boosting_type': 'Ordered',\n",
    "              'bootstrap_type': 'Bayesian',\n",
    "              'early_stopping_rounds': 100,\n",
    "              'cat_features': cat_columns,\n",
    "              }"
   ]
  },
  {
   "cell_type": "code",
   "execution_count": 7,
   "metadata": {
    "execution": {
     "iopub.execute_input": "2025-01-03T12:51:31.682243Z",
     "iopub.status.busy": "2025-01-03T12:51:31.681758Z",
     "iopub.status.idle": "2025-01-03T12:51:31.695431Z",
     "shell.execute_reply": "2025-01-03T12:51:31.694367Z",
     "shell.execute_reply.started": "2025-01-03T12:51:31.682188Z"
    },
    "id": "3df6e1c7-8970-42a9-90cb-7d050004b7f7"
   },
   "outputs": [],
   "source": [
    "cat_model = cb.CatBoostClassifier(**params_cat)"
   ]
  },
  {
   "cell_type": "markdown",
   "metadata": {
    "id": "611fd034-c5fe-4633-b3fd-44a39c35fd21"
   },
   "source": [
    "# 🦄🎳 Модель `LightGBM`"
   ]
  },
  {
   "cell_type": "code",
   "execution_count": 8,
   "metadata": {
    "execution": {
     "iopub.execute_input": "2025-01-03T12:51:31.697148Z",
     "iopub.status.busy": "2025-01-03T12:51:31.696789Z",
     "iopub.status.idle": "2025-01-03T12:51:31.706043Z",
     "shell.execute_reply": "2025-01-03T12:51:31.705224Z",
     "shell.execute_reply.started": "2025-01-03T12:51:31.697117Z"
    },
    "id": "6c49c0d9-53b7-4c41-b3c5-f50cc7fa275b"
   },
   "outputs": [],
   "source": [
    "# Указание категориальных признаков (если есть)\n",
    "categorical_features = [train.columns.get_loc(col) for col in cat_columns] if cat_columns else None\n",
    "\n",
    "params_lgbm = {'boosting_type': 'dart',\n",
    "               'colsample_bytree': 0.6459964090228278,\n",
    "               'importance_type': 'split',\n",
    "               'learning_rate': 0.2816036393016932,\n",
    "               'max_depth': 4,\n",
    "               'min_child_samples': 100,\n",
    "               'min_child_weight': 0.001,\n",
    "               'min_split_gain': 0.0,\n",
    "               'n_estimators': 100,\n",
    "               'num_leaves': 85,\n",
    "               'objective': 'binary',\n",
    "               'random_state': RANDOM_SEED,\n",
    "               'random_seed': RANDOM_SEED,\n",
    "               'reg_alpha': 1.5946003373810458,\n",
    "               'reg_lambda': 7.005261713251808,\n",
    "               'subsample': 0.8095790668625238,\n",
    "               'subsample_for_bin': 200000,\n",
    "               'subsample_freq': 2,\n",
    "               'eval_metric': 'Accuracy',\n",
    "               'verbose': -1,\n",
    "               'cat_feature': categorical_features,\n",
    "               }"
   ]
  },
  {
   "cell_type": "code",
   "execution_count": 9,
   "metadata": {
    "execution": {
     "iopub.execute_input": "2025-01-03T12:51:31.707731Z",
     "iopub.status.busy": "2025-01-03T12:51:31.707314Z",
     "iopub.status.idle": "2025-01-03T12:51:31.718312Z",
     "shell.execute_reply": "2025-01-03T12:51:31.717372Z",
     "shell.execute_reply.started": "2025-01-03T12:51:31.707691Z"
    },
    "id": "484fccef-a7d1-4350-ae91-920b782373e5"
   },
   "outputs": [],
   "source": [
    "lgbm_model = lgbm.LGBMClassifier(**params_lgbm)"
   ]
  },
  {
   "cell_type": "markdown",
   "metadata": {
    "id": "8bcc52be-b1cd-4743-bcf3-c64cf652af0e"
   },
   "source": [
    "# 👽🔱 Модель `XGBoost`"
   ]
  },
  {
   "cell_type": "code",
   "execution_count": 10,
   "metadata": {
    "execution": {
     "iopub.execute_input": "2025-01-03T12:51:31.719960Z",
     "iopub.status.busy": "2025-01-03T12:51:31.719643Z",
     "iopub.status.idle": "2025-01-03T12:51:31.731011Z",
     "shell.execute_reply": "2025-01-03T12:51:31.730004Z",
     "shell.execute_reply.started": "2025-01-03T12:51:31.719920Z"
    },
    "id": "cb6014f5-bd8a-46b0-9d81-7d36429b544a"
   },
   "outputs": [],
   "source": [
    "params_xgb = {'objective': \n",
    "              'binary:logistic',\n",
    "              'booster': 'dart',\n",
    "              'colsample_bytree': 0.8679507104120996,\n",
    "              'enable_categorical': True,\n",
    "              'eval_metric': 'logloss',\n",
    "              'max_depth': 4,\n",
    "              'min_child_weight': 2,\n",
    "              'subsample': 0.8004843970146179,\n",
    "              'random_seed': RANDOM_SEED,\n",
    "              'verbose': -1,\n",
    "              'eta': 0.225713349140033,\n",
    "              'alpha': 2.206812214230348,\n",
    "              'lambda': 4.27264717515999,\n",
    "              'rate_drop': 0.052499457650865014,\n",
    "              'skip_drop': 0.19868392699431042,\n",
    "              }"
   ]
  },
  {
   "cell_type": "code",
   "execution_count": 11,
   "metadata": {
    "execution": {
     "iopub.execute_input": "2025-01-03T12:51:31.732775Z",
     "iopub.status.busy": "2025-01-03T12:51:31.732465Z",
     "iopub.status.idle": "2025-01-03T12:51:31.744390Z",
     "shell.execute_reply": "2025-01-03T12:51:31.743314Z",
     "shell.execute_reply.started": "2025-01-03T12:51:31.732745Z"
    },
    "id": "cbc64f71-ed56-4e26-8838-2ca1cb9ad633"
   },
   "outputs": [],
   "source": [
    "xgb_model = xgb.XGBClassifier(**params_xgb)"
   ]
  },
  {
   "cell_type": "markdown",
   "metadata": {
    "id": "dd718a7f-85d0-4ed3-b430-30578ea03705"
   },
   "source": [
    "# <center> 🥤 Построим пайплан"
   ]
  },
  {
   "cell_type": "code",
   "execution_count": 12,
   "metadata": {
    "execution": {
     "iopub.execute_input": "2025-01-03T12:51:31.745926Z",
     "iopub.status.busy": "2025-01-03T12:51:31.745667Z",
     "iopub.status.idle": "2025-01-03T12:51:31.764673Z",
     "shell.execute_reply": "2025-01-03T12:51:31.763600Z",
     "shell.execute_reply.started": "2025-01-03T12:51:31.745901Z"
    },
    "id": "e593c803-32e0-4a0c-94a7-4f43c43762cd"
   },
   "outputs": [],
   "source": [
    "# Вспомогательные блоки организации для пайплайна\n",
    "from sklearn.pipeline import Pipeline, make_pipeline\n",
    "from sklearn.compose import ColumnTransformer, make_column_selector"
   ]
  },
  {
   "cell_type": "code",
   "execution_count": 13,
   "metadata": {
    "execution": {
     "iopub.execute_input": "2025-01-03T12:51:31.766334Z",
     "iopub.status.busy": "2025-01-03T12:51:31.765955Z",
     "iopub.status.idle": "2025-01-03T12:51:32.058307Z",
     "shell.execute_reply": "2025-01-03T12:51:32.057502Z",
     "shell.execute_reply.started": "2025-01-03T12:51:31.766303Z"
    },
    "id": "19537599-0ffb-408d-8036-973ef68d3a5e"
   },
   "outputs": [],
   "source": [
    "# Вспомогательные элементы для наполнения пайплайна\n",
    "from sklearn.impute import SimpleImputer, KNNImputer\n",
    "from sklearn.feature_selection import SelectKBest, f_classif\n",
    "from sklearn.preprocessing import StandardScaler, RobustScaler, LabelEncoder, OneHotEncoder, MinMaxScaler"
   ]
  },
  {
   "cell_type": "code",
   "execution_count": 14,
   "metadata": {
    "execution": {
     "iopub.execute_input": "2025-01-03T12:51:32.060020Z",
     "iopub.status.busy": "2025-01-03T12:51:32.059733Z",
     "iopub.status.idle": "2025-01-03T12:51:32.204981Z",
     "shell.execute_reply": "2025-01-03T12:51:32.204063Z",
     "shell.execute_reply.started": "2025-01-03T12:51:32.059993Z"
    },
    "id": "0694234e-5b75-4b9f-ae0f-aaf0a7122a30"
   },
   "outputs": [],
   "source": [
    "# Некоторые модели для построение ансамбля\n",
    "from sklearn.ensemble import ExtraTreesClassifier, RandomForestClassifier, StackingClassifier\n",
    "from sklearn.linear_model import LogisticRegression\n",
    "from sklearn.neural_network import MLPClassifier\n",
    "from sklearn.svm import LinearSVC"
   ]
  },
  {
   "cell_type": "code",
   "execution_count": 15,
   "metadata": {
    "execution": {
     "iopub.execute_input": "2025-01-03T12:51:32.206762Z",
     "iopub.status.busy": "2025-01-03T12:51:32.206318Z",
     "iopub.status.idle": "2025-01-03T12:51:32.212566Z",
     "shell.execute_reply": "2025-01-03T12:51:32.211511Z",
     "shell.execute_reply.started": "2025-01-03T12:51:32.206719Z"
    },
    "id": "9435953e-d5d7-457a-b4c9-2d0feb03f2bc"
   },
   "outputs": [],
   "source": [
    "# Добавим визуализации\n",
    "import sklearn\n",
    "sklearn.set_config(display='diagram')\n",
    "\n",
    "from warnings import simplefilter\n",
    "# ignore all future warnings\n",
    "simplefilter(action='ignore', category=FutureWarning)"
   ]
  },
  {
   "cell_type": "markdown",
   "metadata": {
    "id": "03c8b2d2-479c-4077-94c9-22b4bfa4b8e7"
   },
   "source": [
    "### Предобработаем данные\n",
    "Под каждый тип данных заводим свой трансформер"
   ]
  },
  {
   "cell_type": "code",
   "execution_count": 16,
   "metadata": {
    "execution": {
     "iopub.execute_input": "2025-01-03T12:51:32.213919Z",
     "iopub.status.busy": "2025-01-03T12:51:32.213655Z",
     "iopub.status.idle": "2025-01-03T12:51:32.225248Z",
     "shell.execute_reply": "2025-01-03T12:51:32.224270Z",
     "shell.execute_reply.started": "2025-01-03T12:51:32.213879Z"
    },
    "id": "4cdc124c-9dfc-4fc3-b8e3-7c0c01506bc6"
   },
   "outputs": [],
   "source": [
    "categorical_transformer = Pipeline(steps=[\n",
    "    (\"onehot\", OneHotEncoder(handle_unknown=\"ignore\"))])\n",
    "\n",
    "numerical_transformer = Pipeline(steps=[\n",
    "    (\"scaler\", StandardScaler())\n",
    "])\n",
    "\n",
    "# соединим два предыдущих трансформера в один\n",
    "preprocessor = ColumnTransformer(transformers=[\n",
    "    (\"numerical\", numerical_transformer, num_columns),\n",
    "    (\"categorical\", categorical_transformer, cat_columns)])"
   ]
  },
  {
   "cell_type": "code",
   "execution_count": 17,
   "metadata": {
    "execution": {
     "iopub.execute_input": "2025-01-03T12:51:32.237236Z",
     "iopub.status.busy": "2025-01-03T12:51:32.236943Z",
     "iopub.status.idle": "2025-01-03T12:51:32.271001Z",
     "shell.execute_reply": "2025-01-03T12:51:32.269960Z",
     "shell.execute_reply.started": "2025-01-03T12:51:32.237208Z"
    },
    "id": "c25f4116-5682-4b12-9200-d24a21d8af88",
    "outputId": "2c1c9e24-79e8-4c32-a1d3-c594650e2baa"
   },
   "outputs": [
    {
     "data": {
      "text/html": [
       "<style>#sk-container-id-1 {color: black;}#sk-container-id-1 pre{padding: 0;}#sk-container-id-1 div.sk-toggleable {background-color: white;}#sk-container-id-1 label.sk-toggleable__label {cursor: pointer;display: block;width: 100%;margin-bottom: 0;padding: 0.3em;box-sizing: border-box;text-align: center;}#sk-container-id-1 label.sk-toggleable__label-arrow:before {content: \"▸\";float: left;margin-right: 0.25em;color: #696969;}#sk-container-id-1 label.sk-toggleable__label-arrow:hover:before {color: black;}#sk-container-id-1 div.sk-estimator:hover label.sk-toggleable__label-arrow:before {color: black;}#sk-container-id-1 div.sk-toggleable__content {max-height: 0;max-width: 0;overflow: hidden;text-align: left;background-color: #f0f8ff;}#sk-container-id-1 div.sk-toggleable__content pre {margin: 0.2em;color: black;border-radius: 0.25em;background-color: #f0f8ff;}#sk-container-id-1 input.sk-toggleable__control:checked~div.sk-toggleable__content {max-height: 200px;max-width: 100%;overflow: auto;}#sk-container-id-1 input.sk-toggleable__control:checked~label.sk-toggleable__label-arrow:before {content: \"▾\";}#sk-container-id-1 div.sk-estimator input.sk-toggleable__control:checked~label.sk-toggleable__label {background-color: #d4ebff;}#sk-container-id-1 div.sk-label input.sk-toggleable__control:checked~label.sk-toggleable__label {background-color: #d4ebff;}#sk-container-id-1 input.sk-hidden--visually {border: 0;clip: rect(1px 1px 1px 1px);clip: rect(1px, 1px, 1px, 1px);height: 1px;margin: -1px;overflow: hidden;padding: 0;position: absolute;width: 1px;}#sk-container-id-1 div.sk-estimator {font-family: monospace;background-color: #f0f8ff;border: 1px dotted black;border-radius: 0.25em;box-sizing: border-box;margin-bottom: 0.5em;}#sk-container-id-1 div.sk-estimator:hover {background-color: #d4ebff;}#sk-container-id-1 div.sk-parallel-item::after {content: \"\";width: 100%;border-bottom: 1px solid gray;flex-grow: 1;}#sk-container-id-1 div.sk-label:hover label.sk-toggleable__label {background-color: #d4ebff;}#sk-container-id-1 div.sk-serial::before {content: \"\";position: absolute;border-left: 1px solid gray;box-sizing: border-box;top: 0;bottom: 0;left: 50%;z-index: 0;}#sk-container-id-1 div.sk-serial {display: flex;flex-direction: column;align-items: center;background-color: white;padding-right: 0.2em;padding-left: 0.2em;position: relative;}#sk-container-id-1 div.sk-item {position: relative;z-index: 1;}#sk-container-id-1 div.sk-parallel {display: flex;align-items: stretch;justify-content: center;background-color: white;position: relative;}#sk-container-id-1 div.sk-item::before, #sk-container-id-1 div.sk-parallel-item::before {content: \"\";position: absolute;border-left: 1px solid gray;box-sizing: border-box;top: 0;bottom: 0;left: 50%;z-index: -1;}#sk-container-id-1 div.sk-parallel-item {display: flex;flex-direction: column;z-index: 1;position: relative;background-color: white;}#sk-container-id-1 div.sk-parallel-item:first-child::after {align-self: flex-end;width: 50%;}#sk-container-id-1 div.sk-parallel-item:last-child::after {align-self: flex-start;width: 50%;}#sk-container-id-1 div.sk-parallel-item:only-child::after {width: 0;}#sk-container-id-1 div.sk-dashed-wrapped {border: 1px dashed gray;margin: 0 0.4em 0.5em 0.4em;box-sizing: border-box;padding-bottom: 0.4em;background-color: white;}#sk-container-id-1 div.sk-label label {font-family: monospace;font-weight: bold;display: inline-block;line-height: 1.2em;}#sk-container-id-1 div.sk-label-container {text-align: center;}#sk-container-id-1 div.sk-container {/* jupyter's `normalize.less` sets `[hidden] { display: none; }` but bootstrap.min.css set `[hidden] { display: none !important; }` so we also need the `!important` here to be able to override the default hidden behavior on the sphinx rendered scikit-learn.org. See: https://github.com/scikit-learn/scikit-learn/issues/21755 */display: inline-block !important;position: relative;}#sk-container-id-1 div.sk-text-repr-fallback {display: none;}</style><div id=\"sk-container-id-1\" class=\"sk-top-container\"><div class=\"sk-text-repr-fallback\"><pre>ColumnTransformer(transformers=[(&#x27;numerical&#x27;,\n",
       "                                 Pipeline(steps=[(&#x27;scaler&#x27;, StandardScaler())]),\n",
       "                                 [&#x27;SibSp&#x27;, &#x27;Parch&#x27;, &#x27;len_name&#x27;, &#x27;alone&#x27;,\n",
       "                                  &#x27;family&#x27;, &#x27;delta&#x27;, &#x27;fare&#x27;, &#x27;age&#x27;, &#x27;sex&#x27;,\n",
       "                                  &#x27;cabin&#x27;, &#x27;retirer&#x27;, &#x27;len_ticket&#x27;,\n",
       "                                  &#x27;ticket_freq&#x27;, &#x27;ticket_fare&#x27;, &#x27;fare_zero&#x27;,\n",
       "                                  &#x27;fare_log&#x27;, &#x27;double_name&#x27;]),\n",
       "                                (&#x27;categorical&#x27;,\n",
       "                                 Pipeline(steps=[(&#x27;onehot&#x27;,\n",
       "                                                  OneHotEncoder(handle_unknown=&#x27;ignore&#x27;))]),\n",
       "                                 [&#x27;Pclass&#x27;, &#x27;title&#x27;, &#x27;embarked&#x27;, &#x27;title_cat&#x27;,\n",
       "                                  &#x27;idx_family&#x27;, &#x27;fst_sym_ticket&#x27;,\n",
       "                                  &#x27;idx_deck&#x27;])])</pre><b>In a Jupyter environment, please rerun this cell to show the HTML representation or trust the notebook. <br />On GitHub, the HTML representation is unable to render, please try loading this page with nbviewer.org.</b></div><div class=\"sk-container\" hidden><div class=\"sk-item sk-dashed-wrapped\"><div class=\"sk-label-container\"><div class=\"sk-label sk-toggleable\"><input class=\"sk-toggleable__control sk-hidden--visually\" id=\"sk-estimator-id-1\" type=\"checkbox\" ><label for=\"sk-estimator-id-1\" class=\"sk-toggleable__label sk-toggleable__label-arrow\">ColumnTransformer</label><div class=\"sk-toggleable__content\"><pre>ColumnTransformer(transformers=[(&#x27;numerical&#x27;,\n",
       "                                 Pipeline(steps=[(&#x27;scaler&#x27;, StandardScaler())]),\n",
       "                                 [&#x27;SibSp&#x27;, &#x27;Parch&#x27;, &#x27;len_name&#x27;, &#x27;alone&#x27;,\n",
       "                                  &#x27;family&#x27;, &#x27;delta&#x27;, &#x27;fare&#x27;, &#x27;age&#x27;, &#x27;sex&#x27;,\n",
       "                                  &#x27;cabin&#x27;, &#x27;retirer&#x27;, &#x27;len_ticket&#x27;,\n",
       "                                  &#x27;ticket_freq&#x27;, &#x27;ticket_fare&#x27;, &#x27;fare_zero&#x27;,\n",
       "                                  &#x27;fare_log&#x27;, &#x27;double_name&#x27;]),\n",
       "                                (&#x27;categorical&#x27;,\n",
       "                                 Pipeline(steps=[(&#x27;onehot&#x27;,\n",
       "                                                  OneHotEncoder(handle_unknown=&#x27;ignore&#x27;))]),\n",
       "                                 [&#x27;Pclass&#x27;, &#x27;title&#x27;, &#x27;embarked&#x27;, &#x27;title_cat&#x27;,\n",
       "                                  &#x27;idx_family&#x27;, &#x27;fst_sym_ticket&#x27;,\n",
       "                                  &#x27;idx_deck&#x27;])])</pre></div></div></div><div class=\"sk-parallel\"><div class=\"sk-parallel-item\"><div class=\"sk-item\"><div class=\"sk-label-container\"><div class=\"sk-label sk-toggleable\"><input class=\"sk-toggleable__control sk-hidden--visually\" id=\"sk-estimator-id-2\" type=\"checkbox\" ><label for=\"sk-estimator-id-2\" class=\"sk-toggleable__label sk-toggleable__label-arrow\">numerical</label><div class=\"sk-toggleable__content\"><pre>[&#x27;SibSp&#x27;, &#x27;Parch&#x27;, &#x27;len_name&#x27;, &#x27;alone&#x27;, &#x27;family&#x27;, &#x27;delta&#x27;, &#x27;fare&#x27;, &#x27;age&#x27;, &#x27;sex&#x27;, &#x27;cabin&#x27;, &#x27;retirer&#x27;, &#x27;len_ticket&#x27;, &#x27;ticket_freq&#x27;, &#x27;ticket_fare&#x27;, &#x27;fare_zero&#x27;, &#x27;fare_log&#x27;, &#x27;double_name&#x27;]</pre></div></div></div><div class=\"sk-serial\"><div class=\"sk-item\"><div class=\"sk-serial\"><div class=\"sk-item\"><div class=\"sk-estimator sk-toggleable\"><input class=\"sk-toggleable__control sk-hidden--visually\" id=\"sk-estimator-id-3\" type=\"checkbox\" ><label for=\"sk-estimator-id-3\" class=\"sk-toggleable__label sk-toggleable__label-arrow\">StandardScaler</label><div class=\"sk-toggleable__content\"><pre>StandardScaler()</pre></div></div></div></div></div></div></div></div><div class=\"sk-parallel-item\"><div class=\"sk-item\"><div class=\"sk-label-container\"><div class=\"sk-label sk-toggleable\"><input class=\"sk-toggleable__control sk-hidden--visually\" id=\"sk-estimator-id-4\" type=\"checkbox\" ><label for=\"sk-estimator-id-4\" class=\"sk-toggleable__label sk-toggleable__label-arrow\">categorical</label><div class=\"sk-toggleable__content\"><pre>[&#x27;Pclass&#x27;, &#x27;title&#x27;, &#x27;embarked&#x27;, &#x27;title_cat&#x27;, &#x27;idx_family&#x27;, &#x27;fst_sym_ticket&#x27;, &#x27;idx_deck&#x27;]</pre></div></div></div><div class=\"sk-serial\"><div class=\"sk-item\"><div class=\"sk-serial\"><div class=\"sk-item\"><div class=\"sk-estimator sk-toggleable\"><input class=\"sk-toggleable__control sk-hidden--visually\" id=\"sk-estimator-id-5\" type=\"checkbox\" ><label for=\"sk-estimator-id-5\" class=\"sk-toggleable__label sk-toggleable__label-arrow\">OneHotEncoder</label><div class=\"sk-toggleable__content\"><pre>OneHotEncoder(handle_unknown=&#x27;ignore&#x27;)</pre></div></div></div></div></div></div></div></div></div></div></div></div>"
      ],
      "text/plain": [
       "ColumnTransformer(transformers=[('numerical',\n",
       "                                 Pipeline(steps=[('scaler', StandardScaler())]),\n",
       "                                 ['SibSp', 'Parch', 'len_name', 'alone',\n",
       "                                  'family', 'delta', 'fare', 'age', 'sex',\n",
       "                                  'cabin', 'retirer', 'len_ticket',\n",
       "                                  'ticket_freq', 'ticket_fare', 'fare_zero',\n",
       "                                  'fare_log', 'double_name']),\n",
       "                                ('categorical',\n",
       "                                 Pipeline(steps=[('onehot',\n",
       "                                                  OneHotEncoder(handle_unknown='ignore'))]),\n",
       "                                 ['Pclass', 'title', 'embarked', 'title_cat',\n",
       "                                  'idx_family', 'fst_sym_ticket',\n",
       "                                  'idx_deck'])])"
      ]
     },
     "execution_count": 17,
     "metadata": {},
     "output_type": "execute_result"
    }
   ],
   "source": [
    "preprocessor"
   ]
  },
  {
   "cell_type": "code",
   "execution_count": 18,
   "metadata": {
    "execution": {
     "iopub.execute_input": "2025-01-03T12:51:32.273212Z",
     "iopub.status.busy": "2025-01-03T12:51:32.272814Z",
     "iopub.status.idle": "2025-01-03T12:51:32.279866Z",
     "shell.execute_reply": "2025-01-03T12:51:32.278878Z",
     "shell.execute_reply.started": "2025-01-03T12:51:32.273170Z"
    },
    "id": "2881c72c-c796-4def-8749-3a4adfa5f56c",
    "outputId": "c058d99d-a41d-42f6-cc70-cffb670a6258"
   },
   "outputs": [
    {
     "data": {
      "text/plain": [
       "('numerical',\n",
       " Pipeline(steps=[('scaler', StandardScaler())]),\n",
       " ['SibSp',\n",
       "  'Parch',\n",
       "  'len_name',\n",
       "  'alone',\n",
       "  'family',\n",
       "  'delta',\n",
       "  'fare',\n",
       "  'age',\n",
       "  'sex',\n",
       "  'cabin',\n",
       "  'retirer',\n",
       "  'len_ticket',\n",
       "  'ticket_freq',\n",
       "  'ticket_fare',\n",
       "  'fare_zero',\n",
       "  'fare_log',\n",
       "  'double_name'])"
      ]
     },
     "execution_count": 18,
     "metadata": {},
     "output_type": "execute_result"
    }
   ],
   "source": [
    "preprocessor.transformers[0]"
   ]
  },
  {
   "cell_type": "markdown",
   "metadata": {
    "id": "e77de579-4c28-4d90-b2a3-f1509c17c490"
   },
   "source": [
    "# <center> 🎓🐊 Обучим ансамбль"
   ]
  },
  {
   "cell_type": "code",
   "execution_count": 19,
   "metadata": {},
   "outputs": [],
   "source": [
    "params_et = {'bootstrap': False,\n",
    "             'ccp_alpha': 0.0,\n",
    "             'criterion': 'gini',\n",
    "             'max_depth': 7,\n",
    "             'max_features': 'sqrt',\n",
    "             'min_impurity_decrease': 0.0,\n",
    "             'min_samples_leaf': 7,\n",
    "             'min_samples_split': 6,\n",
    "             'min_weight_fraction_leaf': 0.0,\n",
    "             'n_estimators': 548,\n",
    "             'n_jobs': -1,\n",
    "             'oob_score': False,\n",
    "             'random_state': RANDOM_SEED,\n",
    "             'verbose': False,\n",
    "             'warm_start': False}\n",
    "\n",
    "\n",
    "params_rf = {'bootstrap': True,\n",
    "             'ccp_alpha': 0.0,\n",
    "             'criterion': 'gini',\n",
    "             'max_depth': 3,\n",
    "             'max_features': 'log2',\n",
    "             'min_impurity_decrease': 0.0,\n",
    "             'min_samples_leaf': 10,\n",
    "             'min_samples_split': 4,\n",
    "             'min_weight_fraction_leaf': 0.0,\n",
    "             'n_estimators': 466,\n",
    "             'n_jobs': -1,\n",
    "             'oob_score': False,\n",
    "             'random_state': RANDOM_SEED,\n",
    "             'verbose': False,\n",
    "             'warm_start': False,\n",
    "             }\n",
    "\n",
    "\n",
    "params_nn = {'batch_size': 128,\n",
    "             'best_epoch': 8,\n",
    "             'max_epochs': 8,\n",
    "             'dropout1': 0.5544539787798769,\n",
    "             'dropout2': 0.37587705852465625,\n",
    "             'hidden_size': 72,\n",
    "             'lr': 0.05620056948941698,\n",
    "             'random_state': RANDOM_SEED,\n",
    "             'show_progress': False\n",
    "             }"
   ]
  },
  {
   "cell_type": "code",
   "execution_count": 20,
   "metadata": {},
   "outputs": [],
   "source": [
    "from nn_torch import TabularClassifier"
   ]
  },
  {
   "cell_type": "code",
   "execution_count": 21,
   "metadata": {
    "execution": {
     "iopub.execute_input": "2025-01-03T12:51:32.285276Z",
     "iopub.status.busy": "2025-01-03T12:51:32.284941Z",
     "iopub.status.idle": "2025-01-03T12:51:32.528383Z",
     "shell.execute_reply": "2025-01-03T12:51:32.527420Z",
     "shell.execute_reply.started": "2025-01-03T12:51:32.285245Z"
    },
    "id": "bd673c24-1c8f-4260-b883-9ff6a644dc8e",
    "outputId": "4ca67db4-b9e3-42c7-a7a8-b047b1736dd0",
    "scrolled": false
   },
   "outputs": [
    {
     "data": {
      "text/html": [
       "<style>#sk-container-id-2 {color: black;}#sk-container-id-2 pre{padding: 0;}#sk-container-id-2 div.sk-toggleable {background-color: white;}#sk-container-id-2 label.sk-toggleable__label {cursor: pointer;display: block;width: 100%;margin-bottom: 0;padding: 0.3em;box-sizing: border-box;text-align: center;}#sk-container-id-2 label.sk-toggleable__label-arrow:before {content: \"▸\";float: left;margin-right: 0.25em;color: #696969;}#sk-container-id-2 label.sk-toggleable__label-arrow:hover:before {color: black;}#sk-container-id-2 div.sk-estimator:hover label.sk-toggleable__label-arrow:before {color: black;}#sk-container-id-2 div.sk-toggleable__content {max-height: 0;max-width: 0;overflow: hidden;text-align: left;background-color: #f0f8ff;}#sk-container-id-2 div.sk-toggleable__content pre {margin: 0.2em;color: black;border-radius: 0.25em;background-color: #f0f8ff;}#sk-container-id-2 input.sk-toggleable__control:checked~div.sk-toggleable__content {max-height: 200px;max-width: 100%;overflow: auto;}#sk-container-id-2 input.sk-toggleable__control:checked~label.sk-toggleable__label-arrow:before {content: \"▾\";}#sk-container-id-2 div.sk-estimator input.sk-toggleable__control:checked~label.sk-toggleable__label {background-color: #d4ebff;}#sk-container-id-2 div.sk-label input.sk-toggleable__control:checked~label.sk-toggleable__label {background-color: #d4ebff;}#sk-container-id-2 input.sk-hidden--visually {border: 0;clip: rect(1px 1px 1px 1px);clip: rect(1px, 1px, 1px, 1px);height: 1px;margin: -1px;overflow: hidden;padding: 0;position: absolute;width: 1px;}#sk-container-id-2 div.sk-estimator {font-family: monospace;background-color: #f0f8ff;border: 1px dotted black;border-radius: 0.25em;box-sizing: border-box;margin-bottom: 0.5em;}#sk-container-id-2 div.sk-estimator:hover {background-color: #d4ebff;}#sk-container-id-2 div.sk-parallel-item::after {content: \"\";width: 100%;border-bottom: 1px solid gray;flex-grow: 1;}#sk-container-id-2 div.sk-label:hover label.sk-toggleable__label {background-color: #d4ebff;}#sk-container-id-2 div.sk-serial::before {content: \"\";position: absolute;border-left: 1px solid gray;box-sizing: border-box;top: 0;bottom: 0;left: 50%;z-index: 0;}#sk-container-id-2 div.sk-serial {display: flex;flex-direction: column;align-items: center;background-color: white;padding-right: 0.2em;padding-left: 0.2em;position: relative;}#sk-container-id-2 div.sk-item {position: relative;z-index: 1;}#sk-container-id-2 div.sk-parallel {display: flex;align-items: stretch;justify-content: center;background-color: white;position: relative;}#sk-container-id-2 div.sk-item::before, #sk-container-id-2 div.sk-parallel-item::before {content: \"\";position: absolute;border-left: 1px solid gray;box-sizing: border-box;top: 0;bottom: 0;left: 50%;z-index: -1;}#sk-container-id-2 div.sk-parallel-item {display: flex;flex-direction: column;z-index: 1;position: relative;background-color: white;}#sk-container-id-2 div.sk-parallel-item:first-child::after {align-self: flex-end;width: 50%;}#sk-container-id-2 div.sk-parallel-item:last-child::after {align-self: flex-start;width: 50%;}#sk-container-id-2 div.sk-parallel-item:only-child::after {width: 0;}#sk-container-id-2 div.sk-dashed-wrapped {border: 1px dashed gray;margin: 0 0.4em 0.5em 0.4em;box-sizing: border-box;padding-bottom: 0.4em;background-color: white;}#sk-container-id-2 div.sk-label label {font-family: monospace;font-weight: bold;display: inline-block;line-height: 1.2em;}#sk-container-id-2 div.sk-label-container {text-align: center;}#sk-container-id-2 div.sk-container {/* jupyter's `normalize.less` sets `[hidden] { display: none; }` but bootstrap.min.css set `[hidden] { display: none !important; }` so we also need the `!important` here to be able to override the default hidden behavior on the sphinx rendered scikit-learn.org. See: https://github.com/scikit-learn/scikit-learn/issues/21755 */display: inline-block !important;position: relative;}#sk-container-id-2 div.sk-text-repr-fallback {display: none;}</style><div id=\"sk-container-id-2\" class=\"sk-top-container\"><div class=\"sk-text-repr-fallback\"><pre>StackingClassifier(estimators=[(&#x27;ExtraTrees&#x27;,\n",
       "                                Pipeline(steps=[(&#x27;columntransformer&#x27;,\n",
       "                                                 ColumnTransformer(transformers=[(&#x27;numerical&#x27;,\n",
       "                                                                                  Pipeline(steps=[(&#x27;scaler&#x27;,\n",
       "                                                                                                   StandardScaler())]),\n",
       "                                                                                  [&#x27;SibSp&#x27;,\n",
       "                                                                                   &#x27;Parch&#x27;,\n",
       "                                                                                   &#x27;len_name&#x27;,\n",
       "                                                                                   &#x27;alone&#x27;,\n",
       "                                                                                   &#x27;family&#x27;,\n",
       "                                                                                   &#x27;delta&#x27;,\n",
       "                                                                                   &#x27;fare&#x27;,\n",
       "                                                                                   &#x27;age&#x27;,\n",
       "                                                                                   &#x27;sex&#x27;,\n",
       "                                                                                   &#x27;cabin&#x27;,\n",
       "                                                                                   &#x27;retirer&#x27;,\n",
       "                                                                                   &#x27;len_ticket&#x27;,\n",
       "                                                                                   &#x27;ticket_freq&#x27;,\n",
       "                                                                                   &#x27;ticket_fare&#x27;,\n",
       "                                                                                   &#x27;fare_zero&#x27;,\n",
       "                                                                                   &#x27;fare_log&#x27;,\n",
       "                                                                                   &#x27;double_name&#x27;]),\n",
       "                                                                                 (&#x27;categ...\n",
       "                                                                                                   OneHotEncoder(handle_unknown=&#x27;ignore&#x27;))]),\n",
       "                                                                                  [&#x27;Pclass&#x27;,\n",
       "                                                                                   &#x27;title&#x27;,\n",
       "                                                                                   &#x27;embarked&#x27;,\n",
       "                                                                                   &#x27;title_cat&#x27;,\n",
       "                                                                                   &#x27;idx_family&#x27;,\n",
       "                                                                                   &#x27;fst_sym_ticket&#x27;,\n",
       "                                                                                   &#x27;idx_deck&#x27;])])),\n",
       "                                                (&#x27;tabularclassifier&#x27;,\n",
       "                                                 TabularClassifier(device=&#x27;cpu&#x27;,\n",
       "                                                                   dropout1=0.5544539787798769,\n",
       "                                                                   dropout2=0.37587705852465625,\n",
       "                                                                   hidden_size=72,\n",
       "                                                                   lr=0.05620056948941698,\n",
       "                                                                   max_epochs=8,\n",
       "                                                                   random_state=127))]))],\n",
       "                   final_estimator=LogisticRegression(verbose=False), n_jobs=-1,\n",
       "                   verbose=False)</pre><b>In a Jupyter environment, please rerun this cell to show the HTML representation or trust the notebook. <br />On GitHub, the HTML representation is unable to render, please try loading this page with nbviewer.org.</b></div><div class=\"sk-container\" hidden><div class=\"sk-item sk-dashed-wrapped\"><div class=\"sk-label-container\"><div class=\"sk-label sk-toggleable\"><input class=\"sk-toggleable__control sk-hidden--visually\" id=\"sk-estimator-id-6\" type=\"checkbox\" ><label for=\"sk-estimator-id-6\" class=\"sk-toggleable__label sk-toggleable__label-arrow\">StackingClassifier</label><div class=\"sk-toggleable__content\"><pre>StackingClassifier(estimators=[(&#x27;ExtraTrees&#x27;,\n",
       "                                Pipeline(steps=[(&#x27;columntransformer&#x27;,\n",
       "                                                 ColumnTransformer(transformers=[(&#x27;numerical&#x27;,\n",
       "                                                                                  Pipeline(steps=[(&#x27;scaler&#x27;,\n",
       "                                                                                                   StandardScaler())]),\n",
       "                                                                                  [&#x27;SibSp&#x27;,\n",
       "                                                                                   &#x27;Parch&#x27;,\n",
       "                                                                                   &#x27;len_name&#x27;,\n",
       "                                                                                   &#x27;alone&#x27;,\n",
       "                                                                                   &#x27;family&#x27;,\n",
       "                                                                                   &#x27;delta&#x27;,\n",
       "                                                                                   &#x27;fare&#x27;,\n",
       "                                                                                   &#x27;age&#x27;,\n",
       "                                                                                   &#x27;sex&#x27;,\n",
       "                                                                                   &#x27;cabin&#x27;,\n",
       "                                                                                   &#x27;retirer&#x27;,\n",
       "                                                                                   &#x27;len_ticket&#x27;,\n",
       "                                                                                   &#x27;ticket_freq&#x27;,\n",
       "                                                                                   &#x27;ticket_fare&#x27;,\n",
       "                                                                                   &#x27;fare_zero&#x27;,\n",
       "                                                                                   &#x27;fare_log&#x27;,\n",
       "                                                                                   &#x27;double_name&#x27;]),\n",
       "                                                                                 (&#x27;categ...\n",
       "                                                                                                   OneHotEncoder(handle_unknown=&#x27;ignore&#x27;))]),\n",
       "                                                                                  [&#x27;Pclass&#x27;,\n",
       "                                                                                   &#x27;title&#x27;,\n",
       "                                                                                   &#x27;embarked&#x27;,\n",
       "                                                                                   &#x27;title_cat&#x27;,\n",
       "                                                                                   &#x27;idx_family&#x27;,\n",
       "                                                                                   &#x27;fst_sym_ticket&#x27;,\n",
       "                                                                                   &#x27;idx_deck&#x27;])])),\n",
       "                                                (&#x27;tabularclassifier&#x27;,\n",
       "                                                 TabularClassifier(device=&#x27;cpu&#x27;,\n",
       "                                                                   dropout1=0.5544539787798769,\n",
       "                                                                   dropout2=0.37587705852465625,\n",
       "                                                                   hidden_size=72,\n",
       "                                                                   lr=0.05620056948941698,\n",
       "                                                                   max_epochs=8,\n",
       "                                                                   random_state=127))]))],\n",
       "                   final_estimator=LogisticRegression(verbose=False), n_jobs=-1,\n",
       "                   verbose=False)</pre></div></div></div><div class=\"sk-serial\"><div class=\"sk-item\"><div class=\"sk-parallel\"><div class=\"sk-parallel-item\"><div class=\"sk-item\"><div class=\"sk-label-container\"><div class=\"sk-label sk-toggleable\"><label>ExtraTrees</label></div></div><div class=\"sk-serial\"><div class=\"sk-item\"><div class=\"sk-serial\"><div class=\"sk-item sk-dashed-wrapped\"><div class=\"sk-label-container\"><div class=\"sk-label sk-toggleable\"><input class=\"sk-toggleable__control sk-hidden--visually\" id=\"sk-estimator-id-7\" type=\"checkbox\" ><label for=\"sk-estimator-id-7\" class=\"sk-toggleable__label sk-toggleable__label-arrow\">columntransformer: ColumnTransformer</label><div class=\"sk-toggleable__content\"><pre>ColumnTransformer(transformers=[(&#x27;numerical&#x27;,\n",
       "                                 Pipeline(steps=[(&#x27;scaler&#x27;, StandardScaler())]),\n",
       "                                 [&#x27;SibSp&#x27;, &#x27;Parch&#x27;, &#x27;len_name&#x27;, &#x27;alone&#x27;,\n",
       "                                  &#x27;family&#x27;, &#x27;delta&#x27;, &#x27;fare&#x27;, &#x27;age&#x27;, &#x27;sex&#x27;,\n",
       "                                  &#x27;cabin&#x27;, &#x27;retirer&#x27;, &#x27;len_ticket&#x27;,\n",
       "                                  &#x27;ticket_freq&#x27;, &#x27;ticket_fare&#x27;, &#x27;fare_zero&#x27;,\n",
       "                                  &#x27;fare_log&#x27;, &#x27;double_name&#x27;]),\n",
       "                                (&#x27;categorical&#x27;,\n",
       "                                 Pipeline(steps=[(&#x27;onehot&#x27;,\n",
       "                                                  OneHotEncoder(handle_unknown=&#x27;ignore&#x27;))]),\n",
       "                                 [&#x27;Pclass&#x27;, &#x27;title&#x27;, &#x27;embarked&#x27;, &#x27;title_cat&#x27;,\n",
       "                                  &#x27;idx_family&#x27;, &#x27;fst_sym_ticket&#x27;,\n",
       "                                  &#x27;idx_deck&#x27;])])</pre></div></div></div><div class=\"sk-parallel\"><div class=\"sk-parallel-item\"><div class=\"sk-item\"><div class=\"sk-label-container\"><div class=\"sk-label sk-toggleable\"><input class=\"sk-toggleable__control sk-hidden--visually\" id=\"sk-estimator-id-8\" type=\"checkbox\" ><label for=\"sk-estimator-id-8\" class=\"sk-toggleable__label sk-toggleable__label-arrow\">numerical</label><div class=\"sk-toggleable__content\"><pre>[&#x27;SibSp&#x27;, &#x27;Parch&#x27;, &#x27;len_name&#x27;, &#x27;alone&#x27;, &#x27;family&#x27;, &#x27;delta&#x27;, &#x27;fare&#x27;, &#x27;age&#x27;, &#x27;sex&#x27;, &#x27;cabin&#x27;, &#x27;retirer&#x27;, &#x27;len_ticket&#x27;, &#x27;ticket_freq&#x27;, &#x27;ticket_fare&#x27;, &#x27;fare_zero&#x27;, &#x27;fare_log&#x27;, &#x27;double_name&#x27;]</pre></div></div></div><div class=\"sk-serial\"><div class=\"sk-item\"><div class=\"sk-serial\"><div class=\"sk-item\"><div class=\"sk-estimator sk-toggleable\"><input class=\"sk-toggleable__control sk-hidden--visually\" id=\"sk-estimator-id-9\" type=\"checkbox\" ><label for=\"sk-estimator-id-9\" class=\"sk-toggleable__label sk-toggleable__label-arrow\">StandardScaler</label><div class=\"sk-toggleable__content\"><pre>StandardScaler()</pre></div></div></div></div></div></div></div></div><div class=\"sk-parallel-item\"><div class=\"sk-item\"><div class=\"sk-label-container\"><div class=\"sk-label sk-toggleable\"><input class=\"sk-toggleable__control sk-hidden--visually\" id=\"sk-estimator-id-10\" type=\"checkbox\" ><label for=\"sk-estimator-id-10\" class=\"sk-toggleable__label sk-toggleable__label-arrow\">categorical</label><div class=\"sk-toggleable__content\"><pre>[&#x27;Pclass&#x27;, &#x27;title&#x27;, &#x27;embarked&#x27;, &#x27;title_cat&#x27;, &#x27;idx_family&#x27;, &#x27;fst_sym_ticket&#x27;, &#x27;idx_deck&#x27;]</pre></div></div></div><div class=\"sk-serial\"><div class=\"sk-item\"><div class=\"sk-serial\"><div class=\"sk-item\"><div class=\"sk-estimator sk-toggleable\"><input class=\"sk-toggleable__control sk-hidden--visually\" id=\"sk-estimator-id-11\" type=\"checkbox\" ><label for=\"sk-estimator-id-11\" class=\"sk-toggleable__label sk-toggleable__label-arrow\">OneHotEncoder</label><div class=\"sk-toggleable__content\"><pre>OneHotEncoder(handle_unknown=&#x27;ignore&#x27;)</pre></div></div></div></div></div></div></div></div></div></div><div class=\"sk-item\"><div class=\"sk-estimator sk-toggleable\"><input class=\"sk-toggleable__control sk-hidden--visually\" id=\"sk-estimator-id-12\" type=\"checkbox\" ><label for=\"sk-estimator-id-12\" class=\"sk-toggleable__label sk-toggleable__label-arrow\">ExtraTreesClassifier</label><div class=\"sk-toggleable__content\"><pre>ExtraTreesClassifier(max_depth=7, min_samples_leaf=7, min_samples_split=6,\n",
       "                     n_estimators=548, n_jobs=-1, random_state=127,\n",
       "                     verbose=False)</pre></div></div></div></div></div></div></div></div><div class=\"sk-parallel-item\"><div class=\"sk-item\"><div class=\"sk-label-container\"><div class=\"sk-label sk-toggleable\"><label>XGBoost</label></div></div><div class=\"sk-serial\"><div class=\"sk-item\"><div class=\"sk-estimator sk-toggleable\"><input class=\"sk-toggleable__control sk-hidden--visually\" id=\"sk-estimator-id-13\" type=\"checkbox\" ><label for=\"sk-estimator-id-13\" class=\"sk-toggleable__label sk-toggleable__label-arrow\">XGBClassifier</label><div class=\"sk-toggleable__content\"><pre>XGBClassifier(alpha=2.206812214230348, base_score=None, booster=&#x27;dart&#x27;,\n",
       "              callbacks=None, colsample_bylevel=None, colsample_bynode=None,\n",
       "              colsample_bytree=0.8679507104120996, device=None,\n",
       "              early_stopping_rounds=None, enable_categorical=True,\n",
       "              eta=0.225713349140033, eval_metric=&#x27;logloss&#x27;, feature_types=None,\n",
       "              gamma=None, grow_policy=None, importance_type=None,\n",
       "              interaction_constraints=None, lambda=4.27264717515999,\n",
       "              learning_rate=None, max_bin=None, max_cat_threshold=None,\n",
       "              max_cat_to_onehot=None, max_delta_step=None, max_depth=4,\n",
       "              max_leaves=None, min_child_weight=2, missing=nan,\n",
       "              monotone_constraints=None, multi_strategy=None, n_estimators=None, ...)</pre></div></div></div></div></div></div><div class=\"sk-parallel-item\"><div class=\"sk-item\"><div class=\"sk-label-container\"><div class=\"sk-label sk-toggleable\"><label>LightGBM</label></div></div><div class=\"sk-serial\"><div class=\"sk-item\"><div class=\"sk-estimator sk-toggleable\"><input class=\"sk-toggleable__control sk-hidden--visually\" id=\"sk-estimator-id-14\" type=\"checkbox\" ><label for=\"sk-estimator-id-14\" class=\"sk-toggleable__label sk-toggleable__label-arrow\">LGBMClassifier</label><div class=\"sk-toggleable__content\"><pre>LGBMClassifier(boosting_type=&#x27;dart&#x27;, cat_feature=[0, 3, 11, 13, 15, 17, 20],\n",
       "               colsample_bytree=0.6459964090228278, eval_metric=&#x27;Accuracy&#x27;,\n",
       "               learning_rate=0.2816036393016932, max_depth=4,\n",
       "               min_child_samples=100, num_leaves=85, objective=&#x27;binary&#x27;,\n",
       "               random_seed=127, random_state=127, reg_alpha=1.5946003373810458,\n",
       "               reg_lambda=7.005261713251808, subsample=0.8095790668625238,\n",
       "               subsample_freq=2, verbose=-1)</pre></div></div></div></div></div></div><div class=\"sk-parallel-item\"><div class=\"sk-item\"><div class=\"sk-label-container\"><div class=\"sk-label sk-toggleable\"><label>CatBoost</label></div></div><div class=\"sk-serial\"><div class=\"sk-item\"><div class=\"sk-estimator sk-toggleable\"><input class=\"sk-toggleable__control sk-hidden--visually\" id=\"sk-estimator-id-15\" type=\"checkbox\" ><label for=\"sk-estimator-id-15\" class=\"sk-toggleable__label sk-toggleable__label-arrow\">CatBoostClassifier</label><div class=\"sk-toggleable__content\"><pre>&lt;catboost.core.CatBoostClassifier object at 0x000002672584E550&gt;</pre></div></div></div></div></div></div><div class=\"sk-parallel-item\"><div class=\"sk-item\"><div class=\"sk-label-container\"><div class=\"sk-label sk-toggleable\"><label>Random_forest</label></div></div><div class=\"sk-serial\"><div class=\"sk-item\"><div class=\"sk-serial\"><div class=\"sk-item sk-dashed-wrapped\"><div class=\"sk-label-container\"><div class=\"sk-label sk-toggleable\"><input class=\"sk-toggleable__control sk-hidden--visually\" id=\"sk-estimator-id-16\" type=\"checkbox\" ><label for=\"sk-estimator-id-16\" class=\"sk-toggleable__label sk-toggleable__label-arrow\">columntransformer: ColumnTransformer</label><div class=\"sk-toggleable__content\"><pre>ColumnTransformer(transformers=[(&#x27;numerical&#x27;,\n",
       "                                 Pipeline(steps=[(&#x27;scaler&#x27;, StandardScaler())]),\n",
       "                                 [&#x27;SibSp&#x27;, &#x27;Parch&#x27;, &#x27;len_name&#x27;, &#x27;alone&#x27;,\n",
       "                                  &#x27;family&#x27;, &#x27;delta&#x27;, &#x27;fare&#x27;, &#x27;age&#x27;, &#x27;sex&#x27;,\n",
       "                                  &#x27;cabin&#x27;, &#x27;retirer&#x27;, &#x27;len_ticket&#x27;,\n",
       "                                  &#x27;ticket_freq&#x27;, &#x27;ticket_fare&#x27;, &#x27;fare_zero&#x27;,\n",
       "                                  &#x27;fare_log&#x27;, &#x27;double_name&#x27;]),\n",
       "                                (&#x27;categorical&#x27;,\n",
       "                                 Pipeline(steps=[(&#x27;onehot&#x27;,\n",
       "                                                  OneHotEncoder(handle_unknown=&#x27;ignore&#x27;))]),\n",
       "                                 [&#x27;Pclass&#x27;, &#x27;title&#x27;, &#x27;embarked&#x27;, &#x27;title_cat&#x27;,\n",
       "                                  &#x27;idx_family&#x27;, &#x27;fst_sym_ticket&#x27;,\n",
       "                                  &#x27;idx_deck&#x27;])])</pre></div></div></div><div class=\"sk-parallel\"><div class=\"sk-parallel-item\"><div class=\"sk-item\"><div class=\"sk-label-container\"><div class=\"sk-label sk-toggleable\"><input class=\"sk-toggleable__control sk-hidden--visually\" id=\"sk-estimator-id-17\" type=\"checkbox\" ><label for=\"sk-estimator-id-17\" class=\"sk-toggleable__label sk-toggleable__label-arrow\">numerical</label><div class=\"sk-toggleable__content\"><pre>[&#x27;SibSp&#x27;, &#x27;Parch&#x27;, &#x27;len_name&#x27;, &#x27;alone&#x27;, &#x27;family&#x27;, &#x27;delta&#x27;, &#x27;fare&#x27;, &#x27;age&#x27;, &#x27;sex&#x27;, &#x27;cabin&#x27;, &#x27;retirer&#x27;, &#x27;len_ticket&#x27;, &#x27;ticket_freq&#x27;, &#x27;ticket_fare&#x27;, &#x27;fare_zero&#x27;, &#x27;fare_log&#x27;, &#x27;double_name&#x27;]</pre></div></div></div><div class=\"sk-serial\"><div class=\"sk-item\"><div class=\"sk-serial\"><div class=\"sk-item\"><div class=\"sk-estimator sk-toggleable\"><input class=\"sk-toggleable__control sk-hidden--visually\" id=\"sk-estimator-id-18\" type=\"checkbox\" ><label for=\"sk-estimator-id-18\" class=\"sk-toggleable__label sk-toggleable__label-arrow\">StandardScaler</label><div class=\"sk-toggleable__content\"><pre>StandardScaler()</pre></div></div></div></div></div></div></div></div><div class=\"sk-parallel-item\"><div class=\"sk-item\"><div class=\"sk-label-container\"><div class=\"sk-label sk-toggleable\"><input class=\"sk-toggleable__control sk-hidden--visually\" id=\"sk-estimator-id-19\" type=\"checkbox\" ><label for=\"sk-estimator-id-19\" class=\"sk-toggleable__label sk-toggleable__label-arrow\">categorical</label><div class=\"sk-toggleable__content\"><pre>[&#x27;Pclass&#x27;, &#x27;title&#x27;, &#x27;embarked&#x27;, &#x27;title_cat&#x27;, &#x27;idx_family&#x27;, &#x27;fst_sym_ticket&#x27;, &#x27;idx_deck&#x27;]</pre></div></div></div><div class=\"sk-serial\"><div class=\"sk-item\"><div class=\"sk-serial\"><div class=\"sk-item\"><div class=\"sk-estimator sk-toggleable\"><input class=\"sk-toggleable__control sk-hidden--visually\" id=\"sk-estimator-id-20\" type=\"checkbox\" ><label for=\"sk-estimator-id-20\" class=\"sk-toggleable__label sk-toggleable__label-arrow\">OneHotEncoder</label><div class=\"sk-toggleable__content\"><pre>OneHotEncoder(handle_unknown=&#x27;ignore&#x27;)</pre></div></div></div></div></div></div></div></div></div></div><div class=\"sk-item\"><div class=\"sk-estimator sk-toggleable\"><input class=\"sk-toggleable__control sk-hidden--visually\" id=\"sk-estimator-id-21\" type=\"checkbox\" ><label for=\"sk-estimator-id-21\" class=\"sk-toggleable__label sk-toggleable__label-arrow\">RandomForestClassifier</label><div class=\"sk-toggleable__content\"><pre>RandomForestClassifier(max_depth=3, max_features=&#x27;log2&#x27;, min_samples_leaf=10,\n",
       "                       min_samples_split=4, n_estimators=466, n_jobs=-1,\n",
       "                       random_state=127, verbose=False)</pre></div></div></div></div></div></div></div></div><div class=\"sk-parallel-item\"><div class=\"sk-item\"><div class=\"sk-label-container\"><div class=\"sk-label sk-toggleable\"><label>Tabular_network</label></div></div><div class=\"sk-serial\"><div class=\"sk-item\"><div class=\"sk-serial\"><div class=\"sk-item sk-dashed-wrapped\"><div class=\"sk-label-container\"><div class=\"sk-label sk-toggleable\"><input class=\"sk-toggleable__control sk-hidden--visually\" id=\"sk-estimator-id-22\" type=\"checkbox\" ><label for=\"sk-estimator-id-22\" class=\"sk-toggleable__label sk-toggleable__label-arrow\">columntransformer: ColumnTransformer</label><div class=\"sk-toggleable__content\"><pre>ColumnTransformer(transformers=[(&#x27;numerical&#x27;,\n",
       "                                 Pipeline(steps=[(&#x27;scaler&#x27;, StandardScaler())]),\n",
       "                                 [&#x27;SibSp&#x27;, &#x27;Parch&#x27;, &#x27;len_name&#x27;, &#x27;alone&#x27;,\n",
       "                                  &#x27;family&#x27;, &#x27;delta&#x27;, &#x27;fare&#x27;, &#x27;age&#x27;, &#x27;sex&#x27;,\n",
       "                                  &#x27;cabin&#x27;, &#x27;retirer&#x27;, &#x27;len_ticket&#x27;,\n",
       "                                  &#x27;ticket_freq&#x27;, &#x27;ticket_fare&#x27;, &#x27;fare_zero&#x27;,\n",
       "                                  &#x27;fare_log&#x27;, &#x27;double_name&#x27;]),\n",
       "                                (&#x27;categorical&#x27;,\n",
       "                                 Pipeline(steps=[(&#x27;onehot&#x27;,\n",
       "                                                  OneHotEncoder(handle_unknown=&#x27;ignore&#x27;))]),\n",
       "                                 [&#x27;Pclass&#x27;, &#x27;title&#x27;, &#x27;embarked&#x27;, &#x27;title_cat&#x27;,\n",
       "                                  &#x27;idx_family&#x27;, &#x27;fst_sym_ticket&#x27;,\n",
       "                                  &#x27;idx_deck&#x27;])])</pre></div></div></div><div class=\"sk-parallel\"><div class=\"sk-parallel-item\"><div class=\"sk-item\"><div class=\"sk-label-container\"><div class=\"sk-label sk-toggleable\"><input class=\"sk-toggleable__control sk-hidden--visually\" id=\"sk-estimator-id-23\" type=\"checkbox\" ><label for=\"sk-estimator-id-23\" class=\"sk-toggleable__label sk-toggleable__label-arrow\">numerical</label><div class=\"sk-toggleable__content\"><pre>[&#x27;SibSp&#x27;, &#x27;Parch&#x27;, &#x27;len_name&#x27;, &#x27;alone&#x27;, &#x27;family&#x27;, &#x27;delta&#x27;, &#x27;fare&#x27;, &#x27;age&#x27;, &#x27;sex&#x27;, &#x27;cabin&#x27;, &#x27;retirer&#x27;, &#x27;len_ticket&#x27;, &#x27;ticket_freq&#x27;, &#x27;ticket_fare&#x27;, &#x27;fare_zero&#x27;, &#x27;fare_log&#x27;, &#x27;double_name&#x27;]</pre></div></div></div><div class=\"sk-serial\"><div class=\"sk-item\"><div class=\"sk-serial\"><div class=\"sk-item\"><div class=\"sk-estimator sk-toggleable\"><input class=\"sk-toggleable__control sk-hidden--visually\" id=\"sk-estimator-id-24\" type=\"checkbox\" ><label for=\"sk-estimator-id-24\" class=\"sk-toggleable__label sk-toggleable__label-arrow\">StandardScaler</label><div class=\"sk-toggleable__content\"><pre>StandardScaler()</pre></div></div></div></div></div></div></div></div><div class=\"sk-parallel-item\"><div class=\"sk-item\"><div class=\"sk-label-container\"><div class=\"sk-label sk-toggleable\"><input class=\"sk-toggleable__control sk-hidden--visually\" id=\"sk-estimator-id-25\" type=\"checkbox\" ><label for=\"sk-estimator-id-25\" class=\"sk-toggleable__label sk-toggleable__label-arrow\">categorical</label><div class=\"sk-toggleable__content\"><pre>[&#x27;Pclass&#x27;, &#x27;title&#x27;, &#x27;embarked&#x27;, &#x27;title_cat&#x27;, &#x27;idx_family&#x27;, &#x27;fst_sym_ticket&#x27;, &#x27;idx_deck&#x27;]</pre></div></div></div><div class=\"sk-serial\"><div class=\"sk-item\"><div class=\"sk-serial\"><div class=\"sk-item\"><div class=\"sk-estimator sk-toggleable\"><input class=\"sk-toggleable__control sk-hidden--visually\" id=\"sk-estimator-id-26\" type=\"checkbox\" ><label for=\"sk-estimator-id-26\" class=\"sk-toggleable__label sk-toggleable__label-arrow\">OneHotEncoder</label><div class=\"sk-toggleable__content\"><pre>OneHotEncoder(handle_unknown=&#x27;ignore&#x27;)</pre></div></div></div></div></div></div></div></div></div></div><div class=\"sk-item\"><div class=\"sk-estimator sk-toggleable\"><input class=\"sk-toggleable__control sk-hidden--visually\" id=\"sk-estimator-id-27\" type=\"checkbox\" ><label for=\"sk-estimator-id-27\" class=\"sk-toggleable__label sk-toggleable__label-arrow\">TabularClassifier</label><div class=\"sk-toggleable__content\"><pre>TabularClassifier(device=&#x27;cpu&#x27;, dropout1=0.5544539787798769,\n",
       "                  dropout2=0.37587705852465625, hidden_size=72,\n",
       "                  lr=0.05620056948941698, max_epochs=8, random_state=127)</pre></div></div></div></div></div></div></div></div></div></div><div class=\"sk-item\"><div class=\"sk-parallel\"><div class=\"sk-parallel-item\"><div class=\"sk-item\"><div class=\"sk-label-container\"><div class=\"sk-label sk-toggleable\"><label>final_estimator</label></div></div><div class=\"sk-serial\"><div class=\"sk-item\"><div class=\"sk-estimator sk-toggleable\"><input class=\"sk-toggleable__control sk-hidden--visually\" id=\"sk-estimator-id-28\" type=\"checkbox\" ><label for=\"sk-estimator-id-28\" class=\"sk-toggleable__label sk-toggleable__label-arrow\">LogisticRegression</label><div class=\"sk-toggleable__content\"><pre>LogisticRegression(verbose=False)</pre></div></div></div></div></div></div></div></div></div></div></div></div>"
      ],
      "text/plain": [
       "StackingClassifier(estimators=[('ExtraTrees',\n",
       "                                Pipeline(steps=[('columntransformer',\n",
       "                                                 ColumnTransformer(transformers=[('numerical',\n",
       "                                                                                  Pipeline(steps=[('scaler',\n",
       "                                                                                                   StandardScaler())]),\n",
       "                                                                                  ['SibSp',\n",
       "                                                                                   'Parch',\n",
       "                                                                                   'len_name',\n",
       "                                                                                   'alone',\n",
       "                                                                                   'family',\n",
       "                                                                                   'delta',\n",
       "                                                                                   'fare',\n",
       "                                                                                   'age',\n",
       "                                                                                   'sex',\n",
       "                                                                                   'cabin',\n",
       "                                                                                   'retirer',\n",
       "                                                                                   'len_ticket',\n",
       "                                                                                   'ticket_freq',\n",
       "                                                                                   'ticket_fare',\n",
       "                                                                                   'fare_zero',\n",
       "                                                                                   'fare_log',\n",
       "                                                                                   'double_name']),\n",
       "                                                                                 ('categ...\n",
       "                                                                                                   OneHotEncoder(handle_unknown='ignore'))]),\n",
       "                                                                                  ['Pclass',\n",
       "                                                                                   'title',\n",
       "                                                                                   'embarked',\n",
       "                                                                                   'title_cat',\n",
       "                                                                                   'idx_family',\n",
       "                                                                                   'fst_sym_ticket',\n",
       "                                                                                   'idx_deck'])])),\n",
       "                                                ('tabularclassifier',\n",
       "                                                 TabularClassifier(device='cpu',\n",
       "                                                                   dropout1=0.5544539787798769,\n",
       "                                                                   dropout2=0.37587705852465625,\n",
       "                                                                   hidden_size=72,\n",
       "                                                                   lr=0.05620056948941698,\n",
       "                                                                   max_epochs=8,\n",
       "                                                                   random_state=127))]))],\n",
       "                   final_estimator=LogisticRegression(verbose=False), n_jobs=-1,\n",
       "                   verbose=False)"
      ]
     },
     "execution_count": 21,
     "metadata": {},
     "output_type": "execute_result"
    }
   ],
   "source": [
    "# список базовых моделей\n",
    "estimators = [\n",
    "\n",
    "    (\"ExtraTrees\",  make_pipeline(preprocessor, ExtraTreesClassifier(**params_et))),\n",
    "    \n",
    "    (\"XGBoost\", xgb_model),\n",
    "    \n",
    "    (\"LightGBM\", lgbm_model),\n",
    "    \n",
    "    (\"CatBoost\", cat_model),\n",
    "    \n",
    "    (\"Random_forest\",  make_pipeline(preprocessor, RandomForestClassifier(**params_rf))),\n",
    "    \n",
    "    (\"Tabular_network\",  make_pipeline(preprocessor, TabularClassifier(**params_nn))),    \n",
    "\n",
    "]\n",
    "\n",
    "# в качестве мета-модели будем использовать LogisticRegression\n",
    "meta_model = StackingClassifier(\n",
    "    estimators=estimators,\n",
    "    final_estimator=LogisticRegression(verbose=False),\n",
    "    # final_estimator=RandomForestClassifier(n_estimators = 10_000,\n",
    "                                           # max_depth = 5,\n",
    "                                           # verbose=False),\n",
    "    n_jobs=-1,\n",
    "    verbose=False,\n",
    ")\n",
    "\n",
    "stacking_classifier = meta_model\n",
    "stacking_classifier"
   ]
  },
  {
   "cell_type": "code",
   "execution_count": 22,
   "metadata": {
    "execution": {
     "iopub.execute_input": "2025-01-03T12:51:32.530252Z",
     "iopub.status.busy": "2025-01-03T12:51:32.529823Z",
     "iopub.status.idle": "2025-01-03T12:57:40.214331Z",
     "shell.execute_reply": "2025-01-03T12:57:40.212864Z",
     "shell.execute_reply.started": "2025-01-03T12:51:32.530209Z"
    },
    "id": "70aa214e-d6c6-4032-bc27-d3e53e3e2442",
    "outputId": "26a2f6ff-6c07-401f-bb90-59436d063d53"
   },
   "outputs": [
    {
     "data": {
      "text/html": [
       "<style>#sk-container-id-3 {color: black;}#sk-container-id-3 pre{padding: 0;}#sk-container-id-3 div.sk-toggleable {background-color: white;}#sk-container-id-3 label.sk-toggleable__label {cursor: pointer;display: block;width: 100%;margin-bottom: 0;padding: 0.3em;box-sizing: border-box;text-align: center;}#sk-container-id-3 label.sk-toggleable__label-arrow:before {content: \"▸\";float: left;margin-right: 0.25em;color: #696969;}#sk-container-id-3 label.sk-toggleable__label-arrow:hover:before {color: black;}#sk-container-id-3 div.sk-estimator:hover label.sk-toggleable__label-arrow:before {color: black;}#sk-container-id-3 div.sk-toggleable__content {max-height: 0;max-width: 0;overflow: hidden;text-align: left;background-color: #f0f8ff;}#sk-container-id-3 div.sk-toggleable__content pre {margin: 0.2em;color: black;border-radius: 0.25em;background-color: #f0f8ff;}#sk-container-id-3 input.sk-toggleable__control:checked~div.sk-toggleable__content {max-height: 200px;max-width: 100%;overflow: auto;}#sk-container-id-3 input.sk-toggleable__control:checked~label.sk-toggleable__label-arrow:before {content: \"▾\";}#sk-container-id-3 div.sk-estimator input.sk-toggleable__control:checked~label.sk-toggleable__label {background-color: #d4ebff;}#sk-container-id-3 div.sk-label input.sk-toggleable__control:checked~label.sk-toggleable__label {background-color: #d4ebff;}#sk-container-id-3 input.sk-hidden--visually {border: 0;clip: rect(1px 1px 1px 1px);clip: rect(1px, 1px, 1px, 1px);height: 1px;margin: -1px;overflow: hidden;padding: 0;position: absolute;width: 1px;}#sk-container-id-3 div.sk-estimator {font-family: monospace;background-color: #f0f8ff;border: 1px dotted black;border-radius: 0.25em;box-sizing: border-box;margin-bottom: 0.5em;}#sk-container-id-3 div.sk-estimator:hover {background-color: #d4ebff;}#sk-container-id-3 div.sk-parallel-item::after {content: \"\";width: 100%;border-bottom: 1px solid gray;flex-grow: 1;}#sk-container-id-3 div.sk-label:hover label.sk-toggleable__label {background-color: #d4ebff;}#sk-container-id-3 div.sk-serial::before {content: \"\";position: absolute;border-left: 1px solid gray;box-sizing: border-box;top: 0;bottom: 0;left: 50%;z-index: 0;}#sk-container-id-3 div.sk-serial {display: flex;flex-direction: column;align-items: center;background-color: white;padding-right: 0.2em;padding-left: 0.2em;position: relative;}#sk-container-id-3 div.sk-item {position: relative;z-index: 1;}#sk-container-id-3 div.sk-parallel {display: flex;align-items: stretch;justify-content: center;background-color: white;position: relative;}#sk-container-id-3 div.sk-item::before, #sk-container-id-3 div.sk-parallel-item::before {content: \"\";position: absolute;border-left: 1px solid gray;box-sizing: border-box;top: 0;bottom: 0;left: 50%;z-index: -1;}#sk-container-id-3 div.sk-parallel-item {display: flex;flex-direction: column;z-index: 1;position: relative;background-color: white;}#sk-container-id-3 div.sk-parallel-item:first-child::after {align-self: flex-end;width: 50%;}#sk-container-id-3 div.sk-parallel-item:last-child::after {align-self: flex-start;width: 50%;}#sk-container-id-3 div.sk-parallel-item:only-child::after {width: 0;}#sk-container-id-3 div.sk-dashed-wrapped {border: 1px dashed gray;margin: 0 0.4em 0.5em 0.4em;box-sizing: border-box;padding-bottom: 0.4em;background-color: white;}#sk-container-id-3 div.sk-label label {font-family: monospace;font-weight: bold;display: inline-block;line-height: 1.2em;}#sk-container-id-3 div.sk-label-container {text-align: center;}#sk-container-id-3 div.sk-container {/* jupyter's `normalize.less` sets `[hidden] { display: none; }` but bootstrap.min.css set `[hidden] { display: none !important; }` so we also need the `!important` here to be able to override the default hidden behavior on the sphinx rendered scikit-learn.org. See: https://github.com/scikit-learn/scikit-learn/issues/21755 */display: inline-block !important;position: relative;}#sk-container-id-3 div.sk-text-repr-fallback {display: none;}</style><div id=\"sk-container-id-3\" class=\"sk-top-container\"><div class=\"sk-text-repr-fallback\"><pre>StackingClassifier(estimators=[(&#x27;ExtraTrees&#x27;,\n",
       "                                Pipeline(steps=[(&#x27;columntransformer&#x27;,\n",
       "                                                 ColumnTransformer(transformers=[(&#x27;numerical&#x27;,\n",
       "                                                                                  Pipeline(steps=[(&#x27;scaler&#x27;,\n",
       "                                                                                                   StandardScaler())]),\n",
       "                                                                                  [&#x27;SibSp&#x27;,\n",
       "                                                                                   &#x27;Parch&#x27;,\n",
       "                                                                                   &#x27;len_name&#x27;,\n",
       "                                                                                   &#x27;alone&#x27;,\n",
       "                                                                                   &#x27;family&#x27;,\n",
       "                                                                                   &#x27;delta&#x27;,\n",
       "                                                                                   &#x27;fare&#x27;,\n",
       "                                                                                   &#x27;age&#x27;,\n",
       "                                                                                   &#x27;sex&#x27;,\n",
       "                                                                                   &#x27;cabin&#x27;,\n",
       "                                                                                   &#x27;retirer&#x27;,\n",
       "                                                                                   &#x27;len_ticket&#x27;,\n",
       "                                                                                   &#x27;ticket_freq&#x27;,\n",
       "                                                                                   &#x27;ticket_fare&#x27;,\n",
       "                                                                                   &#x27;fare_zero&#x27;,\n",
       "                                                                                   &#x27;fare_log&#x27;,\n",
       "                                                                                   &#x27;double_name&#x27;]),\n",
       "                                                                                 (&#x27;categ...\n",
       "                                                                                                   OneHotEncoder(handle_unknown=&#x27;ignore&#x27;))]),\n",
       "                                                                                  [&#x27;Pclass&#x27;,\n",
       "                                                                                   &#x27;title&#x27;,\n",
       "                                                                                   &#x27;embarked&#x27;,\n",
       "                                                                                   &#x27;title_cat&#x27;,\n",
       "                                                                                   &#x27;idx_family&#x27;,\n",
       "                                                                                   &#x27;fst_sym_ticket&#x27;,\n",
       "                                                                                   &#x27;idx_deck&#x27;])])),\n",
       "                                                (&#x27;tabularclassifier&#x27;,\n",
       "                                                 TabularClassifier(device=&#x27;cpu&#x27;,\n",
       "                                                                   dropout1=0.5544539787798769,\n",
       "                                                                   dropout2=0.37587705852465625,\n",
       "                                                                   hidden_size=72,\n",
       "                                                                   lr=0.05620056948941698,\n",
       "                                                                   max_epochs=8,\n",
       "                                                                   random_state=127))]))],\n",
       "                   final_estimator=LogisticRegression(verbose=False), n_jobs=-1,\n",
       "                   verbose=False)</pre><b>In a Jupyter environment, please rerun this cell to show the HTML representation or trust the notebook. <br />On GitHub, the HTML representation is unable to render, please try loading this page with nbviewer.org.</b></div><div class=\"sk-container\" hidden><div class=\"sk-item sk-dashed-wrapped\"><div class=\"sk-label-container\"><div class=\"sk-label sk-toggleable\"><input class=\"sk-toggleable__control sk-hidden--visually\" id=\"sk-estimator-id-29\" type=\"checkbox\" ><label for=\"sk-estimator-id-29\" class=\"sk-toggleable__label sk-toggleable__label-arrow\">StackingClassifier</label><div class=\"sk-toggleable__content\"><pre>StackingClassifier(estimators=[(&#x27;ExtraTrees&#x27;,\n",
       "                                Pipeline(steps=[(&#x27;columntransformer&#x27;,\n",
       "                                                 ColumnTransformer(transformers=[(&#x27;numerical&#x27;,\n",
       "                                                                                  Pipeline(steps=[(&#x27;scaler&#x27;,\n",
       "                                                                                                   StandardScaler())]),\n",
       "                                                                                  [&#x27;SibSp&#x27;,\n",
       "                                                                                   &#x27;Parch&#x27;,\n",
       "                                                                                   &#x27;len_name&#x27;,\n",
       "                                                                                   &#x27;alone&#x27;,\n",
       "                                                                                   &#x27;family&#x27;,\n",
       "                                                                                   &#x27;delta&#x27;,\n",
       "                                                                                   &#x27;fare&#x27;,\n",
       "                                                                                   &#x27;age&#x27;,\n",
       "                                                                                   &#x27;sex&#x27;,\n",
       "                                                                                   &#x27;cabin&#x27;,\n",
       "                                                                                   &#x27;retirer&#x27;,\n",
       "                                                                                   &#x27;len_ticket&#x27;,\n",
       "                                                                                   &#x27;ticket_freq&#x27;,\n",
       "                                                                                   &#x27;ticket_fare&#x27;,\n",
       "                                                                                   &#x27;fare_zero&#x27;,\n",
       "                                                                                   &#x27;fare_log&#x27;,\n",
       "                                                                                   &#x27;double_name&#x27;]),\n",
       "                                                                                 (&#x27;categ...\n",
       "                                                                                                   OneHotEncoder(handle_unknown=&#x27;ignore&#x27;))]),\n",
       "                                                                                  [&#x27;Pclass&#x27;,\n",
       "                                                                                   &#x27;title&#x27;,\n",
       "                                                                                   &#x27;embarked&#x27;,\n",
       "                                                                                   &#x27;title_cat&#x27;,\n",
       "                                                                                   &#x27;idx_family&#x27;,\n",
       "                                                                                   &#x27;fst_sym_ticket&#x27;,\n",
       "                                                                                   &#x27;idx_deck&#x27;])])),\n",
       "                                                (&#x27;tabularclassifier&#x27;,\n",
       "                                                 TabularClassifier(device=&#x27;cpu&#x27;,\n",
       "                                                                   dropout1=0.5544539787798769,\n",
       "                                                                   dropout2=0.37587705852465625,\n",
       "                                                                   hidden_size=72,\n",
       "                                                                   lr=0.05620056948941698,\n",
       "                                                                   max_epochs=8,\n",
       "                                                                   random_state=127))]))],\n",
       "                   final_estimator=LogisticRegression(verbose=False), n_jobs=-1,\n",
       "                   verbose=False)</pre></div></div></div><div class=\"sk-serial\"><div class=\"sk-item\"><div class=\"sk-parallel\"><div class=\"sk-parallel-item\"><div class=\"sk-item\"><div class=\"sk-label-container\"><div class=\"sk-label sk-toggleable\"><label>ExtraTrees</label></div></div><div class=\"sk-serial\"><div class=\"sk-item\"><div class=\"sk-serial\"><div class=\"sk-item sk-dashed-wrapped\"><div class=\"sk-label-container\"><div class=\"sk-label sk-toggleable\"><input class=\"sk-toggleable__control sk-hidden--visually\" id=\"sk-estimator-id-30\" type=\"checkbox\" ><label for=\"sk-estimator-id-30\" class=\"sk-toggleable__label sk-toggleable__label-arrow\">columntransformer: ColumnTransformer</label><div class=\"sk-toggleable__content\"><pre>ColumnTransformer(transformers=[(&#x27;numerical&#x27;,\n",
       "                                 Pipeline(steps=[(&#x27;scaler&#x27;, StandardScaler())]),\n",
       "                                 [&#x27;SibSp&#x27;, &#x27;Parch&#x27;, &#x27;len_name&#x27;, &#x27;alone&#x27;,\n",
       "                                  &#x27;family&#x27;, &#x27;delta&#x27;, &#x27;fare&#x27;, &#x27;age&#x27;, &#x27;sex&#x27;,\n",
       "                                  &#x27;cabin&#x27;, &#x27;retirer&#x27;, &#x27;len_ticket&#x27;,\n",
       "                                  &#x27;ticket_freq&#x27;, &#x27;ticket_fare&#x27;, &#x27;fare_zero&#x27;,\n",
       "                                  &#x27;fare_log&#x27;, &#x27;double_name&#x27;]),\n",
       "                                (&#x27;categorical&#x27;,\n",
       "                                 Pipeline(steps=[(&#x27;onehot&#x27;,\n",
       "                                                  OneHotEncoder(handle_unknown=&#x27;ignore&#x27;))]),\n",
       "                                 [&#x27;Pclass&#x27;, &#x27;title&#x27;, &#x27;embarked&#x27;, &#x27;title_cat&#x27;,\n",
       "                                  &#x27;idx_family&#x27;, &#x27;fst_sym_ticket&#x27;,\n",
       "                                  &#x27;idx_deck&#x27;])])</pre></div></div></div><div class=\"sk-parallel\"><div class=\"sk-parallel-item\"><div class=\"sk-item\"><div class=\"sk-label-container\"><div class=\"sk-label sk-toggleable\"><input class=\"sk-toggleable__control sk-hidden--visually\" id=\"sk-estimator-id-31\" type=\"checkbox\" ><label for=\"sk-estimator-id-31\" class=\"sk-toggleable__label sk-toggleable__label-arrow\">numerical</label><div class=\"sk-toggleable__content\"><pre>[&#x27;SibSp&#x27;, &#x27;Parch&#x27;, &#x27;len_name&#x27;, &#x27;alone&#x27;, &#x27;family&#x27;, &#x27;delta&#x27;, &#x27;fare&#x27;, &#x27;age&#x27;, &#x27;sex&#x27;, &#x27;cabin&#x27;, &#x27;retirer&#x27;, &#x27;len_ticket&#x27;, &#x27;ticket_freq&#x27;, &#x27;ticket_fare&#x27;, &#x27;fare_zero&#x27;, &#x27;fare_log&#x27;, &#x27;double_name&#x27;]</pre></div></div></div><div class=\"sk-serial\"><div class=\"sk-item\"><div class=\"sk-serial\"><div class=\"sk-item\"><div class=\"sk-estimator sk-toggleable\"><input class=\"sk-toggleable__control sk-hidden--visually\" id=\"sk-estimator-id-32\" type=\"checkbox\" ><label for=\"sk-estimator-id-32\" class=\"sk-toggleable__label sk-toggleable__label-arrow\">StandardScaler</label><div class=\"sk-toggleable__content\"><pre>StandardScaler()</pre></div></div></div></div></div></div></div></div><div class=\"sk-parallel-item\"><div class=\"sk-item\"><div class=\"sk-label-container\"><div class=\"sk-label sk-toggleable\"><input class=\"sk-toggleable__control sk-hidden--visually\" id=\"sk-estimator-id-33\" type=\"checkbox\" ><label for=\"sk-estimator-id-33\" class=\"sk-toggleable__label sk-toggleable__label-arrow\">categorical</label><div class=\"sk-toggleable__content\"><pre>[&#x27;Pclass&#x27;, &#x27;title&#x27;, &#x27;embarked&#x27;, &#x27;title_cat&#x27;, &#x27;idx_family&#x27;, &#x27;fst_sym_ticket&#x27;, &#x27;idx_deck&#x27;]</pre></div></div></div><div class=\"sk-serial\"><div class=\"sk-item\"><div class=\"sk-serial\"><div class=\"sk-item\"><div class=\"sk-estimator sk-toggleable\"><input class=\"sk-toggleable__control sk-hidden--visually\" id=\"sk-estimator-id-34\" type=\"checkbox\" ><label for=\"sk-estimator-id-34\" class=\"sk-toggleable__label sk-toggleable__label-arrow\">OneHotEncoder</label><div class=\"sk-toggleable__content\"><pre>OneHotEncoder(handle_unknown=&#x27;ignore&#x27;)</pre></div></div></div></div></div></div></div></div></div></div><div class=\"sk-item\"><div class=\"sk-estimator sk-toggleable\"><input class=\"sk-toggleable__control sk-hidden--visually\" id=\"sk-estimator-id-35\" type=\"checkbox\" ><label for=\"sk-estimator-id-35\" class=\"sk-toggleable__label sk-toggleable__label-arrow\">ExtraTreesClassifier</label><div class=\"sk-toggleable__content\"><pre>ExtraTreesClassifier(max_depth=7, min_samples_leaf=7, min_samples_split=6,\n",
       "                     n_estimators=548, n_jobs=-1, random_state=127,\n",
       "                     verbose=False)</pre></div></div></div></div></div></div></div></div><div class=\"sk-parallel-item\"><div class=\"sk-item\"><div class=\"sk-label-container\"><div class=\"sk-label sk-toggleable\"><label>XGBoost</label></div></div><div class=\"sk-serial\"><div class=\"sk-item\"><div class=\"sk-estimator sk-toggleable\"><input class=\"sk-toggleable__control sk-hidden--visually\" id=\"sk-estimator-id-36\" type=\"checkbox\" ><label for=\"sk-estimator-id-36\" class=\"sk-toggleable__label sk-toggleable__label-arrow\">XGBClassifier</label><div class=\"sk-toggleable__content\"><pre>XGBClassifier(alpha=2.206812214230348, base_score=None, booster=&#x27;dart&#x27;,\n",
       "              callbacks=None, colsample_bylevel=None, colsample_bynode=None,\n",
       "              colsample_bytree=0.8679507104120996, device=None,\n",
       "              early_stopping_rounds=None, enable_categorical=True,\n",
       "              eta=0.225713349140033, eval_metric=&#x27;logloss&#x27;, feature_types=None,\n",
       "              gamma=None, grow_policy=None, importance_type=None,\n",
       "              interaction_constraints=None, lambda=4.27264717515999,\n",
       "              learning_rate=None, max_bin=None, max_cat_threshold=None,\n",
       "              max_cat_to_onehot=None, max_delta_step=None, max_depth=4,\n",
       "              max_leaves=None, min_child_weight=2, missing=nan,\n",
       "              monotone_constraints=None, multi_strategy=None, n_estimators=None, ...)</pre></div></div></div></div></div></div><div class=\"sk-parallel-item\"><div class=\"sk-item\"><div class=\"sk-label-container\"><div class=\"sk-label sk-toggleable\"><label>LightGBM</label></div></div><div class=\"sk-serial\"><div class=\"sk-item\"><div class=\"sk-estimator sk-toggleable\"><input class=\"sk-toggleable__control sk-hidden--visually\" id=\"sk-estimator-id-37\" type=\"checkbox\" ><label for=\"sk-estimator-id-37\" class=\"sk-toggleable__label sk-toggleable__label-arrow\">LGBMClassifier</label><div class=\"sk-toggleable__content\"><pre>LGBMClassifier(boosting_type=&#x27;dart&#x27;, cat_feature=[0, 3, 11, 13, 15, 17, 20],\n",
       "               colsample_bytree=0.6459964090228278, eval_metric=&#x27;Accuracy&#x27;,\n",
       "               learning_rate=0.2816036393016932, max_depth=4,\n",
       "               min_child_samples=100, num_leaves=85, objective=&#x27;binary&#x27;,\n",
       "               random_seed=127, random_state=127, reg_alpha=1.5946003373810458,\n",
       "               reg_lambda=7.005261713251808, subsample=0.8095790668625238,\n",
       "               subsample_freq=2, verbose=-1)</pre></div></div></div></div></div></div><div class=\"sk-parallel-item\"><div class=\"sk-item\"><div class=\"sk-label-container\"><div class=\"sk-label sk-toggleable\"><label>CatBoost</label></div></div><div class=\"sk-serial\"><div class=\"sk-item\"><div class=\"sk-estimator sk-toggleable\"><input class=\"sk-toggleable__control sk-hidden--visually\" id=\"sk-estimator-id-38\" type=\"checkbox\" ><label for=\"sk-estimator-id-38\" class=\"sk-toggleable__label sk-toggleable__label-arrow\">CatBoostClassifier</label><div class=\"sk-toggleable__content\"><pre>&lt;catboost.core.CatBoostClassifier object at 0x000002672584E550&gt;</pre></div></div></div></div></div></div><div class=\"sk-parallel-item\"><div class=\"sk-item\"><div class=\"sk-label-container\"><div class=\"sk-label sk-toggleable\"><label>Random_forest</label></div></div><div class=\"sk-serial\"><div class=\"sk-item\"><div class=\"sk-serial\"><div class=\"sk-item sk-dashed-wrapped\"><div class=\"sk-label-container\"><div class=\"sk-label sk-toggleable\"><input class=\"sk-toggleable__control sk-hidden--visually\" id=\"sk-estimator-id-39\" type=\"checkbox\" ><label for=\"sk-estimator-id-39\" class=\"sk-toggleable__label sk-toggleable__label-arrow\">columntransformer: ColumnTransformer</label><div class=\"sk-toggleable__content\"><pre>ColumnTransformer(transformers=[(&#x27;numerical&#x27;,\n",
       "                                 Pipeline(steps=[(&#x27;scaler&#x27;, StandardScaler())]),\n",
       "                                 [&#x27;SibSp&#x27;, &#x27;Parch&#x27;, &#x27;len_name&#x27;, &#x27;alone&#x27;,\n",
       "                                  &#x27;family&#x27;, &#x27;delta&#x27;, &#x27;fare&#x27;, &#x27;age&#x27;, &#x27;sex&#x27;,\n",
       "                                  &#x27;cabin&#x27;, &#x27;retirer&#x27;, &#x27;len_ticket&#x27;,\n",
       "                                  &#x27;ticket_freq&#x27;, &#x27;ticket_fare&#x27;, &#x27;fare_zero&#x27;,\n",
       "                                  &#x27;fare_log&#x27;, &#x27;double_name&#x27;]),\n",
       "                                (&#x27;categorical&#x27;,\n",
       "                                 Pipeline(steps=[(&#x27;onehot&#x27;,\n",
       "                                                  OneHotEncoder(handle_unknown=&#x27;ignore&#x27;))]),\n",
       "                                 [&#x27;Pclass&#x27;, &#x27;title&#x27;, &#x27;embarked&#x27;, &#x27;title_cat&#x27;,\n",
       "                                  &#x27;idx_family&#x27;, &#x27;fst_sym_ticket&#x27;,\n",
       "                                  &#x27;idx_deck&#x27;])])</pre></div></div></div><div class=\"sk-parallel\"><div class=\"sk-parallel-item\"><div class=\"sk-item\"><div class=\"sk-label-container\"><div class=\"sk-label sk-toggleable\"><input class=\"sk-toggleable__control sk-hidden--visually\" id=\"sk-estimator-id-40\" type=\"checkbox\" ><label for=\"sk-estimator-id-40\" class=\"sk-toggleable__label sk-toggleable__label-arrow\">numerical</label><div class=\"sk-toggleable__content\"><pre>[&#x27;SibSp&#x27;, &#x27;Parch&#x27;, &#x27;len_name&#x27;, &#x27;alone&#x27;, &#x27;family&#x27;, &#x27;delta&#x27;, &#x27;fare&#x27;, &#x27;age&#x27;, &#x27;sex&#x27;, &#x27;cabin&#x27;, &#x27;retirer&#x27;, &#x27;len_ticket&#x27;, &#x27;ticket_freq&#x27;, &#x27;ticket_fare&#x27;, &#x27;fare_zero&#x27;, &#x27;fare_log&#x27;, &#x27;double_name&#x27;]</pre></div></div></div><div class=\"sk-serial\"><div class=\"sk-item\"><div class=\"sk-serial\"><div class=\"sk-item\"><div class=\"sk-estimator sk-toggleable\"><input class=\"sk-toggleable__control sk-hidden--visually\" id=\"sk-estimator-id-41\" type=\"checkbox\" ><label for=\"sk-estimator-id-41\" class=\"sk-toggleable__label sk-toggleable__label-arrow\">StandardScaler</label><div class=\"sk-toggleable__content\"><pre>StandardScaler()</pre></div></div></div></div></div></div></div></div><div class=\"sk-parallel-item\"><div class=\"sk-item\"><div class=\"sk-label-container\"><div class=\"sk-label sk-toggleable\"><input class=\"sk-toggleable__control sk-hidden--visually\" id=\"sk-estimator-id-42\" type=\"checkbox\" ><label for=\"sk-estimator-id-42\" class=\"sk-toggleable__label sk-toggleable__label-arrow\">categorical</label><div class=\"sk-toggleable__content\"><pre>[&#x27;Pclass&#x27;, &#x27;title&#x27;, &#x27;embarked&#x27;, &#x27;title_cat&#x27;, &#x27;idx_family&#x27;, &#x27;fst_sym_ticket&#x27;, &#x27;idx_deck&#x27;]</pre></div></div></div><div class=\"sk-serial\"><div class=\"sk-item\"><div class=\"sk-serial\"><div class=\"sk-item\"><div class=\"sk-estimator sk-toggleable\"><input class=\"sk-toggleable__control sk-hidden--visually\" id=\"sk-estimator-id-43\" type=\"checkbox\" ><label for=\"sk-estimator-id-43\" class=\"sk-toggleable__label sk-toggleable__label-arrow\">OneHotEncoder</label><div class=\"sk-toggleable__content\"><pre>OneHotEncoder(handle_unknown=&#x27;ignore&#x27;)</pre></div></div></div></div></div></div></div></div></div></div><div class=\"sk-item\"><div class=\"sk-estimator sk-toggleable\"><input class=\"sk-toggleable__control sk-hidden--visually\" id=\"sk-estimator-id-44\" type=\"checkbox\" ><label for=\"sk-estimator-id-44\" class=\"sk-toggleable__label sk-toggleable__label-arrow\">RandomForestClassifier</label><div class=\"sk-toggleable__content\"><pre>RandomForestClassifier(max_depth=3, max_features=&#x27;log2&#x27;, min_samples_leaf=10,\n",
       "                       min_samples_split=4, n_estimators=466, n_jobs=-1,\n",
       "                       random_state=127, verbose=False)</pre></div></div></div></div></div></div></div></div><div class=\"sk-parallel-item\"><div class=\"sk-item\"><div class=\"sk-label-container\"><div class=\"sk-label sk-toggleable\"><label>Tabular_network</label></div></div><div class=\"sk-serial\"><div class=\"sk-item\"><div class=\"sk-serial\"><div class=\"sk-item sk-dashed-wrapped\"><div class=\"sk-label-container\"><div class=\"sk-label sk-toggleable\"><input class=\"sk-toggleable__control sk-hidden--visually\" id=\"sk-estimator-id-45\" type=\"checkbox\" ><label for=\"sk-estimator-id-45\" class=\"sk-toggleable__label sk-toggleable__label-arrow\">columntransformer: ColumnTransformer</label><div class=\"sk-toggleable__content\"><pre>ColumnTransformer(transformers=[(&#x27;numerical&#x27;,\n",
       "                                 Pipeline(steps=[(&#x27;scaler&#x27;, StandardScaler())]),\n",
       "                                 [&#x27;SibSp&#x27;, &#x27;Parch&#x27;, &#x27;len_name&#x27;, &#x27;alone&#x27;,\n",
       "                                  &#x27;family&#x27;, &#x27;delta&#x27;, &#x27;fare&#x27;, &#x27;age&#x27;, &#x27;sex&#x27;,\n",
       "                                  &#x27;cabin&#x27;, &#x27;retirer&#x27;, &#x27;len_ticket&#x27;,\n",
       "                                  &#x27;ticket_freq&#x27;, &#x27;ticket_fare&#x27;, &#x27;fare_zero&#x27;,\n",
       "                                  &#x27;fare_log&#x27;, &#x27;double_name&#x27;]),\n",
       "                                (&#x27;categorical&#x27;,\n",
       "                                 Pipeline(steps=[(&#x27;onehot&#x27;,\n",
       "                                                  OneHotEncoder(handle_unknown=&#x27;ignore&#x27;))]),\n",
       "                                 [&#x27;Pclass&#x27;, &#x27;title&#x27;, &#x27;embarked&#x27;, &#x27;title_cat&#x27;,\n",
       "                                  &#x27;idx_family&#x27;, &#x27;fst_sym_ticket&#x27;,\n",
       "                                  &#x27;idx_deck&#x27;])])</pre></div></div></div><div class=\"sk-parallel\"><div class=\"sk-parallel-item\"><div class=\"sk-item\"><div class=\"sk-label-container\"><div class=\"sk-label sk-toggleable\"><input class=\"sk-toggleable__control sk-hidden--visually\" id=\"sk-estimator-id-46\" type=\"checkbox\" ><label for=\"sk-estimator-id-46\" class=\"sk-toggleable__label sk-toggleable__label-arrow\">numerical</label><div class=\"sk-toggleable__content\"><pre>[&#x27;SibSp&#x27;, &#x27;Parch&#x27;, &#x27;len_name&#x27;, &#x27;alone&#x27;, &#x27;family&#x27;, &#x27;delta&#x27;, &#x27;fare&#x27;, &#x27;age&#x27;, &#x27;sex&#x27;, &#x27;cabin&#x27;, &#x27;retirer&#x27;, &#x27;len_ticket&#x27;, &#x27;ticket_freq&#x27;, &#x27;ticket_fare&#x27;, &#x27;fare_zero&#x27;, &#x27;fare_log&#x27;, &#x27;double_name&#x27;]</pre></div></div></div><div class=\"sk-serial\"><div class=\"sk-item\"><div class=\"sk-serial\"><div class=\"sk-item\"><div class=\"sk-estimator sk-toggleable\"><input class=\"sk-toggleable__control sk-hidden--visually\" id=\"sk-estimator-id-47\" type=\"checkbox\" ><label for=\"sk-estimator-id-47\" class=\"sk-toggleable__label sk-toggleable__label-arrow\">StandardScaler</label><div class=\"sk-toggleable__content\"><pre>StandardScaler()</pre></div></div></div></div></div></div></div></div><div class=\"sk-parallel-item\"><div class=\"sk-item\"><div class=\"sk-label-container\"><div class=\"sk-label sk-toggleable\"><input class=\"sk-toggleable__control sk-hidden--visually\" id=\"sk-estimator-id-48\" type=\"checkbox\" ><label for=\"sk-estimator-id-48\" class=\"sk-toggleable__label sk-toggleable__label-arrow\">categorical</label><div class=\"sk-toggleable__content\"><pre>[&#x27;Pclass&#x27;, &#x27;title&#x27;, &#x27;embarked&#x27;, &#x27;title_cat&#x27;, &#x27;idx_family&#x27;, &#x27;fst_sym_ticket&#x27;, &#x27;idx_deck&#x27;]</pre></div></div></div><div class=\"sk-serial\"><div class=\"sk-item\"><div class=\"sk-serial\"><div class=\"sk-item\"><div class=\"sk-estimator sk-toggleable\"><input class=\"sk-toggleable__control sk-hidden--visually\" id=\"sk-estimator-id-49\" type=\"checkbox\" ><label for=\"sk-estimator-id-49\" class=\"sk-toggleable__label sk-toggleable__label-arrow\">OneHotEncoder</label><div class=\"sk-toggleable__content\"><pre>OneHotEncoder(handle_unknown=&#x27;ignore&#x27;)</pre></div></div></div></div></div></div></div></div></div></div><div class=\"sk-item\"><div class=\"sk-estimator sk-toggleable\"><input class=\"sk-toggleable__control sk-hidden--visually\" id=\"sk-estimator-id-50\" type=\"checkbox\" ><label for=\"sk-estimator-id-50\" class=\"sk-toggleable__label sk-toggleable__label-arrow\">TabularClassifier</label><div class=\"sk-toggleable__content\"><pre>TabularClassifier(device=&#x27;cpu&#x27;, dropout1=0.5544539787798769,\n",
       "                  dropout2=0.37587705852465625, hidden_size=72,\n",
       "                  lr=0.05620056948941698, max_epochs=8, random_state=127)</pre></div></div></div></div></div></div></div></div></div></div><div class=\"sk-item\"><div class=\"sk-parallel\"><div class=\"sk-parallel-item\"><div class=\"sk-item\"><div class=\"sk-label-container\"><div class=\"sk-label sk-toggleable\"><label>final_estimator</label></div></div><div class=\"sk-serial\"><div class=\"sk-item\"><div class=\"sk-estimator sk-toggleable\"><input class=\"sk-toggleable__control sk-hidden--visually\" id=\"sk-estimator-id-51\" type=\"checkbox\" ><label for=\"sk-estimator-id-51\" class=\"sk-toggleable__label sk-toggleable__label-arrow\">LogisticRegression</label><div class=\"sk-toggleable__content\"><pre>LogisticRegression(verbose=False)</pre></div></div></div></div></div></div></div></div></div></div></div></div>"
      ],
      "text/plain": [
       "StackingClassifier(estimators=[('ExtraTrees',\n",
       "                                Pipeline(steps=[('columntransformer',\n",
       "                                                 ColumnTransformer(transformers=[('numerical',\n",
       "                                                                                  Pipeline(steps=[('scaler',\n",
       "                                                                                                   StandardScaler())]),\n",
       "                                                                                  ['SibSp',\n",
       "                                                                                   'Parch',\n",
       "                                                                                   'len_name',\n",
       "                                                                                   'alone',\n",
       "                                                                                   'family',\n",
       "                                                                                   'delta',\n",
       "                                                                                   'fare',\n",
       "                                                                                   'age',\n",
       "                                                                                   'sex',\n",
       "                                                                                   'cabin',\n",
       "                                                                                   'retirer',\n",
       "                                                                                   'len_ticket',\n",
       "                                                                                   'ticket_freq',\n",
       "                                                                                   'ticket_fare',\n",
       "                                                                                   'fare_zero',\n",
       "                                                                                   'fare_log',\n",
       "                                                                                   'double_name']),\n",
       "                                                                                 ('categ...\n",
       "                                                                                                   OneHotEncoder(handle_unknown='ignore'))]),\n",
       "                                                                                  ['Pclass',\n",
       "                                                                                   'title',\n",
       "                                                                                   'embarked',\n",
       "                                                                                   'title_cat',\n",
       "                                                                                   'idx_family',\n",
       "                                                                                   'fst_sym_ticket',\n",
       "                                                                                   'idx_deck'])])),\n",
       "                                                ('tabularclassifier',\n",
       "                                                 TabularClassifier(device='cpu',\n",
       "                                                                   dropout1=0.5544539787798769,\n",
       "                                                                   dropout2=0.37587705852465625,\n",
       "                                                                   hidden_size=72,\n",
       "                                                                   lr=0.05620056948941698,\n",
       "                                                                   max_epochs=8,\n",
       "                                                                   random_state=127))]))],\n",
       "                   final_estimator=LogisticRegression(verbose=False), n_jobs=-1,\n",
       "                   verbose=False)"
      ]
     },
     "execution_count": 22,
     "metadata": {},
     "output_type": "execute_result"
    }
   ],
   "source": [
    "stacking_classifier.fit(X_train, y_train)"
   ]
  },
  {
   "cell_type": "code",
   "execution_count": 23,
   "metadata": {
    "execution": {
     "iopub.execute_input": "2025-01-03T12:57:40.216781Z",
     "iopub.status.busy": "2025-01-03T12:57:40.216322Z",
     "iopub.status.idle": "2025-01-03T12:57:53.683987Z",
     "shell.execute_reply": "2025-01-03T12:57:53.682820Z",
     "shell.execute_reply.started": "2025-01-03T12:57:40.216729Z"
    },
    "id": "cf3cfb54-c3a2-49d8-b83b-2a529a2fe84c",
    "outputId": "e147c27b-bcd7-427c-edab-f825c73d01b6"
   },
   "outputs": [
    {
     "name": "stdout",
     "output_type": "stream",
     "text": [
      "ExtraTrees      accuracy:  0.843575\n",
      "XGBoost         accuracy:  0.865922\n",
      "LightGBM        accuracy:  0.843575\n",
      "CatBoost        accuracy:  0.854749\n",
      "Random_forest   accuracy:  0.832402\n",
      "Tabular_network accuracy:  0.815642\n"
     ]
    }
   ],
   "source": [
    "corr_df = pd.DataFrame()\n",
    "\n",
    "for model, (name, _) in zip(stacking_classifier.estimators_, stacking_classifier.estimators):\n",
    "    preprocessed = stacking_classifier.estimators[0][1].steps[0][1].fit(X_train, y_train).transform(X_valid)\n",
    "    print(f'{name:<15} accuracy: ', round(accuracy_score(model.predict(X_valid), y_valid), 6))\n",
    "\n",
    "    corr_df[name] = model.predict(X_valid)\n"
   ]
  },
  {
   "cell_type": "code",
   "execution_count": 24,
   "metadata": {
    "execution": {
     "iopub.execute_input": "2025-01-03T12:57:53.685795Z",
     "iopub.status.busy": "2025-01-03T12:57:53.685384Z",
     "iopub.status.idle": "2025-01-03T12:57:53.752197Z",
     "shell.execute_reply": "2025-01-03T12:57:53.751098Z",
     "shell.execute_reply.started": "2025-01-03T12:57:53.685751Z"
    },
    "id": "c2cf63af-64ef-4fe7-b5b7-46c42dff997c",
    "outputId": "39750f6b-6e9a-4671-8904-482a8a9643a6"
   },
   "outputs": [
    {
     "data": {
      "text/html": [
       "<style type=\"text/css\">\n",
       "#T_c3f23_row0_col0, #T_c3f23_row1_col1, #T_c3f23_row2_col2, #T_c3f23_row3_col3, #T_c3f23_row4_col4, #T_c3f23_row5_col5 {\n",
       "  background-color: #006837;\n",
       "  color: #f1f1f1;\n",
       "}\n",
       "#T_c3f23_row0_col1 {\n",
       "  background-color: #f7844e;\n",
       "  color: #f1f1f1;\n",
       "}\n",
       "#T_c3f23_row0_col2, #T_c3f23_row2_col0 {\n",
       "  background-color: #e2f397;\n",
       "  color: #000000;\n",
       "}\n",
       "#T_c3f23_row0_col3, #T_c3f23_row2_col3, #T_c3f23_row5_col4 {\n",
       "  background-color: #fb9d59;\n",
       "  color: #000000;\n",
       "}\n",
       "#T_c3f23_row0_col4 {\n",
       "  background-color: #60ba62;\n",
       "  color: #f1f1f1;\n",
       "}\n",
       "#T_c3f23_row0_col5, #T_c3f23_row2_col5 {\n",
       "  background-color: #fecc7b;\n",
       "  color: #000000;\n",
       "}\n",
       "#T_c3f23_row1_col0 {\n",
       "  background-color: #fa9656;\n",
       "  color: #000000;\n",
       "}\n",
       "#T_c3f23_row1_col2 {\n",
       "  background-color: #fed07e;\n",
       "  color: #000000;\n",
       "}\n",
       "#T_c3f23_row1_col3 {\n",
       "  background-color: #fee695;\n",
       "  color: #000000;\n",
       "}\n",
       "#T_c3f23_row1_col4 {\n",
       "  background-color: #fdbb6c;\n",
       "  color: #000000;\n",
       "}\n",
       "#T_c3f23_row1_col5 {\n",
       "  background-color: #fdaf62;\n",
       "  color: #000000;\n",
       "}\n",
       "#T_c3f23_row2_col1 {\n",
       "  background-color: #fdc574;\n",
       "  color: #000000;\n",
       "}\n",
       "#T_c3f23_row2_col4 {\n",
       "  background-color: #d3ec87;\n",
       "  color: #000000;\n",
       "}\n",
       "#T_c3f23_row3_col0, #T_c3f23_row3_col2, #T_c3f23_row3_col4, #T_c3f23_row3_col5, #T_c3f23_row5_col1, #T_c3f23_row5_col3 {\n",
       "  background-color: #a50026;\n",
       "  color: #f1f1f1;\n",
       "}\n",
       "#T_c3f23_row3_col1 {\n",
       "  background-color: #eb5a3a;\n",
       "  color: #f1f1f1;\n",
       "}\n",
       "#T_c3f23_row4_col0 {\n",
       "  background-color: #6ec064;\n",
       "  color: #000000;\n",
       "}\n",
       "#T_c3f23_row4_col1 {\n",
       "  background-color: #f7814c;\n",
       "  color: #f1f1f1;\n",
       "}\n",
       "#T_c3f23_row4_col2 {\n",
       "  background-color: #e3f399;\n",
       "  color: #000000;\n",
       "}\n",
       "#T_c3f23_row4_col3 {\n",
       "  background-color: #f47044;\n",
       "  color: #f1f1f1;\n",
       "}\n",
       "#T_c3f23_row4_col5 {\n",
       "  background-color: #fee797;\n",
       "  color: #000000;\n",
       "}\n",
       "#T_c3f23_row5_col0, #T_c3f23_row5_col2 {\n",
       "  background-color: #dc3b2c;\n",
       "  color: #f1f1f1;\n",
       "}\n",
       "</style>\n",
       "<table id=\"T_c3f23\">\n",
       "  <thead>\n",
       "    <tr>\n",
       "      <th class=\"blank level0\" >&nbsp;</th>\n",
       "      <th id=\"T_c3f23_level0_col0\" class=\"col_heading level0 col0\" >ExtraTrees</th>\n",
       "      <th id=\"T_c3f23_level0_col1\" class=\"col_heading level0 col1\" >XGBoost</th>\n",
       "      <th id=\"T_c3f23_level0_col2\" class=\"col_heading level0 col2\" >LightGBM</th>\n",
       "      <th id=\"T_c3f23_level0_col3\" class=\"col_heading level0 col3\" >CatBoost</th>\n",
       "      <th id=\"T_c3f23_level0_col4\" class=\"col_heading level0 col4\" >Random_forest</th>\n",
       "      <th id=\"T_c3f23_level0_col5\" class=\"col_heading level0 col5\" >Tabular_network</th>\n",
       "    </tr>\n",
       "  </thead>\n",
       "  <tbody>\n",
       "    <tr>\n",
       "      <th id=\"T_c3f23_level0_row0\" class=\"row_heading level0 row0\" >ExtraTrees</th>\n",
       "      <td id=\"T_c3f23_row0_col0\" class=\"data row0 col0\" >1.000000</td>\n",
       "      <td id=\"T_c3f23_row0_col1\" class=\"data row0 col1\" >0.827543</td>\n",
       "      <td id=\"T_c3f23_row0_col2\" class=\"data row0 col2\" >0.900528</td>\n",
       "      <td id=\"T_c3f23_row0_col3\" class=\"data row0 col3\" >0.766292</td>\n",
       "      <td id=\"T_c3f23_row0_col4\" class=\"data row0 col4\" >0.950166</td>\n",
       "      <td id=\"T_c3f23_row0_col5\" class=\"data row0 col5\" >0.794027</td>\n",
       "    </tr>\n",
       "    <tr>\n",
       "      <th id=\"T_c3f23_level0_row1\" class=\"row_heading level0 row1\" >XGBoost</th>\n",
       "      <td id=\"T_c3f23_row1_col0\" class=\"data row1 col0\" >0.827543</td>\n",
       "      <td id=\"T_c3f23_row1_col1\" class=\"data row1 col1\" >1.000000</td>\n",
       "      <td id=\"T_c3f23_row1_col2\" class=\"data row1 col2\" >0.852224</td>\n",
       "      <td id=\"T_c3f23_row1_col3\" class=\"data row1 col3\" >0.813269</td>\n",
       "      <td id=\"T_c3f23_row1_col4\" class=\"data row1 col4\" >0.827043</td>\n",
       "      <td id=\"T_c3f23_row1_col5\" class=\"data row1 col5\" >0.774673</td>\n",
       "    </tr>\n",
       "    <tr>\n",
       "      <th id=\"T_c3f23_level0_row2\" class=\"row_heading level0 row2\" >LightGBM</th>\n",
       "      <td id=\"T_c3f23_row2_col0\" class=\"data row2 col0\" >0.900528</td>\n",
       "      <td id=\"T_c3f23_row2_col1\" class=\"data row2 col1\" >0.852224</td>\n",
       "      <td id=\"T_c3f23_row2_col2\" class=\"data row2 col2\" >1.000000</td>\n",
       "      <td id=\"T_c3f23_row2_col3\" class=\"data row2 col3\" >0.766292</td>\n",
       "      <td id=\"T_c3f23_row2_col4\" class=\"data row2 col4\" >0.900017</td>\n",
       "      <td id=\"T_c3f23_row2_col5\" class=\"data row2 col5\" >0.794027</td>\n",
       "    </tr>\n",
       "    <tr>\n",
       "      <th id=\"T_c3f23_level0_row3\" class=\"row_heading level0 row3\" >CatBoost</th>\n",
       "      <td id=\"T_c3f23_row3_col0\" class=\"data row3 col0\" >0.766292</td>\n",
       "      <td id=\"T_c3f23_row3_col1\" class=\"data row3 col1\" >0.813269</td>\n",
       "      <td id=\"T_c3f23_row3_col2\" class=\"data row3 col2\" >0.766292</td>\n",
       "      <td id=\"T_c3f23_row3_col3\" class=\"data row3 col3\" >1.000000</td>\n",
       "      <td id=\"T_c3f23_row3_col4\" class=\"data row3 col4\" >0.743336</td>\n",
       "      <td id=\"T_c3f23_row3_col5\" class=\"data row3 col5\" >0.677590</td>\n",
       "    </tr>\n",
       "    <tr>\n",
       "      <th id=\"T_c3f23_level0_row4\" class=\"row_heading level0 row4\" >Random_forest</th>\n",
       "      <td id=\"T_c3f23_row4_col0\" class=\"data row4 col0\" >0.950166</td>\n",
       "      <td id=\"T_c3f23_row4_col1\" class=\"data row4 col1\" >0.827043</td>\n",
       "      <td id=\"T_c3f23_row4_col2\" class=\"data row4 col2\" >0.900017</td>\n",
       "      <td id=\"T_c3f23_row4_col3\" class=\"data row4 col3\" >0.743336</td>\n",
       "      <td id=\"T_c3f23_row4_col4\" class=\"data row4 col4\" >1.000000</td>\n",
       "      <td id=\"T_c3f23_row4_col5\" class=\"data row4 col5\" >0.814187</td>\n",
       "    </tr>\n",
       "    <tr>\n",
       "      <th id=\"T_c3f23_level0_row5\" class=\"row_heading level0 row5\" >Tabular_network</th>\n",
       "      <td id=\"T_c3f23_row5_col0\" class=\"data row5 col0\" >0.794027</td>\n",
       "      <td id=\"T_c3f23_row5_col1\" class=\"data row5 col1\" >0.774673</td>\n",
       "      <td id=\"T_c3f23_row5_col2\" class=\"data row5 col2\" >0.794027</td>\n",
       "      <td id=\"T_c3f23_row5_col3\" class=\"data row5 col3\" >0.677590</td>\n",
       "      <td id=\"T_c3f23_row5_col4\" class=\"data row5 col4\" >0.814187</td>\n",
       "      <td id=\"T_c3f23_row5_col5\" class=\"data row5 col5\" >1.000000</td>\n",
       "    </tr>\n",
       "  </tbody>\n",
       "</table>\n"
      ],
      "text/plain": [
       "<pandas.io.formats.style.Styler at 0x267275cc4d0>"
      ]
     },
     "execution_count": 24,
     "metadata": {},
     "output_type": "execute_result"
    }
   ],
   "source": [
    "corr_df.corr().style.background_gradient(cmap=\"RdYlGn\")"
   ]
  },
  {
   "cell_type": "code",
   "execution_count": 25,
   "metadata": {
    "execution": {
     "iopub.execute_input": "2025-01-03T12:57:53.759803Z",
     "iopub.status.busy": "2025-01-03T12:57:53.759537Z",
     "iopub.status.idle": "2025-01-03T12:57:57.529560Z",
     "shell.execute_reply": "2025-01-03T12:57:57.528402Z",
     "shell.execute_reply.started": "2025-01-03T12:57:53.759776Z"
    },
    "id": "b2683c31-d7f0-4f16-ad9f-67ece32f5d70",
    "outputId": "e3970074-1990-4139-af3d-61b0c1d6c0e6"
   },
   "outputs": [
    {
     "name": "stdout",
     "output_type": "stream",
     "text": [
      "ensemble score: 0.843575\n"
     ]
    }
   ],
   "source": [
    "print('ensemble score:', round(accuracy_score(stacking_classifier.predict(X_valid), y_valid), 6))"
   ]
  },
  {
   "cell_type": "code",
   "execution_count": 26,
   "metadata": {},
   "outputs": [],
   "source": [
    "test_df.reset_index(names='PassengerId', inplace=True)\n",
    "\n",
    "test = test_df[model_columns].drop(columns=['PassengerId'], errors='ignore').copy()"
   ]
  },
  {
   "cell_type": "code",
   "execution_count": 27,
   "metadata": {},
   "outputs": [],
   "source": [
    "max_num = get_max_num()"
   ]
  },
  {
   "cell_type": "code",
   "execution_count": 28,
   "metadata": {},
   "outputs": [],
   "source": [
    "submit_prefix = 'sc_'\n",
    "predict_test = stacking_classifier.predict(test)\n",
    "\n",
    "# Сохранение предсказаний в файл\n",
    "submit_csv = f'{submit_prefix}submit_{max_num:03}{LOCAL_FILE}.csv'\n",
    "file_submit_csv = PREDICTIONS_DIR.joinpath(submit_csv)\n",
    "submission = pd.DataFrame({'PassengerId': test_df['PassengerId'],\n",
    "                           'Survived': predict_test.flatten()})\n",
    "submission.to_csv(file_submit_csv, index=False)"
   ]
  },
  {
   "cell_type": "code",
   "execution_count": 29,
   "metadata": {
    "execution": {
     "iopub.execute_input": "2025-01-03T13:08:25.271489Z",
     "iopub.status.busy": "2025-01-03T13:08:25.271093Z",
     "iopub.status.idle": "2025-01-03T13:09:57.200171Z",
     "shell.execute_reply": "2025-01-03T13:09:57.199009Z",
     "shell.execute_reply.started": "2025-01-03T13:08:25.271456Z"
    },
    "id": "f91223b7-e4c6-427b-9e71-cd38992f8d15"
   },
   "outputs": [
    {
     "name": "stdout",
     "output_type": "stream",
     "text": [
      "ensemble score: 0.871508\n"
     ]
    }
   ],
   "source": [
    "# Random_forest сильно коррелирует с другими моделями, поэтому он снижает качество ансамбля.\n",
    "# Попробуем его убрать\n",
    "\n",
    "# список базовых моделей\n",
    "estimators = [\n",
    "\n",
    "#     (\"ExtraTrees\",  make_pipeline(preprocessor, ExtraTreesClassifier(**params_et))),\n",
    "    \n",
    "    (\"XGBoost\", xgb_model),\n",
    "    \n",
    "#     (\"LightGBM\", lgbm_model),\n",
    "    \n",
    "    (\"CatBoost\", cat_model),\n",
    "    \n",
    "    (\"Random_forest\",  make_pipeline(preprocessor, RandomForestClassifier(**params_rf))),\n",
    "    \n",
    "#     (\"Tabular_network\",  make_pipeline(preprocessor, TabularClassifier(**params_nn))),    \n",
    "\n",
    "]\n",
    "\n",
    "\n",
    "# в качестве мета-модели будем использовать LogisticRegression\n",
    "meta_model = StackingClassifier(\n",
    "    estimators=estimators,\n",
    "    final_estimator=LogisticRegression(verbose=False),\n",
    "    # final_estimator=RandomForestClassifier(n_estimators = 10_000,\n",
    "                                           # max_depth = 5,\n",
    "                                           # verbose=False),\n",
    "    n_jobs=-1,\n",
    "    verbose=False,\n",
    ")\n",
    "\n",
    "meta_model.fit(X_train, y_train)\n",
    "\n",
    "print('ensemble score:', round(accuracy_score(meta_model.predict(X_valid), y_valid), 6))\n",
    "\n",
    "# Без Random_forest:              0.877095\n",
    "# Без ExtraTrees:                 0.860335\n",
    "# Без ExtraTrees и Random_forest: 0.860335"
   ]
  },
  {
   "cell_type": "code",
   "execution_count": 30,
   "metadata": {},
   "outputs": [],
   "source": [
    "submit_prefix = 'mm_'\n",
    "predict_testm = meta_model.predict(test)\n",
    "\n",
    "# Сохранение предсказаний в файл\n",
    "submit_csv = f'{submit_prefix}submit_{max_num:03}{LOCAL_FILE}.csv'\n",
    "file_submit_csv = PREDICTIONS_DIR.joinpath(submit_csv)\n",
    "submission = pd.DataFrame({'PassengerId': test_df['PassengerId'],\n",
    "                           'Survived': predict_testm.flatten()})\n",
    "submission.to_csv(file_submit_csv, index=False)"
   ]
  },
  {
   "cell_type": "markdown",
   "metadata": {
    "id": "d25287b1-385c-4d27-b25a-c03833cb72a2"
   },
   "source": [
    "# Комментарии\n",
    "\n",
    "* 📈 Да, скор ансамбля вырос, но есть много **\"но\"** у этой реализации\n",
    "* ⚠️ Тут в качестве мета-модели использовалась `LogisticRegression`, что по сути является обычным блендингом, но с кросс-валидацией.\n",
    "* 🧩 Слабые или похожие модели мешают ансамблю поднять скор (Если убрать `RandomForest` скор поднимется)\n",
    "* 🍏 Стекинг можно усложнить, подавая мета-модели еще признаки при этом используя более сложную meta-модедь.\n",
    "* 🤔 Тогда в зависимости от свойств объекта, мета модели, такие как `RandomForestClassifier` могут принимать решение оптимальнее.\n",
    "* ☹️ В рамках `pipeline` в `Sklearn` это сделать сложнее. Надо взять что-то другое."
   ]
  },
  {
   "cell_type": "markdown",
   "metadata": {
    "id": "105f7916-ac2a-4baa-9d91-ebdecd23808f"
   },
   "source": [
    "* Не все можно запихнуть в `pipeline`. Например `eval_set` для `early-stopping`а или класс `train` от `LightGBM`"
   ]
  },
  {
   "cell_type": "markdown",
   "metadata": {
    "id": "cc6a60fb-a77b-4f71-9ed6-413638b842d5"
   },
   "source": [
    "# <center> 📚 Дополнительная литература\n",
    "- [Статья Александра Дьяконова про Стекинг и Блендинг](https://alexanderdyakonov.wordpress.com/2017/03/10/c%D1%82%D0%B5%D0%BA%D0%B8%D0%BD%D0%B3-stacking-%D0%B8-%D0%B1%D0%BB%D0%B5%D0%BD%D0%B4%D0%B8%D0%BD%D0%B3-blending/)\n",
    "- [Пример решения, где  `LigthGBM` в качестве мета модели](https://www.youtube.com/watch?v=aMlpeDOjib8)"
   ]
  }
 ],
 "metadata": {
  "colab": {
   "provenance": []
  },
  "kaggle": {
   "accelerator": "none",
   "dataSources": [],
   "dockerImageVersionId": 30786,
   "isGpuEnabled": false,
   "isInternetEnabled": true,
   "language": "python",
   "sourceType": "notebook"
  },
  "kernelspec": {
   "display_name": "Python 3 (ipykernel)",
   "language": "python",
   "name": "python3"
  },
  "language_info": {
   "codemirror_mode": {
    "name": "ipython",
    "version": 3
   },
   "file_extension": ".py",
   "mimetype": "text/x-python",
   "name": "python",
   "nbconvert_exporter": "python",
   "pygments_lexer": "ipython3",
   "version": "3.11.5"
  }
 },
 "nbformat": 4,
 "nbformat_minor": 4
}
