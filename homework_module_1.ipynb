{
  "cells": [
    {
      "cell_type": "markdown",
      "metadata": {
        "id": "view-in-github",
        "colab_type": "text"
      },
      "source": [
        "<a href=\"https://colab.research.google.com/github/saspav/titanic/blob/master/homework_module_1.ipynb\" target=\"_parent\"><img src=\"https://colab.research.google.com/assets/colab-badge.svg\" alt=\"Open In Colab\"/></a>"
      ]
    },
    {
      "cell_type": "markdown",
      "metadata": {
        "id": "6DZEWMGO16C9"
      },
      "source": [
        "# Домашнее задание. Титаник\n",
        "\n",
        "https://stepik.org/lesson/393048/step/1?unit=382065\n",
        "\n",
        "В этом домашнем задании вам предлагается решить задачу предсказания выживших пассажиров Титаника. Эту задачу машинного обучения рано или поздно решает, наверное, любой, кто обучается анализу данных. Информация о датасете доступна по <a href=https://www.kaggle.com/c/titanic>ссылке</a>.\n",
        "\n",
        "Кстати, здесь же есть много готовых решений нашей задачи. Решение можно посмотреть в разделе <a href=https://www.kaggle.com/c/titanic/code>code на kaggle</a>.\n",
        "\n",
        "Некоторые решения, которые уже есть:\n",
        "https://www.kaggle.com/hacktech33/titanic-solution-xgboost (простое решение)\n",
        "\n",
        "https://www.kaggle.com/shrutijhaa/in-top-3-titanic-machine-learning-from-disaster (возможно, слишком много визуализации, но хорошее качество)\n",
        "\n",
        "https://www.kaggle.com/blackhurt/top-3-using-voting-classifier (сильное решение, использует метод простого голосования трёх сильных моделей)"
      ]
    },
    {
      "cell_type": "code",
      "source": [
        "!pip install scikit_learn==1.3.2 -q\n",
        "!pip install catboost==1.2.7 -q\n",
        "!pip install featuretools==1.31.0 -q\n",
        "!pip install optuna==4.1.0 -q\n",
        "!pip install optuna-integration==4.1.0 -q\n",
        "\n",
        "# Загруза датасета\n",
        "!wget -q https://raw.githubusercontent.com/saspav/titanic/refs/heads/master/data/test.csv\n",
        "!wget -q https://raw.githubusercontent.com/saspav/titanic/refs/heads/master/data/train.csv\n",
        "!wget -q https://raw.githubusercontent.com/saspav/titanic/refs/heads/master/data/titanic_data.csv\n",
        "!wget -q https://raw.githubusercontent.com/saspav/titanic/refs/heads/master/data/titanic_surv.csv"
      ],
      "metadata": {
        "id": "msSnFMFdMJTS"
      },
      "execution_count": 40,
      "outputs": []
    },
    {
      "cell_type": "code",
      "execution_count": 41,
      "metadata": {
        "id": "F_a8jZs316DB"
      },
      "outputs": [],
      "source": [
        "import numpy as np\n",
        "import pandas as pd\n",
        "import matplotlib.pyplot as plt\n",
        "import seaborn as sns\n",
        "import warnings\n",
        "\n",
        "from IPython.display import display # импортируем метод display для вывода таблиц\n",
        "\n",
        "plt.rcParams[\"figure.figsize\"] = (16, 6)\n",
        "# Установим опции, которые помогут привести таблицу к желаемому виду\n",
        "pd.set_option('display.max_columns', None) # реализуем возможность вывода всех столбцов на экран\n",
        "pd.set_option('display.float_format', '{:.3f}'.format) # реализуем возможность вывода значений float до 3 знаков после запятой\n",
        "\n",
        "warnings.filterwarnings(\"ignore\")\n",
        "\n",
        "%matplotlib inline"
      ]
    },
    {
      "cell_type": "code",
      "execution_count": 42,
      "metadata": {
        "colab": {
          "base_uri": "https://localhost:8080/"
        },
        "id": "ZxvvquzWLfN3",
        "outputId": "c676ddda-16cc-4377-a706-ff606253c918"
      },
      "outputs": [
        {
          "output_type": "execute_result",
          "data": {
            "text/plain": [
              "('1.26.4', '2.2.2', '0.13.2')"
            ]
          },
          "metadata": {},
          "execution_count": 42
        }
      ],
      "source": [
        "np.__version__, pd.__version__, sns.__version__"
      ]
    },
    {
      "cell_type": "markdown",
      "metadata": {
        "id": "8blX9KAN16DC"
      },
      "source": [
        "## Загрузка данных\n",
        "\n",
        "Загрузим датасет Titanic из приложенных файлов. В первом файле находится информация о пассажирах, во втором -- информация о том, выжил пассажир или нет.\n",
        "\n",
        "Если вы запускаете ноутбук на Google Colab, самым простым способом загрузить данные в ноутбук будет примонтировать к Colab ваш Google Drive. Для этого сначала положите в свою корневую директорию Google Drive  файлы, приложенные к этому ноутбуку, а затем выполните три закоментированные строчки в клетке ниже. <a href=https://www.machinelearningmastery.ru/downloading-datasets-into-google-drive-via-google-colab-bcb1b30b0166/>Подробная инструкция по работе с Google Drive + Google Colab</a>"
      ]
    },
    {
      "cell_type": "code",
      "execution_count": 43,
      "metadata": {
        "id": "2hL8eJ4A16DC"
      },
      "outputs": [],
      "source": [
        "#from google.colab import drive\n",
        "#drive.mount('/content/gdrive/')\n",
        "#data = pd.read_csv('/content/gdrive/My Drive/titanic_data.csv, index_col='PassengerId')\n",
        "\n",
        "#Если запускаете ноутбук локально:\n",
        "data = pd.read_csv('titanic_data.csv', index_col='PassengerId')"
      ]
    },
    {
      "cell_type": "code",
      "execution_count": 44,
      "metadata": {
        "id": "dIEKQ5g716DD",
        "outputId": "62627a07-1b78-404a-b362-d1031ec1932f",
        "colab": {
          "base_uri": "https://localhost:8080/",
          "height": 255
        }
      },
      "outputs": [
        {
          "output_type": "stream",
          "name": "stdout",
          "text": [
            "Всего 891 пассажиров в выборке\n"
          ]
        },
        {
          "output_type": "execute_result",
          "data": {
            "text/plain": [
              "             Pclass                                               Name  \\\n",
              "PassengerId                                                              \n",
              "1                 3                            Braund, Mr. Owen Harris   \n",
              "2                 1  Cumings, Mrs. John Bradley (Florence Briggs Th...   \n",
              "3                 3                             Heikkinen, Miss. Laina   \n",
              "4                 1       Futrelle, Mrs. Jacques Heath (Lily May Peel)   \n",
              "5                 3                           Allen, Mr. William Henry   \n",
              "\n",
              "                Sex    Age  SibSp  Parch            Ticket   Fare Cabin  \\\n",
              "PassengerId                                                               \n",
              "1              male 22.000      1      0         A/5 21171  7.250   NaN   \n",
              "2            female 38.000      1      0          PC 17599 71.283   C85   \n",
              "3            female 26.000      0      0  STON/O2. 3101282  7.925   NaN   \n",
              "4            female 35.000      1      0            113803 53.100  C123   \n",
              "5              male 35.000      0      0            373450  8.050   NaN   \n",
              "\n",
              "            Embarked  \n",
              "PassengerId           \n",
              "1                  S  \n",
              "2                  C  \n",
              "3                  S  \n",
              "4                  S  \n",
              "5                  S  "
            ],
            "text/html": [
              "\n",
              "  <div id=\"df-78c00fb2-c857-4683-82fd-eb75865c1164\" class=\"colab-df-container\">\n",
              "    <div>\n",
              "<style scoped>\n",
              "    .dataframe tbody tr th:only-of-type {\n",
              "        vertical-align: middle;\n",
              "    }\n",
              "\n",
              "    .dataframe tbody tr th {\n",
              "        vertical-align: top;\n",
              "    }\n",
              "\n",
              "    .dataframe thead th {\n",
              "        text-align: right;\n",
              "    }\n",
              "</style>\n",
              "<table border=\"1\" class=\"dataframe\">\n",
              "  <thead>\n",
              "    <tr style=\"text-align: right;\">\n",
              "      <th></th>\n",
              "      <th>Pclass</th>\n",
              "      <th>Name</th>\n",
              "      <th>Sex</th>\n",
              "      <th>Age</th>\n",
              "      <th>SibSp</th>\n",
              "      <th>Parch</th>\n",
              "      <th>Ticket</th>\n",
              "      <th>Fare</th>\n",
              "      <th>Cabin</th>\n",
              "      <th>Embarked</th>\n",
              "    </tr>\n",
              "    <tr>\n",
              "      <th>PassengerId</th>\n",
              "      <th></th>\n",
              "      <th></th>\n",
              "      <th></th>\n",
              "      <th></th>\n",
              "      <th></th>\n",
              "      <th></th>\n",
              "      <th></th>\n",
              "      <th></th>\n",
              "      <th></th>\n",
              "      <th></th>\n",
              "    </tr>\n",
              "  </thead>\n",
              "  <tbody>\n",
              "    <tr>\n",
              "      <th>1</th>\n",
              "      <td>3</td>\n",
              "      <td>Braund, Mr. Owen Harris</td>\n",
              "      <td>male</td>\n",
              "      <td>22.000</td>\n",
              "      <td>1</td>\n",
              "      <td>0</td>\n",
              "      <td>A/5 21171</td>\n",
              "      <td>7.250</td>\n",
              "      <td>NaN</td>\n",
              "      <td>S</td>\n",
              "    </tr>\n",
              "    <tr>\n",
              "      <th>2</th>\n",
              "      <td>1</td>\n",
              "      <td>Cumings, Mrs. John Bradley (Florence Briggs Th...</td>\n",
              "      <td>female</td>\n",
              "      <td>38.000</td>\n",
              "      <td>1</td>\n",
              "      <td>0</td>\n",
              "      <td>PC 17599</td>\n",
              "      <td>71.283</td>\n",
              "      <td>C85</td>\n",
              "      <td>C</td>\n",
              "    </tr>\n",
              "    <tr>\n",
              "      <th>3</th>\n",
              "      <td>3</td>\n",
              "      <td>Heikkinen, Miss. Laina</td>\n",
              "      <td>female</td>\n",
              "      <td>26.000</td>\n",
              "      <td>0</td>\n",
              "      <td>0</td>\n",
              "      <td>STON/O2. 3101282</td>\n",
              "      <td>7.925</td>\n",
              "      <td>NaN</td>\n",
              "      <td>S</td>\n",
              "    </tr>\n",
              "    <tr>\n",
              "      <th>4</th>\n",
              "      <td>1</td>\n",
              "      <td>Futrelle, Mrs. Jacques Heath (Lily May Peel)</td>\n",
              "      <td>female</td>\n",
              "      <td>35.000</td>\n",
              "      <td>1</td>\n",
              "      <td>0</td>\n",
              "      <td>113803</td>\n",
              "      <td>53.100</td>\n",
              "      <td>C123</td>\n",
              "      <td>S</td>\n",
              "    </tr>\n",
              "    <tr>\n",
              "      <th>5</th>\n",
              "      <td>3</td>\n",
              "      <td>Allen, Mr. William Henry</td>\n",
              "      <td>male</td>\n",
              "      <td>35.000</td>\n",
              "      <td>0</td>\n",
              "      <td>0</td>\n",
              "      <td>373450</td>\n",
              "      <td>8.050</td>\n",
              "      <td>NaN</td>\n",
              "      <td>S</td>\n",
              "    </tr>\n",
              "  </tbody>\n",
              "</table>\n",
              "</div>\n",
              "    <div class=\"colab-df-buttons\">\n",
              "\n",
              "  <div class=\"colab-df-container\">\n",
              "    <button class=\"colab-df-convert\" onclick=\"convertToInteractive('df-78c00fb2-c857-4683-82fd-eb75865c1164')\"\n",
              "            title=\"Convert this dataframe to an interactive table.\"\n",
              "            style=\"display:none;\">\n",
              "\n",
              "  <svg xmlns=\"http://www.w3.org/2000/svg\" height=\"24px\" viewBox=\"0 -960 960 960\">\n",
              "    <path d=\"M120-120v-720h720v720H120Zm60-500h600v-160H180v160Zm220 220h160v-160H400v160Zm0 220h160v-160H400v160ZM180-400h160v-160H180v160Zm440 0h160v-160H620v160ZM180-180h160v-160H180v160Zm440 0h160v-160H620v160Z\"/>\n",
              "  </svg>\n",
              "    </button>\n",
              "\n",
              "  <style>\n",
              "    .colab-df-container {\n",
              "      display:flex;\n",
              "      gap: 12px;\n",
              "    }\n",
              "\n",
              "    .colab-df-convert {\n",
              "      background-color: #E8F0FE;\n",
              "      border: none;\n",
              "      border-radius: 50%;\n",
              "      cursor: pointer;\n",
              "      display: none;\n",
              "      fill: #1967D2;\n",
              "      height: 32px;\n",
              "      padding: 0 0 0 0;\n",
              "      width: 32px;\n",
              "    }\n",
              "\n",
              "    .colab-df-convert:hover {\n",
              "      background-color: #E2EBFA;\n",
              "      box-shadow: 0px 1px 2px rgba(60, 64, 67, 0.3), 0px 1px 3px 1px rgba(60, 64, 67, 0.15);\n",
              "      fill: #174EA6;\n",
              "    }\n",
              "\n",
              "    .colab-df-buttons div {\n",
              "      margin-bottom: 4px;\n",
              "    }\n",
              "\n",
              "    [theme=dark] .colab-df-convert {\n",
              "      background-color: #3B4455;\n",
              "      fill: #D2E3FC;\n",
              "    }\n",
              "\n",
              "    [theme=dark] .colab-df-convert:hover {\n",
              "      background-color: #434B5C;\n",
              "      box-shadow: 0px 1px 3px 1px rgba(0, 0, 0, 0.15);\n",
              "      filter: drop-shadow(0px 1px 2px rgba(0, 0, 0, 0.3));\n",
              "      fill: #FFFFFF;\n",
              "    }\n",
              "  </style>\n",
              "\n",
              "    <script>\n",
              "      const buttonEl =\n",
              "        document.querySelector('#df-78c00fb2-c857-4683-82fd-eb75865c1164 button.colab-df-convert');\n",
              "      buttonEl.style.display =\n",
              "        google.colab.kernel.accessAllowed ? 'block' : 'none';\n",
              "\n",
              "      async function convertToInteractive(key) {\n",
              "        const element = document.querySelector('#df-78c00fb2-c857-4683-82fd-eb75865c1164');\n",
              "        const dataTable =\n",
              "          await google.colab.kernel.invokeFunction('convertToInteractive',\n",
              "                                                    [key], {});\n",
              "        if (!dataTable) return;\n",
              "\n",
              "        const docLinkHtml = 'Like what you see? Visit the ' +\n",
              "          '<a target=\"_blank\" href=https://colab.research.google.com/notebooks/data_table.ipynb>data table notebook</a>'\n",
              "          + ' to learn more about interactive tables.';\n",
              "        element.innerHTML = '';\n",
              "        dataTable['output_type'] = 'display_data';\n",
              "        await google.colab.output.renderOutput(dataTable, element);\n",
              "        const docLink = document.createElement('div');\n",
              "        docLink.innerHTML = docLinkHtml;\n",
              "        element.appendChild(docLink);\n",
              "      }\n",
              "    </script>\n",
              "  </div>\n",
              "\n",
              "\n",
              "<div id=\"df-0f00b6d1-679d-4994-bf68-0fe20d43ab36\">\n",
              "  <button class=\"colab-df-quickchart\" onclick=\"quickchart('df-0f00b6d1-679d-4994-bf68-0fe20d43ab36')\"\n",
              "            title=\"Suggest charts\"\n",
              "            style=\"display:none;\">\n",
              "\n",
              "<svg xmlns=\"http://www.w3.org/2000/svg\" height=\"24px\"viewBox=\"0 0 24 24\"\n",
              "     width=\"24px\">\n",
              "    <g>\n",
              "        <path d=\"M19 3H5c-1.1 0-2 .9-2 2v14c0 1.1.9 2 2 2h14c1.1 0 2-.9 2-2V5c0-1.1-.9-2-2-2zM9 17H7v-7h2v7zm4 0h-2V7h2v10zm4 0h-2v-4h2v4z\"/>\n",
              "    </g>\n",
              "</svg>\n",
              "  </button>\n",
              "\n",
              "<style>\n",
              "  .colab-df-quickchart {\n",
              "      --bg-color: #E8F0FE;\n",
              "      --fill-color: #1967D2;\n",
              "      --hover-bg-color: #E2EBFA;\n",
              "      --hover-fill-color: #174EA6;\n",
              "      --disabled-fill-color: #AAA;\n",
              "      --disabled-bg-color: #DDD;\n",
              "  }\n",
              "\n",
              "  [theme=dark] .colab-df-quickchart {\n",
              "      --bg-color: #3B4455;\n",
              "      --fill-color: #D2E3FC;\n",
              "      --hover-bg-color: #434B5C;\n",
              "      --hover-fill-color: #FFFFFF;\n",
              "      --disabled-bg-color: #3B4455;\n",
              "      --disabled-fill-color: #666;\n",
              "  }\n",
              "\n",
              "  .colab-df-quickchart {\n",
              "    background-color: var(--bg-color);\n",
              "    border: none;\n",
              "    border-radius: 50%;\n",
              "    cursor: pointer;\n",
              "    display: none;\n",
              "    fill: var(--fill-color);\n",
              "    height: 32px;\n",
              "    padding: 0;\n",
              "    width: 32px;\n",
              "  }\n",
              "\n",
              "  .colab-df-quickchart:hover {\n",
              "    background-color: var(--hover-bg-color);\n",
              "    box-shadow: 0 1px 2px rgba(60, 64, 67, 0.3), 0 1px 3px 1px rgba(60, 64, 67, 0.15);\n",
              "    fill: var(--button-hover-fill-color);\n",
              "  }\n",
              "\n",
              "  .colab-df-quickchart-complete:disabled,\n",
              "  .colab-df-quickchart-complete:disabled:hover {\n",
              "    background-color: var(--disabled-bg-color);\n",
              "    fill: var(--disabled-fill-color);\n",
              "    box-shadow: none;\n",
              "  }\n",
              "\n",
              "  .colab-df-spinner {\n",
              "    border: 2px solid var(--fill-color);\n",
              "    border-color: transparent;\n",
              "    border-bottom-color: var(--fill-color);\n",
              "    animation:\n",
              "      spin 1s steps(1) infinite;\n",
              "  }\n",
              "\n",
              "  @keyframes spin {\n",
              "    0% {\n",
              "      border-color: transparent;\n",
              "      border-bottom-color: var(--fill-color);\n",
              "      border-left-color: var(--fill-color);\n",
              "    }\n",
              "    20% {\n",
              "      border-color: transparent;\n",
              "      border-left-color: var(--fill-color);\n",
              "      border-top-color: var(--fill-color);\n",
              "    }\n",
              "    30% {\n",
              "      border-color: transparent;\n",
              "      border-left-color: var(--fill-color);\n",
              "      border-top-color: var(--fill-color);\n",
              "      border-right-color: var(--fill-color);\n",
              "    }\n",
              "    40% {\n",
              "      border-color: transparent;\n",
              "      border-right-color: var(--fill-color);\n",
              "      border-top-color: var(--fill-color);\n",
              "    }\n",
              "    60% {\n",
              "      border-color: transparent;\n",
              "      border-right-color: var(--fill-color);\n",
              "    }\n",
              "    80% {\n",
              "      border-color: transparent;\n",
              "      border-right-color: var(--fill-color);\n",
              "      border-bottom-color: var(--fill-color);\n",
              "    }\n",
              "    90% {\n",
              "      border-color: transparent;\n",
              "      border-bottom-color: var(--fill-color);\n",
              "    }\n",
              "  }\n",
              "</style>\n",
              "\n",
              "  <script>\n",
              "    async function quickchart(key) {\n",
              "      const quickchartButtonEl =\n",
              "        document.querySelector('#' + key + ' button');\n",
              "      quickchartButtonEl.disabled = true;  // To prevent multiple clicks.\n",
              "      quickchartButtonEl.classList.add('colab-df-spinner');\n",
              "      try {\n",
              "        const charts = await google.colab.kernel.invokeFunction(\n",
              "            'suggestCharts', [key], {});\n",
              "      } catch (error) {\n",
              "        console.error('Error during call to suggestCharts:', error);\n",
              "      }\n",
              "      quickchartButtonEl.classList.remove('colab-df-spinner');\n",
              "      quickchartButtonEl.classList.add('colab-df-quickchart-complete');\n",
              "    }\n",
              "    (() => {\n",
              "      let quickchartButtonEl =\n",
              "        document.querySelector('#df-0f00b6d1-679d-4994-bf68-0fe20d43ab36 button');\n",
              "      quickchartButtonEl.style.display =\n",
              "        google.colab.kernel.accessAllowed ? 'block' : 'none';\n",
              "    })();\n",
              "  </script>\n",
              "</div>\n",
              "    </div>\n",
              "  </div>\n"
            ],
            "application/vnd.google.colaboratory.intrinsic+json": {
              "type": "dataframe",
              "variable_name": "data",
              "summary": "{\n  \"name\": \"data\",\n  \"rows\": 891,\n  \"fields\": [\n    {\n      \"column\": \"PassengerId\",\n      \"properties\": {\n        \"dtype\": \"number\",\n        \"std\": 257,\n        \"min\": 1,\n        \"max\": 891,\n        \"num_unique_values\": 891,\n        \"samples\": [\n          710,\n          440,\n          841\n        ],\n        \"semantic_type\": \"\",\n        \"description\": \"\"\n      }\n    },\n    {\n      \"column\": \"Pclass\",\n      \"properties\": {\n        \"dtype\": \"number\",\n        \"std\": 0,\n        \"min\": 1,\n        \"max\": 3,\n        \"num_unique_values\": 3,\n        \"samples\": [\n          3,\n          1,\n          2\n        ],\n        \"semantic_type\": \"\",\n        \"description\": \"\"\n      }\n    },\n    {\n      \"column\": \"Name\",\n      \"properties\": {\n        \"dtype\": \"string\",\n        \"num_unique_values\": 891,\n        \"samples\": [\n          \"Moubarek, Master. Halim Gonios (\\\"William George\\\")\",\n          \"Kvillner, Mr. Johan Henrik Johannesson\",\n          \"Alhomaki, Mr. Ilmari Rudolf\"\n        ],\n        \"semantic_type\": \"\",\n        \"description\": \"\"\n      }\n    },\n    {\n      \"column\": \"Sex\",\n      \"properties\": {\n        \"dtype\": \"category\",\n        \"num_unique_values\": 2,\n        \"samples\": [\n          \"female\",\n          \"male\"\n        ],\n        \"semantic_type\": \"\",\n        \"description\": \"\"\n      }\n    },\n    {\n      \"column\": \"Age\",\n      \"properties\": {\n        \"dtype\": \"number\",\n        \"std\": 14.526497332334044,\n        \"min\": 0.42,\n        \"max\": 80.0,\n        \"num_unique_values\": 88,\n        \"samples\": [\n          0.75,\n          22.0\n        ],\n        \"semantic_type\": \"\",\n        \"description\": \"\"\n      }\n    },\n    {\n      \"column\": \"SibSp\",\n      \"properties\": {\n        \"dtype\": \"number\",\n        \"std\": 1,\n        \"min\": 0,\n        \"max\": 8,\n        \"num_unique_values\": 7,\n        \"samples\": [\n          1,\n          0\n        ],\n        \"semantic_type\": \"\",\n        \"description\": \"\"\n      }\n    },\n    {\n      \"column\": \"Parch\",\n      \"properties\": {\n        \"dtype\": \"number\",\n        \"std\": 0,\n        \"min\": 0,\n        \"max\": 6,\n        \"num_unique_values\": 7,\n        \"samples\": [\n          0,\n          1\n        ],\n        \"semantic_type\": \"\",\n        \"description\": \"\"\n      }\n    },\n    {\n      \"column\": \"Ticket\",\n      \"properties\": {\n        \"dtype\": \"string\",\n        \"num_unique_values\": 681,\n        \"samples\": [\n          \"11774\",\n          \"248740\"\n        ],\n        \"semantic_type\": \"\",\n        \"description\": \"\"\n      }\n    },\n    {\n      \"column\": \"Fare\",\n      \"properties\": {\n        \"dtype\": \"number\",\n        \"std\": 49.693428597180905,\n        \"min\": 0.0,\n        \"max\": 512.3292,\n        \"num_unique_values\": 248,\n        \"samples\": [\n          11.2417,\n          51.8625\n        ],\n        \"semantic_type\": \"\",\n        \"description\": \"\"\n      }\n    },\n    {\n      \"column\": \"Cabin\",\n      \"properties\": {\n        \"dtype\": \"category\",\n        \"num_unique_values\": 147,\n        \"samples\": [\n          \"D45\",\n          \"B49\"\n        ],\n        \"semantic_type\": \"\",\n        \"description\": \"\"\n      }\n    },\n    {\n      \"column\": \"Embarked\",\n      \"properties\": {\n        \"dtype\": \"category\",\n        \"num_unique_values\": 3,\n        \"samples\": [\n          \"S\",\n          \"C\"\n        ],\n        \"semantic_type\": \"\",\n        \"description\": \"\"\n      }\n    }\n  ]\n}"
            }
          },
          "metadata": {},
          "execution_count": 44
        }
      ],
      "source": [
        "basic_features = data.columns\n",
        "\n",
        "y = pd.read_csv('titanic_surv.csv')\n",
        "y.index = data.index\n",
        "\n",
        "print(f'Всего {len(data)} пассажиров в выборке')\n",
        "data.head()"
      ]
    },
    {
      "cell_type": "code",
      "execution_count": 45,
      "metadata": {
        "id": "cQDv_Jty16DE",
        "outputId": "a175e944-cb18-4f4a-b944-2be6155f2531",
        "colab": {
          "base_uri": "https://localhost:8080/",
          "height": 238
        }
      },
      "outputs": [
        {
          "output_type": "execute_result",
          "data": {
            "text/plain": [
              "             Survived\n",
              "PassengerId          \n",
              "1                   0\n",
              "2                   1\n",
              "3                   1\n",
              "4                   1\n",
              "5                   0"
            ],
            "text/html": [
              "\n",
              "  <div id=\"df-0cfb6005-ea19-448d-a0a1-564239ffbb0a\" class=\"colab-df-container\">\n",
              "    <div>\n",
              "<style scoped>\n",
              "    .dataframe tbody tr th:only-of-type {\n",
              "        vertical-align: middle;\n",
              "    }\n",
              "\n",
              "    .dataframe tbody tr th {\n",
              "        vertical-align: top;\n",
              "    }\n",
              "\n",
              "    .dataframe thead th {\n",
              "        text-align: right;\n",
              "    }\n",
              "</style>\n",
              "<table border=\"1\" class=\"dataframe\">\n",
              "  <thead>\n",
              "    <tr style=\"text-align: right;\">\n",
              "      <th></th>\n",
              "      <th>Survived</th>\n",
              "    </tr>\n",
              "    <tr>\n",
              "      <th>PassengerId</th>\n",
              "      <th></th>\n",
              "    </tr>\n",
              "  </thead>\n",
              "  <tbody>\n",
              "    <tr>\n",
              "      <th>1</th>\n",
              "      <td>0</td>\n",
              "    </tr>\n",
              "    <tr>\n",
              "      <th>2</th>\n",
              "      <td>1</td>\n",
              "    </tr>\n",
              "    <tr>\n",
              "      <th>3</th>\n",
              "      <td>1</td>\n",
              "    </tr>\n",
              "    <tr>\n",
              "      <th>4</th>\n",
              "      <td>1</td>\n",
              "    </tr>\n",
              "    <tr>\n",
              "      <th>5</th>\n",
              "      <td>0</td>\n",
              "    </tr>\n",
              "  </tbody>\n",
              "</table>\n",
              "</div>\n",
              "    <div class=\"colab-df-buttons\">\n",
              "\n",
              "  <div class=\"colab-df-container\">\n",
              "    <button class=\"colab-df-convert\" onclick=\"convertToInteractive('df-0cfb6005-ea19-448d-a0a1-564239ffbb0a')\"\n",
              "            title=\"Convert this dataframe to an interactive table.\"\n",
              "            style=\"display:none;\">\n",
              "\n",
              "  <svg xmlns=\"http://www.w3.org/2000/svg\" height=\"24px\" viewBox=\"0 -960 960 960\">\n",
              "    <path d=\"M120-120v-720h720v720H120Zm60-500h600v-160H180v160Zm220 220h160v-160H400v160Zm0 220h160v-160H400v160ZM180-400h160v-160H180v160Zm440 0h160v-160H620v160ZM180-180h160v-160H180v160Zm440 0h160v-160H620v160Z\"/>\n",
              "  </svg>\n",
              "    </button>\n",
              "\n",
              "  <style>\n",
              "    .colab-df-container {\n",
              "      display:flex;\n",
              "      gap: 12px;\n",
              "    }\n",
              "\n",
              "    .colab-df-convert {\n",
              "      background-color: #E8F0FE;\n",
              "      border: none;\n",
              "      border-radius: 50%;\n",
              "      cursor: pointer;\n",
              "      display: none;\n",
              "      fill: #1967D2;\n",
              "      height: 32px;\n",
              "      padding: 0 0 0 0;\n",
              "      width: 32px;\n",
              "    }\n",
              "\n",
              "    .colab-df-convert:hover {\n",
              "      background-color: #E2EBFA;\n",
              "      box-shadow: 0px 1px 2px rgba(60, 64, 67, 0.3), 0px 1px 3px 1px rgba(60, 64, 67, 0.15);\n",
              "      fill: #174EA6;\n",
              "    }\n",
              "\n",
              "    .colab-df-buttons div {\n",
              "      margin-bottom: 4px;\n",
              "    }\n",
              "\n",
              "    [theme=dark] .colab-df-convert {\n",
              "      background-color: #3B4455;\n",
              "      fill: #D2E3FC;\n",
              "    }\n",
              "\n",
              "    [theme=dark] .colab-df-convert:hover {\n",
              "      background-color: #434B5C;\n",
              "      box-shadow: 0px 1px 3px 1px rgba(0, 0, 0, 0.15);\n",
              "      filter: drop-shadow(0px 1px 2px rgba(0, 0, 0, 0.3));\n",
              "      fill: #FFFFFF;\n",
              "    }\n",
              "  </style>\n",
              "\n",
              "    <script>\n",
              "      const buttonEl =\n",
              "        document.querySelector('#df-0cfb6005-ea19-448d-a0a1-564239ffbb0a button.colab-df-convert');\n",
              "      buttonEl.style.display =\n",
              "        google.colab.kernel.accessAllowed ? 'block' : 'none';\n",
              "\n",
              "      async function convertToInteractive(key) {\n",
              "        const element = document.querySelector('#df-0cfb6005-ea19-448d-a0a1-564239ffbb0a');\n",
              "        const dataTable =\n",
              "          await google.colab.kernel.invokeFunction('convertToInteractive',\n",
              "                                                    [key], {});\n",
              "        if (!dataTable) return;\n",
              "\n",
              "        const docLinkHtml = 'Like what you see? Visit the ' +\n",
              "          '<a target=\"_blank\" href=https://colab.research.google.com/notebooks/data_table.ipynb>data table notebook</a>'\n",
              "          + ' to learn more about interactive tables.';\n",
              "        element.innerHTML = '';\n",
              "        dataTable['output_type'] = 'display_data';\n",
              "        await google.colab.output.renderOutput(dataTable, element);\n",
              "        const docLink = document.createElement('div');\n",
              "        docLink.innerHTML = docLinkHtml;\n",
              "        element.appendChild(docLink);\n",
              "      }\n",
              "    </script>\n",
              "  </div>\n",
              "\n",
              "\n",
              "<div id=\"df-f414ed1c-369f-48c2-9e6d-0c21173077c8\">\n",
              "  <button class=\"colab-df-quickchart\" onclick=\"quickchart('df-f414ed1c-369f-48c2-9e6d-0c21173077c8')\"\n",
              "            title=\"Suggest charts\"\n",
              "            style=\"display:none;\">\n",
              "\n",
              "<svg xmlns=\"http://www.w3.org/2000/svg\" height=\"24px\"viewBox=\"0 0 24 24\"\n",
              "     width=\"24px\">\n",
              "    <g>\n",
              "        <path d=\"M19 3H5c-1.1 0-2 .9-2 2v14c0 1.1.9 2 2 2h14c1.1 0 2-.9 2-2V5c0-1.1-.9-2-2-2zM9 17H7v-7h2v7zm4 0h-2V7h2v10zm4 0h-2v-4h2v4z\"/>\n",
              "    </g>\n",
              "</svg>\n",
              "  </button>\n",
              "\n",
              "<style>\n",
              "  .colab-df-quickchart {\n",
              "      --bg-color: #E8F0FE;\n",
              "      --fill-color: #1967D2;\n",
              "      --hover-bg-color: #E2EBFA;\n",
              "      --hover-fill-color: #174EA6;\n",
              "      --disabled-fill-color: #AAA;\n",
              "      --disabled-bg-color: #DDD;\n",
              "  }\n",
              "\n",
              "  [theme=dark] .colab-df-quickchart {\n",
              "      --bg-color: #3B4455;\n",
              "      --fill-color: #D2E3FC;\n",
              "      --hover-bg-color: #434B5C;\n",
              "      --hover-fill-color: #FFFFFF;\n",
              "      --disabled-bg-color: #3B4455;\n",
              "      --disabled-fill-color: #666;\n",
              "  }\n",
              "\n",
              "  .colab-df-quickchart {\n",
              "    background-color: var(--bg-color);\n",
              "    border: none;\n",
              "    border-radius: 50%;\n",
              "    cursor: pointer;\n",
              "    display: none;\n",
              "    fill: var(--fill-color);\n",
              "    height: 32px;\n",
              "    padding: 0;\n",
              "    width: 32px;\n",
              "  }\n",
              "\n",
              "  .colab-df-quickchart:hover {\n",
              "    background-color: var(--hover-bg-color);\n",
              "    box-shadow: 0 1px 2px rgba(60, 64, 67, 0.3), 0 1px 3px 1px rgba(60, 64, 67, 0.15);\n",
              "    fill: var(--button-hover-fill-color);\n",
              "  }\n",
              "\n",
              "  .colab-df-quickchart-complete:disabled,\n",
              "  .colab-df-quickchart-complete:disabled:hover {\n",
              "    background-color: var(--disabled-bg-color);\n",
              "    fill: var(--disabled-fill-color);\n",
              "    box-shadow: none;\n",
              "  }\n",
              "\n",
              "  .colab-df-spinner {\n",
              "    border: 2px solid var(--fill-color);\n",
              "    border-color: transparent;\n",
              "    border-bottom-color: var(--fill-color);\n",
              "    animation:\n",
              "      spin 1s steps(1) infinite;\n",
              "  }\n",
              "\n",
              "  @keyframes spin {\n",
              "    0% {\n",
              "      border-color: transparent;\n",
              "      border-bottom-color: var(--fill-color);\n",
              "      border-left-color: var(--fill-color);\n",
              "    }\n",
              "    20% {\n",
              "      border-color: transparent;\n",
              "      border-left-color: var(--fill-color);\n",
              "      border-top-color: var(--fill-color);\n",
              "    }\n",
              "    30% {\n",
              "      border-color: transparent;\n",
              "      border-left-color: var(--fill-color);\n",
              "      border-top-color: var(--fill-color);\n",
              "      border-right-color: var(--fill-color);\n",
              "    }\n",
              "    40% {\n",
              "      border-color: transparent;\n",
              "      border-right-color: var(--fill-color);\n",
              "      border-top-color: var(--fill-color);\n",
              "    }\n",
              "    60% {\n",
              "      border-color: transparent;\n",
              "      border-right-color: var(--fill-color);\n",
              "    }\n",
              "    80% {\n",
              "      border-color: transparent;\n",
              "      border-right-color: var(--fill-color);\n",
              "      border-bottom-color: var(--fill-color);\n",
              "    }\n",
              "    90% {\n",
              "      border-color: transparent;\n",
              "      border-bottom-color: var(--fill-color);\n",
              "    }\n",
              "  }\n",
              "</style>\n",
              "\n",
              "  <script>\n",
              "    async function quickchart(key) {\n",
              "      const quickchartButtonEl =\n",
              "        document.querySelector('#' + key + ' button');\n",
              "      quickchartButtonEl.disabled = true;  // To prevent multiple clicks.\n",
              "      quickchartButtonEl.classList.add('colab-df-spinner');\n",
              "      try {\n",
              "        const charts = await google.colab.kernel.invokeFunction(\n",
              "            'suggestCharts', [key], {});\n",
              "      } catch (error) {\n",
              "        console.error('Error during call to suggestCharts:', error);\n",
              "      }\n",
              "      quickchartButtonEl.classList.remove('colab-df-spinner');\n",
              "      quickchartButtonEl.classList.add('colab-df-quickchart-complete');\n",
              "    }\n",
              "    (() => {\n",
              "      let quickchartButtonEl =\n",
              "        document.querySelector('#df-f414ed1c-369f-48c2-9e6d-0c21173077c8 button');\n",
              "      quickchartButtonEl.style.display =\n",
              "        google.colab.kernel.accessAllowed ? 'block' : 'none';\n",
              "    })();\n",
              "  </script>\n",
              "</div>\n",
              "    </div>\n",
              "  </div>\n"
            ],
            "application/vnd.google.colaboratory.intrinsic+json": {
              "type": "dataframe",
              "variable_name": "y",
              "summary": "{\n  \"name\": \"y\",\n  \"rows\": 891,\n  \"fields\": [\n    {\n      \"column\": \"PassengerId\",\n      \"properties\": {\n        \"dtype\": \"number\",\n        \"std\": 257,\n        \"min\": 1,\n        \"max\": 891,\n        \"num_unique_values\": 891,\n        \"samples\": [\n          710,\n          440,\n          841\n        ],\n        \"semantic_type\": \"\",\n        \"description\": \"\"\n      }\n    },\n    {\n      \"column\": \"Survived\",\n      \"properties\": {\n        \"dtype\": \"number\",\n        \"std\": 0,\n        \"min\": 0,\n        \"max\": 1,\n        \"num_unique_values\": 2,\n        \"samples\": [\n          1,\n          0\n        ],\n        \"semantic_type\": \"\",\n        \"description\": \"\"\n      }\n    }\n  ]\n}"
            }
          },
          "metadata": {},
          "execution_count": 45
        }
      ],
      "source": [
        "y.head()"
      ]
    },
    {
      "cell_type": "code",
      "execution_count": 46,
      "metadata": {
        "id": "R4_yv7cT16DE",
        "outputId": "1ad47f07-4d42-4760-8ad6-94dca05ab98e",
        "colab": {
          "base_uri": "https://localhost:8080/",
          "height": 238
        }
      },
      "outputs": [
        {
          "output_type": "execute_result",
          "data": {
            "text/plain": [
              "             Pclass                                               Name  \\\n",
              "PassengerId                                                              \n",
              "1                 3                            Braund, Mr. Owen Harris   \n",
              "2                 1  Cumings, Mrs. John Bradley (Florence Briggs Th...   \n",
              "3                 3                             Heikkinen, Miss. Laina   \n",
              "4                 1       Futrelle, Mrs. Jacques Heath (Lily May Peel)   \n",
              "5                 3                           Allen, Mr. William Henry   \n",
              "\n",
              "                Sex    Age  SibSp  Parch            Ticket   Fare Cabin  \\\n",
              "PassengerId                                                               \n",
              "1              male 22.000      1      0         A/5 21171  7.250   NaN   \n",
              "2            female 38.000      1      0          PC 17599 71.283   C85   \n",
              "3            female 26.000      0      0  STON/O2. 3101282  7.925   NaN   \n",
              "4            female 35.000      1      0            113803 53.100  C123   \n",
              "5              male 35.000      0      0            373450  8.050   NaN   \n",
              "\n",
              "            Embarked  Survived  \n",
              "PassengerId                     \n",
              "1                  S         0  \n",
              "2                  C         1  \n",
              "3                  S         1  \n",
              "4                  S         1  \n",
              "5                  S         0  "
            ],
            "text/html": [
              "\n",
              "  <div id=\"df-d0abb67c-25bd-416e-9b2c-3aad5f0eb219\" class=\"colab-df-container\">\n",
              "    <div>\n",
              "<style scoped>\n",
              "    .dataframe tbody tr th:only-of-type {\n",
              "        vertical-align: middle;\n",
              "    }\n",
              "\n",
              "    .dataframe tbody tr th {\n",
              "        vertical-align: top;\n",
              "    }\n",
              "\n",
              "    .dataframe thead th {\n",
              "        text-align: right;\n",
              "    }\n",
              "</style>\n",
              "<table border=\"1\" class=\"dataframe\">\n",
              "  <thead>\n",
              "    <tr style=\"text-align: right;\">\n",
              "      <th></th>\n",
              "      <th>Pclass</th>\n",
              "      <th>Name</th>\n",
              "      <th>Sex</th>\n",
              "      <th>Age</th>\n",
              "      <th>SibSp</th>\n",
              "      <th>Parch</th>\n",
              "      <th>Ticket</th>\n",
              "      <th>Fare</th>\n",
              "      <th>Cabin</th>\n",
              "      <th>Embarked</th>\n",
              "      <th>Survived</th>\n",
              "    </tr>\n",
              "    <tr>\n",
              "      <th>PassengerId</th>\n",
              "      <th></th>\n",
              "      <th></th>\n",
              "      <th></th>\n",
              "      <th></th>\n",
              "      <th></th>\n",
              "      <th></th>\n",
              "      <th></th>\n",
              "      <th></th>\n",
              "      <th></th>\n",
              "      <th></th>\n",
              "      <th></th>\n",
              "    </tr>\n",
              "  </thead>\n",
              "  <tbody>\n",
              "    <tr>\n",
              "      <th>1</th>\n",
              "      <td>3</td>\n",
              "      <td>Braund, Mr. Owen Harris</td>\n",
              "      <td>male</td>\n",
              "      <td>22.000</td>\n",
              "      <td>1</td>\n",
              "      <td>0</td>\n",
              "      <td>A/5 21171</td>\n",
              "      <td>7.250</td>\n",
              "      <td>NaN</td>\n",
              "      <td>S</td>\n",
              "      <td>0</td>\n",
              "    </tr>\n",
              "    <tr>\n",
              "      <th>2</th>\n",
              "      <td>1</td>\n",
              "      <td>Cumings, Mrs. John Bradley (Florence Briggs Th...</td>\n",
              "      <td>female</td>\n",
              "      <td>38.000</td>\n",
              "      <td>1</td>\n",
              "      <td>0</td>\n",
              "      <td>PC 17599</td>\n",
              "      <td>71.283</td>\n",
              "      <td>C85</td>\n",
              "      <td>C</td>\n",
              "      <td>1</td>\n",
              "    </tr>\n",
              "    <tr>\n",
              "      <th>3</th>\n",
              "      <td>3</td>\n",
              "      <td>Heikkinen, Miss. Laina</td>\n",
              "      <td>female</td>\n",
              "      <td>26.000</td>\n",
              "      <td>0</td>\n",
              "      <td>0</td>\n",
              "      <td>STON/O2. 3101282</td>\n",
              "      <td>7.925</td>\n",
              "      <td>NaN</td>\n",
              "      <td>S</td>\n",
              "      <td>1</td>\n",
              "    </tr>\n",
              "    <tr>\n",
              "      <th>4</th>\n",
              "      <td>1</td>\n",
              "      <td>Futrelle, Mrs. Jacques Heath (Lily May Peel)</td>\n",
              "      <td>female</td>\n",
              "      <td>35.000</td>\n",
              "      <td>1</td>\n",
              "      <td>0</td>\n",
              "      <td>113803</td>\n",
              "      <td>53.100</td>\n",
              "      <td>C123</td>\n",
              "      <td>S</td>\n",
              "      <td>1</td>\n",
              "    </tr>\n",
              "    <tr>\n",
              "      <th>5</th>\n",
              "      <td>3</td>\n",
              "      <td>Allen, Mr. William Henry</td>\n",
              "      <td>male</td>\n",
              "      <td>35.000</td>\n",
              "      <td>0</td>\n",
              "      <td>0</td>\n",
              "      <td>373450</td>\n",
              "      <td>8.050</td>\n",
              "      <td>NaN</td>\n",
              "      <td>S</td>\n",
              "      <td>0</td>\n",
              "    </tr>\n",
              "  </tbody>\n",
              "</table>\n",
              "</div>\n",
              "    <div class=\"colab-df-buttons\">\n",
              "\n",
              "  <div class=\"colab-df-container\">\n",
              "    <button class=\"colab-df-convert\" onclick=\"convertToInteractive('df-d0abb67c-25bd-416e-9b2c-3aad5f0eb219')\"\n",
              "            title=\"Convert this dataframe to an interactive table.\"\n",
              "            style=\"display:none;\">\n",
              "\n",
              "  <svg xmlns=\"http://www.w3.org/2000/svg\" height=\"24px\" viewBox=\"0 -960 960 960\">\n",
              "    <path d=\"M120-120v-720h720v720H120Zm60-500h600v-160H180v160Zm220 220h160v-160H400v160Zm0 220h160v-160H400v160ZM180-400h160v-160H180v160Zm440 0h160v-160H620v160ZM180-180h160v-160H180v160Zm440 0h160v-160H620v160Z\"/>\n",
              "  </svg>\n",
              "    </button>\n",
              "\n",
              "  <style>\n",
              "    .colab-df-container {\n",
              "      display:flex;\n",
              "      gap: 12px;\n",
              "    }\n",
              "\n",
              "    .colab-df-convert {\n",
              "      background-color: #E8F0FE;\n",
              "      border: none;\n",
              "      border-radius: 50%;\n",
              "      cursor: pointer;\n",
              "      display: none;\n",
              "      fill: #1967D2;\n",
              "      height: 32px;\n",
              "      padding: 0 0 0 0;\n",
              "      width: 32px;\n",
              "    }\n",
              "\n",
              "    .colab-df-convert:hover {\n",
              "      background-color: #E2EBFA;\n",
              "      box-shadow: 0px 1px 2px rgba(60, 64, 67, 0.3), 0px 1px 3px 1px rgba(60, 64, 67, 0.15);\n",
              "      fill: #174EA6;\n",
              "    }\n",
              "\n",
              "    .colab-df-buttons div {\n",
              "      margin-bottom: 4px;\n",
              "    }\n",
              "\n",
              "    [theme=dark] .colab-df-convert {\n",
              "      background-color: #3B4455;\n",
              "      fill: #D2E3FC;\n",
              "    }\n",
              "\n",
              "    [theme=dark] .colab-df-convert:hover {\n",
              "      background-color: #434B5C;\n",
              "      box-shadow: 0px 1px 3px 1px rgba(0, 0, 0, 0.15);\n",
              "      filter: drop-shadow(0px 1px 2px rgba(0, 0, 0, 0.3));\n",
              "      fill: #FFFFFF;\n",
              "    }\n",
              "  </style>\n",
              "\n",
              "    <script>\n",
              "      const buttonEl =\n",
              "        document.querySelector('#df-d0abb67c-25bd-416e-9b2c-3aad5f0eb219 button.colab-df-convert');\n",
              "      buttonEl.style.display =\n",
              "        google.colab.kernel.accessAllowed ? 'block' : 'none';\n",
              "\n",
              "      async function convertToInteractive(key) {\n",
              "        const element = document.querySelector('#df-d0abb67c-25bd-416e-9b2c-3aad5f0eb219');\n",
              "        const dataTable =\n",
              "          await google.colab.kernel.invokeFunction('convertToInteractive',\n",
              "                                                    [key], {});\n",
              "        if (!dataTable) return;\n",
              "\n",
              "        const docLinkHtml = 'Like what you see? Visit the ' +\n",
              "          '<a target=\"_blank\" href=https://colab.research.google.com/notebooks/data_table.ipynb>data table notebook</a>'\n",
              "          + ' to learn more about interactive tables.';\n",
              "        element.innerHTML = '';\n",
              "        dataTable['output_type'] = 'display_data';\n",
              "        await google.colab.output.renderOutput(dataTable, element);\n",
              "        const docLink = document.createElement('div');\n",
              "        docLink.innerHTML = docLinkHtml;\n",
              "        element.appendChild(docLink);\n",
              "      }\n",
              "    </script>\n",
              "  </div>\n",
              "\n",
              "\n",
              "<div id=\"df-f28ed3cc-222b-4720-8fe1-9286d9d7b9ab\">\n",
              "  <button class=\"colab-df-quickchart\" onclick=\"quickchart('df-f28ed3cc-222b-4720-8fe1-9286d9d7b9ab')\"\n",
              "            title=\"Suggest charts\"\n",
              "            style=\"display:none;\">\n",
              "\n",
              "<svg xmlns=\"http://www.w3.org/2000/svg\" height=\"24px\"viewBox=\"0 0 24 24\"\n",
              "     width=\"24px\">\n",
              "    <g>\n",
              "        <path d=\"M19 3H5c-1.1 0-2 .9-2 2v14c0 1.1.9 2 2 2h14c1.1 0 2-.9 2-2V5c0-1.1-.9-2-2-2zM9 17H7v-7h2v7zm4 0h-2V7h2v10zm4 0h-2v-4h2v4z\"/>\n",
              "    </g>\n",
              "</svg>\n",
              "  </button>\n",
              "\n",
              "<style>\n",
              "  .colab-df-quickchart {\n",
              "      --bg-color: #E8F0FE;\n",
              "      --fill-color: #1967D2;\n",
              "      --hover-bg-color: #E2EBFA;\n",
              "      --hover-fill-color: #174EA6;\n",
              "      --disabled-fill-color: #AAA;\n",
              "      --disabled-bg-color: #DDD;\n",
              "  }\n",
              "\n",
              "  [theme=dark] .colab-df-quickchart {\n",
              "      --bg-color: #3B4455;\n",
              "      --fill-color: #D2E3FC;\n",
              "      --hover-bg-color: #434B5C;\n",
              "      --hover-fill-color: #FFFFFF;\n",
              "      --disabled-bg-color: #3B4455;\n",
              "      --disabled-fill-color: #666;\n",
              "  }\n",
              "\n",
              "  .colab-df-quickchart {\n",
              "    background-color: var(--bg-color);\n",
              "    border: none;\n",
              "    border-radius: 50%;\n",
              "    cursor: pointer;\n",
              "    display: none;\n",
              "    fill: var(--fill-color);\n",
              "    height: 32px;\n",
              "    padding: 0;\n",
              "    width: 32px;\n",
              "  }\n",
              "\n",
              "  .colab-df-quickchart:hover {\n",
              "    background-color: var(--hover-bg-color);\n",
              "    box-shadow: 0 1px 2px rgba(60, 64, 67, 0.3), 0 1px 3px 1px rgba(60, 64, 67, 0.15);\n",
              "    fill: var(--button-hover-fill-color);\n",
              "  }\n",
              "\n",
              "  .colab-df-quickchart-complete:disabled,\n",
              "  .colab-df-quickchart-complete:disabled:hover {\n",
              "    background-color: var(--disabled-bg-color);\n",
              "    fill: var(--disabled-fill-color);\n",
              "    box-shadow: none;\n",
              "  }\n",
              "\n",
              "  .colab-df-spinner {\n",
              "    border: 2px solid var(--fill-color);\n",
              "    border-color: transparent;\n",
              "    border-bottom-color: var(--fill-color);\n",
              "    animation:\n",
              "      spin 1s steps(1) infinite;\n",
              "  }\n",
              "\n",
              "  @keyframes spin {\n",
              "    0% {\n",
              "      border-color: transparent;\n",
              "      border-bottom-color: var(--fill-color);\n",
              "      border-left-color: var(--fill-color);\n",
              "    }\n",
              "    20% {\n",
              "      border-color: transparent;\n",
              "      border-left-color: var(--fill-color);\n",
              "      border-top-color: var(--fill-color);\n",
              "    }\n",
              "    30% {\n",
              "      border-color: transparent;\n",
              "      border-left-color: var(--fill-color);\n",
              "      border-top-color: var(--fill-color);\n",
              "      border-right-color: var(--fill-color);\n",
              "    }\n",
              "    40% {\n",
              "      border-color: transparent;\n",
              "      border-right-color: var(--fill-color);\n",
              "      border-top-color: var(--fill-color);\n",
              "    }\n",
              "    60% {\n",
              "      border-color: transparent;\n",
              "      border-right-color: var(--fill-color);\n",
              "    }\n",
              "    80% {\n",
              "      border-color: transparent;\n",
              "      border-right-color: var(--fill-color);\n",
              "      border-bottom-color: var(--fill-color);\n",
              "    }\n",
              "    90% {\n",
              "      border-color: transparent;\n",
              "      border-bottom-color: var(--fill-color);\n",
              "    }\n",
              "  }\n",
              "</style>\n",
              "\n",
              "  <script>\n",
              "    async function quickchart(key) {\n",
              "      const quickchartButtonEl =\n",
              "        document.querySelector('#' + key + ' button');\n",
              "      quickchartButtonEl.disabled = true;  // To prevent multiple clicks.\n",
              "      quickchartButtonEl.classList.add('colab-df-spinner');\n",
              "      try {\n",
              "        const charts = await google.colab.kernel.invokeFunction(\n",
              "            'suggestCharts', [key], {});\n",
              "      } catch (error) {\n",
              "        console.error('Error during call to suggestCharts:', error);\n",
              "      }\n",
              "      quickchartButtonEl.classList.remove('colab-df-spinner');\n",
              "      quickchartButtonEl.classList.add('colab-df-quickchart-complete');\n",
              "    }\n",
              "    (() => {\n",
              "      let quickchartButtonEl =\n",
              "        document.querySelector('#df-f28ed3cc-222b-4720-8fe1-9286d9d7b9ab button');\n",
              "      quickchartButtonEl.style.display =\n",
              "        google.colab.kernel.accessAllowed ? 'block' : 'none';\n",
              "    })();\n",
              "  </script>\n",
              "</div>\n",
              "    </div>\n",
              "  </div>\n"
            ],
            "application/vnd.google.colaboratory.intrinsic+json": {
              "type": "dataframe",
              "variable_name": "data",
              "summary": "{\n  \"name\": \"data\",\n  \"rows\": 891,\n  \"fields\": [\n    {\n      \"column\": \"PassengerId\",\n      \"properties\": {\n        \"dtype\": \"number\",\n        \"std\": 257,\n        \"min\": 1,\n        \"max\": 891,\n        \"num_unique_values\": 891,\n        \"samples\": [\n          710,\n          440,\n          841\n        ],\n        \"semantic_type\": \"\",\n        \"description\": \"\"\n      }\n    },\n    {\n      \"column\": \"Pclass\",\n      \"properties\": {\n        \"dtype\": \"number\",\n        \"std\": 0,\n        \"min\": 1,\n        \"max\": 3,\n        \"num_unique_values\": 3,\n        \"samples\": [\n          3,\n          1,\n          2\n        ],\n        \"semantic_type\": \"\",\n        \"description\": \"\"\n      }\n    },\n    {\n      \"column\": \"Name\",\n      \"properties\": {\n        \"dtype\": \"string\",\n        \"num_unique_values\": 891,\n        \"samples\": [\n          \"Moubarek, Master. Halim Gonios (\\\"William George\\\")\",\n          \"Kvillner, Mr. Johan Henrik Johannesson\",\n          \"Alhomaki, Mr. Ilmari Rudolf\"\n        ],\n        \"semantic_type\": \"\",\n        \"description\": \"\"\n      }\n    },\n    {\n      \"column\": \"Sex\",\n      \"properties\": {\n        \"dtype\": \"category\",\n        \"num_unique_values\": 2,\n        \"samples\": [\n          \"female\",\n          \"male\"\n        ],\n        \"semantic_type\": \"\",\n        \"description\": \"\"\n      }\n    },\n    {\n      \"column\": \"Age\",\n      \"properties\": {\n        \"dtype\": \"number\",\n        \"std\": 14.526497332334044,\n        \"min\": 0.42,\n        \"max\": 80.0,\n        \"num_unique_values\": 88,\n        \"samples\": [\n          0.75,\n          22.0\n        ],\n        \"semantic_type\": \"\",\n        \"description\": \"\"\n      }\n    },\n    {\n      \"column\": \"SibSp\",\n      \"properties\": {\n        \"dtype\": \"number\",\n        \"std\": 1,\n        \"min\": 0,\n        \"max\": 8,\n        \"num_unique_values\": 7,\n        \"samples\": [\n          1,\n          0\n        ],\n        \"semantic_type\": \"\",\n        \"description\": \"\"\n      }\n    },\n    {\n      \"column\": \"Parch\",\n      \"properties\": {\n        \"dtype\": \"number\",\n        \"std\": 0,\n        \"min\": 0,\n        \"max\": 6,\n        \"num_unique_values\": 7,\n        \"samples\": [\n          0,\n          1\n        ],\n        \"semantic_type\": \"\",\n        \"description\": \"\"\n      }\n    },\n    {\n      \"column\": \"Ticket\",\n      \"properties\": {\n        \"dtype\": \"string\",\n        \"num_unique_values\": 681,\n        \"samples\": [\n          \"11774\",\n          \"248740\"\n        ],\n        \"semantic_type\": \"\",\n        \"description\": \"\"\n      }\n    },\n    {\n      \"column\": \"Fare\",\n      \"properties\": {\n        \"dtype\": \"number\",\n        \"std\": 49.693428597180905,\n        \"min\": 0.0,\n        \"max\": 512.3292,\n        \"num_unique_values\": 248,\n        \"samples\": [\n          11.2417,\n          51.8625\n        ],\n        \"semantic_type\": \"\",\n        \"description\": \"\"\n      }\n    },\n    {\n      \"column\": \"Cabin\",\n      \"properties\": {\n        \"dtype\": \"category\",\n        \"num_unique_values\": 147,\n        \"samples\": [\n          \"D45\",\n          \"B49\"\n        ],\n        \"semantic_type\": \"\",\n        \"description\": \"\"\n      }\n    },\n    {\n      \"column\": \"Embarked\",\n      \"properties\": {\n        \"dtype\": \"category\",\n        \"num_unique_values\": 3,\n        \"samples\": [\n          \"S\",\n          \"C\"\n        ],\n        \"semantic_type\": \"\",\n        \"description\": \"\"\n      }\n    },\n    {\n      \"column\": \"Survived\",\n      \"properties\": {\n        \"dtype\": \"number\",\n        \"std\": 0,\n        \"min\": 0,\n        \"max\": 1,\n        \"num_unique_values\": 2,\n        \"samples\": [\n          1,\n          0\n        ],\n        \"semantic_type\": \"\",\n        \"description\": \"\"\n      }\n    }\n  ]\n}"
            }
          },
          "metadata": {},
          "execution_count": 46
        }
      ],
      "source": [
        "data = data.join(y)\n",
        "data.head()"
      ]
    },
    {
      "cell_type": "markdown",
      "metadata": {
        "id": "yrUiid0t16DF"
      },
      "source": [
        "## Исследование датасета\n",
        "\n",
        "### Задание 1 (1 балл)\n",
        "Опишите датасет. Сколько в нём мужчин, сколько женщин? Посчитайте распределение по классам пассажиров. Используйте функцию ``pd.Series.value_counts``. <a href=https://pandas.pydata.org/pandas-docs/stable/reference/api/pandas.Series.value_counts.html>Пример использования</a>\n",
        "\n",
        "Посчитайте долю выживших мужчин к общему количеству мужчин, а также женщин к общему количеству женщин. Сделайте выводы.\n",
        "Проведите схожую аналитику по возрасту выживших и по классу выживших.\n",
        "\n",
        "Вам поможет функция ``plt.hist()``. <a href=https://matplotlib.org/3.3.1/gallery/pyplots/pyplot_text.html#sphx-glr-gallery-pyplots-pyplot-text-py> Пример использования </a>"
      ]
    },
    {
      "cell_type": "code",
      "execution_count": 47,
      "metadata": {
        "id": "t7jOomcB16DF",
        "colab": {
          "base_uri": "https://localhost:8080/",
          "height": 178
        },
        "outputId": "f8ebbd63-64c8-4462-8de0-70691568bcd9"
      },
      "outputs": [
        {
          "output_type": "execute_result",
          "data": {
            "text/plain": [
              "Sex\n",
              "male      577\n",
              "female    314\n",
              "Name: count, dtype: int64"
            ],
            "text/html": [
              "<div>\n",
              "<style scoped>\n",
              "    .dataframe tbody tr th:only-of-type {\n",
              "        vertical-align: middle;\n",
              "    }\n",
              "\n",
              "    .dataframe tbody tr th {\n",
              "        vertical-align: top;\n",
              "    }\n",
              "\n",
              "    .dataframe thead th {\n",
              "        text-align: right;\n",
              "    }\n",
              "</style>\n",
              "<table border=\"1\" class=\"dataframe\">\n",
              "  <thead>\n",
              "    <tr style=\"text-align: right;\">\n",
              "      <th></th>\n",
              "      <th>count</th>\n",
              "    </tr>\n",
              "    <tr>\n",
              "      <th>Sex</th>\n",
              "      <th></th>\n",
              "    </tr>\n",
              "  </thead>\n",
              "  <tbody>\n",
              "    <tr>\n",
              "      <th>male</th>\n",
              "      <td>577</td>\n",
              "    </tr>\n",
              "    <tr>\n",
              "      <th>female</th>\n",
              "      <td>314</td>\n",
              "    </tr>\n",
              "  </tbody>\n",
              "</table>\n",
              "</div><br><label><b>dtype:</b> int64</label>"
            ]
          },
          "metadata": {},
          "execution_count": 47
        }
      ],
      "source": [
        "data.Sex.value_counts()\n",
        "# 577 мужчин, 314 женщины"
      ]
    },
    {
      "cell_type": "code",
      "execution_count": 48,
      "metadata": {
        "colab": {
          "base_uri": "https://localhost:8080/"
        },
        "id": "IEY__C7ZLfN5",
        "outputId": "8a78d757-b6dc-42c1-d86f-95bc94b9e451"
      },
      "outputs": [
        {
          "output_type": "stream",
          "name": "stdout",
          "text": [
            "Доля выживших мужчин: 18.89%\n",
            "Доля выживших женщин: 74.20%\n"
          ]
        }
      ],
      "source": [
        "# Общее количество мужчин и женщин\n",
        "total_men = data[data['Sex'] == 'male'].shape[0]\n",
        "total_women = data[data['Sex'] == 'female'].shape[0]\n",
        "# Количество выживших мужчин и женщин\n",
        "survived_men = data[(data['Sex'] == 'male') & (data['Survived'] == 1)].shape[0]\n",
        "survived_women = data[(data['Sex'] == 'female') & (data['Survived'] == 1)].shape[0]\n",
        "# Доля выживших\n",
        "survived_men_ratio = survived_men / total_men if total_men > 0 else 0\n",
        "survived_women_ratio = survived_women / total_women if total_women > 0 else 0\n",
        "print(f\"Доля выживших мужчин: {survived_men_ratio:.2%}\")\n",
        "print(f\"Доля выживших женщин: {survived_women_ratio:.2%}\")"
      ]
    },
    {
      "cell_type": "code",
      "execution_count": 49,
      "metadata": {
        "colab": {
          "base_uri": "https://localhost:8080/",
          "height": 557
        },
        "id": "tRfIKHWbLfN6",
        "outputId": "7e83fe6a-bcec-40de-9730-f214cd32611c"
      },
      "outputs": [
        {
          "output_type": "display_data",
          "data": {
            "text/plain": [
              "<Figure size 1500x600 with 1 Axes>"
            ],
            "image/png": "[encoded data removed]"
          },
          "metadata": {}
        }
      ],
      "source": [
        "# Фильтрация по выжившим\n",
        "survived_people = data[data['Survived'] == 1]\n",
        "\n",
        "# Построение гистограммы возраста выживших\n",
        "fig, ax = plt.subplots(figsize=(15, 6))\n",
        "sns.histplot(survived_people['Age'].dropna(), bins=80, alpha=0.7, color='blue', edgecolor='black')\n",
        "plt.title('Распределение возраста выживших пассажиров')\n",
        "plt.xlabel('Возраст')\n",
        "plt.ylabel('Количество выживших')\n",
        "plt.show()"
      ]
    },
    {
      "cell_type": "code",
      "execution_count": 50,
      "metadata": {
        "colab": {
          "base_uri": "https://localhost:8080/",
          "height": 594
        },
        "id": "2-Ca2F3SLfN6",
        "outputId": "4f94003d-fcda-4b73-c27d-8404e03db78c"
      },
      "outputs": [
        {
          "output_type": "stream",
          "name": "stdout",
          "text": [
            "Pclass\n",
            "1   0.630\n",
            "2   0.473\n",
            "3   0.242\n",
            "Name: Survival_Rate, dtype: float64\n"
          ]
        },
        {
          "output_type": "display_data",
          "data": {
            "text/plain": [
              "<Figure size 1072.11x500 with 2 Axes>"
            ],
            "image/png": "[encoded data removed]"
          },
          "metadata": {}
        }
      ],
      "source": [
        "# Группировка по классу и подсчет выживших\n",
        "survival_by_class = data.groupby(['Pclass', 'Survived']).size().unstack()\n",
        "survival_by_class['Survival_Rate'] = survival_by_class[1] / (survival_by_class[0] + survival_by_class[1])\n",
        "\n",
        "# Печать долей выживших по классам\n",
        "print(survival_by_class['Survival_Rate'])\n",
        "\n",
        "sns.catplot(x=\"Pclass\", hue=\"Survived\", col=\"Sex\", data=data, kind=\"count\")\n",
        "plt.show()"
      ]
    },
    {
      "cell_type": "markdown",
      "metadata": {
        "id": "d2Qk7TEELfN6"
      },
      "source": [
        "#### Выводы:\n",
        "Видим, что женщин выжило больше, чем мужчин (хотя на Титанике мужчин было почти в 2 раза больше, чем женщин). Чем выше класс каюты - тем больше % выживших. Это соотношение выживших женщин сохраняется по классу кают, вот мужчин больше спаслось в первом и втором классе. По возрасту: спасали младенцев и дошколят, молодых людей 22-25 лет, людей среднего возраста около 35."
      ]
    },
    {
      "cell_type": "markdown",
      "metadata": {
        "id": "kess0Cip16DG"
      },
      "source": [
        "## Заполнение пропусков в данных\n",
        "В данных имеются пропуски в трёх колонках:"
      ]
    },
    {
      "cell_type": "code",
      "execution_count": 51,
      "metadata": {
        "id": "XbgGWK6z16DG",
        "outputId": "1a1d74de-bcff-4ba2-f350-ce8718c88360",
        "colab": {
          "base_uri": "https://localhost:8080/"
        }
      },
      "outputs": [
        {
          "output_type": "execute_result",
          "data": {
            "text/plain": [
              "['Age', 'Cabin', 'Embarked']"
            ]
          },
          "metadata": {},
          "execution_count": 51
        }
      ],
      "source": [
        "data.columns[data.isna().any()].tolist()"
      ]
    },
    {
      "cell_type": "markdown",
      "metadata": {
        "id": "8zP_WCyK16DG"
      },
      "source": [
        "Для простоты заполним все пропуски в категориальных колонках новым классом \"0\", а в числовой колонке Age --- медианным значением."
      ]
    },
    {
      "cell_type": "code",
      "execution_count": 52,
      "metadata": {
        "id": "-bLaKhN-16DH"
      },
      "outputs": [],
      "source": [
        "data.loc[:, ['Cabin', 'Embarked']] = data.loc[:, ['Cabin', 'Embarked']].fillna('0')\n",
        "data['Age'] = data['Age'].fillna(data['Age'].median())"
      ]
    },
    {
      "cell_type": "markdown",
      "metadata": {
        "id": "kolX5dfb16DH"
      },
      "source": [
        "## Подготовка плана тестирования\n",
        "\n",
        "### Задание 2. (0 баллов)\n",
        "Разделите выборку на обучающее и тестовое множество в соотношении 70:30."
      ]
    },
    {
      "cell_type": "code",
      "execution_count": 53,
      "metadata": {
        "id": "d9bVGOL716DH"
      },
      "outputs": [],
      "source": [
        "from sklearn.model_selection import train_test_split\n",
        "\n",
        "data_train, data_test = train_test_split(data, test_size=0.3, random_state=127)"
      ]
    },
    {
      "cell_type": "markdown",
      "metadata": {
        "id": "xjMZ0GE_16DH"
      },
      "source": [
        "## Выделение новых признаков\n",
        "Теперь отложим тестовые данные и приступим к моделированию. Внимательно изучите данные. Можете ли вы выделить признаки, которые не указаны явно в таблице?\n",
        "\n",
        "### Задание 3 (1 балл)\n",
        " Сформируйте по крайней мере один новый признак и объясните ваш выбор. Пример признака сформирован за вас.\n",
        "\n",
        "Указания:\n",
        "- Пассажиров можно поделить на несколько классов по их именам.\n",
        "- Различных номеров кают слишком много. Но буквы в номерах кают указывают на их местоположение. (***Этот признак сформирован в примере***)\n",
        "- Возможно, имеет смысл отделить мальчиков от мужчин. Отделять девочек от женщин может быть не так важно\n",
        "- Другие идеи для признаков можно почерпнуть на форуме в обсуждении задачи на kaggle.com."
      ]
    },
    {
      "cell_type": "code",
      "execution_count": 54,
      "metadata": {
        "id": "D_nbB_z-16DI",
        "outputId": "87b65de8-ba68-45c9-8e8f-76f868de94ad",
        "colab": {
          "base_uri": "https://localhost:8080/",
          "height": 300
        }
      },
      "outputs": [
        {
          "output_type": "execute_result",
          "data": {
            "text/plain": [
              "             Pclass                                               Name  \\\n",
              "PassengerId                                                              \n",
              "1                 3                            Braund, Mr. Owen Harris   \n",
              "2                 1  Cumings, Mrs. John Bradley (Florence Briggs Th...   \n",
              "3                 3                             Heikkinen, Miss. Laina   \n",
              "4                 1       Futrelle, Mrs. Jacques Heath (Lily May Peel)   \n",
              "5                 3                           Allen, Mr. William Henry   \n",
              "6                 3                                   Moran, Mr. James   \n",
              "7                 1                            McCarthy, Mr. Timothy J   \n",
              "\n",
              "                Sex    Age  SibSp  Parch            Ticket   Fare Cabin  \\\n",
              "PassengerId                                                               \n",
              "1              male 22.000      1      0         A/5 21171  7.250     0   \n",
              "2            female 38.000      1      0          PC 17599 71.283   C85   \n",
              "3            female 26.000      0      0  STON/O2. 3101282  7.925     0   \n",
              "4            female 35.000      1      0            113803 53.100  C123   \n",
              "5              male 35.000      0      0            373450  8.050     0   \n",
              "6              male 28.000      0      0            330877  8.458     0   \n",
              "7              male 54.000      0      0             17463 51.862   E46   \n",
              "\n",
              "            Embarked  Survived  \n",
              "PassengerId                     \n",
              "1                  S         0  \n",
              "2                  C         1  \n",
              "3                  S         1  \n",
              "4                  S         1  \n",
              "5                  S         0  \n",
              "6                  Q         0  \n",
              "7                  S         0  "
            ],
            "text/html": [
              "\n",
              "  <div id=\"df-61b2f74d-add8-469a-b5b4-f35a1f59b60d\" class=\"colab-df-container\">\n",
              "    <div>\n",
              "<style scoped>\n",
              "    .dataframe tbody tr th:only-of-type {\n",
              "        vertical-align: middle;\n",
              "    }\n",
              "\n",
              "    .dataframe tbody tr th {\n",
              "        vertical-align: top;\n",
              "    }\n",
              "\n",
              "    .dataframe thead th {\n",
              "        text-align: right;\n",
              "    }\n",
              "</style>\n",
              "<table border=\"1\" class=\"dataframe\">\n",
              "  <thead>\n",
              "    <tr style=\"text-align: right;\">\n",
              "      <th></th>\n",
              "      <th>Pclass</th>\n",
              "      <th>Name</th>\n",
              "      <th>Sex</th>\n",
              "      <th>Age</th>\n",
              "      <th>SibSp</th>\n",
              "      <th>Parch</th>\n",
              "      <th>Ticket</th>\n",
              "      <th>Fare</th>\n",
              "      <th>Cabin</th>\n",
              "      <th>Embarked</th>\n",
              "      <th>Survived</th>\n",
              "    </tr>\n",
              "    <tr>\n",
              "      <th>PassengerId</th>\n",
              "      <th></th>\n",
              "      <th></th>\n",
              "      <th></th>\n",
              "      <th></th>\n",
              "      <th></th>\n",
              "      <th></th>\n",
              "      <th></th>\n",
              "      <th></th>\n",
              "      <th></th>\n",
              "      <th></th>\n",
              "      <th></th>\n",
              "    </tr>\n",
              "  </thead>\n",
              "  <tbody>\n",
              "    <tr>\n",
              "      <th>1</th>\n",
              "      <td>3</td>\n",
              "      <td>Braund, Mr. Owen Harris</td>\n",
              "      <td>male</td>\n",
              "      <td>22.000</td>\n",
              "      <td>1</td>\n",
              "      <td>0</td>\n",
              "      <td>A/5 21171</td>\n",
              "      <td>7.250</td>\n",
              "      <td>0</td>\n",
              "      <td>S</td>\n",
              "      <td>0</td>\n",
              "    </tr>\n",
              "    <tr>\n",
              "      <th>2</th>\n",
              "      <td>1</td>\n",
              "      <td>Cumings, Mrs. John Bradley (Florence Briggs Th...</td>\n",
              "      <td>female</td>\n",
              "      <td>38.000</td>\n",
              "      <td>1</td>\n",
              "      <td>0</td>\n",
              "      <td>PC 17599</td>\n",
              "      <td>71.283</td>\n",
              "      <td>C85</td>\n",
              "      <td>C</td>\n",
              "      <td>1</td>\n",
              "    </tr>\n",
              "    <tr>\n",
              "      <th>3</th>\n",
              "      <td>3</td>\n",
              "      <td>Heikkinen, Miss. Laina</td>\n",
              "      <td>female</td>\n",
              "      <td>26.000</td>\n",
              "      <td>0</td>\n",
              "      <td>0</td>\n",
              "      <td>STON/O2. 3101282</td>\n",
              "      <td>7.925</td>\n",
              "      <td>0</td>\n",
              "      <td>S</td>\n",
              "      <td>1</td>\n",
              "    </tr>\n",
              "    <tr>\n",
              "      <th>4</th>\n",
              "      <td>1</td>\n",
              "      <td>Futrelle, Mrs. Jacques Heath (Lily May Peel)</td>\n",
              "      <td>female</td>\n",
              "      <td>35.000</td>\n",
              "      <td>1</td>\n",
              "      <td>0</td>\n",
              "      <td>113803</td>\n",
              "      <td>53.100</td>\n",
              "      <td>C123</td>\n",
              "      <td>S</td>\n",
              "      <td>1</td>\n",
              "    </tr>\n",
              "    <tr>\n",
              "      <th>5</th>\n",
              "      <td>3</td>\n",
              "      <td>Allen, Mr. William Henry</td>\n",
              "      <td>male</td>\n",
              "      <td>35.000</td>\n",
              "      <td>0</td>\n",
              "      <td>0</td>\n",
              "      <td>373450</td>\n",
              "      <td>8.050</td>\n",
              "      <td>0</td>\n",
              "      <td>S</td>\n",
              "      <td>0</td>\n",
              "    </tr>\n",
              "    <tr>\n",
              "      <th>6</th>\n",
              "      <td>3</td>\n",
              "      <td>Moran, Mr. James</td>\n",
              "      <td>male</td>\n",
              "      <td>28.000</td>\n",
              "      <td>0</td>\n",
              "      <td>0</td>\n",
              "      <td>330877</td>\n",
              "      <td>8.458</td>\n",
              "      <td>0</td>\n",
              "      <td>Q</td>\n",
              "      <td>0</td>\n",
              "    </tr>\n",
              "    <tr>\n",
              "      <th>7</th>\n",
              "      <td>1</td>\n",
              "      <td>McCarthy, Mr. Timothy J</td>\n",
              "      <td>male</td>\n",
              "      <td>54.000</td>\n",
              "      <td>0</td>\n",
              "      <td>0</td>\n",
              "      <td>17463</td>\n",
              "      <td>51.862</td>\n",
              "      <td>E46</td>\n",
              "      <td>S</td>\n",
              "      <td>0</td>\n",
              "    </tr>\n",
              "  </tbody>\n",
              "</table>\n",
              "</div>\n",
              "    <div class=\"colab-df-buttons\">\n",
              "\n",
              "  <div class=\"colab-df-container\">\n",
              "    <button class=\"colab-df-convert\" onclick=\"convertToInteractive('df-61b2f74d-add8-469a-b5b4-f35a1f59b60d')\"\n",
              "            title=\"Convert this dataframe to an interactive table.\"\n",
              "            style=\"display:none;\">\n",
              "\n",
              "  <svg xmlns=\"http://www.w3.org/2000/svg\" height=\"24px\" viewBox=\"0 -960 960 960\">\n",
              "    <path d=\"M120-120v-720h720v720H120Zm60-500h600v-160H180v160Zm220 220h160v-160H400v160Zm0 220h160v-160H400v160ZM180-400h160v-160H180v160Zm440 0h160v-160H620v160ZM180-180h160v-160H180v160Zm440 0h160v-160H620v160Z\"/>\n",
              "  </svg>\n",
              "    </button>\n",
              "\n",
              "  <style>\n",
              "    .colab-df-container {\n",
              "      display:flex;\n",
              "      gap: 12px;\n",
              "    }\n",
              "\n",
              "    .colab-df-convert {\n",
              "      background-color: #E8F0FE;\n",
              "      border: none;\n",
              "      border-radius: 50%;\n",
              "      cursor: pointer;\n",
              "      display: none;\n",
              "      fill: #1967D2;\n",
              "      height: 32px;\n",
              "      padding: 0 0 0 0;\n",
              "      width: 32px;\n",
              "    }\n",
              "\n",
              "    .colab-df-convert:hover {\n",
              "      background-color: #E2EBFA;\n",
              "      box-shadow: 0px 1px 2px rgba(60, 64, 67, 0.3), 0px 1px 3px 1px rgba(60, 64, 67, 0.15);\n",
              "      fill: #174EA6;\n",
              "    }\n",
              "\n",
              "    .colab-df-buttons div {\n",
              "      margin-bottom: 4px;\n",
              "    }\n",
              "\n",
              "    [theme=dark] .colab-df-convert {\n",
              "      background-color: #3B4455;\n",
              "      fill: #D2E3FC;\n",
              "    }\n",
              "\n",
              "    [theme=dark] .colab-df-convert:hover {\n",
              "      background-color: #434B5C;\n",
              "      box-shadow: 0px 1px 3px 1px rgba(0, 0, 0, 0.15);\n",
              "      filter: drop-shadow(0px 1px 2px rgba(0, 0, 0, 0.3));\n",
              "      fill: #FFFFFF;\n",
              "    }\n",
              "  </style>\n",
              "\n",
              "    <script>\n",
              "      const buttonEl =\n",
              "        document.querySelector('#df-61b2f74d-add8-469a-b5b4-f35a1f59b60d button.colab-df-convert');\n",
              "      buttonEl.style.display =\n",
              "        google.colab.kernel.accessAllowed ? 'block' : 'none';\n",
              "\n",
              "      async function convertToInteractive(key) {\n",
              "        const element = document.querySelector('#df-61b2f74d-add8-469a-b5b4-f35a1f59b60d');\n",
              "        const dataTable =\n",
              "          await google.colab.kernel.invokeFunction('convertToInteractive',\n",
              "                                                    [key], {});\n",
              "        if (!dataTable) return;\n",
              "\n",
              "        const docLinkHtml = 'Like what you see? Visit the ' +\n",
              "          '<a target=\"_blank\" href=https://colab.research.google.com/notebooks/data_table.ipynb>data table notebook</a>'\n",
              "          + ' to learn more about interactive tables.';\n",
              "        element.innerHTML = '';\n",
              "        dataTable['output_type'] = 'display_data';\n",
              "        await google.colab.output.renderOutput(dataTable, element);\n",
              "        const docLink = document.createElement('div');\n",
              "        docLink.innerHTML = docLinkHtml;\n",
              "        element.appendChild(docLink);\n",
              "      }\n",
              "    </script>\n",
              "  </div>\n",
              "\n",
              "\n",
              "<div id=\"df-bd2804aa-73a8-4b4b-822e-b4357b285c30\">\n",
              "  <button class=\"colab-df-quickchart\" onclick=\"quickchart('df-bd2804aa-73a8-4b4b-822e-b4357b285c30')\"\n",
              "            title=\"Suggest charts\"\n",
              "            style=\"display:none;\">\n",
              "\n",
              "<svg xmlns=\"http://www.w3.org/2000/svg\" height=\"24px\"viewBox=\"0 0 24 24\"\n",
              "     width=\"24px\">\n",
              "    <g>\n",
              "        <path d=\"M19 3H5c-1.1 0-2 .9-2 2v14c0 1.1.9 2 2 2h14c1.1 0 2-.9 2-2V5c0-1.1-.9-2-2-2zM9 17H7v-7h2v7zm4 0h-2V7h2v10zm4 0h-2v-4h2v4z\"/>\n",
              "    </g>\n",
              "</svg>\n",
              "  </button>\n",
              "\n",
              "<style>\n",
              "  .colab-df-quickchart {\n",
              "      --bg-color: #E8F0FE;\n",
              "      --fill-color: #1967D2;\n",
              "      --hover-bg-color: #E2EBFA;\n",
              "      --hover-fill-color: #174EA6;\n",
              "      --disabled-fill-color: #AAA;\n",
              "      --disabled-bg-color: #DDD;\n",
              "  }\n",
              "\n",
              "  [theme=dark] .colab-df-quickchart {\n",
              "      --bg-color: #3B4455;\n",
              "      --fill-color: #D2E3FC;\n",
              "      --hover-bg-color: #434B5C;\n",
              "      --hover-fill-color: #FFFFFF;\n",
              "      --disabled-bg-color: #3B4455;\n",
              "      --disabled-fill-color: #666;\n",
              "  }\n",
              "\n",
              "  .colab-df-quickchart {\n",
              "    background-color: var(--bg-color);\n",
              "    border: none;\n",
              "    border-radius: 50%;\n",
              "    cursor: pointer;\n",
              "    display: none;\n",
              "    fill: var(--fill-color);\n",
              "    height: 32px;\n",
              "    padding: 0;\n",
              "    width: 32px;\n",
              "  }\n",
              "\n",
              "  .colab-df-quickchart:hover {\n",
              "    background-color: var(--hover-bg-color);\n",
              "    box-shadow: 0 1px 2px rgba(60, 64, 67, 0.3), 0 1px 3px 1px rgba(60, 64, 67, 0.15);\n",
              "    fill: var(--button-hover-fill-color);\n",
              "  }\n",
              "\n",
              "  .colab-df-quickchart-complete:disabled,\n",
              "  .colab-df-quickchart-complete:disabled:hover {\n",
              "    background-color: var(--disabled-bg-color);\n",
              "    fill: var(--disabled-fill-color);\n",
              "    box-shadow: none;\n",
              "  }\n",
              "\n",
              "  .colab-df-spinner {\n",
              "    border: 2px solid var(--fill-color);\n",
              "    border-color: transparent;\n",
              "    border-bottom-color: var(--fill-color);\n",
              "    animation:\n",
              "      spin 1s steps(1) infinite;\n",
              "  }\n",
              "\n",
              "  @keyframes spin {\n",
              "    0% {\n",
              "      border-color: transparent;\n",
              "      border-bottom-color: var(--fill-color);\n",
              "      border-left-color: var(--fill-color);\n",
              "    }\n",
              "    20% {\n",
              "      border-color: transparent;\n",
              "      border-left-color: var(--fill-color);\n",
              "      border-top-color: var(--fill-color);\n",
              "    }\n",
              "    30% {\n",
              "      border-color: transparent;\n",
              "      border-left-color: var(--fill-color);\n",
              "      border-top-color: var(--fill-color);\n",
              "      border-right-color: var(--fill-color);\n",
              "    }\n",
              "    40% {\n",
              "      border-color: transparent;\n",
              "      border-right-color: var(--fill-color);\n",
              "      border-top-color: var(--fill-color);\n",
              "    }\n",
              "    60% {\n",
              "      border-color: transparent;\n",
              "      border-right-color: var(--fill-color);\n",
              "    }\n",
              "    80% {\n",
              "      border-color: transparent;\n",
              "      border-right-color: var(--fill-color);\n",
              "      border-bottom-color: var(--fill-color);\n",
              "    }\n",
              "    90% {\n",
              "      border-color: transparent;\n",
              "      border-bottom-color: var(--fill-color);\n",
              "    }\n",
              "  }\n",
              "</style>\n",
              "\n",
              "  <script>\n",
              "    async function quickchart(key) {\n",
              "      const quickchartButtonEl =\n",
              "        document.querySelector('#' + key + ' button');\n",
              "      quickchartButtonEl.disabled = true;  // To prevent multiple clicks.\n",
              "      quickchartButtonEl.classList.add('colab-df-spinner');\n",
              "      try {\n",
              "        const charts = await google.colab.kernel.invokeFunction(\n",
              "            'suggestCharts', [key], {});\n",
              "      } catch (error) {\n",
              "        console.error('Error during call to suggestCharts:', error);\n",
              "      }\n",
              "      quickchartButtonEl.classList.remove('colab-df-spinner');\n",
              "      quickchartButtonEl.classList.add('colab-df-quickchart-complete');\n",
              "    }\n",
              "    (() => {\n",
              "      let quickchartButtonEl =\n",
              "        document.querySelector('#df-bd2804aa-73a8-4b4b-822e-b4357b285c30 button');\n",
              "      quickchartButtonEl.style.display =\n",
              "        google.colab.kernel.accessAllowed ? 'block' : 'none';\n",
              "    })();\n",
              "  </script>\n",
              "</div>\n",
              "    </div>\n",
              "  </div>\n"
            ],
            "application/vnd.google.colaboratory.intrinsic+json": {
              "type": "dataframe",
              "variable_name": "data",
              "summary": "{\n  \"name\": \"data\",\n  \"rows\": 891,\n  \"fields\": [\n    {\n      \"column\": \"PassengerId\",\n      \"properties\": {\n        \"dtype\": \"number\",\n        \"std\": 257,\n        \"min\": 1,\n        \"max\": 891,\n        \"num_unique_values\": 891,\n        \"samples\": [\n          710,\n          440,\n          841\n        ],\n        \"semantic_type\": \"\",\n        \"description\": \"\"\n      }\n    },\n    {\n      \"column\": \"Pclass\",\n      \"properties\": {\n        \"dtype\": \"number\",\n        \"std\": 0,\n        \"min\": 1,\n        \"max\": 3,\n        \"num_unique_values\": 3,\n        \"samples\": [\n          3,\n          1,\n          2\n        ],\n        \"semantic_type\": \"\",\n        \"description\": \"\"\n      }\n    },\n    {\n      \"column\": \"Name\",\n      \"properties\": {\n        \"dtype\": \"string\",\n        \"num_unique_values\": 891,\n        \"samples\": [\n          \"Moubarek, Master. Halim Gonios (\\\"William George\\\")\",\n          \"Kvillner, Mr. Johan Henrik Johannesson\",\n          \"Alhomaki, Mr. Ilmari Rudolf\"\n        ],\n        \"semantic_type\": \"\",\n        \"description\": \"\"\n      }\n    },\n    {\n      \"column\": \"Sex\",\n      \"properties\": {\n        \"dtype\": \"category\",\n        \"num_unique_values\": 2,\n        \"samples\": [\n          \"female\",\n          \"male\"\n        ],\n        \"semantic_type\": \"\",\n        \"description\": \"\"\n      }\n    },\n    {\n      \"column\": \"Age\",\n      \"properties\": {\n        \"dtype\": \"number\",\n        \"std\": 13.019696550973194,\n        \"min\": 0.42,\n        \"max\": 80.0,\n        \"num_unique_values\": 88,\n        \"samples\": [\n          0.75,\n          22.0\n        ],\n        \"semantic_type\": \"\",\n        \"description\": \"\"\n      }\n    },\n    {\n      \"column\": \"SibSp\",\n      \"properties\": {\n        \"dtype\": \"number\",\n        \"std\": 1,\n        \"min\": 0,\n        \"max\": 8,\n        \"num_unique_values\": 7,\n        \"samples\": [\n          1,\n          0\n        ],\n        \"semantic_type\": \"\",\n        \"description\": \"\"\n      }\n    },\n    {\n      \"column\": \"Parch\",\n      \"properties\": {\n        \"dtype\": \"number\",\n        \"std\": 0,\n        \"min\": 0,\n        \"max\": 6,\n        \"num_unique_values\": 7,\n        \"samples\": [\n          0,\n          1\n        ],\n        \"semantic_type\": \"\",\n        \"description\": \"\"\n      }\n    },\n    {\n      \"column\": \"Ticket\",\n      \"properties\": {\n        \"dtype\": \"string\",\n        \"num_unique_values\": 681,\n        \"samples\": [\n          \"11774\",\n          \"248740\"\n        ],\n        \"semantic_type\": \"\",\n        \"description\": \"\"\n      }\n    },\n    {\n      \"column\": \"Fare\",\n      \"properties\": {\n        \"dtype\": \"number\",\n        \"std\": 49.693428597180905,\n        \"min\": 0.0,\n        \"max\": 512.3292,\n        \"num_unique_values\": 248,\n        \"samples\": [\n          11.2417,\n          51.8625\n        ],\n        \"semantic_type\": \"\",\n        \"description\": \"\"\n      }\n    },\n    {\n      \"column\": \"Cabin\",\n      \"properties\": {\n        \"dtype\": \"category\",\n        \"num_unique_values\": 148,\n        \"samples\": [\n          \"B101\",\n          \"A19\"\n        ],\n        \"semantic_type\": \"\",\n        \"description\": \"\"\n      }\n    },\n    {\n      \"column\": \"Embarked\",\n      \"properties\": {\n        \"dtype\": \"category\",\n        \"num_unique_values\": 4,\n        \"samples\": [\n          \"C\",\n          \"0\"\n        ],\n        \"semantic_type\": \"\",\n        \"description\": \"\"\n      }\n    },\n    {\n      \"column\": \"Survived\",\n      \"properties\": {\n        \"dtype\": \"number\",\n        \"std\": 0,\n        \"min\": 0,\n        \"max\": 1,\n        \"num_unique_values\": 2,\n        \"samples\": [\n          1,\n          0\n        ],\n        \"semantic_type\": \"\",\n        \"description\": \"\"\n      }\n    }\n  ]\n}"
            }
          },
          "metadata": {},
          "execution_count": 54
        }
      ],
      "source": [
        "data.head(7)"
      ]
    },
    {
      "cell_type": "code",
      "execution_count": 55,
      "metadata": {
        "id": "HtBP15P916DI",
        "outputId": "5c3b8f27-9e5d-4255-ff68-b94e0450e547",
        "colab": {
          "base_uri": "https://localhost:8080/",
          "height": 490
        }
      },
      "outputs": [
        {
          "output_type": "execute_result",
          "data": {
            "text/plain": [
              "PassengerId\n",
              "1         0\n",
              "2       C85\n",
              "3         0\n",
              "4      C123\n",
              "5         0\n",
              "       ... \n",
              "887       0\n",
              "888     B42\n",
              "889       0\n",
              "890    C148\n",
              "891       0\n",
              "Name: Cabin, Length: 891, dtype: object"
            ],
            "text/html": [
              "<div>\n",
              "<style scoped>\n",
              "    .dataframe tbody tr th:only-of-type {\n",
              "        vertical-align: middle;\n",
              "    }\n",
              "\n",
              "    .dataframe tbody tr th {\n",
              "        vertical-align: top;\n",
              "    }\n",
              "\n",
              "    .dataframe thead th {\n",
              "        text-align: right;\n",
              "    }\n",
              "</style>\n",
              "<table border=\"1\" class=\"dataframe\">\n",
              "  <thead>\n",
              "    <tr style=\"text-align: right;\">\n",
              "      <th></th>\n",
              "      <th>Cabin</th>\n",
              "    </tr>\n",
              "    <tr>\n",
              "      <th>PassengerId</th>\n",
              "      <th></th>\n",
              "    </tr>\n",
              "  </thead>\n",
              "  <tbody>\n",
              "    <tr>\n",
              "      <th>1</th>\n",
              "      <td>0</td>\n",
              "    </tr>\n",
              "    <tr>\n",
              "      <th>2</th>\n",
              "      <td>C85</td>\n",
              "    </tr>\n",
              "    <tr>\n",
              "      <th>3</th>\n",
              "      <td>0</td>\n",
              "    </tr>\n",
              "    <tr>\n",
              "      <th>4</th>\n",
              "      <td>C123</td>\n",
              "    </tr>\n",
              "    <tr>\n",
              "      <th>5</th>\n",
              "      <td>0</td>\n",
              "    </tr>\n",
              "    <tr>\n",
              "      <th>...</th>\n",
              "      <td>...</td>\n",
              "    </tr>\n",
              "    <tr>\n",
              "      <th>887</th>\n",
              "      <td>0</td>\n",
              "    </tr>\n",
              "    <tr>\n",
              "      <th>888</th>\n",
              "      <td>B42</td>\n",
              "    </tr>\n",
              "    <tr>\n",
              "      <th>889</th>\n",
              "      <td>0</td>\n",
              "    </tr>\n",
              "    <tr>\n",
              "      <th>890</th>\n",
              "      <td>C148</td>\n",
              "    </tr>\n",
              "    <tr>\n",
              "      <th>891</th>\n",
              "      <td>0</td>\n",
              "    </tr>\n",
              "  </tbody>\n",
              "</table>\n",
              "<p>891 rows × 1 columns</p>\n",
              "</div><br><label><b>dtype:</b> object</label>"
            ]
          },
          "metadata": {},
          "execution_count": 55
        }
      ],
      "source": [
        "data['Cabin']"
      ]
    },
    {
      "cell_type": "code",
      "execution_count": 56,
      "metadata": {
        "id": "HZAaYeAe16DI"
      },
      "outputs": [],
      "source": [
        "def get_cabin_letter(df):\n",
        "    df['cabin_type'] = df.Cabin.map(lambda z: z[0])\n",
        "    return df\n",
        "\n",
        "\n",
        "data = get_cabin_letter(data)"
      ]
    },
    {
      "cell_type": "markdown",
      "metadata": {
        "id": "XPWVtLul16DJ"
      },
      "source": [
        "Выделим титул из имени пассажира и длину его имени."
      ]
    },
    {
      "cell_type": "code",
      "execution_count": 57,
      "metadata": {
        "id": "11qopJCo16DJ"
      },
      "outputs": [],
      "source": [
        "import re\n",
        "\n",
        "\n",
        "def find_title(name):\n",
        "    title_search = re.search(' ([A-Za-z]+)\\.', name)\n",
        "    return title_search.group(1).lower() if title_search else ''\n",
        "\n",
        "\n",
        "def get_title(df):\n",
        "    # выделение титула\n",
        "    df['title'] = df.Name.apply(find_title)\n",
        "    # подсчет длины имени\n",
        "    df['len_name'] = df.Name.str.len()\n",
        "    return df\n",
        "\n",
        "\n",
        "data = get_title(data)"
      ]
    },
    {
      "cell_type": "code",
      "execution_count": 58,
      "metadata": {
        "colab": {
          "base_uri": "https://localhost:8080/",
          "height": 533
        },
        "id": "QskNTI6oLfN8",
        "outputId": "3e361626-fa33-4135-f083-9c024442a7a6"
      },
      "outputs": [
        {
          "output_type": "display_data",
          "data": {
            "text/plain": [
              "<Figure size 1500x600 with 1 Axes>"
            ],
            "image/png": "[encoded data removed]"
          },
          "metadata": {}
        }
      ],
      "source": [
        "def normalize_count(row):\n",
        "    return row['grp_count'] / max_grp[row['title']]\n",
        "\n",
        "\n",
        "grp = data.groupby(['title', 'Survived'], as_index=False).Name.count()\n",
        "grp.columns = ['title', 'Survived', 'grp_count']\n",
        "g = grp.groupby('title', as_index=False).grp_count.sum()\n",
        "max_grp = {g.loc[ind, 'title']: g.loc[ind, 'grp_count'] for ind in g.index}\n",
        "# нормализация количества пассажиров по группам\n",
        "grp.grp_count = grp.apply(normalize_count, axis=1)\n",
        "fig, ax = plt.subplots(figsize=(15, 6))\n",
        "sns.barplot(x=\"title\", y='grp_count', hue=\"Survived\", data=grp)\n",
        "plt.show()"
      ]
    },
    {
      "cell_type": "markdown",
      "metadata": {
        "id": "0VipRNqJLfN8"
      },
      "source": [
        "Видим, что пассажиры с одними титулами выжило больше, чем с другими."
      ]
    },
    {
      "cell_type": "code",
      "execution_count": 59,
      "metadata": {
        "colab": {
          "base_uri": "https://localhost:8080/",
          "height": 535
        },
        "id": "flIQ5IyeLfN8",
        "outputId": "4423d1a6-2d2f-4486-88bf-30f1e6002ef0"
      },
      "outputs": [
        {
          "output_type": "display_data",
          "data": {
            "text/plain": [
              "<Figure size 1500x600 with 1 Axes>"
            ],
            "image/png": "[encoded data removed]"
          },
          "metadata": {}
        }
      ],
      "source": [
        "fig, ax = plt.subplots(figsize=(15, 6))\n",
        "sns.countplot(x=\"len_name\", hue=\"Survived\", data=data)\n",
        "plt.show()"
      ]
    },
    {
      "cell_type": "markdown",
      "metadata": {
        "id": "9dxmvGLxLfN8"
      },
      "source": [
        "Видим, что после определенной длины имени пассажиров больше выжило, чем погибло.  Т.е. богатые и титулованные особы, во времена Титаника чего только не добавляли в свои фамилии, так что если исходить из того что чем длиннее фамилия, тем богаче человек, то бросить все силы на спасение первого класса, выглядит вполне логичным."
      ]
    },
    {
      "cell_type": "markdown",
      "metadata": {
        "id": "_zbESUzf16DJ"
      },
      "source": [
        "## Кодирование категориальных признаков и обработка данных\n",
        "Все признаки сейчас делятся на числовые, бинарные, категориальные и текстовые. К текстовым признакам можно отнести имя пассажира, номер билета и номер каюты: значения этих признаков уникальны почти для всех пассажиров, и простого способа использовать их в модели не существует.\n",
        "\n",
        "### Задание 4 (0 баллов)\n",
        "Пока используя только изначальные признаки, перекодируйте категориальные признаки функцией ``pd.get_dummies``. Естественно, имена пассажиров и номера билетов и кают кодировать не стоит, поскольку все значения этих признаков уникальные."
      ]
    },
    {
      "cell_type": "code",
      "execution_count": 60,
      "metadata": {
        "id": "GXNL-Ak016DJ",
        "colab": {
          "base_uri": "https://localhost:8080/"
        },
        "outputId": "a51abebc-9428-4181-da9d-4c278cfc638e"
      },
      "outputs": [
        {
          "output_type": "execute_result",
          "data": {
            "text/plain": [
              "Index(['Pclass', 'Name', 'Sex', 'Age', 'SibSp', 'Parch', 'Ticket', 'Fare',\n",
              "       'Cabin', 'Embarked', 'Survived', 'cabin_type', 'title', 'len_name'],\n",
              "      dtype='object')"
            ]
          },
          "metadata": {},
          "execution_count": 60
        }
      ],
      "source": [
        "data.columns"
      ]
    },
    {
      "cell_type": "markdown",
      "metadata": {
        "id": "YLtzDDYE16DJ"
      },
      "source": [
        "## Обучение baseline-модели\n",
        "\n",
        "### Задание 5 (1 балл)\n",
        "\n",
        "Обучите одну из простых известных вам моделей. Измерьте качество полученной модели на кросс-валидации (используйте только обучающую выборку!)"
      ]
    },
    {
      "cell_type": "code",
      "execution_count": 61,
      "metadata": {
        "id": "PTT0sR5w16DK",
        "colab": {
          "base_uri": "https://localhost:8080/",
          "height": 535
        },
        "outputId": "7132367f-ba15-4350-de1f-aa5396b26dbd"
      },
      "outputs": [
        {
          "output_type": "execute_result",
          "data": {
            "text/plain": [
              "                                                          Name    Age  SibSp  \\\n",
              "PassengerId                                                                    \n",
              "1                                      Braund, Mr. Owen Harris 22.000      1   \n",
              "2            Cumings, Mrs. John Bradley (Florence Briggs Th... 38.000      1   \n",
              "3                                       Heikkinen, Miss. Laina 26.000      0   \n",
              "4                 Futrelle, Mrs. Jacques Heath (Lily May Peel) 35.000      1   \n",
              "5                                     Allen, Mr. William Henry 35.000      0   \n",
              "\n",
              "             Parch            Ticket   Fare Cabin  Survived  len_name  \\\n",
              "PassengerId                                                             \n",
              "1                0         A/5 21171  7.250     0         0        23   \n",
              "2                0          PC 17599 71.283   C85         1        51   \n",
              "3                0  STON/O2. 3101282  7.925     0         1        22   \n",
              "4                0            113803 53.100  C123         1        44   \n",
              "5                0            373450  8.050     0         0        24   \n",
              "\n",
              "             Pclass_2  Pclass_3  Sex_male  Embarked_C  Embarked_Q  Embarked_S  \\\n",
              "PassengerId                                                                     \n",
              "1               False      True      True       False       False        True   \n",
              "2               False     False     False        True       False       False   \n",
              "3               False      True     False       False       False        True   \n",
              "4               False     False     False       False       False        True   \n",
              "5               False      True      True       False       False        True   \n",
              "\n",
              "             cabin_type_A  cabin_type_B  cabin_type_C  cabin_type_D  \\\n",
              "PassengerId                                                           \n",
              "1                   False         False         False         False   \n",
              "2                   False         False          True         False   \n",
              "3                   False         False         False         False   \n",
              "4                   False         False          True         False   \n",
              "5                   False         False         False         False   \n",
              "\n",
              "             cabin_type_E  cabin_type_F  cabin_type_G  cabin_type_T  \\\n",
              "PassengerId                                                           \n",
              "1                   False         False         False         False   \n",
              "2                   False         False         False         False   \n",
              "3                   False         False         False         False   \n",
              "4                   False         False         False         False   \n",
              "5                   False         False         False         False   \n",
              "\n",
              "             title_col  title_countess  title_don  title_dr  title_jonkheer  \\\n",
              "PassengerId                                                                   \n",
              "1                False           False      False     False           False   \n",
              "2                False           False      False     False           False   \n",
              "3                False           False      False     False           False   \n",
              "4                False           False      False     False           False   \n",
              "5                False           False      False     False           False   \n",
              "\n",
              "             title_lady  title_major  title_master  title_miss  title_mlle  \\\n",
              "PassengerId                                                                  \n",
              "1                 False        False         False       False       False   \n",
              "2                 False        False         False       False       False   \n",
              "3                 False        False         False        True       False   \n",
              "4                 False        False         False       False       False   \n",
              "5                 False        False         False       False       False   \n",
              "\n",
              "             title_mme  title_mr  title_mrs  title_ms  title_rev  title_sir  \n",
              "PassengerId                                                                  \n",
              "1                False      True      False     False      False      False  \n",
              "2                False     False       True     False      False      False  \n",
              "3                False     False      False     False      False      False  \n",
              "4                False     False       True     False      False      False  \n",
              "5                False      True      False     False      False      False  "
            ],
            "text/html": [
              "\n",
              "  <div id=\"df-c2f6449a-cc6c-4dc3-8ade-6760bfed8066\" class=\"colab-df-container\">\n",
              "    <div>\n",
              "<style scoped>\n",
              "    .dataframe tbody tr th:only-of-type {\n",
              "        vertical-align: middle;\n",
              "    }\n",
              "\n",
              "    .dataframe tbody tr th {\n",
              "        vertical-align: top;\n",
              "    }\n",
              "\n",
              "    .dataframe thead th {\n",
              "        text-align: right;\n",
              "    }\n",
              "</style>\n",
              "<table border=\"1\" class=\"dataframe\">\n",
              "  <thead>\n",
              "    <tr style=\"text-align: right;\">\n",
              "      <th></th>\n",
              "      <th>Name</th>\n",
              "      <th>Age</th>\n",
              "      <th>SibSp</th>\n",
              "      <th>Parch</th>\n",
              "      <th>Ticket</th>\n",
              "      <th>Fare</th>\n",
              "      <th>Cabin</th>\n",
              "      <th>Survived</th>\n",
              "      <th>len_name</th>\n",
              "      <th>Pclass_2</th>\n",
              "      <th>Pclass_3</th>\n",
              "      <th>Sex_male</th>\n",
              "      <th>Embarked_C</th>\n",
              "      <th>Embarked_Q</th>\n",
              "      <th>Embarked_S</th>\n",
              "      <th>cabin_type_A</th>\n",
              "      <th>cabin_type_B</th>\n",
              "      <th>cabin_type_C</th>\n",
              "      <th>cabin_type_D</th>\n",
              "      <th>cabin_type_E</th>\n",
              "      <th>cabin_type_F</th>\n",
              "      <th>cabin_type_G</th>\n",
              "      <th>cabin_type_T</th>\n",
              "      <th>title_col</th>\n",
              "      <th>title_countess</th>\n",
              "      <th>title_don</th>\n",
              "      <th>title_dr</th>\n",
              "      <th>title_jonkheer</th>\n",
              "      <th>title_lady</th>\n",
              "      <th>title_major</th>\n",
              "      <th>title_master</th>\n",
              "      <th>title_miss</th>\n",
              "      <th>title_mlle</th>\n",
              "      <th>title_mme</th>\n",
              "      <th>title_mr</th>\n",
              "      <th>title_mrs</th>\n",
              "      <th>title_ms</th>\n",
              "      <th>title_rev</th>\n",
              "      <th>title_sir</th>\n",
              "    </tr>\n",
              "    <tr>\n",
              "      <th>PassengerId</th>\n",
              "      <th></th>\n",
              "      <th></th>\n",
              "      <th></th>\n",
              "      <th></th>\n",
              "      <th></th>\n",
              "      <th></th>\n",
              "      <th></th>\n",
              "      <th></th>\n",
              "      <th></th>\n",
              "      <th></th>\n",
              "      <th></th>\n",
              "      <th></th>\n",
              "      <th></th>\n",
              "      <th></th>\n",
              "      <th></th>\n",
              "      <th></th>\n",
              "      <th></th>\n",
              "      <th></th>\n",
              "      <th></th>\n",
              "      <th></th>\n",
              "      <th></th>\n",
              "      <th></th>\n",
              "      <th></th>\n",
              "      <th></th>\n",
              "      <th></th>\n",
              "      <th></th>\n",
              "      <th></th>\n",
              "      <th></th>\n",
              "      <th></th>\n",
              "      <th></th>\n",
              "      <th></th>\n",
              "      <th></th>\n",
              "      <th></th>\n",
              "      <th></th>\n",
              "      <th></th>\n",
              "      <th></th>\n",
              "      <th></th>\n",
              "      <th></th>\n",
              "      <th></th>\n",
              "    </tr>\n",
              "  </thead>\n",
              "  <tbody>\n",
              "    <tr>\n",
              "      <th>1</th>\n",
              "      <td>Braund, Mr. Owen Harris</td>\n",
              "      <td>22.000</td>\n",
              "      <td>1</td>\n",
              "      <td>0</td>\n",
              "      <td>A/5 21171</td>\n",
              "      <td>7.250</td>\n",
              "      <td>0</td>\n",
              "      <td>0</td>\n",
              "      <td>23</td>\n",
              "      <td>False</td>\n",
              "      <td>True</td>\n",
              "      <td>True</td>\n",
              "      <td>False</td>\n",
              "      <td>False</td>\n",
              "      <td>True</td>\n",
              "      <td>False</td>\n",
              "      <td>False</td>\n",
              "      <td>False</td>\n",
              "      <td>False</td>\n",
              "      <td>False</td>\n",
              "      <td>False</td>\n",
              "      <td>False</td>\n",
              "      <td>False</td>\n",
              "      <td>False</td>\n",
              "      <td>False</td>\n",
              "      <td>False</td>\n",
              "      <td>False</td>\n",
              "      <td>False</td>\n",
              "      <td>False</td>\n",
              "      <td>False</td>\n",
              "      <td>False</td>\n",
              "      <td>False</td>\n",
              "      <td>False</td>\n",
              "      <td>False</td>\n",
              "      <td>True</td>\n",
              "      <td>False</td>\n",
              "      <td>False</td>\n",
              "      <td>False</td>\n",
              "      <td>False</td>\n",
              "    </tr>\n",
              "    <tr>\n",
              "      <th>2</th>\n",
              "      <td>Cumings, Mrs. John Bradley (Florence Briggs Th...</td>\n",
              "      <td>38.000</td>\n",
              "      <td>1</td>\n",
              "      <td>0</td>\n",
              "      <td>PC 17599</td>\n",
              "      <td>71.283</td>\n",
              "      <td>C85</td>\n",
              "      <td>1</td>\n",
              "      <td>51</td>\n",
              "      <td>False</td>\n",
              "      <td>False</td>\n",
              "      <td>False</td>\n",
              "      <td>True</td>\n",
              "      <td>False</td>\n",
              "      <td>False</td>\n",
              "      <td>False</td>\n",
              "      <td>False</td>\n",
              "      <td>True</td>\n",
              "      <td>False</td>\n",
              "      <td>False</td>\n",
              "      <td>False</td>\n",
              "      <td>False</td>\n",
              "      <td>False</td>\n",
              "      <td>False</td>\n",
              "      <td>False</td>\n",
              "      <td>False</td>\n",
              "      <td>False</td>\n",
              "      <td>False</td>\n",
              "      <td>False</td>\n",
              "      <td>False</td>\n",
              "      <td>False</td>\n",
              "      <td>False</td>\n",
              "      <td>False</td>\n",
              "      <td>False</td>\n",
              "      <td>False</td>\n",
              "      <td>True</td>\n",
              "      <td>False</td>\n",
              "      <td>False</td>\n",
              "      <td>False</td>\n",
              "    </tr>\n",
              "    <tr>\n",
              "      <th>3</th>\n",
              "      <td>Heikkinen, Miss. Laina</td>\n",
              "      <td>26.000</td>\n",
              "      <td>0</td>\n",
              "      <td>0</td>\n",
              "      <td>STON/O2. 3101282</td>\n",
              "      <td>7.925</td>\n",
              "      <td>0</td>\n",
              "      <td>1</td>\n",
              "      <td>22</td>\n",
              "      <td>False</td>\n",
              "      <td>True</td>\n",
              "      <td>False</td>\n",
              "      <td>False</td>\n",
              "      <td>False</td>\n",
              "      <td>True</td>\n",
              "      <td>False</td>\n",
              "      <td>False</td>\n",
              "      <td>False</td>\n",
              "      <td>False</td>\n",
              "      <td>False</td>\n",
              "      <td>False</td>\n",
              "      <td>False</td>\n",
              "      <td>False</td>\n",
              "      <td>False</td>\n",
              "      <td>False</td>\n",
              "      <td>False</td>\n",
              "      <td>False</td>\n",
              "      <td>False</td>\n",
              "      <td>False</td>\n",
              "      <td>False</td>\n",
              "      <td>False</td>\n",
              "      <td>True</td>\n",
              "      <td>False</td>\n",
              "      <td>False</td>\n",
              "      <td>False</td>\n",
              "      <td>False</td>\n",
              "      <td>False</td>\n",
              "      <td>False</td>\n",
              "      <td>False</td>\n",
              "    </tr>\n",
              "    <tr>\n",
              "      <th>4</th>\n",
              "      <td>Futrelle, Mrs. Jacques Heath (Lily May Peel)</td>\n",
              "      <td>35.000</td>\n",
              "      <td>1</td>\n",
              "      <td>0</td>\n",
              "      <td>113803</td>\n",
              "      <td>53.100</td>\n",
              "      <td>C123</td>\n",
              "      <td>1</td>\n",
              "      <td>44</td>\n",
              "      <td>False</td>\n",
              "      <td>False</td>\n",
              "      <td>False</td>\n",
              "      <td>False</td>\n",
              "      <td>False</td>\n",
              "      <td>True</td>\n",
              "      <td>False</td>\n",
              "      <td>False</td>\n",
              "      <td>True</td>\n",
              "      <td>False</td>\n",
              "      <td>False</td>\n",
              "      <td>False</td>\n",
              "      <td>False</td>\n",
              "      <td>False</td>\n",
              "      <td>False</td>\n",
              "      <td>False</td>\n",
              "      <td>False</td>\n",
              "      <td>False</td>\n",
              "      <td>False</td>\n",
              "      <td>False</td>\n",
              "      <td>False</td>\n",
              "      <td>False</td>\n",
              "      <td>False</td>\n",
              "      <td>False</td>\n",
              "      <td>False</td>\n",
              "      <td>False</td>\n",
              "      <td>True</td>\n",
              "      <td>False</td>\n",
              "      <td>False</td>\n",
              "      <td>False</td>\n",
              "    </tr>\n",
              "    <tr>\n",
              "      <th>5</th>\n",
              "      <td>Allen, Mr. William Henry</td>\n",
              "      <td>35.000</td>\n",
              "      <td>0</td>\n",
              "      <td>0</td>\n",
              "      <td>373450</td>\n",
              "      <td>8.050</td>\n",
              "      <td>0</td>\n",
              "      <td>0</td>\n",
              "      <td>24</td>\n",
              "      <td>False</td>\n",
              "      <td>True</td>\n",
              "      <td>True</td>\n",
              "      <td>False</td>\n",
              "      <td>False</td>\n",
              "      <td>True</td>\n",
              "      <td>False</td>\n",
              "      <td>False</td>\n",
              "      <td>False</td>\n",
              "      <td>False</td>\n",
              "      <td>False</td>\n",
              "      <td>False</td>\n",
              "      <td>False</td>\n",
              "      <td>False</td>\n",
              "      <td>False</td>\n",
              "      <td>False</td>\n",
              "      <td>False</td>\n",
              "      <td>False</td>\n",
              "      <td>False</td>\n",
              "      <td>False</td>\n",
              "      <td>False</td>\n",
              "      <td>False</td>\n",
              "      <td>False</td>\n",
              "      <td>False</td>\n",
              "      <td>False</td>\n",
              "      <td>True</td>\n",
              "      <td>False</td>\n",
              "      <td>False</td>\n",
              "      <td>False</td>\n",
              "      <td>False</td>\n",
              "    </tr>\n",
              "  </tbody>\n",
              "</table>\n",
              "</div>\n",
              "    <div class=\"colab-df-buttons\">\n",
              "\n",
              "  <div class=\"colab-df-container\">\n",
              "    <button class=\"colab-df-convert\" onclick=\"convertToInteractive('df-c2f6449a-cc6c-4dc3-8ade-6760bfed8066')\"\n",
              "            title=\"Convert this dataframe to an interactive table.\"\n",
              "            style=\"display:none;\">\n",
              "\n",
              "  <svg xmlns=\"http://www.w3.org/2000/svg\" height=\"24px\" viewBox=\"0 -960 960 960\">\n",
              "    <path d=\"M120-120v-720h720v720H120Zm60-500h600v-160H180v160Zm220 220h160v-160H400v160Zm0 220h160v-160H400v160ZM180-400h160v-160H180v160Zm440 0h160v-160H620v160ZM180-180h160v-160H180v160Zm440 0h160v-160H620v160Z\"/>\n",
              "  </svg>\n",
              "    </button>\n",
              "\n",
              "  <style>\n",
              "    .colab-df-container {\n",
              "      display:flex;\n",
              "      gap: 12px;\n",
              "    }\n",
              "\n",
              "    .colab-df-convert {\n",
              "      background-color: #E8F0FE;\n",
              "      border: none;\n",
              "      border-radius: 50%;\n",
              "      cursor: pointer;\n",
              "      display: none;\n",
              "      fill: #1967D2;\n",
              "      height: 32px;\n",
              "      padding: 0 0 0 0;\n",
              "      width: 32px;\n",
              "    }\n",
              "\n",
              "    .colab-df-convert:hover {\n",
              "      background-color: #E2EBFA;\n",
              "      box-shadow: 0px 1px 2px rgba(60, 64, 67, 0.3), 0px 1px 3px 1px rgba(60, 64, 67, 0.15);\n",
              "      fill: #174EA6;\n",
              "    }\n",
              "\n",
              "    .colab-df-buttons div {\n",
              "      margin-bottom: 4px;\n",
              "    }\n",
              "\n",
              "    [theme=dark] .colab-df-convert {\n",
              "      background-color: #3B4455;\n",
              "      fill: #D2E3FC;\n",
              "    }\n",
              "\n",
              "    [theme=dark] .colab-df-convert:hover {\n",
              "      background-color: #434B5C;\n",
              "      box-shadow: 0px 1px 3px 1px rgba(0, 0, 0, 0.15);\n",
              "      filter: drop-shadow(0px 1px 2px rgba(0, 0, 0, 0.3));\n",
              "      fill: #FFFFFF;\n",
              "    }\n",
              "  </style>\n",
              "\n",
              "    <script>\n",
              "      const buttonEl =\n",
              "        document.querySelector('#df-c2f6449a-cc6c-4dc3-8ade-6760bfed8066 button.colab-df-convert');\n",
              "      buttonEl.style.display =\n",
              "        google.colab.kernel.accessAllowed ? 'block' : 'none';\n",
              "\n",
              "      async function convertToInteractive(key) {\n",
              "        const element = document.querySelector('#df-c2f6449a-cc6c-4dc3-8ade-6760bfed8066');\n",
              "        const dataTable =\n",
              "          await google.colab.kernel.invokeFunction('convertToInteractive',\n",
              "                                                    [key], {});\n",
              "        if (!dataTable) return;\n",
              "\n",
              "        const docLinkHtml = 'Like what you see? Visit the ' +\n",
              "          '<a target=\"_blank\" href=https://colab.research.google.com/notebooks/data_table.ipynb>data table notebook</a>'\n",
              "          + ' to learn more about interactive tables.';\n",
              "        element.innerHTML = '';\n",
              "        dataTable['output_type'] = 'display_data';\n",
              "        await google.colab.output.renderOutput(dataTable, element);\n",
              "        const docLink = document.createElement('div');\n",
              "        docLink.innerHTML = docLinkHtml;\n",
              "        element.appendChild(docLink);\n",
              "      }\n",
              "    </script>\n",
              "  </div>\n",
              "\n",
              "\n",
              "<div id=\"df-12db5ded-3782-40e4-8cce-40ceb63fe439\">\n",
              "  <button class=\"colab-df-quickchart\" onclick=\"quickchart('df-12db5ded-3782-40e4-8cce-40ceb63fe439')\"\n",
              "            title=\"Suggest charts\"\n",
              "            style=\"display:none;\">\n",
              "\n",
              "<svg xmlns=\"http://www.w3.org/2000/svg\" height=\"24px\"viewBox=\"0 0 24 24\"\n",
              "     width=\"24px\">\n",
              "    <g>\n",
              "        <path d=\"M19 3H5c-1.1 0-2 .9-2 2v14c0 1.1.9 2 2 2h14c1.1 0 2-.9 2-2V5c0-1.1-.9-2-2-2zM9 17H7v-7h2v7zm4 0h-2V7h2v10zm4 0h-2v-4h2v4z\"/>\n",
              "    </g>\n",
              "</svg>\n",
              "  </button>\n",
              "\n",
              "<style>\n",
              "  .colab-df-quickchart {\n",
              "      --bg-color: #E8F0FE;\n",
              "      --fill-color: #1967D2;\n",
              "      --hover-bg-color: #E2EBFA;\n",
              "      --hover-fill-color: #174EA6;\n",
              "      --disabled-fill-color: #AAA;\n",
              "      --disabled-bg-color: #DDD;\n",
              "  }\n",
              "\n",
              "  [theme=dark] .colab-df-quickchart {\n",
              "      --bg-color: #3B4455;\n",
              "      --fill-color: #D2E3FC;\n",
              "      --hover-bg-color: #434B5C;\n",
              "      --hover-fill-color: #FFFFFF;\n",
              "      --disabled-bg-color: #3B4455;\n",
              "      --disabled-fill-color: #666;\n",
              "  }\n",
              "\n",
              "  .colab-df-quickchart {\n",
              "    background-color: var(--bg-color);\n",
              "    border: none;\n",
              "    border-radius: 50%;\n",
              "    cursor: pointer;\n",
              "    display: none;\n",
              "    fill: var(--fill-color);\n",
              "    height: 32px;\n",
              "    padding: 0;\n",
              "    width: 32px;\n",
              "  }\n",
              "\n",
              "  .colab-df-quickchart:hover {\n",
              "    background-color: var(--hover-bg-color);\n",
              "    box-shadow: 0 1px 2px rgba(60, 64, 67, 0.3), 0 1px 3px 1px rgba(60, 64, 67, 0.15);\n",
              "    fill: var(--button-hover-fill-color);\n",
              "  }\n",
              "\n",
              "  .colab-df-quickchart-complete:disabled,\n",
              "  .colab-df-quickchart-complete:disabled:hover {\n",
              "    background-color: var(--disabled-bg-color);\n",
              "    fill: var(--disabled-fill-color);\n",
              "    box-shadow: none;\n",
              "  }\n",
              "\n",
              "  .colab-df-spinner {\n",
              "    border: 2px solid var(--fill-color);\n",
              "    border-color: transparent;\n",
              "    border-bottom-color: var(--fill-color);\n",
              "    animation:\n",
              "      spin 1s steps(1) infinite;\n",
              "  }\n",
              "\n",
              "  @keyframes spin {\n",
              "    0% {\n",
              "      border-color: transparent;\n",
              "      border-bottom-color: var(--fill-color);\n",
              "      border-left-color: var(--fill-color);\n",
              "    }\n",
              "    20% {\n",
              "      border-color: transparent;\n",
              "      border-left-color: var(--fill-color);\n",
              "      border-top-color: var(--fill-color);\n",
              "    }\n",
              "    30% {\n",
              "      border-color: transparent;\n",
              "      border-left-color: var(--fill-color);\n",
              "      border-top-color: var(--fill-color);\n",
              "      border-right-color: var(--fill-color);\n",
              "    }\n",
              "    40% {\n",
              "      border-color: transparent;\n",
              "      border-right-color: var(--fill-color);\n",
              "      border-top-color: var(--fill-color);\n",
              "    }\n",
              "    60% {\n",
              "      border-color: transparent;\n",
              "      border-right-color: var(--fill-color);\n",
              "    }\n",
              "    80% {\n",
              "      border-color: transparent;\n",
              "      border-right-color: var(--fill-color);\n",
              "      border-bottom-color: var(--fill-color);\n",
              "    }\n",
              "    90% {\n",
              "      border-color: transparent;\n",
              "      border-bottom-color: var(--fill-color);\n",
              "    }\n",
              "  }\n",
              "</style>\n",
              "\n",
              "  <script>\n",
              "    async function quickchart(key) {\n",
              "      const quickchartButtonEl =\n",
              "        document.querySelector('#' + key + ' button');\n",
              "      quickchartButtonEl.disabled = true;  // To prevent multiple clicks.\n",
              "      quickchartButtonEl.classList.add('colab-df-spinner');\n",
              "      try {\n",
              "        const charts = await google.colab.kernel.invokeFunction(\n",
              "            'suggestCharts', [key], {});\n",
              "      } catch (error) {\n",
              "        console.error('Error during call to suggestCharts:', error);\n",
              "      }\n",
              "      quickchartButtonEl.classList.remove('colab-df-spinner');\n",
              "      quickchartButtonEl.classList.add('colab-df-quickchart-complete');\n",
              "    }\n",
              "    (() => {\n",
              "      let quickchartButtonEl =\n",
              "        document.querySelector('#df-12db5ded-3782-40e4-8cce-40ceb63fe439 button');\n",
              "      quickchartButtonEl.style.display =\n",
              "        google.colab.kernel.accessAllowed ? 'block' : 'none';\n",
              "    })();\n",
              "  </script>\n",
              "</div>\n",
              "    </div>\n",
              "  </div>\n"
            ],
            "application/vnd.google.colaboratory.intrinsic+json": {
              "type": "dataframe",
              "variable_name": "train"
            }
          },
          "metadata": {},
          "execution_count": 61
        }
      ],
      "source": [
        "# Список признаков, которые нужно перекодировать\n",
        "categorical_cols = ['Pclass', 'Sex', 'Embarked', 'cabin_type', 'title']\n",
        "\n",
        "# Применение pd.get_dummies для категориальных признаков\n",
        "train = pd.get_dummies(data, columns=categorical_cols, drop_first=True)\n",
        "\n",
        "# Проверка результатов\n",
        "train.head()"
      ]
    },
    {
      "cell_type": "code",
      "execution_count": 62,
      "metadata": {
        "colab": {
          "base_uri": "https://localhost:8080/"
        },
        "id": "nibkt_tfLfN9",
        "outputId": "aecb068c-58f7-4dc2-8ca3-ddf0ea3e02c4"
      },
      "outputs": [
        {
          "output_type": "stream",
          "name": "stdout",
          "text": [
            "Кросс-валидация LogisticRegression: [0.808 0.832 0.848 0.766 0.839]\n",
            "Средняя точность на кросс-валидации: 0.819 ± 0.029\n",
            "Кросс-валидация SVC: [0.76  0.84  0.896 0.79  0.855]\n",
            "Средняя точность на кросс-валидации: 0.828 ± 0.048\n",
            "Кросс-валидация DecisionTreeClassifier: [0.736 0.784 0.752 0.734 0.71 ]\n",
            "Средняя точность на кросс-валидации: 0.743 ± 0.025\n"
          ]
        }
      ],
      "source": [
        "from sklearn.model_selection import train_test_split, cross_val_score\n",
        "from sklearn.linear_model import LogisticRegression\n",
        "from sklearn.tree import DecisionTreeClassifier\n",
        "from sklearn.svm import SVC\n",
        "from sklearn.preprocessing import StandardScaler\n",
        "\n",
        "\n",
        "def fit_model(model, train):\n",
        "    # Отделим целевую переменную и признаки\n",
        "    X = train.drop(columns=['Survived', 'Name', 'Ticket', 'Cabin'])\n",
        "    y = train['Survived']\n",
        "\n",
        "    # Разделение на обучающую и тестовую выборки (70% на обучение, 30% на тест)\n",
        "    X_train, X_test, y_train, y_test = train_test_split(X, y, test_size=0.3, random_state=127, stratify=y)\n",
        "\n",
        "    # Стандартизация признаков (это особенно важно для логистической регрессии)\n",
        "    scaler = StandardScaler()\n",
        "    X_train_scaled = scaler.fit_transform(X_train)\n",
        "    X_test_scaled = scaler.transform(X_test)\n",
        "\n",
        "    # Обучение модели\n",
        "    model.fit(X_train_scaled, y_train)\n",
        "\n",
        "    # Оценка качества модели с помощью кросс-валидации\n",
        "    cv_score = cross_val_score(model, X_train_scaled, y_train, cv=5)\n",
        "\n",
        "    # Вывод результатов\n",
        "    print(f\"Кросс-валидация {model.__class__.__name__}: {cv_score.round(3)}\")\n",
        "    print(f\"Средняя точность на кросс-валидации: {cv_score.mean():.3f} ± {cv_score.std():.3f}\")\n",
        "    return model\n",
        "\n",
        "\n",
        "log_reg = LogisticRegression(solver='sag', max_iter=1000, random_state=127)\n",
        "log_reg = fit_model(log_reg, train)\n",
        "\n",
        "svc = SVC(random_state=127)\n",
        "svc = fit_model(svc, train)\n",
        "\n",
        "clf_tree = DecisionTreeClassifier(criterion='entropy', random_state=127)\n",
        "clf_tree = fit_model(clf_tree, train)"
      ]
    },
    {
      "cell_type": "markdown",
      "metadata": {
        "id": "PTHGroZo16DK"
      },
      "source": [
        "### Задание 6 (1 балл)\n",
        "Добавьте в модель два новых сгенерированных признака. Если нужно, добавьте признаки, сгенерированные ohe-hot кодированием. Обучите ту же самую модель на расширенном множестве признаков. Улучшилось ли качество предсказания на кросс-валидации?"
      ]
    },
    {
      "cell_type": "markdown",
      "metadata": {
        "id": "T2_qHjmqLfN9"
      },
      "source": [
        "Посмотрим на распределение между признаками SibSp - Количество Братьев (Сестер) / Супругов на борту и Parch - Количество Родителей / Детей на борту."
      ]
    },
    {
      "cell_type": "code",
      "execution_count": 63,
      "metadata": {
        "colab": {
          "base_uri": "https://localhost:8080/",
          "height": 542
        },
        "id": "tmvaep-7LfN9",
        "outputId": "56c17237-e0ce-4f55-e3ea-54bd75467c0f"
      },
      "outputs": [
        {
          "output_type": "display_data",
          "data": {
            "text/plain": [
              "<Figure size 1000x600 with 1 Axes>"
            ],
            "image/png": "[encoded data removed]"
          },
          "metadata": {}
        }
      ],
      "source": [
        "import numpy as np\n",
        "\n",
        "# Создаем копию данных, чтобы не изменять оригинал\n",
        "train_jittered = train.copy()\n",
        "\n",
        "# Добавляем случайный шум к данным\n",
        "np.random.seed(42)  # Для воспроизводимости\n",
        "train_jittered[\"SibSp\"] += np.random.uniform(-0.3, 0.3, size=len(train))\n",
        "train_jittered[\"Parch\"] += np.random.uniform(-0.3, 0.3, size=len(train))\n",
        "\n",
        "fig, ax = plt.subplots(figsize=(10, 6))\n",
        "markers = {0: 'X', 1: 'o'}\n",
        "sns.scatterplot(\n",
        "    x=\"SibSp\",\n",
        "    y='Parch',\n",
        "    style=\"Survived\",\n",
        "    data=train_jittered,\n",
        "    alpha=0.7,\n",
        "    markers=markers,\n",
        "    s=300\n",
        ")\n",
        "plt.show()"
      ]
    },
    {
      "cell_type": "markdown",
      "metadata": {
        "id": "oUhcxUkILfN9"
      },
      "source": [
        "Похоже, что на выживаемость влияет как отсутствие родственников, так и большое их количество: выжившие имели по 1-3 родственнику на борту. Добавим признаки \"alone\" и \"family\" и посмотрим на графики."
      ]
    },
    {
      "cell_type": "code",
      "execution_count": 64,
      "metadata": {
        "colab": {
          "base_uri": "https://localhost:8080/",
          "height": 501
        },
        "id": "48486Z5nLfN-",
        "outputId": "f00b1369-62ac-42dd-cebc-38156580b284"
      },
      "outputs": [
        {
          "output_type": "display_data",
          "data": {
            "text/plain": [
              "<Figure size 1600x600 with 1 Axes>"
            ],
            "image/png": "[encoded data removed]"
          },
          "metadata": {}
        }
      ],
      "source": [
        "def family_category(x):\n",
        "    # категория семьи: 1-одиночка, 2-маленькая, 3-средняя, 4-большая\n",
        "    if x == 1:\n",
        "        return 1\n",
        "    elif 1 < x < 5:\n",
        "        return 2\n",
        "    elif 4 < x < 8:\n",
        "        return 3\n",
        "    else:\n",
        "        return 4\n",
        "\n",
        "\n",
        "def fare_category(x):\n",
        "    # категории по цене билета\n",
        "    if x < 6.35:\n",
        "        return 1\n",
        "    elif 6.35 < x < 8.75:\n",
        "        return 2\n",
        "    elif 8.75 < x < 21.25:\n",
        "        return 3\n",
        "    elif 21.25 < x < 30.55:\n",
        "        return 4\n",
        "    elif 30.55 < x < 35.25:\n",
        "        return 5\n",
        "    else:\n",
        "        return 6\n",
        "\n",
        "\n",
        "def age_category(x):\n",
        "    # возрастные категории\n",
        "    if x < 15.8:\n",
        "        return 1\n",
        "    elif 15.8 < x < 24.2:\n",
        "        return 2\n",
        "    elif 24.2 < x < 30.8:\n",
        "        return 3\n",
        "    elif 30.8 < x < 36.2:\n",
        "        return 4\n",
        "    elif 36.2 < x < 45.2:\n",
        "        return 5\n",
        "    elif 45.2 < x < 63.8:\n",
        "        return 6\n",
        "    return 7\n",
        "\n",
        "\n",
        "def add_features(df):\n",
        "    df['alone'] = df.apply(lambda x: 1 if x['SibSp']+x['Parch'] == 0 else 0, axis=1)\n",
        "    df['family'] = df.apply(lambda x: x['SibSp']+x['Parch']+1, axis=1)\n",
        "    # разбивка возрастов по категориям\n",
        "    df['idx_age'] = df.Age.apply(age_category)\n",
        "    # отдельно выделим пенсионеров\n",
        "    df['retirer'] = df.Age.map(lambda x: 1 if x > 63.8 else 0)\n",
        "    # разбивка семей по категориям\n",
        "    df['idx_family'] = df.family.apply(family_category)\n",
        "    df['is_cabin'] = df.Cabin.apply(lambda x: 1 if x != '0' else 0)\n",
        "    return df\n",
        "\n",
        "\n",
        "train = add_features(train)\n",
        "\n",
        "sns.countplot(x=\"alone\", hue=\"Survived\", data=train)\n",
        "plt.show()"
      ]
    },
    {
      "cell_type": "markdown",
      "metadata": {
        "id": "6K8Dc36LLfN-"
      },
      "source": [
        "Видим, что % выживаемости у пассажиров с родственниками выше в 2 раза, чем у одиноких пассажиров. Подтверждение этой гипотезы видно на следующем графике."
      ]
    },
    {
      "cell_type": "code",
      "execution_count": 65,
      "metadata": {
        "colab": {
          "base_uri": "https://localhost:8080/",
          "height": 465
        },
        "id": "OMlFCOpvLfN-",
        "outputId": "a966783a-608c-4b94-c49a-a5761f14ed23"
      },
      "outputs": [
        {
          "output_type": "display_data",
          "data": {
            "text/plain": [
              "<Figure size 1200x500 with 1 Axes>"
            ],
            "image/png": "[encoded data removed]"
          },
          "metadata": {}
        }
      ],
      "source": [
        "fig, ax = plt.subplots(figsize=(12, 5))\n",
        "sns.countplot(x=\"family\", hue=\"Survived\", data=train)\n",
        "plt.show()"
      ]
    },
    {
      "cell_type": "markdown",
      "metadata": {
        "id": "rdDpmOblLfN-"
      },
      "source": [
        "Посмотрим на выживаемость в зависимости от наличия номера каюты в целом по всем пассажирам и в разрезе по полу."
      ]
    },
    {
      "cell_type": "code",
      "execution_count": 66,
      "metadata": {
        "colab": {
          "base_uri": "https://localhost:8080/",
          "height": 390
        },
        "id": "IsEGp_L9LfN-",
        "outputId": "29c99b36-dc58-4b32-a629-86f49e0bcb81"
      },
      "outputs": [
        {
          "output_type": "display_data",
          "data": {
            "text/plain": [
              "<Figure size 1200x400 with 1 Axes>"
            ],
            "image/png": "[encoded data removed]"
          },
          "metadata": {}
        }
      ],
      "source": [
        "train['is_cabin'] = train.Cabin.apply(lambda x: 1 if x != '0' else 0)\n",
        "fig, ax = plt.subplots(figsize=(12, 4))\n",
        "sns.countplot(x=\"is_cabin\", hue=\"Survived\", data=train)\n",
        "plt.show()"
      ]
    },
    {
      "cell_type": "markdown",
      "metadata": {
        "id": "vRf9lrpvLfN-"
      },
      "source": [
        "У пассажиров с номером каюты % выживаемости выше,  а у женщин с номером каюты эта разница многократна."
      ]
    },
    {
      "cell_type": "code",
      "execution_count": 67,
      "metadata": {
        "colab": {
          "base_uri": "https://localhost:8080/",
          "height": 507
        },
        "id": "o6nf8V3ULfN_",
        "outputId": "ab38f584-8894-4cfa-ac80-92f4ffbe07b1"
      },
      "outputs": [
        {
          "output_type": "display_data",
          "data": {
            "text/plain": [
              "<Figure size 1072.11x500 with 2 Axes>"
            ],
            "image/png": "[encoded data removed]"
          },
          "metadata": {}
        }
      ],
      "source": [
        "sns.catplot(x=\"is_cabin\", hue=\"Survived\", col=\"Sex_male\", data=train, kind=\"count\")\n",
        "plt.show()"
      ]
    },
    {
      "cell_type": "code",
      "execution_count": 68,
      "metadata": {
        "colab": {
          "base_uri": "https://localhost:8080/"
        },
        "id": "ePVQK4KTLfN_",
        "outputId": "c44a7e3e-f373-4ad4-f600-28d3af7b1cd4"
      },
      "outputs": [
        {
          "output_type": "stream",
          "name": "stdout",
          "text": [
            "Кросс-валидация LogisticRegression: [0.776 0.848 0.832 0.782 0.847]\n",
            "Средняя точность на кросс-валидации: 0.817 ± 0.031\n",
            "Кросс-валидация SVC: [0.768 0.816 0.872 0.774 0.863]\n",
            "Средняя точность на кросс-валидации: 0.819 ± 0.043\n",
            "Кросс-валидация DecisionTreeClassifier: [0.752 0.76  0.768 0.718 0.734]\n",
            "Средняя точность на кросс-валидации: 0.746 ± 0.018\n"
          ]
        }
      ],
      "source": [
        "# Обучите ту же самую модель на расширенном множестве признаков.\n",
        "# Улучшилось ли качество предсказания на кросс-валидации?\n",
        "\n",
        "log_reg = LogisticRegression(solver='sag', max_iter=1000, random_state=127)\n",
        "log_reg = fit_model(log_reg, train)\n",
        "\n",
        "svc = SVC(random_state=127)\n",
        "svc = fit_model(svc, train)\n",
        "\n",
        "clf_tree = DecisionTreeClassifier(criterion='entropy', random_state=127)\n",
        "clf_tree = fit_model(clf_tree, train)"
      ]
    },
    {
      "cell_type": "markdown",
      "metadata": {
        "id": "FDqE0HJKLfN_"
      },
      "source": [
        "- Улучшилось ли качество предсказания на кросс-валидации?\n",
        "\n",
        "Для линейной модели качество на кросс-валидации не изменилось, т.к. линейная модель не в состоянии уловить нелинейные зависимости, а вот для деревьев решений качество чуть улучшилось."
      ]
    },
    {
      "cell_type": "markdown",
      "metadata": {
        "id": "s8Jl8rv416DK"
      },
      "source": [
        "## Дополнительное моделирование\n",
        "### Задание 7 (2 балла)\n",
        "Теперь более серьёзно подойдём к моделированию. Попробуйте несколько алгоритмов из тех, что мы проходили в курсе. Вам помогут ноутбуки с линейными алгоритмами и выбором модели. Хотя бы для одного алгоритма проведите подбор оптимального гиперпараметра."
      ]
    },
    {
      "cell_type": "code",
      "execution_count": 69,
      "metadata": {
        "id": "iHSIbb0g16DK",
        "colab": {
          "base_uri": "https://localhost:8080/"
        },
        "outputId": "be476e14-8b94-46d8-f9b5-bfbc7ffc10c7"
      },
      "outputs": [
        {
          "output_type": "stream",
          "name": "stdout",
          "text": [
            "Кросс-валидация RandomForestClassifier: [0.76  0.784 0.888 0.831 0.847]\n",
            "Средняя точность на кросс-валидации: 0.822 ± 0.045\n"
          ]
        }
      ],
      "source": [
        "from sklearn.ensemble import RandomForestClassifier\n",
        "\n",
        "forest = RandomForestClassifier(verbose=0, random_state=127)\n",
        "forest = fit_model(forest, train)"
      ]
    },
    {
      "cell_type": "markdown",
      "metadata": {
        "id": "VPcw62S216DK"
      },
      "source": [
        "## Результаты моделирования\n",
        "\n",
        "### Задание 8 (1 балл)\n",
        "Измерьте качество итоговой модели на кросс-валидации. Выполните предсказание на тестовом множестве и сохраните их в переменную ``y_test``. Измерьте итоговое качество на тестовом множестве."
      ]
    },
    {
      "cell_type": "code",
      "execution_count": 70,
      "metadata": {
        "colab": {
          "base_uri": "https://localhost:8080/"
        },
        "id": "2ySXkVFaLfN_",
        "outputId": "a4965441-0d11-4dfe-a5fe-d7f0dc464678"
      },
      "outputs": [
        {
          "output_type": "stream",
          "name": "stdout",
          "text": [
            "Кросс-валидация CatBoostClassifier: [0.744 0.856 0.888 0.831 0.815]\n",
            "Средняя точность на кросс-валидации: 0.827 ± 0.048\n"
          ]
        }
      ],
      "source": [
        "from catboost import CatBoostClassifier\n",
        "\n",
        "cat_clf = CatBoostClassifier(verbose=0, random_state=127)\n",
        "cat_clf = fit_model(cat_clf, train)"
      ]
    },
    {
      "cell_type": "markdown",
      "metadata": {
        "id": "id22UYMaLfN_"
      },
      "source": [
        "### Будем подбирать гиперпараметры \"по-взрослому\" с помощью optuna"
      ]
    },
    {
      "cell_type": "code",
      "execution_count": 71,
      "metadata": {
        "id": "9yUuws4ILfOA"
      },
      "outputs": [],
      "source": [
        "import optuna\n",
        "from optuna.integration import CatBoostPruningCallback\n",
        "from catboost import CatBoostClassifier, Pool\n",
        "\n",
        "\n",
        "def objective(trial: optuna.Trial) -> float:\n",
        "    params = {\n",
        "        \"depth\": trial.suggest_int(\"depth\", 3, 5),\n",
        "        \"learning_rate\": trial.suggest_float(\"learning_rate\", 0.01, 0.3),\n",
        "        \"l2_leaf_reg\": trial.suggest_float(\"l2_leaf_reg\", 0.1, 30),\n",
        "        \"border_count\": trial.suggest_int(\"border_count\", 64, 384),\n",
        "        \"random_strength\": trial.suggest_float(\"random_strength\", 0.1, 10),\n",
        "        \"one_hot_max_size\": trial.suggest_int(\"one_hot_max_size\", 3, 9),\n",
        "        \"rsm\": trial.suggest_float(\"rsm\", 0.5, 1.0),\n",
        "        \"boosting_type\": trial.suggest_categorical(\"boosting_type\", [\"Ordered\", \"Plain\"]),\n",
        "        \"bootstrap_type\": trial.suggest_categorical(\"bootstrap_type\",\n",
        "                                                    [\"Bayesian\", \"Bernoulli\", \"MVS\"]),\n",
        "        \"leaf_estimation_method\": trial.suggest_categorical(\"leaf_estimation_method\",\n",
        "                                                            [\"Newton\", \"Gradient\"]),\n",
        "    }\n",
        "\n",
        "    if params[\"bootstrap_type\"] == \"Bayesian\":\n",
        "        params[\"bagging_temperature\"] = trial.suggest_float(\"bagging_temperature\", 0.0, 20.0)\n",
        "    elif params[\"bootstrap_type\"] == \"Bernoulli\":\n",
        "        params[\"subsample\"] = trial.suggest_float(\"subsample\", 0.1, 1)\n",
        "\n",
        "    loss_function = \"Logloss\"\n",
        "    eval_metric = \"Accuracy\"\n",
        "\n",
        "    clf = CatBoostClassifier(\n",
        "        loss_function=loss_function,\n",
        "        eval_metric=eval_metric,\n",
        "        cat_features=column_dummies,\n",
        "        random_seed=127,\n",
        "        # task_type=\"GPU\",\n",
        "        **params\n",
        "    )\n",
        "\n",
        "    pruning_callback = CatBoostPruningCallback(trial, eval_metric)\n",
        "\n",
        "    clf.fit(pool_train, eval_set=pool_valid,\n",
        "            verbose=0,\n",
        "            early_stopping_rounds=50,\n",
        "            callbacks=[pruning_callback],\n",
        "            )\n",
        "\n",
        "    # evoke pruning manually.\n",
        "    pruning_callback.check_pruned()\n",
        "\n",
        "    return clf.best_score_['validation'][eval_metric]\n",
        "\n",
        "\n",
        "def change_title(row):\n",
        "    if row['Sex'] == 'female':\n",
        "        if row['title_cat'] in ['mme', 'countess', 'lady', 'dona', 'dr']:\n",
        "            return 'mrs'\n",
        "        elif row['title_cat'] in ['mlle', 'ms']:\n",
        "            return 'miss'\n",
        "        else:\n",
        "            return row['title_cat']\n",
        "    else:\n",
        "        if row['title_cat'] in ['capt', 'col', 'don', 'dr', 'major',\n",
        "                                'rev', 'sir', 'jonkheer']:\n",
        "            return 'other'\n",
        "        else:\n",
        "            return row['title_cat']\n",
        "\n",
        "\n",
        "def make_features(df):\n",
        "    # собрал обработку признаков в одном месте\n",
        "    df['Age'].fillna(df['Age'].median(), inplace = True)\n",
        "    df['Fare'].fillna(df['Fare'].median(), inplace = True)\n",
        "    df['Embarked'].fillna(df['Embarked'].value_counts().index[0], inplace = True)\n",
        "    df['Cabin'] = df.Cabin.fillna(\"U\").apply(lambda x: x[0])\n",
        "    df['Cabin'] = df.Cabin.apply(lambda x: \"A\" if x == \"T\" else x)\n",
        "    df = get_title(df)\n",
        "    df = add_features(df)\n",
        "    df = get_cabin_letter(df)\n",
        "    df['idx_fare'] = df.Fare.apply(fare_category)\n",
        "    # более крупная группировка по титулам\n",
        "    df['title_cat'] = df.title\n",
        "    df['title_cat'] = df.apply(change_title, axis=1)\n",
        "    return df\n",
        "\n",
        "\n",
        "column_dummies = ['Pclass',\n",
        "                  'Sex',\n",
        "                  'Embarked',\n",
        "                  'cabin_type',\n",
        "                  'title',\n",
        "                  'title_cat',\n",
        "                  'idx_family',\n",
        "                  'idx_fare',\n",
        "                  'idx_age',\n",
        "                  ]\n",
        "\n",
        "# Описание полей датасета:\n",
        "# PassengerId - ID пассажира\n",
        "# Survived - Пасажир выжил (1 = Да; 0 = Нет)\n",
        "# Pclass - Класс каюты пассажира (1 = Первый; 2 = Второй; 3 = Третий)\n",
        "# Name - фамилия, титул, имя\n",
        "# Sex - Пол\n",
        "# Age - Возраст\n",
        "# SibSp - Количество Братьев (Сестер) / Супругов на борту\n",
        "# Parch - Количество Родителей / Детей на борту\n",
        "# Ticket - номер билета\n",
        "# Fare - Пассажирский тариф\n",
        "# Cabin - каюта\n",
        "# Embarked - Порт посадки (C = Cherbourg; Q = Queenstown; S = Southampton)\n",
        "#\n",
        "# # добавленные поля:\n",
        "# title - титул\n",
        "# len_name - длина имени\n",
        "# alone - Пассажир путешествовал один (True = Да; False = Нет)\n",
        "# family - количество всех членов семьи\n",
        "# is_cabin - есть каюта (есть; нет) - для визуализации\n",
        "# title_cat - более крупная группировка по титулам\n",
        "# cabin - есть каюта (1 = Да; 0 = Нет)"
      ]
    },
    {
      "cell_type": "code",
      "execution_count": 72,
      "metadata": {
        "id": "mzXnJ6kqLfOA"
      },
      "outputs": [],
      "source": [
        "train_df = pd.read_csv('train.csv', index_col='PassengerId')\n",
        "test_df = pd.read_csv('test.csv', index_col='PassengerId')\n",
        "\n",
        "\n",
        "train_df = make_features(train_df)\n",
        "test_df = make_features(test_df)\n",
        "\n",
        "features2drop = ['Name', 'Ticket', 'Cabin',]\n",
        "\n",
        "model_columns = test_df.columns.tolist()\n",
        "\n",
        "train = train_df[model_columns].drop(columns=features2drop, errors='ignore')\n",
        "target = train_df['Survived']\n",
        "test_df = test_df[model_columns].drop(columns=features2drop, errors='ignore')"
      ]
    },
    {
      "cell_type": "code",
      "execution_count": 73,
      "metadata": {
        "colab": {
          "base_uri": "https://localhost:8080/"
        },
        "id": "1ebUvO9nLfOA",
        "outputId": "3d70db05-7b1a-4480-dc09-6f284633243b"
      },
      "outputs": [
        {
          "output_type": "stream",
          "name": "stdout",
          "text": [
            "X_train.shape (623, 18) пропусков: 0\n",
            "X_valid.shape (268, 18) пропусков: 0\n"
          ]
        }
      ],
      "source": [
        "X_train, X_valid, y_train, y_valid = train_test_split(train, target,\n",
        "                                                      test_size=0.3,\n",
        "                                                      stratify=y,\n",
        "                                                      random_state=127)\n",
        "\n",
        "print('X_train.shape', X_train.shape, 'пропусков:', X_train.isna().sum().sum())\n",
        "print('X_valid.shape', X_valid.shape, 'пропусков:', X_valid.isna().sum().sum())\n",
        "\n",
        "pool_train = Pool(data=X_train, label=y_train, cat_features=column_dummies)\n",
        "pool_valid = Pool(data=X_valid, label=y_valid, cat_features=column_dummies)"
      ]
    },
    {
      "cell_type": "code",
      "execution_count": 74,
      "metadata": {
        "colab": {
          "base_uri": "https://localhost:8080/",
          "height": 156,
          "referenced_widgets": [
            "c113e95bc113498b80a52498342fe073",
            "8daba5f457504eb7bba83605e43d06ad",
            "23451209b68c49c68f0c18b09c76b29f",
            "6536d3bfeacd4700954db94ff05899ac",
            "0e6c271ac4514272b6d82abc2d9bbecb",
            "0c689f4d67e24c819a8811b5724e648c",
            "78747240043349b0a13df60bd8c8d81f",
            "34dd0c7b523e46c18b6d2b11d681a31e",
            "6e00572a96ac4766a20b384e5690b136",
            "18e9c3b8dcae46acb98cdb14a53e1bc1",
            "7377d5af26294f988428632eec84b775"
          ]
        },
        "id": "TKQw_I9-LfOA",
        "outputId": "dfa8dae3-4554-4346-8996-5f2490a6901e"
      },
      "outputs": [
        {
          "output_type": "display_data",
          "data": {
            "text/plain": [
              "  0%|          | 0/200 [00:00<?, ?it/s]"
            ],
            "application/vnd.jupyter.widget-view+json": {
              "version_major": 2,
              "version_minor": 0,
              "model_id": "c113e95bc113498b80a52498342fe073"
            }
          },
          "metadata": {}
        },
        {
          "output_type": "stream",
          "name": "stdout",
          "text": [
            "Количество завершенных испытаний: 200\n",
            "Лучшее испытание:\n",
            "  Значение: 0.8619402985074627\n",
            "\n",
            "best_params = {'depth': 5, 'learning_rate': 0.23504834638926267, 'l2_leaf_reg': 5.699236806334827, 'border_count': 309, 'random_strength': 6.781290266094989, 'one_hot_max_size': 8, 'rsm': 0.923685364342143, 'boosting_type': 'Plain', 'bootstrap_type': 'Bernoulli', 'leaf_estimation_method': 'Newton', 'subsample': 0.38648121232986127}\n"
          ]
        }
      ],
      "source": [
        "# Установить уровень логирования Optuna на WARNING\n",
        "optuna.logging.set_verbosity(optuna.logging.WARNING)\n",
        "\n",
        "loss_function = \"Logloss\"\n",
        "eval_metric = \"Accuracy\"\n",
        "\n",
        "clf_params = dict(cat_features=column_dummies,\n",
        "                  loss_function=loss_function,\n",
        "                  eval_metric=eval_metric,\n",
        "                  early_stopping_rounds=100,\n",
        "                  random_seed=127,\n",
        "                  )\n",
        "\n",
        "# Выполнить оптимизацию гиперпараметров\n",
        "study = optuna.create_study(\n",
        "    pruner=optuna.pruners.MedianPruner(n_warmup_steps=5),\n",
        "    direction=\"maximize\",\n",
        "    sampler=optuna.samplers.TPESampler(seed=127)\n",
        ")\n",
        "study.optimize(objective,\n",
        "               n_trials=200,\n",
        "               timeout=600,\n",
        "               show_progress_bar=True,\n",
        "               )\n",
        "\n",
        "print(\"Количество завершенных испытаний: {}\".format(len(study.trials)))\n",
        "print(\"Лучшее испытание:\")\n",
        "trial = study.best_trial\n",
        "print(\"  Значение: {}\".format(trial.value))\n",
        "print(\"\\nbest_params =\", trial.params)\n",
        "\n",
        "clf_params.update(trial.params)"
      ]
    },
    {
      "cell_type": "code",
      "execution_count": 75,
      "metadata": {
        "colab": {
          "base_uri": "https://localhost:8080/",
          "height": 451,
          "referenced_widgets": [
            "52fc14558c7047a9bee4f54bc0861f52"
          ]
        },
        "id": "I1fUfjGYLfOA",
        "outputId": "63fdb2d2-d9c5-4bde-8b48-eadb781f4f86"
      },
      "outputs": [
        {
          "output_type": "display_data",
          "data": {
            "text/plain": [
              "MetricVisualizer(layout=Layout(align_self='stretch', height='500px'))"
            ],
            "application/vnd.jupyter.widget-view+json": {
              "version_major": 2,
              "version_minor": 0,
              "model_id": "52fc14558c7047a9bee4f54bc0861f52"
            }
          },
          "metadata": {}
        },
        {
          "output_type": "stream",
          "name": "stdout",
          "text": [
            "Training on fold [0/5]\n",
            "\n",
            "bestTest = 0.8212290503\n",
            "bestIteration = 0\n",
            "\n",
            "Training on fold [1/5]\n",
            "\n",
            "bestTest = 0.8659217877\n",
            "bestIteration = 63\n",
            "\n",
            "Training on fold [2/5]\n",
            "\n",
            "bestTest = 0.8595505618\n",
            "bestIteration = 51\n",
            "\n",
            "Training on fold [3/5]\n",
            "\n",
            "bestTest = 0.8820224719\n",
            "bestIteration = 20\n",
            "\n",
            "Training on fold [4/5]\n",
            "\n",
            "bestTest = 0.8361581921\n",
            "bestIteration = 69\n",
            "\n"
          ]
        }
      ],
      "source": [
        "from catboost import cv\n",
        "\n",
        "\n",
        "\n",
        "clf = CatBoostClassifier(verbose=0, **clf_params)\n",
        "\n",
        "\n",
        "cv_data = cv(\n",
        "    params=clf_params,\n",
        "    pool=Pool(train, label=target, cat_features=column_dummies),\n",
        "    fold_count=5, # Разбивка выборки на 5 кусочков\n",
        "    shuffle=True, # Перемешаем наши данные\n",
        "    partition_random_seed=127,\n",
        "    plot=True, # Никуда без визуализатора\n",
        "    stratified=True,\n",
        "    verbose=False,\n",
        ")\n"
      ]
    },
    {
      "cell_type": "code",
      "execution_count": 76,
      "metadata": {
        "colab": {
          "base_uri": "https://localhost:8080/"
        },
        "id": "ky2nepvFLfOB",
        "outputId": "2ab481f1-3000-4a9a-a6b5-34b79c5c4a8b"
      },
      "outputs": [
        {
          "output_type": "stream",
          "name": "stdout",
          "text": [
            "Средняя точность при обучении : 0.908 ± 0.000\n",
            "Средняя точность при валидации: 0.829 ± 0.006\n"
          ]
        }
      ],
      "source": [
        "# Извлечение информации о лучших итерациях для каждого фолда\n",
        "train_scores = cv_data['train-Accuracy-mean'].mean()\n",
        "train_std = cv_data['train-Accuracy-std'].mean()\n",
        "test_scores = cv_data['test-Accuracy-mean']\n",
        "test_std = cv_data['test-Accuracy-std']\n",
        "\n",
        "# Вывод результатов\n",
        "print(f\"Средняя точность при обучении : {train_scores.mean():.3f} ± {train_std.std():.3f}\")\n",
        "print(f\"Средняя точность при валидации: {test_scores.mean():.3f} ± {test_std.std():.3f}\")"
      ]
    },
    {
      "cell_type": "code",
      "execution_count": 77,
      "metadata": {
        "colab": {
          "base_uri": "https://localhost:8080/"
        },
        "id": "F0BFDn_CLfOB",
        "outputId": "88a82fd0-a75a-425a-a204-6d6d93b6e034"
      },
      "outputs": [
        {
          "output_type": "stream",
          "name": "stdout",
          "text": [
            "Точность на отложенной выборке: 0.862\n"
          ]
        }
      ],
      "source": [
        "from sklearn.metrics import f1_score, roc_auc_score, accuracy_score\n",
        "\n",
        "# Измерьте качество итоговой модели на кросс-валидации.\n",
        "# Выполните предсказание на тестовом множестве и сохраните их в переменную y_test.\n",
        "# Измерьте итоговое качество на тестовом множестве.\n",
        "\n",
        "clf.fit(pool_train, eval_set=pool_valid, verbose=0, early_stopping_rounds=50,)\n",
        "\n",
        "y_test = clf.predict(X_valid)\n",
        "\n",
        "print(f\"Точность на отложенной выборке: {accuracy_score(y_valid, y_test):.3f}\")"
      ]
    },
    {
      "cell_type": "markdown",
      "metadata": {
        "id": "e6n93nVF16DL"
      },
      "source": [
        "## Выводы\n",
        "### Задание 9 (3 балла)\n",
        "Сделайте выводы. Какие из идей сработали? Какие оказались лишними?"
      ]
    },
    {
      "cell_type": "markdown",
      "metadata": {
        "id": "5EAiqRPm16DL"
      },
      "source": [
        "Средняя точность на кросс-валидации для исходных данных:\n",
        "\n",
        "- LogisticRegression: 0.819 ± 0.029\n",
        "- SVC: 0.828 ± 0.048\n",
        "- DecisionTreeClassifier: 0.743 ± 0.025\n",
        "\n",
        "После добавления двух признаков, Средняя точность на кросс-валидации:\n",
        "\n",
        "- LogisticRegression: 0.817 ± 0.031\n",
        "- SVC: 0.819 ± 0.043\n",
        "- DecisionTreeClassifier: 0.746 ± 0.018\n",
        "- RandomForestClassifier: 0.822 ± 0.045\n",
        "- CatBoostClassifier: 0.827 ± 0.048\n",
        "\n",
        "После добавления еще признаков и подбора гиперпараметров для CatBoostClassifier:\n",
        "\n",
        "Средняя точность при обучении : 0.908 ± 0.000\n",
        "Средняя точность при валидации: 0.829 ± 0.006\n",
        "\n",
        "Точность на отложенной выборке: 0.862\n",
        "\n",
        "- Добавление новых признаков увеличило скор, но не на линейной модели, т.к. LogisticRegression не смогла уловить нелинейные зависимости. У метода опорных векторов SVC тоже уменьшился скор. Бустинги тут вне конкуренции.\n",
        "- Описание добавляемых признаков в виде комменатрие в коде.\n",
        "- Подбор гиперпараметров увеличивает скор, что естественно.\n",
        "- Для CatBoostClassifier использовались собственные средства для CV.\n",
        "- Для подбора гиперпараметров использовалась optuna, т.к. она позволяет не тупо перебирать параметры по сетке, а отсекает текущие ветки с обучением, которые станосятся хуже уже найденной модели.\n",
        "- Использование валидационного датасета при обучении препятствует переобучению модели, а использование ранней остановки - уменьшает время на обучение модели при подборе гиперпарамметров."
      ]
    },
    {
      "cell_type": "code",
      "execution_count": 78,
      "metadata": {
        "id": "mOu2q_nBLfOB"
      },
      "outputs": [],
      "source": [
        "# Формируем предсказания на тестовой выборке, записывыаем в файл сабмита и грузим на Каггл.\n",
        "test_df['Survived'] = clf.predict(test_df)\n",
        "test_df[['Survived']].to_csv('submission.csv')"
      ]
    },
    {
      "cell_type": "markdown",
      "metadata": {
        "id": "EmENNZ8DLfOB"
      },
      "source": [
        "### https://www.kaggle.com/competitions/titanic/submissions# --> Score: 0.75598\n",
        "\n",
        "#### P.S. Генерация дополнительных признаков, кроме существующих --> Score: 0.815 (это уже другая история)"
      ]
    },
    {
      "cell_type": "code",
      "execution_count": 78,
      "metadata": {
        "id": "CwBH9m-dLfOB"
      },
      "outputs": [],
      "source": []
    }
  ],
  "metadata": {
    "colab": {
      "provenance": [],
      "include_colab_link": true
    },
    "kernelspec": {
      "display_name": "Python 3 (ipykernel)",
      "language": "python",
      "name": "python3"
    },
    "language_info": {
      "codemirror_mode": {
        "name": "ipython",
        "version": 3
      },
      "file_extension": ".py",
      "mimetype": "text/x-python",
      "name": "python",
      "nbconvert_exporter": "python",
      "pygments_lexer": "ipython3",
      "version": "3.11.5"
    },
    "widgets": {
      "application/vnd.jupyter.widget-state+json": {
        "c113e95bc113498b80a52498342fe073": {
          "model_module": "@jupyter-widgets/controls",
          "model_name": "HBoxModel",
          "model_module_version": "1.5.0",
          "state": {
            "_dom_classes": [],
            "_model_module": "@jupyter-widgets/controls",
            "_model_module_version": "1.5.0",
            "_model_name": "HBoxModel",
            "_view_count": null,
            "_view_module": "@jupyter-widgets/controls",
            "_view_module_version": "1.5.0",
            "_view_name": "HBoxView",
            "box_style": "",
            "children": [
              "IPY_MODEL_8daba5f457504eb7bba83605e43d06ad",
              "IPY_MODEL_23451209b68c49c68f0c18b09c76b29f",
              "IPY_MODEL_6536d3bfeacd4700954db94ff05899ac"
            ],
            "layout": "IPY_MODEL_0e6c271ac4514272b6d82abc2d9bbecb"
          }
        },
        "8daba5f457504eb7bba83605e43d06ad": {
          "model_module": "@jupyter-widgets/controls",
          "model_name": "HTMLModel",
          "model_module_version": "1.5.0",
          "state": {
            "_dom_classes": [],
            "_model_module": "@jupyter-widgets/controls",
            "_model_module_version": "1.5.0",
            "_model_name": "HTMLModel",
            "_view_count": null,
            "_view_module": "@jupyter-widgets/controls",
            "_view_module_version": "1.5.0",
            "_view_name": "HTMLView",
            "description": "",
            "description_tooltip": null,
            "layout": "IPY_MODEL_0c689f4d67e24c819a8811b5724e648c",
            "placeholder": "​",
            "style": "IPY_MODEL_78747240043349b0a13df60bd8c8d81f",
            "value": "Best trial: 92. Best value: 0.86194: 100%"
          }
        },
        "23451209b68c49c68f0c18b09c76b29f": {
          "model_module": "@jupyter-widgets/controls",
          "model_name": "FloatProgressModel",
          "model_module_version": "1.5.0",
          "state": {
            "_dom_classes": [],
            "_model_module": "@jupyter-widgets/controls",
            "_model_module_version": "1.5.0",
            "_model_name": "FloatProgressModel",
            "_view_count": null,
            "_view_module": "@jupyter-widgets/controls",
            "_view_module_version": "1.5.0",
            "_view_name": "ProgressView",
            "bar_style": "success",
            "description": "",
            "description_tooltip": null,
            "layout": "IPY_MODEL_34dd0c7b523e46c18b6d2b11d681a31e",
            "max": 200,
            "min": 0,
            "orientation": "horizontal",
            "style": "IPY_MODEL_6e00572a96ac4766a20b384e5690b136",
            "value": 200
          }
        },
        "6536d3bfeacd4700954db94ff05899ac": {
          "model_module": "@jupyter-widgets/controls",
          "model_name": "HTMLModel",
          "model_module_version": "1.5.0",
          "state": {
            "_dom_classes": [],
            "_model_module": "@jupyter-widgets/controls",
            "_model_module_version": "1.5.0",
            "_model_name": "HTMLModel",
            "_view_count": null,
            "_view_module": "@jupyter-widgets/controls",
            "_view_module_version": "1.5.0",
            "_view_name": "HTMLView",
            "description": "",
            "description_tooltip": null,
            "layout": "IPY_MODEL_18e9c3b8dcae46acb98cdb14a53e1bc1",
            "placeholder": "​",
            "style": "IPY_MODEL_7377d5af26294f988428632eec84b775",
            "value": " 200/200 [00:51&lt;00:00,  5.64it/s, 51.97/600 seconds]"
          }
        },
        "0e6c271ac4514272b6d82abc2d9bbecb": {
          "model_module": "@jupyter-widgets/base",
          "model_name": "LayoutModel",
          "model_module_version": "1.2.0",
          "state": {
            "_model_module": "@jupyter-widgets/base",
            "_model_module_version": "1.2.0",
            "_model_name": "LayoutModel",
            "_view_count": null,
            "_view_module": "@jupyter-widgets/base",
            "_view_module_version": "1.2.0",
            "_view_name": "LayoutView",
            "align_content": null,
            "align_items": null,
            "align_self": null,
            "border": null,
            "bottom": null,
            "display": null,
            "flex": null,
            "flex_flow": null,
            "grid_area": null,
            "grid_auto_columns": null,
            "grid_auto_flow": null,
            "grid_auto_rows": null,
            "grid_column": null,
            "grid_gap": null,
            "grid_row": null,
            "grid_template_areas": null,
            "grid_template_columns": null,
            "grid_template_rows": null,
            "height": null,
            "justify_content": null,
            "justify_items": null,
            "left": null,
            "margin": null,
            "max_height": null,
            "max_width": null,
            "min_height": null,
            "min_width": null,
            "object_fit": null,
            "object_position": null,
            "order": null,
            "overflow": null,
            "overflow_x": null,
            "overflow_y": null,
            "padding": null,
            "right": null,
            "top": null,
            "visibility": null,
            "width": null
          }
        },
        "0c689f4d67e24c819a8811b5724e648c": {
          "model_module": "@jupyter-widgets/base",
          "model_name": "LayoutModel",
          "model_module_version": "1.2.0",
          "state": {
            "_model_module": "@jupyter-widgets/base",
            "_model_module_version": "1.2.0",
            "_model_name": "LayoutModel",
            "_view_count": null,
            "_view_module": "@jupyter-widgets/base",
            "_view_module_version": "1.2.0",
            "_view_name": "LayoutView",
            "align_content": null,
            "align_items": null,
            "align_self": null,
            "border": null,
            "bottom": null,
            "display": null,
            "flex": null,
            "flex_flow": null,
            "grid_area": null,
            "grid_auto_columns": null,
            "grid_auto_flow": null,
            "grid_auto_rows": null,
            "grid_column": null,
            "grid_gap": null,
            "grid_row": null,
            "grid_template_areas": null,
            "grid_template_columns": null,
            "grid_template_rows": null,
            "height": null,
            "justify_content": null,
            "justify_items": null,
            "left": null,
            "margin": null,
            "max_height": null,
            "max_width": null,
            "min_height": null,
            "min_width": null,
            "object_fit": null,
            "object_position": null,
            "order": null,
            "overflow": null,
            "overflow_x": null,
            "overflow_y": null,
            "padding": null,
            "right": null,
            "top": null,
            "visibility": null,
            "width": null
          }
        },
        "78747240043349b0a13df60bd8c8d81f": {
          "model_module": "@jupyter-widgets/controls",
          "model_name": "DescriptionStyleModel",
          "model_module_version": "1.5.0",
          "state": {
            "_model_module": "@jupyter-widgets/controls",
            "_model_module_version": "1.5.0",
            "_model_name": "DescriptionStyleModel",
            "_view_count": null,
            "_view_module": "@jupyter-widgets/base",
            "_view_module_version": "1.2.0",
            "_view_name": "StyleView",
            "description_width": ""
          }
        },
        "34dd0c7b523e46c18b6d2b11d681a31e": {
          "model_module": "@jupyter-widgets/base",
          "model_name": "LayoutModel",
          "model_module_version": "1.2.0",
          "state": {
            "_model_module": "@jupyter-widgets/base",
            "_model_module_version": "1.2.0",
            "_model_name": "LayoutModel",
            "_view_count": null,
            "_view_module": "@jupyter-widgets/base",
            "_view_module_version": "1.2.0",
            "_view_name": "LayoutView",
            "align_content": null,
            "align_items": null,
            "align_self": null,
            "border": null,
            "bottom": null,
            "display": null,
            "flex": null,
            "flex_flow": null,
            "grid_area": null,
            "grid_auto_columns": null,
            "grid_auto_flow": null,
            "grid_auto_rows": null,
            "grid_column": null,
            "grid_gap": null,
            "grid_row": null,
            "grid_template_areas": null,
            "grid_template_columns": null,
            "grid_template_rows": null,
            "height": null,
            "justify_content": null,
            "justify_items": null,
            "left": null,
            "margin": null,
            "max_height": null,
            "max_width": null,
            "min_height": null,
            "min_width": null,
            "object_fit": null,
            "object_position": null,
            "order": null,
            "overflow": null,
            "overflow_x": null,
            "overflow_y": null,
            "padding": null,
            "right": null,
            "top": null,
            "visibility": null,
            "width": null
          }
        },
        "6e00572a96ac4766a20b384e5690b136": {
          "model_module": "@jupyter-widgets/controls",
          "model_name": "ProgressStyleModel",
          "model_module_version": "1.5.0",
          "state": {
            "_model_module": "@jupyter-widgets/controls",
            "_model_module_version": "1.5.0",
            "_model_name": "ProgressStyleModel",
            "_view_count": null,
            "_view_module": "@jupyter-widgets/base",
            "_view_module_version": "1.2.0",
            "_view_name": "StyleView",
            "bar_color": null,
            "description_width": ""
          }
        },
        "18e9c3b8dcae46acb98cdb14a53e1bc1": {
          "model_module": "@jupyter-widgets/base",
          "model_name": "LayoutModel",
          "model_module_version": "1.2.0",
          "state": {
            "_model_module": "@jupyter-widgets/base",
            "_model_module_version": "1.2.0",
            "_model_name": "LayoutModel",
            "_view_count": null,
            "_view_module": "@jupyter-widgets/base",
            "_view_module_version": "1.2.0",
            "_view_name": "LayoutView",
            "align_content": null,
            "align_items": null,
            "align_self": null,
            "border": null,
            "bottom": null,
            "display": null,
            "flex": null,
            "flex_flow": null,
            "grid_area": null,
            "grid_auto_columns": null,
            "grid_auto_flow": null,
            "grid_auto_rows": null,
            "grid_column": null,
            "grid_gap": null,
            "grid_row": null,
            "grid_template_areas": null,
            "grid_template_columns": null,
            "grid_template_rows": null,
            "height": null,
            "justify_content": null,
            "justify_items": null,
            "left": null,
            "margin": null,
            "max_height": null,
            "max_width": null,
            "min_height": null,
            "min_width": null,
            "object_fit": null,
            "object_position": null,
            "order": null,
            "overflow": null,
            "overflow_x": null,
            "overflow_y": null,
            "padding": null,
            "right": null,
            "top": null,
            "visibility": null,
            "width": null
          }
        },
        "7377d5af26294f988428632eec84b775": {
          "model_module": "@jupyter-widgets/controls",
          "model_name": "DescriptionStyleModel",
          "model_module_version": "1.5.0",
          "state": {
            "_model_module": "@jupyter-widgets/controls",
            "_model_module_version": "1.5.0",
            "_model_name": "DescriptionStyleModel",
            "_view_count": null,
            "_view_module": "@jupyter-widgets/base",
            "_view_module_version": "1.2.0",
            "_view_name": "StyleView",
            "description_width": ""
          }
        },
        "52fc14558c7047a9bee4f54bc0861f52": {
          "model_module": "catboost-widget",
          "model_name": "CatboostWidgetModel",
          "model_module_version": "^1.0.0",
          "state": {
            "_dom_classes": [],
            "_model_module": "catboost-widget",
            "_model_module_version": "^1.0.0",
            "_model_name": "CatboostWidgetModel",
            "_view_count": null,
            "_view_module": "catboost-widget",
            "_view_module_version": "^1.0.0",
            "_view_name": "CatboostWidgetView",
            "data": {
              "catboost_info/fold-0": {
                "path": "catboost_info/fold-0",
                "name": "fold-0",
                "content": {
                  "passed_iterations": 100,
                  "total_iterations": 1000,
                  "data": {
                    "iterations": [
                      {
                        "learn": [
                          0.8103932584,
                          0.5924752572
                        ],
                        "iteration": 0,
                        "passed_time": 0.002580637441,
                        "remaining_time": 2.578056804,
                        "test": [
                          0.8212290503,
                          0.5906672943
                        ]
                      },
                      {
                        "learn": [
                          0.816011236,
                          0.5539294938
                        ],
                        "iteration": 1,
                        "passed_time": 0.004963678891,
                        "remaining_time": 2.476875766,
                        "test": [
                          0.8100558659,
                          0.550845088
                        ]
                      },
                      {
                        "learn": [
                          0.8019662921,
                          0.5104318139
                        ],
                        "iteration": 2,
                        "passed_time": 0.006967425922,
                        "remaining_time": 2.315507881,
                        "test": [
                          0.7932960894,
                          0.5126489712
                        ]
                      },
                      {
                        "learn": [
                          0.8117977528,
                          0.4655258101
                        ],
                        "iteration": 3,
                        "passed_time": 0.009281059147,
                        "remaining_time": 2.310983728,
                        "test": [
                          0.7988826816,
                          0.48304806
                        ]
                      },
                      {
                        "learn": [
                          0.8132022472,
                          0.4561079712
                        ],
                        "iteration": 4,
                        "passed_time": 0.01165229742,
                        "remaining_time": 2.318807186,
                        "test": [
                          0.7988826816,
                          0.4726578379
                        ]
                      },
                      {
                        "learn": [
                          0.808988764,
                          0.4433843985
                        ],
                        "iteration": 5,
                        "passed_time": 0.01396296621,
                        "remaining_time": 2.313198069,
                        "test": [
                          0.7988826816,
                          0.4637993706
                        ]
                      },
                      {
                        "learn": [
                          0.808988764,
                          0.4309736476
                        ],
                        "iteration": 6,
                        "passed_time": 0.01619207089,
                        "remaining_time": 2.296960913,
                        "test": [
                          0.7988826816,
                          0.4597190679
                        ]
                      },
                      {
                        "learn": [
                          0.808988764,
                          0.4217822782
                        ],
                        "iteration": 7,
                        "passed_time": 0.01943238099,
                        "remaining_time": 2.409615243,
                        "test": [
                          0.7988826816,
                          0.4533056216
                        ]
                      },
                      {
                        "learn": [
                          0.8202247191,
                          0.4127224704
                        ],
                        "iteration": 8,
                        "passed_time": 0.02173098843,
                        "remaining_time": 2.392823282,
                        "test": [
                          0.7932960894,
                          0.449081436
                        ]
                      },
                      {
                        "learn": [
                          0.827247191,
                          0.4097007652
                        ],
                        "iteration": 9,
                        "passed_time": 0.02387800356,
                        "remaining_time": 2.363922352,
                        "test": [
                          0.7932960894,
                          0.4489319966
                        ]
                      },
                      {
                        "learn": [
                          0.8384831461,
                          0.3996345305
                        ],
                        "iteration": 10,
                        "passed_time": 0.02606523804,
                        "remaining_time": 2.343501856,
                        "test": [
                          0.7988826816,
                          0.4454109628
                        ]
                      },
                      {
                        "learn": [
                          0.8356741573,
                          0.3959502737
                        ],
                        "iteration": 11,
                        "passed_time": 0.02851353969,
                        "remaining_time": 2.347614768,
                        "test": [
                          0.8044692737,
                          0.4414474933
                        ]
                      },
                      {
                        "learn": [
                          0.8342696629,
                          0.3933659947
                        ],
                        "iteration": 12,
                        "passed_time": 0.03089896377,
                        "remaining_time": 2.345944403,
                        "test": [
                          0.8100558659,
                          0.438060088
                        ]
                      },
                      {
                        "learn": [
                          0.8356741573,
                          0.3884076402
                        ],
                        "iteration": 13,
                        "passed_time": 0.03314162065,
                        "remaining_time": 2.334116997,
                        "test": [
                          0.8156424581,
                          0.4378940202
                        ]
                      },
                      {
                        "learn": [
                          0.8370786517,
                          0.3832323528
                        ],
                        "iteration": 14,
                        "passed_time": 0.03544621332,
                        "remaining_time": 2.327634675,
                        "test": [
                          0.8156424581,
                          0.4340029215
                        ]
                      },
                      {
                        "learn": [
                          0.8370786517,
                          0.380575697
                        ],
                        "iteration": 15,
                        "passed_time": 0.03768711572,
                        "remaining_time": 2.317757617,
                        "test": [
                          0.8156424581,
                          0.4329759141
                        ]
                      },
                      {
                        "learn": [
                          0.8412921348,
                          0.373426999
                        ],
                        "iteration": 16,
                        "passed_time": 0.03975756835,
                        "remaining_time": 2.298922923,
                        "test": [
                          0.8156424581,
                          0.4325408823
                        ]
                      },
                      {
                        "learn": [
                          0.8441011236,
                          0.3715859462
                        ],
                        "iteration": 17,
                        "passed_time": 0.04202951228,
                        "remaining_time": 2.292943392,
                        "test": [
                          0.8156424581,
                          0.4334366105
                        ]
                      },
                      {
                        "learn": [
                          0.8426966292,
                          0.3694568871
                        ],
                        "iteration": 18,
                        "passed_time": 0.0442131869,
                        "remaining_time": 2.28279665,
                        "test": [
                          0.8156424581,
                          0.4321563381
                        ]
                      },
                      {
                        "learn": [
                          0.8426966292,
                          0.3676353908
                        ],
                        "iteration": 19,
                        "passed_time": 0.04651598872,
                        "remaining_time": 2.279283447,
                        "test": [
                          0.8156424581,
                          0.4346793191
                        ]
                      },
                      {
                        "learn": [
                          0.8426966292,
                          0.3631176377
                        ],
                        "iteration": 20,
                        "passed_time": 0.04956591074,
                        "remaining_time": 2.310715553,
                        "test": [
                          0.8156424581,
                          0.438427817
                        ]
                      },
                      {
                        "learn": [
                          0.8412921348,
                          0.3614394048
                        ],
                        "iteration": 21,
                        "passed_time": 0.05189692238,
                        "remaining_time": 2.307054095,
                        "test": [
                          0.8100558659,
                          0.4380554445
                        ]
                      },
                      {
                        "learn": [
                          0.8412921348,
                          0.3614208903
                        ],
                        "iteration": 22,
                        "passed_time": 0.05344829419,
                        "remaining_time": 2.270390583,
                        "test": [
                          0.8100558659,
                          0.438019412
                        ]
                      },
                      {
                        "learn": [
                          0.8412921348,
                          0.3604650404
                        ],
                        "iteration": 23,
                        "passed_time": 0.05590682908,
                        "remaining_time": 2.273544383,
                        "test": [
                          0.8100558659,
                          0.4381874622
                        ]
                      },
                      {
                        "learn": [
                          0.8426966292,
                          0.3556066935
                        ],
                        "iteration": 24,
                        "passed_time": 0.05818567819,
                        "remaining_time": 2.26924145,
                        "test": [
                          0.8156424581,
                          0.4352270075
                        ]
                      },
                      {
                        "learn": [
                          0.8441011236,
                          0.3544381327
                        ],
                        "iteration": 25,
                        "passed_time": 0.06012379049,
                        "remaining_time": 2.25232969,
                        "test": [
                          0.8156424581,
                          0.4348403945
                        ]
                      },
                      {
                        "learn": [
                          0.845505618,
                          0.3529981801
                        ],
                        "iteration": 26,
                        "passed_time": 0.06242172796,
                        "remaining_time": 2.249494122,
                        "test": [
                          0.8156424581,
                          0.4336278462
                        ]
                      },
                      {
                        "learn": [
                          0.845505618,
                          0.3512947667
                        ],
                        "iteration": 27,
                        "passed_time": 0.06450068026,
                        "remaining_time": 2.239095043,
                        "test": [
                          0.8156424581,
                          0.4342206648
                        ]
                      },
                      {
                        "learn": [
                          0.8469101124,
                          0.3493288473
                        ],
                        "iteration": 28,
                        "passed_time": 0.06675143319,
                        "remaining_time": 2.235022125,
                        "test": [
                          0.8156424581,
                          0.4342136166
                        ]
                      },
                      {
                        "learn": [
                          0.8469101124,
                          0.3479452716
                        ],
                        "iteration": 29,
                        "passed_time": 0.06890383811,
                        "remaining_time": 2.227890766,
                        "test": [
                          0.8156424581,
                          0.4348363934
                        ]
                      },
                      {
                        "learn": [
                          0.8483146067,
                          0.3461772826
                        ],
                        "iteration": 30,
                        "passed_time": 0.07103956549,
                        "remaining_time": 2.220559321,
                        "test": [
                          0.8156424581,
                          0.434381897
                        ]
                      },
                      {
                        "learn": [
                          0.8511235955,
                          0.3428016672
                        ],
                        "iteration": 31,
                        "passed_time": 0.07356073069,
                        "remaining_time": 2.225212103,
                        "test": [
                          0.8100558659,
                          0.4366265596
                        ]
                      },
                      {
                        "learn": [
                          0.8525280899,
                          0.342548451
                        ],
                        "iteration": 32,
                        "passed_time": 0.0766529847,
                        "remaining_time": 2.246164734,
                        "test": [
                          0.8100558659,
                          0.4354634697
                        ]
                      },
                      {
                        "learn": [
                          0.8525280899,
                          0.3408624132
                        ],
                        "iteration": 33,
                        "passed_time": 0.08039463905,
                        "remaining_time": 2.284153568,
                        "test": [
                          0.8100558659,
                          0.4320578334
                        ]
                      },
                      {
                        "learn": [
                          0.8553370787,
                          0.3366667707
                        ],
                        "iteration": 34,
                        "passed_time": 0.08253407083,
                        "remaining_time": 2.275582239,
                        "test": [
                          0.8100558659,
                          0.4328428777
                        ]
                      },
                      {
                        "learn": [
                          0.8581460674,
                          0.332833908
                        ],
                        "iteration": 35,
                        "passed_time": 0.08478016303,
                        "remaining_time": 2.270224366,
                        "test": [
                          0.8156424581,
                          0.4329654202
                        ]
                      },
                      {
                        "learn": [
                          0.8623595506,
                          0.3309647937
                        ],
                        "iteration": 36,
                        "passed_time": 0.08710642122,
                        "remaining_time": 2.267121179,
                        "test": [
                          0.8156424581,
                          0.4344320606
                        ]
                      },
                      {
                        "learn": [
                          0.8651685393,
                          0.3289054709
                        ],
                        "iteration": 37,
                        "passed_time": 0.08938505398,
                        "remaining_time": 2.262853209,
                        "test": [
                          0.8100558659,
                          0.4326373501
                        ]
                      },
                      {
                        "learn": [
                          0.8637640449,
                          0.3260770066
                        ],
                        "iteration": 38,
                        "passed_time": 0.09164082945,
                        "remaining_time": 2.258124028,
                        "test": [
                          0.8100558659,
                          0.4344381328
                        ]
                      },
                      {
                        "learn": [
                          0.8693820225,
                          0.3236343367
                        ],
                        "iteration": 39,
                        "passed_time": 0.09390551638,
                        "remaining_time": 2.253732393,
                        "test": [
                          0.8156424581,
                          0.4344451972
                        ]
                      },
                      {
                        "learn": [
                          0.8665730337,
                          0.3219893499
                        ],
                        "iteration": 40,
                        "passed_time": 0.09620345658,
                        "remaining_time": 2.250222314,
                        "test": [
                          0.8156424581,
                          0.4372471647
                        ]
                      },
                      {
                        "learn": [
                          0.8679775281,
                          0.3205690468
                        ],
                        "iteration": 41,
                        "passed_time": 0.09843805741,
                        "remaining_time": 2.245325214,
                        "test": [
                          0.8100558659,
                          0.4380032158
                        ]
                      },
                      {
                        "learn": [
                          0.8707865169,
                          0.3131607402
                        ],
                        "iteration": 42,
                        "passed_time": 0.1007274797,
                        "remaining_time": 2.241772049,
                        "test": [
                          0.7877094972,
                          0.4415647528
                        ]
                      },
                      {
                        "learn": [
                          0.875,
                          0.3111837551
                        ],
                        "iteration": 43,
                        "passed_time": 0.1030635257,
                        "remaining_time": 2.239289332,
                        "test": [
                          0.7932960894,
                          0.4367375837
                        ]
                      },
                      {
                        "learn": [
                          0.8721910112,
                          0.3077216388
                        ],
                        "iteration": 44,
                        "passed_time": 0.1053253428,
                        "remaining_time": 2.23523783,
                        "test": [
                          0.7932960894,
                          0.439504297
                        ]
                      },
                      {
                        "learn": [
                          0.8764044944,
                          0.3041398966
                        ],
                        "iteration": 45,
                        "passed_time": 0.1074829521,
                        "remaining_time": 2.229102962,
                        "test": [
                          0.7988826816,
                          0.4399427897
                        ]
                      },
                      {
                        "learn": [
                          0.8806179775,
                          0.2993249643
                        ],
                        "iteration": 46,
                        "passed_time": 0.1095209487,
                        "remaining_time": 2.220712002,
                        "test": [
                          0.7877094972,
                          0.4411779042
                        ]
                      },
                      {
                        "learn": [
                          0.8778089888,
                          0.2974409087
                        ],
                        "iteration": 47,
                        "passed_time": 0.1116653875,
                        "remaining_time": 2.214696853,
                        "test": [
                          0.7877094972,
                          0.4423719887
                        ]
                      },
                      {
                        "learn": [
                          0.8820224719,
                          0.2949144366
                        ],
                        "iteration": 48,
                        "passed_time": 0.1138374935,
                        "remaining_time": 2.20937666,
                        "test": [
                          0.7877094972,
                          0.4418861279
                        ]
                      },
                      {
                        "learn": [
                          0.8820224719,
                          0.2941991748
                        ],
                        "iteration": 49,
                        "passed_time": 0.1160387211,
                        "remaining_time": 2.2047357,
                        "test": [
                          0.7932960894,
                          0.4423481332
                        ]
                      },
                      {
                        "learn": [
                          0.8806179775,
                          0.2909043151
                        ],
                        "iteration": 50,
                        "passed_time": 0.1185550056,
                        "remaining_time": 2.206052946,
                        "test": [
                          0.7988826816,
                          0.4401264197
                        ]
                      },
                      {
                        "learn": [
                          0.8834269663,
                          0.2893703726
                        ],
                        "iteration": 51,
                        "passed_time": 0.1207829357,
                        "remaining_time": 2.201965828,
                        "test": [
                          0.7932960894,
                          0.4394130836
                        ]
                      },
                      {
                        "learn": [
                          0.8848314607,
                          0.2881095914
                        ],
                        "iteration": 52,
                        "passed_time": 0.1231435562,
                        "remaining_time": 2.200319769,
                        "test": [
                          0.7877094972,
                          0.4398706496
                        ]
                      },
                      {
                        "learn": [
                          0.893258427,
                          0.2831762576
                        ],
                        "iteration": 53,
                        "passed_time": 0.1255792429,
                        "remaining_time": 2.199962292,
                        "test": [
                          0.782122905,
                          0.4340144373
                        ]
                      },
                      {
                        "learn": [
                          0.8946629213,
                          0.2804404413
                        ],
                        "iteration": 54,
                        "passed_time": 0.1277721972,
                        "remaining_time": 2.19535866,
                        "test": [
                          0.782122905,
                          0.4355561876
                        ]
                      },
                      {
                        "learn": [
                          0.8946629213,
                          0.2787328192
                        ],
                        "iteration": 55,
                        "passed_time": 0.1301400392,
                        "remaining_time": 2.193789232,
                        "test": [
                          0.782122905,
                          0.4363279779
                        ]
                      },
                      {
                        "learn": [
                          0.8960674157,
                          0.2777626601
                        ],
                        "iteration": 56,
                        "passed_time": 0.1323967783,
                        "remaining_time": 2.190353718,
                        "test": [
                          0.782122905,
                          0.4363504064
                        ]
                      },
                      {
                        "learn": [
                          0.8974719101,
                          0.2744496724
                        ],
                        "iteration": 57,
                        "passed_time": 0.1347544662,
                        "remaining_time": 2.188598399,
                        "test": [
                          0.7877094972,
                          0.4352911109
                        ]
                      },
                      {
                        "learn": [
                          0.8960674157,
                          0.2738668675
                        ],
                        "iteration": 58,
                        "passed_time": 0.1368527704,
                        "remaining_time": 2.182685712,
                        "test": [
                          0.7877094972,
                          0.4350308325
                        ]
                      },
                      {
                        "learn": [
                          0.8988764045,
                          0.2701725653
                        ],
                        "iteration": 59,
                        "passed_time": 0.1392012987,
                        "remaining_time": 2.180820346,
                        "test": [
                          0.7877094972,
                          0.4341865226
                        ]
                      },
                      {
                        "learn": [
                          0.9073033708,
                          0.2676847411
                        ],
                        "iteration": 60,
                        "passed_time": 0.1415822857,
                        "remaining_time": 2.179438791,
                        "test": [
                          0.7877094972,
                          0.4363145157
                        ]
                      },
                      {
                        "learn": [
                          0.9058988764,
                          0.2672519131
                        ],
                        "iteration": 61,
                        "passed_time": 0.1437948282,
                        "remaining_time": 2.175476595,
                        "test": [
                          0.7877094972,
                          0.436842977
                        ]
                      },
                      {
                        "learn": [
                          0.9016853933,
                          0.2618043482
                        ],
                        "iteration": 62,
                        "passed_time": 0.1459669133,
                        "remaining_time": 2.170968219,
                        "test": [
                          0.7932960894,
                          0.4417142387
                        ]
                      },
                      {
                        "learn": [
                          0.9030898876,
                          0.2612924281
                        ],
                        "iteration": 63,
                        "passed_time": 0.1481093968,
                        "remaining_time": 2.166099928,
                        "test": [
                          0.7932960894,
                          0.4424913965
                        ]
                      },
                      {
                        "learn": [
                          0.9058988764,
                          0.2580516702
                        ],
                        "iteration": 64,
                        "passed_time": 0.1501769095,
                        "remaining_time": 2.160237083,
                        "test": [
                          0.7932960894,
                          0.4443176817
                        ]
                      },
                      {
                        "learn": [
                          0.9101123596,
                          0.2571989547
                        ],
                        "iteration": 65,
                        "passed_time": 0.1524117476,
                        "remaining_time": 2.156857156,
                        "test": [
                          0.7932960894,
                          0.4435774204
                        ]
                      },
                      {
                        "learn": [
                          0.9073033708,
                          0.2538794751
                        ],
                        "iteration": 66,
                        "passed_time": 0.154639776,
                        "remaining_time": 2.153416582,
                        "test": [
                          0.7932960894,
                          0.4411438627
                        ]
                      },
                      {
                        "learn": [
                          0.9157303371,
                          0.2508183722
                        ],
                        "iteration": 67,
                        "passed_time": 0.1570166349,
                        "remaining_time": 2.152051526,
                        "test": [
                          0.7932960894,
                          0.4463919047
                        ]
                      },
                      {
                        "learn": [
                          0.9143258427,
                          0.2469240141
                        ],
                        "iteration": 68,
                        "passed_time": 0.1592535311,
                        "remaining_time": 2.148768659,
                        "test": [
                          0.7932960894,
                          0.4490605477
                        ]
                      },
                      {
                        "learn": [
                          0.9157303371,
                          0.2455972749
                        ],
                        "iteration": 69,
                        "passed_time": 0.1614786832,
                        "remaining_time": 2.145359649,
                        "test": [
                          0.7877094972,
                          0.4474308676
                        ]
                      },
                      {
                        "learn": [
                          0.9185393258,
                          0.2401991212
                        ],
                        "iteration": 70,
                        "passed_time": 0.163851156,
                        "remaining_time": 2.143911605,
                        "test": [
                          0.7932960894,
                          0.4511950198
                        ]
                      },
                      {
                        "learn": [
                          0.9185393258,
                          0.2379469722
                        ],
                        "iteration": 71,
                        "passed_time": 0.1689076913,
                        "remaining_time": 2.177032466,
                        "test": [
                          0.7932960894,
                          0.4513092526
                        ]
                      },
                      {
                        "learn": [
                          0.9213483146,
                          0.2360976158
                        ],
                        "iteration": 72,
                        "passed_time": 0.1713234624,
                        "remaining_time": 2.175573283,
                        "test": [
                          0.7932960894,
                          0.4530163338
                        ]
                      },
                      {
                        "learn": [
                          0.9199438202,
                          0.2328303901
                        ],
                        "iteration": 73,
                        "passed_time": 0.1739175648,
                        "remaining_time": 2.176319797,
                        "test": [
                          0.7877094972,
                          0.4510408498
                        ]
                      },
                      {
                        "learn": [
                          0.9199438202,
                          0.231280729
                        ],
                        "iteration": 74,
                        "passed_time": 0.176192395,
                        "remaining_time": 2.173039538,
                        "test": [
                          0.7877094972,
                          0.4503923074
                        ]
                      },
                      {
                        "learn": [
                          0.9199438202,
                          0.2292119089
                        ],
                        "iteration": 75,
                        "passed_time": 0.1785190659,
                        "remaining_time": 2.170416011,
                        "test": [
                          0.782122905,
                          0.4484213324
                        ]
                      },
                      {
                        "learn": [
                          0.922752809,
                          0.2258920127
                        ],
                        "iteration": 76,
                        "passed_time": 0.1807084912,
                        "remaining_time": 2.16615503,
                        "test": [
                          0.7877094972,
                          0.4507531583
                        ]
                      },
                      {
                        "learn": [
                          0.9269662921,
                          0.2202807131
                        ],
                        "iteration": 77,
                        "passed_time": 0.1829396576,
                        "remaining_time": 2.162440568,
                        "test": [
                          0.7932960894,
                          0.4506599646
                        ]
                      },
                      {
                        "learn": [
                          0.9297752809,
                          0.217846232
                        ],
                        "iteration": 78,
                        "passed_time": 0.1851666023,
                        "remaining_time": 2.15871444,
                        "test": [
                          0.7988826816,
                          0.4460959751
                        ]
                      },
                      {
                        "learn": [
                          0.9311797753,
                          0.2155049855
                        ],
                        "iteration": 79,
                        "passed_time": 0.1873376838,
                        "remaining_time": 2.154383364,
                        "test": [
                          0.8044692737,
                          0.4430742942
                        ]
                      },
                      {
                        "learn": [
                          0.9297752809,
                          0.2122142645
                        ],
                        "iteration": 80,
                        "passed_time": 0.1895873013,
                        "remaining_time": 2.150996666,
                        "test": [
                          0.8044692737,
                          0.4443853599
                        ]
                      },
                      {
                        "learn": [
                          0.9297752809,
                          0.2108885893
                        ],
                        "iteration": 81,
                        "passed_time": 0.1918118007,
                        "remaining_time": 2.147356501,
                        "test": [
                          0.7988826816,
                          0.4455569128
                        ]
                      },
                      {
                        "learn": [
                          0.9311797753,
                          0.2101053388
                        ],
                        "iteration": 82,
                        "passed_time": 0.1940421008,
                        "remaining_time": 2.143814535,
                        "test": [
                          0.7988826816,
                          0.444650687
                        ]
                      },
                      {
                        "learn": [
                          0.9325842697,
                          0.2082831285
                        ],
                        "iteration": 83,
                        "passed_time": 0.1962758326,
                        "remaining_time": 2.140341222,
                        "test": [
                          0.8044692737,
                          0.4448905074
                        ]
                      },
                      {
                        "learn": [
                          0.9353932584,
                          0.2066685269
                        ],
                        "iteration": 84,
                        "passed_time": 0.1984990357,
                        "remaining_time": 2.136783737,
                        "test": [
                          0.8044692737,
                          0.4474014357
                        ]
                      },
                      {
                        "learn": [
                          0.9367977528,
                          0.2044684892
                        ],
                        "iteration": 85,
                        "passed_time": 0.2006737379,
                        "remaining_time": 2.132741819,
                        "test": [
                          0.8044692737,
                          0.4483797355
                        ]
                      },
                      {
                        "learn": [
                          0.9396067416,
                          0.2028833199
                        ],
                        "iteration": 86,
                        "passed_time": 0.2029494326,
                        "remaining_time": 2.129802666,
                        "test": [
                          0.8100558659,
                          0.4466487801
                        ]
                      },
                      {
                        "learn": [
                          0.9396067416,
                          0.2022924054
                        ],
                        "iteration": 87,
                        "passed_time": 0.2051623752,
                        "remaining_time": 2.126228252,
                        "test": [
                          0.8100558659,
                          0.4490495848
                        ]
                      },
                      {
                        "learn": [
                          0.9382022472,
                          0.2003762388
                        ],
                        "iteration": 88,
                        "passed_time": 0.2074171716,
                        "remaining_time": 2.123112846,
                        "test": [
                          0.8044692737,
                          0.4512030244
                        ]
                      },
                      {
                        "learn": [
                          0.9396067416,
                          0.1992212353
                        ],
                        "iteration": 89,
                        "passed_time": 0.2097287303,
                        "remaining_time": 2.120590496,
                        "test": [
                          0.8044692737,
                          0.4508616389
                        ]
                      },
                      {
                        "learn": [
                          0.9396067416,
                          0.1975295937
                        ],
                        "iteration": 90,
                        "passed_time": 0.2120047641,
                        "remaining_time": 2.117717918,
                        "test": [
                          0.8044692737,
                          0.4512957924
                        ]
                      },
                      {
                        "learn": [
                          0.9396067416,
                          0.1969005121
                        ],
                        "iteration": 91,
                        "passed_time": 0.2141108735,
                        "remaining_time": 2.11318123,
                        "test": [
                          0.8044692737,
                          0.4495409425
                        ]
                      },
                      {
                        "learn": [
                          0.941011236,
                          0.1964777914
                        ],
                        "iteration": 92,
                        "passed_time": 0.216339901,
                        "remaining_time": 2.109895593,
                        "test": [
                          0.8044692737,
                          0.447780932
                        ]
                      },
                      {
                        "learn": [
                          0.941011236,
                          0.1944143408
                        ],
                        "iteration": 93,
                        "passed_time": 0.2184193969,
                        "remaining_time": 2.105191208,
                        "test": [
                          0.8044692737,
                          0.4485233325
                        ]
                      },
                      {
                        "learn": [
                          0.941011236,
                          0.1921336096
                        ],
                        "iteration": 94,
                        "passed_time": 0.2207397771,
                        "remaining_time": 2.102836824,
                        "test": [
                          0.8044692737,
                          0.4488969972
                        ]
                      },
                      {
                        "learn": [
                          0.9424157303,
                          0.1907472658
                        ],
                        "iteration": 95,
                        "passed_time": 0.2228531717,
                        "remaining_time": 2.098534034,
                        "test": [
                          0.8044692737,
                          0.452794165
                        ]
                      },
                      {
                        "learn": [
                          0.941011236,
                          0.1900478896
                        ],
                        "iteration": 96,
                        "passed_time": 0.2249947198,
                        "remaining_time": 2.094538474,
                        "test": [
                          0.8044692737,
                          0.4532206501
                        ]
                      },
                      {
                        "learn": [
                          0.9424157303,
                          0.1873430442
                        ],
                        "iteration": 97,
                        "passed_time": 0.2269460052,
                        "remaining_time": 2.088829558,
                        "test": [
                          0.7988826816,
                          0.4565670879
                        ]
                      },
                      {
                        "learn": [
                          0.9424157303,
                          0.1864507262
                        ],
                        "iteration": 98,
                        "passed_time": 0.2291279853,
                        "remaining_time": 2.085296109,
                        "test": [
                          0.7988826816,
                          0.4565766771
                        ]
                      },
                      {
                        "learn": [
                          0.9424157303,
                          0.1860666024
                        ],
                        "iteration": 99,
                        "passed_time": 0.2314759481,
                        "remaining_time": 2.083283533,
                        "test": [
                          0.7988826816,
                          0.4586826077
                        ]
                      },
                      {
                        "learn": [
                          0.9438202247,
                          0.1847432502
                        ],
                        "iteration": 100,
                        "passed_time": 0.2338008873,
                        "remaining_time": 2.081059383,
                        "test": [
                          0.7988826816,
                          0.4593814097
                        ]
                      }
                    ],
                    "meta": {
                      "test_sets": [
                        "test"
                      ],
                      "test_metrics": [
                        {
                          "best_value": "Max",
                          "name": "Accuracy"
                        },
                        {
                          "best_value": "Min",
                          "name": "Logloss"
                        }
                      ],
                      "learn_metrics": [
                        {
                          "best_value": "Max",
                          "name": "Accuracy"
                        },
                        {
                          "best_value": "Min",
                          "name": "Logloss"
                        }
                      ],
                      "launch_mode": "Train",
                      "parameters": "",
                      "iteration_count": 1000,
                      "learn_sets": [
                        "learn"
                      ],
                      "name": "experiment"
                    }
                  }
                }
              },
              "catboost_info/fold-1": {
                "path": "catboost_info/fold-1",
                "name": "fold-1",
                "content": {
                  "passed_iterations": 163,
                  "total_iterations": 1000,
                  "data": {
                    "iterations": [
                      {
                        "learn": [
                          0.8061797753,
                          0.596784238
                        ],
                        "iteration": 0,
                        "passed_time": 0.00261100354,
                        "remaining_time": 2.608392536,
                        "test": [
                          0.8156424581,
                          0.5922154457
                        ]
                      },
                      {
                        "learn": [
                          0.8103932584,
                          0.5574504605
                        ],
                        "iteration": 1,
                        "passed_time": 0.005260931937,
                        "remaining_time": 2.625205036,
                        "test": [
                          0.8268156425,
                          0.5506599885
                        ]
                      },
                      {
                        "learn": [
                          0.797752809,
                          0.5208033266
                        ],
                        "iteration": 2,
                        "passed_time": 0.007605147615,
                        "remaining_time": 2.527444057,
                        "test": [
                          0.8156424581,
                          0.5062259722
                        ]
                      },
                      {
                        "learn": [
                          0.8103932584,
                          0.4802558375
                        ],
                        "iteration": 3,
                        "passed_time": 0.009943846234,
                        "remaining_time": 2.476017712,
                        "test": [
                          0.8156424581,
                          0.4653907583
                        ]
                      },
                      {
                        "learn": [
                          0.8117977528,
                          0.468518083
                        ],
                        "iteration": 4,
                        "passed_time": 0.01215148447,
                        "remaining_time": 2.418145409,
                        "test": [
                          0.8268156425,
                          0.4583817004
                        ]
                      },
                      {
                        "learn": [
                          0.808988764,
                          0.4535836739
                        ],
                        "iteration": 5,
                        "passed_time": 0.01444467212,
                        "remaining_time": 2.393000681,
                        "test": [
                          0.8156424581,
                          0.4433708029
                        ]
                      },
                      {
                        "learn": [
                          0.8103932584,
                          0.4406731077
                        ],
                        "iteration": 6,
                        "passed_time": 0.01663760274,
                        "remaining_time": 2.360162789,
                        "test": [
                          0.8156424581,
                          0.4342616053
                        ]
                      },
                      {
                        "learn": [
                          0.8117977528,
                          0.4276958709
                        ],
                        "iteration": 7,
                        "passed_time": 0.01882931068,
                        "remaining_time": 2.334834525,
                        "test": [
                          0.8156424581,
                          0.4278080723
                        ]
                      },
                      {
                        "learn": [
                          0.8117977528,
                          0.4239973616
                        ],
                        "iteration": 8,
                        "passed_time": 0.02121140581,
                        "remaining_time": 2.335611462,
                        "test": [
                          0.8156424581,
                          0.4244749077
                        ]
                      },
                      {
                        "learn": [
                          0.8132022472,
                          0.4218784657
                        ],
                        "iteration": 9,
                        "passed_time": 0.0237244595,
                        "remaining_time": 2.34872149,
                        "test": [
                          0.8156424581,
                          0.422983007
                        ]
                      },
                      {
                        "learn": [
                          0.816011236,
                          0.4101663485
                        ],
                        "iteration": 10,
                        "passed_time": 0.02605788832,
                        "remaining_time": 2.34284105,
                        "test": [
                          0.8268156425,
                          0.4202754703
                        ]
                      },
                      {
                        "learn": [
                          0.816011236,
                          0.4078226028
                        ],
                        "iteration": 11,
                        "passed_time": 0.02809889664,
                        "remaining_time": 2.313475823,
                        "test": [
                          0.8268156425,
                          0.4182988934
                        ]
                      },
                      {
                        "learn": [
                          0.816011236,
                          0.407813588
                        ],
                        "iteration": 12,
                        "passed_time": 0.02940814235,
                        "remaining_time": 2.232756654,
                        "test": [
                          0.8268156425,
                          0.4182747198
                        ]
                      },
                      {
                        "learn": [
                          0.8286516854,
                          0.40362121
                        ],
                        "iteration": 13,
                        "passed_time": 0.03170576165,
                        "remaining_time": 2.232991499,
                        "test": [
                          0.8379888268,
                          0.4179126568
                        ]
                      },
                      {
                        "learn": [
                          0.8314606742,
                          0.3975478821
                        ],
                        "iteration": 14,
                        "passed_time": 0.03383642832,
                        "remaining_time": 2.22192546,
                        "test": [
                          0.8379888268,
                          0.4138588267
                        ]
                      },
                      {
                        "learn": [
                          0.8356741573,
                          0.3943610275
                        ],
                        "iteration": 15,
                        "passed_time": 0.03615528043,
                        "remaining_time": 2.223549747,
                        "test": [
                          0.843575419,
                          0.416167043
                        ]
                      },
                      {
                        "learn": [
                          0.8370786517,
                          0.3892392803
                        ],
                        "iteration": 16,
                        "passed_time": 0.03854191538,
                        "remaining_time": 2.228629578,
                        "test": [
                          0.8491620112,
                          0.4085496771
                        ]
                      },
                      {
                        "learn": [
                          0.8398876404,
                          0.3835285082
                        ],
                        "iteration": 17,
                        "passed_time": 0.04076487211,
                        "remaining_time": 2.223950245,
                        "test": [
                          0.8491620112,
                          0.4052244133
                        ]
                      },
                      {
                        "learn": [
                          0.8412921348,
                          0.3816205745
                        ],
                        "iteration": 18,
                        "passed_time": 0.04290509205,
                        "remaining_time": 2.215257647,
                        "test": [
                          0.843575419,
                          0.4042458166
                        ]
                      },
                      {
                        "learn": [
                          0.8412921348,
                          0.3815943912
                        ],
                        "iteration": 19,
                        "passed_time": 0.04421496319,
                        "remaining_time": 2.166533196,
                        "test": [
                          0.843575419,
                          0.4044059825
                        ]
                      },
                      {
                        "learn": [
                          0.8426966292,
                          0.3796831243
                        ],
                        "iteration": 20,
                        "passed_time": 0.0479785876,
                        "remaining_time": 2.23671606,
                        "test": [
                          0.843575419,
                          0.4046374517
                        ]
                      },
                      {
                        "learn": [
                          0.8469101124,
                          0.3769127422
                        ],
                        "iteration": 21,
                        "passed_time": 0.05112060514,
                        "remaining_time": 2.272543265,
                        "test": [
                          0.843575419,
                          0.4024253453
                        ]
                      },
                      {
                        "learn": [
                          0.8483146067,
                          0.3750099673
                        ],
                        "iteration": 22,
                        "passed_time": 0.05359473579,
                        "remaining_time": 2.276611168,
                        "test": [
                          0.843575419,
                          0.40133801
                        ]
                      },
                      {
                        "learn": [
                          0.8483146067,
                          0.3736236978
                        ],
                        "iteration": 23,
                        "passed_time": 0.05555540722,
                        "remaining_time": 2.259253227,
                        "test": [
                          0.843575419,
                          0.4010776803
                        ]
                      },
                      {
                        "learn": [
                          0.8469101124,
                          0.3695842147
                        ],
                        "iteration": 24,
                        "passed_time": 0.05777387049,
                        "remaining_time": 2.253180949,
                        "test": [
                          0.843575419,
                          0.4030957437
                        ]
                      },
                      {
                        "learn": [
                          0.8497191011,
                          0.3643788966
                        ],
                        "iteration": 25,
                        "passed_time": 0.0599736263,
                        "remaining_time": 2.246704308,
                        "test": [
                          0.843575419,
                          0.4050086007
                        ]
                      },
                      {
                        "learn": [
                          0.8469101124,
                          0.3634352558
                        ],
                        "iteration": 26,
                        "passed_time": 0.06201014206,
                        "remaining_time": 2.234661786,
                        "test": [
                          0.843575419,
                          0.4039419493
                        ]
                      },
                      {
                        "learn": [
                          0.8469101124,
                          0.3617894472
                        ],
                        "iteration": 27,
                        "passed_time": 0.06418284801,
                        "remaining_time": 2.228061724,
                        "test": [
                          0.843575419,
                          0.4059340178
                        ]
                      },
                      {
                        "learn": [
                          0.8497191011,
                          0.357785899
                        ],
                        "iteration": 28,
                        "passed_time": 0.06629842981,
                        "remaining_time": 2.219854322,
                        "test": [
                          0.843575419,
                          0.4067138271
                        ]
                      },
                      {
                        "learn": [
                          0.8483146067,
                          0.3550479394
                        ],
                        "iteration": 29,
                        "passed_time": 0.06859834357,
                        "remaining_time": 2.218013109,
                        "test": [
                          0.843575419,
                          0.4051289502
                        ]
                      },
                      {
                        "learn": [
                          0.8497191011,
                          0.35155881
                        ],
                        "iteration": 30,
                        "passed_time": 0.07088848134,
                        "remaining_time": 2.215836723,
                        "test": [
                          0.843575419,
                          0.4040842661
                        ]
                      },
                      {
                        "learn": [
                          0.8511235955,
                          0.3506791981
                        ],
                        "iteration": 31,
                        "passed_time": 0.07298007497,
                        "remaining_time": 2.207647268,
                        "test": [
                          0.843575419,
                          0.4060735446
                        ]
                      },
                      {
                        "learn": [
                          0.8511235955,
                          0.3476169747
                        ],
                        "iteration": 32,
                        "passed_time": 0.07515149642,
                        "remaining_time": 2.202166577,
                        "test": [
                          0.843575419,
                          0.4046025464
                        ]
                      },
                      {
                        "learn": [
                          0.8581460674,
                          0.3439382317
                        ],
                        "iteration": 33,
                        "passed_time": 0.07745180016,
                        "remaining_time": 2.200542322,
                        "test": [
                          0.843575419,
                          0.4022264432
                        ]
                      },
                      {
                        "learn": [
                          0.8581460674,
                          0.3399117669
                        ],
                        "iteration": 34,
                        "passed_time": 0.07957559528,
                        "remaining_time": 2.194012841,
                        "test": [
                          0.843575419,
                          0.4021288049
                        ]
                      },
                      {
                        "learn": [
                          0.8637640449,
                          0.3382409207
                        ],
                        "iteration": 35,
                        "passed_time": 0.08179490124,
                        "remaining_time": 2.190285689,
                        "test": [
                          0.843575419,
                          0.402173882
                        ]
                      },
                      {
                        "learn": [
                          0.8679775281,
                          0.3344990543
                        ],
                        "iteration": 36,
                        "passed_time": 0.08400455213,
                        "remaining_time": 2.186388749,
                        "test": [
                          0.843575419,
                          0.4019633015
                        ]
                      },
                      {
                        "learn": [
                          0.8679775281,
                          0.3335153607
                        ],
                        "iteration": 37,
                        "passed_time": 0.08629822612,
                        "remaining_time": 2.184707724,
                        "test": [
                          0.843575419,
                          0.4029420961
                        ]
                      },
                      {
                        "learn": [
                          0.8665730337,
                          0.3332603949
                        ],
                        "iteration": 38,
                        "passed_time": 0.08829193809,
                        "remaining_time": 2.17560391,
                        "test": [
                          0.8379888268,
                          0.4028404285
                        ]
                      },
                      {
                        "learn": [
                          0.8679775281,
                          0.3320576304
                        ],
                        "iteration": 39,
                        "passed_time": 0.09073496813,
                        "remaining_time": 2.177639235,
                        "test": [
                          0.8379888268,
                          0.4032312905
                        ]
                      },
                      {
                        "learn": [
                          0.8665730337,
                          0.3302943474
                        ],
                        "iteration": 40,
                        "passed_time": 0.0931616497,
                        "remaining_time": 2.179073709,
                        "test": [
                          0.8379888268,
                          0.4046001995
                        ]
                      },
                      {
                        "learn": [
                          0.8665730337,
                          0.3281389823
                        ],
                        "iteration": 41,
                        "passed_time": 0.09539775502,
                        "remaining_time": 2.175977364,
                        "test": [
                          0.8324022346,
                          0.4077237461
                        ]
                      },
                      {
                        "learn": [
                          0.8693820225,
                          0.3267007708
                        ],
                        "iteration": 42,
                        "passed_time": 0.09734415336,
                        "remaining_time": 2.166473367,
                        "test": [
                          0.8324022346,
                          0.4079670774
                        ]
                      },
                      {
                        "learn": [
                          0.8721910112,
                          0.3258246226
                        ],
                        "iteration": 43,
                        "passed_time": 0.09965087322,
                        "remaining_time": 2.1651417,
                        "test": [
                          0.8324022346,
                          0.4081144487
                        ]
                      },
                      {
                        "learn": [
                          0.8721910112,
                          0.3222182523
                        ],
                        "iteration": 44,
                        "passed_time": 0.10201294,
                        "remaining_time": 2.164941283,
                        "test": [
                          0.8379888268,
                          0.4065103558
                        ]
                      },
                      {
                        "learn": [
                          0.875,
                          0.3187424402
                        ],
                        "iteration": 45,
                        "passed_time": 0.1043039532,
                        "remaining_time": 2.163173291,
                        "test": [
                          0.8379888268,
                          0.4061510625
                        ]
                      },
                      {
                        "learn": [
                          0.8764044944,
                          0.3139603155
                        ],
                        "iteration": 46,
                        "passed_time": 0.1066246425,
                        "remaining_time": 2.161984773,
                        "test": [
                          0.843575419,
                          0.4062041357
                        ]
                      },
                      {
                        "learn": [
                          0.8778089888,
                          0.3125224519
                        ],
                        "iteration": 47,
                        "passed_time": 0.1086364892,
                        "remaining_time": 2.154623703,
                        "test": [
                          0.843575419,
                          0.4053344075
                        ]
                      },
                      {
                        "learn": [
                          0.8778089888,
                          0.3064759355
                        ],
                        "iteration": 48,
                        "passed_time": 0.1108738163,
                        "remaining_time": 2.151857129,
                        "test": [
                          0.8547486034,
                          0.4032575038
                        ]
                      },
                      {
                        "learn": [
                          0.8876404494,
                          0.301007376
                        ],
                        "iteration": 49,
                        "passed_time": 0.1131829225,
                        "remaining_time": 2.150475527,
                        "test": [
                          0.8547486034,
                          0.4054807238
                        ]
                      },
                      {
                        "learn": [
                          0.8876404494,
                          0.3007055079
                        ],
                        "iteration": 50,
                        "passed_time": 0.1154498984,
                        "remaining_time": 2.1482736,
                        "test": [
                          0.8547486034,
                          0.4054969479
                        ]
                      },
                      {
                        "learn": [
                          0.8862359551,
                          0.3000451613
                        ],
                        "iteration": 51,
                        "passed_time": 0.1179107541,
                        "remaining_time": 2.149603748,
                        "test": [
                          0.8547486034,
                          0.4057969763
                        ]
                      },
                      {
                        "learn": [
                          0.8862359551,
                          0.2991555965
                        ],
                        "iteration": 52,
                        "passed_time": 0.1204796202,
                        "remaining_time": 2.152720761,
                        "test": [
                          0.8547486034,
                          0.405454664
                        ]
                      },
                      {
                        "learn": [
                          0.8890449438,
                          0.2944430037
                        ],
                        "iteration": 53,
                        "passed_time": 0.1231467679,
                        "remaining_time": 2.157348934,
                        "test": [
                          0.8547486034,
                          0.410597375
                        ]
                      },
                      {
                        "learn": [
                          0.8918539326,
                          0.2924173473
                        ],
                        "iteration": 54,
                        "passed_time": 0.1259632162,
                        "remaining_time": 2.164277079,
                        "test": [
                          0.8603351955,
                          0.4105348672
                        ]
                      },
                      {
                        "learn": [
                          0.8890449438,
                          0.2902453842
                        ],
                        "iteration": 55,
                        "passed_time": 0.1315856006,
                        "remaining_time": 2.218157267,
                        "test": [
                          0.8603351955,
                          0.4092219195
                        ]
                      },
                      {
                        "learn": [
                          0.8890449438,
                          0.2891919679
                        ],
                        "iteration": 56,
                        "passed_time": 0.1344886573,
                        "remaining_time": 2.224961471,
                        "test": [
                          0.8603351955,
                          0.4069907848
                        ]
                      },
                      {
                        "learn": [
                          0.8918539326,
                          0.2871203031
                        ],
                        "iteration": 57,
                        "passed_time": 0.1377732439,
                        "remaining_time": 2.237627513,
                        "test": [
                          0.8603351955,
                          0.4073040439
                        ]
                      },
                      {
                        "learn": [
                          0.893258427,
                          0.2848249331
                        ],
                        "iteration": 58,
                        "passed_time": 0.1419485897,
                        "remaining_time": 2.26395971,
                        "test": [
                          0.8603351955,
                          0.4085501292
                        ]
                      },
                      {
                        "learn": [
                          0.8946629213,
                          0.2810116559
                        ],
                        "iteration": 59,
                        "passed_time": 0.1443602255,
                        "remaining_time": 2.261643532,
                        "test": [
                          0.8547486034,
                          0.4123559303
                        ]
                      },
                      {
                        "learn": [
                          0.8974719101,
                          0.2797597994
                        ],
                        "iteration": 60,
                        "passed_time": 0.1470231706,
                        "remaining_time": 2.263192741,
                        "test": [
                          0.8603351955,
                          0.4144145293
                        ]
                      },
                      {
                        "learn": [
                          0.8974719101,
                          0.2787919413
                        ],
                        "iteration": 61,
                        "passed_time": 0.1503142506,
                        "remaining_time": 2.274109146,
                        "test": [
                          0.8603351955,
                          0.4143363747
                        ]
                      },
                      {
                        "learn": [
                          0.8988764045,
                          0.2756505109
                        ],
                        "iteration": 62,
                        "passed_time": 0.153183945,
                        "remaining_time": 2.278307246,
                        "test": [
                          0.8603351955,
                          0.4192440126
                        ]
                      },
                      {
                        "learn": [
                          0.9002808989,
                          0.268302849
                        ],
                        "iteration": 63,
                        "passed_time": 0.1555766207,
                        "remaining_time": 2.275308077,
                        "test": [
                          0.8659217877,
                          0.4204522378
                        ]
                      },
                      {
                        "learn": [
                          0.9016853933,
                          0.2675547853
                        ],
                        "iteration": 64,
                        "passed_time": 0.1583352967,
                        "remaining_time": 2.277592344,
                        "test": [
                          0.8659217877,
                          0.4210490337
                        ]
                      },
                      {
                        "learn": [
                          0.8974719101,
                          0.2638737363
                        ],
                        "iteration": 65,
                        "passed_time": 0.1609145551,
                        "remaining_time": 2.277184764,
                        "test": [
                          0.8659217877,
                          0.4277638473
                        ]
                      },
                      {
                        "learn": [
                          0.9016853933,
                          0.2616920045
                        ],
                        "iteration": 66,
                        "passed_time": 0.1634842493,
                        "remaining_time": 2.276579173,
                        "test": [
                          0.8491620112,
                          0.4252675641
                        ]
                      },
                      {
                        "learn": [
                          0.9030898876,
                          0.2598763961
                        ],
                        "iteration": 67,
                        "passed_time": 0.1666463006,
                        "remaining_time": 2.284034591,
                        "test": [
                          0.8547486034,
                          0.4241785303
                        ]
                      },
                      {
                        "learn": [
                          0.9016853933,
                          0.255859042
                        ],
                        "iteration": 68,
                        "passed_time": 0.1731419975,
                        "remaining_time": 2.336162314,
                        "test": [
                          0.8547486034,
                          0.4270352471
                        ]
                      },
                      {
                        "learn": [
                          0.9016853933,
                          0.2552634378
                        ],
                        "iteration": 69,
                        "passed_time": 0.1763227445,
                        "remaining_time": 2.342573605,
                        "test": [
                          0.8547486034,
                          0.4269017106
                        ]
                      },
                      {
                        "learn": [
                          0.9016853933,
                          0.2526775999
                        ],
                        "iteration": 70,
                        "passed_time": 0.1798006526,
                        "remaining_time": 2.352602906,
                        "test": [
                          0.8547486034,
                          0.4294023223
                        ]
                      },
                      {
                        "learn": [
                          0.9073033708,
                          0.2509239209
                        ],
                        "iteration": 71,
                        "passed_time": 0.1838622119,
                        "remaining_time": 2.36977962,
                        "test": [
                          0.8491620112,
                          0.4321006023
                        ]
                      },
                      {
                        "learn": [
                          0.9087078652,
                          0.2476109219
                        ],
                        "iteration": 72,
                        "passed_time": 0.1879410377,
                        "remaining_time": 2.386593726,
                        "test": [
                          0.8547486034,
                          0.4340148625
                        ]
                      },
                      {
                        "learn": [
                          0.9115168539,
                          0.2436633935
                        ],
                        "iteration": 73,
                        "passed_time": 0.1917650898,
                        "remaining_time": 2.399655043,
                        "test": [
                          0.8547486034,
                          0.4339136193
                        ]
                      },
                      {
                        "learn": [
                          0.9101123596,
                          0.2429350282
                        ],
                        "iteration": 74,
                        "passed_time": 0.1939715717,
                        "remaining_time": 2.392316051,
                        "test": [
                          0.8547486034,
                          0.4349434722
                        ]
                      },
                      {
                        "learn": [
                          0.9129213483,
                          0.2394155746
                        ],
                        "iteration": 75,
                        "passed_time": 0.1974853994,
                        "remaining_time": 2.401006698,
                        "test": [
                          0.8491620112,
                          0.4333228036
                        ]
                      },
                      {
                        "learn": [
                          0.9129213483,
                          0.2373670758
                        ],
                        "iteration": 76,
                        "passed_time": 0.2007231114,
                        "remaining_time": 2.406070544,
                        "test": [
                          0.8491620112,
                          0.4320379146
                        ]
                      },
                      {
                        "learn": [
                          0.9143258427,
                          0.2342424312
                        ],
                        "iteration": 77,
                        "passed_time": 0.2038345911,
                        "remaining_time": 2.409429397,
                        "test": [
                          0.8491620112,
                          0.4322721836
                        ]
                      },
                      {
                        "learn": [
                          0.9157303371,
                          0.2339442399
                        ],
                        "iteration": 78,
                        "passed_time": 0.2063087826,
                        "remaining_time": 2.405194795,
                        "test": [
                          0.8491620112,
                          0.4322499273
                        ]
                      },
                      {
                        "learn": [
                          0.9157303371,
                          0.2331781643
                        ],
                        "iteration": 79,
                        "passed_time": 0.2089702142,
                        "remaining_time": 2.403157464,
                        "test": [
                          0.8491620112,
                          0.4330423128
                        ]
                      },
                      {
                        "learn": [
                          0.9185393258,
                          0.2318257257
                        ],
                        "iteration": 80,
                        "passed_time": 0.2124905644,
                        "remaining_time": 2.410849737,
                        "test": [
                          0.8491620112,
                          0.4347308061
                        ]
                      },
                      {
                        "learn": [
                          0.9185393258,
                          0.2291485898
                        ],
                        "iteration": 81,
                        "passed_time": 0.2154945346,
                        "remaining_time": 2.412487594,
                        "test": [
                          0.8491620112,
                          0.4356538497
                        ]
                      },
                      {
                        "learn": [
                          0.9199438202,
                          0.2286844726
                        ],
                        "iteration": 82,
                        "passed_time": 0.2180089246,
                        "remaining_time": 2.408604624,
                        "test": [
                          0.8491620112,
                          0.436227265
                        ]
                      },
                      {
                        "learn": [
                          0.9199438202,
                          0.2260258158
                        ],
                        "iteration": 83,
                        "passed_time": 0.2214707452,
                        "remaining_time": 2.415085745,
                        "test": [
                          0.8491620112,
                          0.4374297284
                        ]
                      },
                      {
                        "learn": [
                          0.9213483146,
                          0.2224508261
                        ],
                        "iteration": 84,
                        "passed_time": 0.2243329699,
                        "remaining_time": 2.414878441,
                        "test": [
                          0.8603351955,
                          0.4368488168
                        ]
                      },
                      {
                        "learn": [
                          0.9255617978,
                          0.2218914115
                        ],
                        "iteration": 85,
                        "passed_time": 0.2271685102,
                        "remaining_time": 2.414325795,
                        "test": [
                          0.8491620112,
                          0.4378668275
                        ]
                      },
                      {
                        "learn": [
                          0.9255617978,
                          0.219716838
                        ],
                        "iteration": 86,
                        "passed_time": 0.2297128118,
                        "remaining_time": 2.410664335,
                        "test": [
                          0.8491620112,
                          0.4387107239
                        ]
                      },
                      {
                        "learn": [
                          0.9283707865,
                          0.2170601763
                        ],
                        "iteration": 87,
                        "passed_time": 0.2324041686,
                        "remaining_time": 2.408552293,
                        "test": [
                          0.8491620112,
                          0.4419762256
                        ]
                      },
                      {
                        "learn": [
                          0.9311797753,
                          0.215821686
                        ],
                        "iteration": 88,
                        "passed_time": 0.2350009191,
                        "remaining_time": 2.405458846,
                        "test": [
                          0.8491620112,
                          0.4437803685
                        ]
                      },
                      {
                        "learn": [
                          0.9297752809,
                          0.2143706662
                        ],
                        "iteration": 89,
                        "passed_time": 0.2374634229,
                        "remaining_time": 2.401019054,
                        "test": [
                          0.8491620112,
                          0.4435890037
                        ]
                      },
                      {
                        "learn": [
                          0.9283707865,
                          0.2135127963
                        ],
                        "iteration": 90,
                        "passed_time": 0.2398269178,
                        "remaining_time": 2.395633718,
                        "test": [
                          0.8491620112,
                          0.4450461551
                        ]
                      },
                      {
                        "learn": [
                          0.9311797753,
                          0.2118236116
                        ],
                        "iteration": 91,
                        "passed_time": 0.2428407167,
                        "remaining_time": 2.396732291,
                        "test": [
                          0.8491620112,
                          0.4472553912
                        ]
                      },
                      {
                        "learn": [
                          0.933988764,
                          0.2104429983
                        ],
                        "iteration": 92,
                        "passed_time": 0.2453747823,
                        "remaining_time": 2.393063737,
                        "test": [
                          0.843575419,
                          0.4507520151
                        ]
                      },
                      {
                        "learn": [
                          0.9325842697,
                          0.2096286328
                        ],
                        "iteration": 93,
                        "passed_time": 0.2484321377,
                        "remaining_time": 2.394462944,
                        "test": [
                          0.843575419,
                          0.4528643701
                        ]
                      },
                      {
                        "learn": [
                          0.9297752809,
                          0.2072721401
                        ],
                        "iteration": 94,
                        "passed_time": 0.2517498984,
                        "remaining_time": 2.398249032,
                        "test": [
                          0.843575419,
                          0.453556555
                        ]
                      },
                      {
                        "learn": [
                          0.9311797753,
                          0.2054689918
                        ],
                        "iteration": 95,
                        "passed_time": 0.2542907683,
                        "remaining_time": 2.394571401,
                        "test": [
                          0.843575419,
                          0.4568589587
                        ]
                      },
                      {
                        "learn": [
                          0.9297752809,
                          0.2051116746
                        ],
                        "iteration": 96,
                        "passed_time": 0.2572444849,
                        "remaining_time": 2.394760514,
                        "test": [
                          0.843575419,
                          0.4563322616
                        ]
                      },
                      {
                        "learn": [
                          0.9325842697,
                          0.2049963531
                        ],
                        "iteration": 97,
                        "passed_time": 0.2610153909,
                        "remaining_time": 2.402406965,
                        "test": [
                          0.843575419,
                          0.4561869416
                        ]
                      },
                      {
                        "learn": [
                          0.9353932584,
                          0.2011107418
                        ],
                        "iteration": 98,
                        "passed_time": 0.2637146083,
                        "remaining_time": 2.400069314,
                        "test": [
                          0.843575419,
                          0.4585317979
                        ]
                      },
                      {
                        "learn": [
                          0.933988764,
                          0.1999616019
                        ],
                        "iteration": 99,
                        "passed_time": 0.2662696767,
                        "remaining_time": 2.39642709,
                        "test": [
                          0.843575419,
                          0.4604451557
                        ]
                      },
                      {
                        "learn": [
                          0.933988764,
                          0.1983239506
                        ],
                        "iteration": 100,
                        "passed_time": 0.2695897255,
                        "remaining_time": 2.399615478,
                        "test": [
                          0.843575419,
                          0.4631787342
                        ]
                      },
                      {
                        "learn": [
                          0.9353932584,
                          0.196791323
                        ],
                        "iteration": 101,
                        "passed_time": 0.273655081,
                        "remaining_time": 2.40923787,
                        "test": [
                          0.843575419,
                          0.4644499175
                        ]
                      },
                      {
                        "learn": [
                          0.9382022472,
                          0.1954674308
                        ],
                        "iteration": 102,
                        "passed_time": 0.2801097931,
                        "remaining_time": 2.439402761,
                        "test": [
                          0.8379888268,
                          0.4635703072
                        ]
                      },
                      {
                        "learn": [
                          0.9382022472,
                          0.1949789299
                        ],
                        "iteration": 103,
                        "passed_time": 0.2846551237,
                        "remaining_time": 2.452413373,
                        "test": [
                          0.8379888268,
                          0.4637720054
                        ]
                      },
                      {
                        "learn": [
                          0.9382022472,
                          0.1948453222
                        ],
                        "iteration": 104,
                        "passed_time": 0.2871737653,
                        "remaining_time": 2.447814476,
                        "test": [
                          0.8379888268,
                          0.4636225012
                        ]
                      },
                      {
                        "learn": [
                          0.9396067416,
                          0.1925930661
                        ],
                        "iteration": 105,
                        "passed_time": 0.2918273026,
                        "remaining_time": 2.461260457,
                        "test": [
                          0.8379888268,
                          0.4673482151
                        ]
                      },
                      {
                        "learn": [
                          0.9396067416,
                          0.1919308417
                        ],
                        "iteration": 106,
                        "passed_time": 0.2940340672,
                        "remaining_time": 2.453947869,
                        "test": [
                          0.8379888268,
                          0.4676988429
                        ]
                      },
                      {
                        "learn": [
                          0.941011236,
                          0.1908540316
                        ],
                        "iteration": 107,
                        "passed_time": 0.2963201006,
                        "remaining_time": 2.447384534,
                        "test": [
                          0.8379888268,
                          0.4675676828
                        ]
                      },
                      {
                        "learn": [
                          0.941011236,
                          0.1890548513
                        ],
                        "iteration": 108,
                        "passed_time": 0.2986270432,
                        "remaining_time": 2.4410706,
                        "test": [
                          0.843575419,
                          0.4674129398
                        ]
                      },
                      {
                        "learn": [
                          0.9424157303,
                          0.1873101506
                        ],
                        "iteration": 109,
                        "passed_time": 0.3008807369,
                        "remaining_time": 2.434398689,
                        "test": [
                          0.843575419,
                          0.4693194571
                        ]
                      },
                      {
                        "learn": [
                          0.9424157303,
                          0.1853225912
                        ],
                        "iteration": 110,
                        "passed_time": 0.3031475774,
                        "remaining_time": 2.427911678,
                        "test": [
                          0.843575419,
                          0.469048274
                        ]
                      },
                      {
                        "learn": [
                          0.941011236,
                          0.184210383
                        ],
                        "iteration": 111,
                        "passed_time": 0.3053039521,
                        "remaining_time": 2.420624192,
                        "test": [
                          0.843575419,
                          0.4697693596
                        ]
                      },
                      {
                        "learn": [
                          0.9424157303,
                          0.1821684028
                        ],
                        "iteration": 112,
                        "passed_time": 0.3074941819,
                        "remaining_time": 2.413693269,
                        "test": [
                          0.8491620112,
                          0.4734353108
                        ]
                      },
                      {
                        "learn": [
                          0.9424157303,
                          0.1813312526
                        ],
                        "iteration": 113,
                        "passed_time": 0.3096904597,
                        "remaining_time": 2.40689252,
                        "test": [
                          0.8491620112,
                          0.4744457586
                        ]
                      },
                      {
                        "learn": [
                          0.9438202247,
                          0.1811277177
                        ],
                        "iteration": 114,
                        "passed_time": 0.3119683234,
                        "remaining_time": 2.400799706,
                        "test": [
                          0.8491620112,
                          0.474233868
                        ]
                      },
                      {
                        "learn": [
                          0.9438202247,
                          0.1808605784
                        ],
                        "iteration": 115,
                        "passed_time": 0.3141785788,
                        "remaining_time": 2.394257445,
                        "test": [
                          0.8491620112,
                          0.4734970169
                        ]
                      },
                      {
                        "learn": [
                          0.9438202247,
                          0.1805030733
                        ],
                        "iteration": 116,
                        "passed_time": 0.31649828,
                        "remaining_time": 2.388615224,
                        "test": [
                          0.8491620112,
                          0.4746998371
                        ]
                      },
                      {
                        "learn": [
                          0.9452247191,
                          0.1789102946
                        ],
                        "iteration": 117,
                        "passed_time": 0.3191743028,
                        "remaining_time": 2.38569267,
                        "test": [
                          0.8491620112,
                          0.4770254585
                        ]
                      },
                      {
                        "learn": [
                          0.9438202247,
                          0.1780787722
                        ],
                        "iteration": 118,
                        "passed_time": 0.3217776967,
                        "remaining_time": 2.382236561,
                        "test": [
                          0.8491620112,
                          0.4755331292
                        ]
                      },
                      {
                        "learn": [
                          0.9452247191,
                          0.1772632243
                        ],
                        "iteration": 119,
                        "passed_time": 0.3240318876,
                        "remaining_time": 2.376233843,
                        "test": [
                          0.8547486034,
                          0.47363211
                        ]
                      },
                      {
                        "learn": [
                          0.9466292135,
                          0.175949219
                        ],
                        "iteration": 120,
                        "passed_time": 0.3262265118,
                        "remaining_time": 2.369860363,
                        "test": [
                          0.8491620112,
                          0.4738966091
                        ]
                      },
                      {
                        "learn": [
                          0.9452247191,
                          0.1751118928
                        ],
                        "iteration": 121,
                        "passed_time": 0.3286693801,
                        "remaining_time": 2.365341932,
                        "test": [
                          0.843575419,
                          0.4746620976
                        ]
                      },
                      {
                        "learn": [
                          0.9480337079,
                          0.1734648858
                        ],
                        "iteration": 122,
                        "passed_time": 0.3310574786,
                        "remaining_time": 2.360466738,
                        "test": [
                          0.8491620112,
                          0.4778303882
                        ]
                      },
                      {
                        "learn": [
                          0.9466292135,
                          0.1729724262
                        ],
                        "iteration": 123,
                        "passed_time": 0.3331850763,
                        "remaining_time": 2.353791345,
                        "test": [
                          0.8491620112,
                          0.4797680842
                        ]
                      },
                      {
                        "learn": [
                          0.9466292135,
                          0.1714379981
                        ],
                        "iteration": 124,
                        "passed_time": 0.3354929725,
                        "remaining_time": 2.348450807,
                        "test": [
                          0.8491620112,
                          0.481566374
                        ]
                      },
                      {
                        "learn": [
                          0.9480337079,
                          0.1705421201
                        ],
                        "iteration": 125,
                        "passed_time": 0.3377604057,
                        "remaining_time": 2.342877734,
                        "test": [
                          0.8491620112,
                          0.4818508755
                        ]
                      },
                      {
                        "learn": [
                          0.9480337079,
                          0.1703542253
                        ],
                        "iteration": 126,
                        "passed_time": 0.3401300985,
                        "remaining_time": 2.338059654,
                        "test": [
                          0.8491620112,
                          0.481930221
                        ]
                      },
                      {
                        "learn": [
                          0.9480337079,
                          0.1694200425
                        ],
                        "iteration": 127,
                        "passed_time": 0.3425679679,
                        "remaining_time": 2.333744281,
                        "test": [
                          0.8491620112,
                          0.4809503005
                        ]
                      },
                      {
                        "learn": [
                          0.9480337079,
                          0.1682506996
                        ],
                        "iteration": 128,
                        "passed_time": 0.3448822801,
                        "remaining_time": 2.328623767,
                        "test": [
                          0.843575419,
                          0.4824955596
                        ]
                      },
                      {
                        "learn": [
                          0.9494382022,
                          0.1673569276
                        ],
                        "iteration": 129,
                        "passed_time": 0.3478776397,
                        "remaining_time": 2.328104204,
                        "test": [
                          0.843575419,
                          0.4828326133
                        ]
                      },
                      {
                        "learn": [
                          0.9494382022,
                          0.167088825
                        ],
                        "iteration": 130,
                        "passed_time": 0.350050712,
                        "remaining_time": 2.322092128,
                        "test": [
                          0.843575419,
                          0.4835418
                        ]
                      },
                      {
                        "learn": [
                          0.9494382022,
                          0.1663100369
                        ],
                        "iteration": 131,
                        "passed_time": 0.3522336876,
                        "remaining_time": 2.31620334,
                        "test": [
                          0.843575419,
                          0.4841697514
                        ]
                      },
                      {
                        "learn": [
                          0.9494382022,
                          0.1658084437
                        ],
                        "iteration": 132,
                        "passed_time": 0.3542445071,
                        "remaining_time": 2.309248027,
                        "test": [
                          0.843575419,
                          0.484670141
                        ]
                      },
                      {
                        "learn": [
                          0.9550561798,
                          0.1642933575
                        ],
                        "iteration": 133,
                        "passed_time": 0.3565197463,
                        "remaining_time": 2.304075375,
                        "test": [
                          0.843575419,
                          0.4853880686
                        ]
                      },
                      {
                        "learn": [
                          0.9564606742,
                          0.1639527377
                        ],
                        "iteration": 134,
                        "passed_time": 0.360270953,
                        "remaining_time": 2.308402773,
                        "test": [
                          0.843575419,
                          0.4866373194
                        ]
                      },
                      {
                        "learn": [
                          0.9550561798,
                          0.1629799874
                        ],
                        "iteration": 135,
                        "passed_time": 0.3630336816,
                        "remaining_time": 2.306331624,
                        "test": [
                          0.8379888268,
                          0.4862640842
                        ]
                      },
                      {
                        "learn": [
                          0.9550561798,
                          0.1623895337
                        ],
                        "iteration": 136,
                        "passed_time": 0.3651970088,
                        "remaining_time": 2.300474588,
                        "test": [
                          0.8379888268,
                          0.4862071949
                        ]
                      },
                      {
                        "learn": [
                          0.9550561798,
                          0.1611948111
                        ],
                        "iteration": 137,
                        "passed_time": 0.3675189717,
                        "remaining_time": 2.295661983,
                        "test": [
                          0.843575419,
                          0.4866409625
                        ]
                      },
                      {
                        "learn": [
                          0.9550561798,
                          0.160324397
                        ],
                        "iteration": 138,
                        "passed_time": 0.3698120103,
                        "remaining_time": 2.290706049,
                        "test": [
                          0.8491620112,
                          0.4882903502
                        ]
                      },
                      {
                        "learn": [
                          0.9564606742,
                          0.1594789537
                        ],
                        "iteration": 139,
                        "passed_time": 0.3720314153,
                        "remaining_time": 2.285335837,
                        "test": [
                          0.8491620112,
                          0.4879042457
                        ]
                      },
                      {
                        "learn": [
                          0.9564606742,
                          0.1586649188
                        ],
                        "iteration": 140,
                        "passed_time": 0.3743914168,
                        "remaining_time": 2.280866858,
                        "test": [
                          0.8491620112,
                          0.4894681652
                        ]
                      },
                      {
                        "learn": [
                          0.9550561798,
                          0.1576136099
                        ],
                        "iteration": 141,
                        "passed_time": 0.3765562839,
                        "remaining_time": 2.275248533,
                        "test": [
                          0.8547486034,
                          0.4885378965
                        ]
                      },
                      {
                        "learn": [
                          0.9578651685,
                          0.1567105874
                        ],
                        "iteration": 142,
                        "passed_time": 0.3788367003,
                        "remaining_time": 2.270370994,
                        "test": [
                          0.8491620112,
                          0.4902028681
                        ]
                      },
                      {
                        "learn": [
                          0.9578651685,
                          0.1560648446
                        ],
                        "iteration": 143,
                        "passed_time": 0.3810361679,
                        "remaining_time": 2.265048331,
                        "test": [
                          0.8491620112,
                          0.4894970657
                        ]
                      },
                      {
                        "learn": [
                          0.9592696629,
                          0.1548989579
                        ],
                        "iteration": 144,
                        "passed_time": 0.3832496586,
                        "remaining_time": 2.259851435,
                        "test": [
                          0.8491620112,
                          0.4906712342
                        ]
                      },
                      {
                        "learn": [
                          0.9620786517,
                          0.1536613672
                        ],
                        "iteration": 145,
                        "passed_time": 0.3854215028,
                        "remaining_time": 2.254451804,
                        "test": [
                          0.8491620112,
                          0.4903849182
                        ]
                      },
                      {
                        "learn": [
                          0.9606741573,
                          0.1529048323
                        ],
                        "iteration": 146,
                        "passed_time": 0.3878275934,
                        "remaining_time": 2.250455355,
                        "test": [
                          0.8491620112,
                          0.4938579215
                        ]
                      },
                      {
                        "learn": [
                          0.9606741573,
                          0.1523178487
                        ],
                        "iteration": 147,
                        "passed_time": 0.3900644423,
                        "remaining_time": 2.245506114,
                        "test": [
                          0.8491620112,
                          0.4937103349
                        ]
                      },
                      {
                        "learn": [
                          0.9606741573,
                          0.151029284
                        ],
                        "iteration": 148,
                        "passed_time": 0.3923346908,
                        "remaining_time": 2.24078404,
                        "test": [
                          0.843575419,
                          0.4946075968
                        ]
                      },
                      {
                        "learn": [
                          0.9606741573,
                          0.1501518598
                        ],
                        "iteration": 149,
                        "passed_time": 0.3946101601,
                        "remaining_time": 2.23612424,
                        "test": [
                          0.843575419,
                          0.4946720109
                        ]
                      },
                      {
                        "learn": [
                          0.9620786517,
                          0.1498154354
                        ],
                        "iteration": 150,
                        "passed_time": 0.3968169392,
                        "remaining_time": 2.231109811,
                        "test": [
                          0.843575419,
                          0.4951749388
                        ]
                      },
                      {
                        "learn": [
                          0.9634831461,
                          0.1475871932
                        ],
                        "iteration": 151,
                        "passed_time": 0.3990780309,
                        "remaining_time": 2.22643533,
                        "test": [
                          0.843575419,
                          0.494407602
                        ]
                      },
                      {
                        "learn": [
                          0.9620786517,
                          0.1469808708
                        ],
                        "iteration": 152,
                        "passed_time": 0.4012718015,
                        "remaining_time": 2.221419711,
                        "test": [
                          0.843575419,
                          0.4963406362
                        ]
                      },
                      {
                        "learn": [
                          0.9634831461,
                          0.1453477806
                        ],
                        "iteration": 153,
                        "passed_time": 0.4034894848,
                        "remaining_time": 2.216572105,
                        "test": [
                          0.843575419,
                          0.4946054216
                        ]
                      },
                      {
                        "learn": [
                          0.9606741573,
                          0.144662293
                        ],
                        "iteration": 154,
                        "passed_time": 0.4057027028,
                        "remaining_time": 2.211734089,
                        "test": [
                          0.843575419,
                          0.4945315651
                        ]
                      },
                      {
                        "learn": [
                          0.9606741573,
                          0.1442152549
                        ],
                        "iteration": 155,
                        "passed_time": 0.4078403483,
                        "remaining_time": 2.206520859,
                        "test": [
                          0.843575419,
                          0.4940665188
                        ]
                      },
                      {
                        "learn": [
                          0.9620786517,
                          0.1435886021
                        ],
                        "iteration": 156,
                        "passed_time": 0.4100382132,
                        "remaining_time": 2.201670151,
                        "test": [
                          0.843575419,
                          0.4953562222
                        ]
                      },
                      {
                        "learn": [
                          0.9620786517,
                          0.1428291677
                        ],
                        "iteration": 157,
                        "passed_time": 0.4123261702,
                        "remaining_time": 2.197333135,
                        "test": [
                          0.843575419,
                          0.4970380869
                        ]
                      },
                      {
                        "learn": [
                          0.9634831461,
                          0.1419093861
                        ],
                        "iteration": 158,
                        "passed_time": 0.4145681916,
                        "remaining_time": 2.192778926,
                        "test": [
                          0.843575419,
                          0.4993502028
                        ]
                      },
                      {
                        "learn": [
                          0.9634831461,
                          0.1417877121
                        ],
                        "iteration": 159,
                        "passed_time": 0.4167780607,
                        "remaining_time": 2.188084819,
                        "test": [
                          0.843575419,
                          0.4993760314
                        ]
                      },
                      {
                        "learn": [
                          0.9634831461,
                          0.1404719522
                        ],
                        "iteration": 160,
                        "passed_time": 0.4191346177,
                        "remaining_time": 2.184185989,
                        "test": [
                          0.843575419,
                          0.5042300267
                        ]
                      },
                      {
                        "learn": [
                          0.9648876404,
                          0.1399327812
                        ],
                        "iteration": 161,
                        "passed_time": 0.4213237639,
                        "remaining_time": 2.179440211,
                        "test": [
                          0.843575419,
                          0.5064883479
                        ]
                      },
                      {
                        "learn": [
                          0.9648876404,
                          0.1398509651
                        ],
                        "iteration": 162,
                        "passed_time": 0.4235761386,
                        "remaining_time": 2.175050479,
                        "test": [
                          0.843575419,
                          0.5065131868
                        ]
                      },
                      {
                        "learn": [
                          0.9648876404,
                          0.139253839
                        ],
                        "iteration": 163,
                        "passed_time": 0.4257950882,
                        "remaining_time": 2.170516425,
                        "test": [
                          0.843575419,
                          0.5072613267
                        ]
                      }
                    ],
                    "meta": {
                      "test_sets": [
                        "test"
                      ],
                      "test_metrics": [
                        {
                          "best_value": "Max",
                          "name": "Accuracy"
                        },
                        {
                          "best_value": "Min",
                          "name": "Logloss"
                        }
                      ],
                      "learn_metrics": [
                        {
                          "best_value": "Max",
                          "name": "Accuracy"
                        },
                        {
                          "best_value": "Min",
                          "name": "Logloss"
                        }
                      ],
                      "launch_mode": "Train",
                      "parameters": "",
                      "iteration_count": 1000,
                      "learn_sets": [
                        "learn"
                      ],
                      "name": "experiment"
                    }
                  }
                }
              },
              "catboost_info/fold-2": {
                "path": "catboost_info/fold-2",
                "name": "fold-2",
                "content": {
                  "passed_iterations": 151,
                  "total_iterations": 1000,
                  "data": {
                    "iterations": [
                      {
                        "learn": [
                          0.793828892,
                          0.6077303336
                        ],
                        "iteration": 0,
                        "passed_time": 0.002533384724,
                        "remaining_time": 2.530851339,
                        "test": [
                          0.7865168539,
                          0.6048398924
                        ]
                      },
                      {
                        "learn": [
                          0.7994389902,
                          0.5823738984
                        ],
                        "iteration": 1,
                        "passed_time": 0.004825291517,
                        "remaining_time": 2.407820467,
                        "test": [
                          0.7865168539,
                          0.5846337122
                        ]
                      },
                      {
                        "learn": [
                          0.8148667602,
                          0.5274321764
                        ],
                        "iteration": 2,
                        "passed_time": 0.007112472129,
                        "remaining_time": 2.363711571,
                        "test": [
                          0.7865168539,
                          0.5354923891
                        ]
                      },
                      {
                        "learn": [
                          0.8106591865,
                          0.4992791479
                        ],
                        "iteration": 3,
                        "passed_time": 0.009473730784,
                        "remaining_time": 2.358958965,
                        "test": [
                          0.7808988764,
                          0.5136812332
                        ]
                      },
                      {
                        "learn": [
                          0.8162692847,
                          0.4788916629
                        ],
                        "iteration": 4,
                        "passed_time": 0.01167515017,
                        "remaining_time": 2.323354883,
                        "test": [
                          0.7921348315,
                          0.4922465013
                        ]
                      },
                      {
                        "learn": [
                          0.8162692847,
                          0.4604241476
                        ],
                        "iteration": 5,
                        "passed_time": 0.01373512775,
                        "remaining_time": 2.275452831,
                        "test": [
                          0.7921348315,
                          0.470066884
                        ]
                      },
                      {
                        "learn": [
                          0.824684432,
                          0.4527701416
                        ],
                        "iteration": 6,
                        "passed_time": 0.01564294213,
                        "remaining_time": 2.219063076,
                        "test": [
                          0.8033707865,
                          0.4646154696
                        ]
                      },
                      {
                        "learn": [
                          0.824684432,
                          0.4426339173
                        ],
                        "iteration": 7,
                        "passed_time": 0.0179850388,
                        "remaining_time": 2.230144811,
                        "test": [
                          0.8033707865,
                          0.4598194257
                        ]
                      },
                      {
                        "learn": [
                          0.8302945302,
                          0.4317327207
                        ],
                        "iteration": 8,
                        "passed_time": 0.0203408213,
                        "remaining_time": 2.239750435,
                        "test": [
                          0.8033707865,
                          0.4552350017
                        ]
                      },
                      {
                        "learn": [
                          0.8288920056,
                          0.4243983799
                        ],
                        "iteration": 9,
                        "passed_time": 0.02248297753,
                        "remaining_time": 2.225814775,
                        "test": [
                          0.8033707865,
                          0.4435560647
                        ]
                      },
                      {
                        "learn": [
                          0.8302945302,
                          0.4117907854
                        ],
                        "iteration": 10,
                        "passed_time": 0.02465637618,
                        "remaining_time": 2.216832367,
                        "test": [
                          0.808988764,
                          0.4283635107
                        ]
                      },
                      {
                        "learn": [
                          0.8316970547,
                          0.4077453083
                        ],
                        "iteration": 11,
                        "passed_time": 0.0270468637,
                        "remaining_time": 2.226858445,
                        "test": [
                          0.808988764,
                          0.4280484096
                        ]
                      },
                      {
                        "learn": [
                          0.8330995792,
                          0.3992414431
                        ],
                        "iteration": 12,
                        "passed_time": 0.02922146503,
                        "remaining_time": 2.218583537,
                        "test": [
                          0.808988764,
                          0.4195220925
                        ]
                      },
                      {
                        "learn": [
                          0.8330995792,
                          0.3949813753
                        ],
                        "iteration": 13,
                        "passed_time": 0.03158397727,
                        "remaining_time": 2.224414399,
                        "test": [
                          0.808988764,
                          0.419699791
                        ]
                      },
                      {
                        "learn": [
                          0.8330995792,
                          0.3919393497
                        ],
                        "iteration": 14,
                        "passed_time": 0.0337525852,
                        "remaining_time": 2.216419761,
                        "test": [
                          0.808988764,
                          0.4168205093
                        ]
                      },
                      {
                        "learn": [
                          0.8316970547,
                          0.3897573427
                        ],
                        "iteration": 15,
                        "passed_time": 0.0356942919,
                        "remaining_time": 2.195198952,
                        "test": [
                          0.808988764,
                          0.412463104
                        ]
                      },
                      {
                        "learn": [
                          0.8359046283,
                          0.3870461255
                        ],
                        "iteration": 16,
                        "passed_time": 0.0378770911,
                        "remaining_time": 2.190187091,
                        "test": [
                          0.8146067416,
                          0.4061845705
                        ]
                      },
                      {
                        "learn": [
                          0.8345021038,
                          0.3854398919
                        ],
                        "iteration": 17,
                        "passed_time": 0.04002813516,
                        "remaining_time": 2.183757151,
                        "test": [
                          0.8146067416,
                          0.404011519
                        ]
                      },
                      {
                        "learn": [
                          0.8387096774,
                          0.3825642134
                        ],
                        "iteration": 18,
                        "passed_time": 0.04224702205,
                        "remaining_time": 2.181280454,
                        "test": [
                          0.8146067416,
                          0.4005383582
                        ]
                      },
                      {
                        "learn": [
                          0.840112202,
                          0.380577756
                        ],
                        "iteration": 19,
                        "passed_time": 0.04460015466,
                        "remaining_time": 2.185407578,
                        "test": [
                          0.8146067416,
                          0.3993911412
                        ]
                      },
                      {
                        "learn": [
                          0.8429172511,
                          0.3762465662
                        ],
                        "iteration": 20,
                        "passed_time": 0.04684649776,
                        "remaining_time": 2.18393911,
                        "test": [
                          0.8258426966,
                          0.3960775623
                        ]
                      },
                      {
                        "learn": [
                          0.8429172511,
                          0.3754213202
                        ],
                        "iteration": 21,
                        "passed_time": 0.04901290304,
                        "remaining_time": 2.178846326,
                        "test": [
                          0.8258426966,
                          0.3950645347
                        ]
                      },
                      {
                        "learn": [
                          0.8429172511,
                          0.3753434544
                        ],
                        "iteration": 22,
                        "passed_time": 0.05061212027,
                        "remaining_time": 2.149914848,
                        "test": [
                          0.8258426966,
                          0.3953449107
                        ]
                      },
                      {
                        "learn": [
                          0.840112202,
                          0.3717983858
                        ],
                        "iteration": 23,
                        "passed_time": 0.05315461191,
                        "remaining_time": 2.161620884,
                        "test": [
                          0.8258426966,
                          0.392837245
                        ]
                      },
                      {
                        "learn": [
                          0.840112202,
                          0.3710896966
                        ],
                        "iteration": 24,
                        "passed_time": 0.05553210539,
                        "remaining_time": 2.16575211,
                        "test": [
                          0.8258426966,
                          0.3953883568
                        ]
                      },
                      {
                        "learn": [
                          0.840112202,
                          0.3704602179
                        ],
                        "iteration": 25,
                        "passed_time": 0.05774868237,
                        "remaining_time": 2.163354486,
                        "test": [
                          0.8314606742,
                          0.3953379404
                        ]
                      },
                      {
                        "learn": [
                          0.8429172511,
                          0.364571729
                        ],
                        "iteration": 26,
                        "passed_time": 0.06019879214,
                        "remaining_time": 2.169386102,
                        "test": [
                          0.8370786517,
                          0.3963839939
                        ]
                      },
                      {
                        "learn": [
                          0.8443197756,
                          0.3627953724
                        ],
                        "iteration": 27,
                        "passed_time": 0.06247538679,
                        "remaining_time": 2.168788427,
                        "test": [
                          0.8426966292,
                          0.3903544065
                        ]
                      },
                      {
                        "learn": [
                          0.8499298738,
                          0.361280834
                        ],
                        "iteration": 28,
                        "passed_time": 0.06468991113,
                        "remaining_time": 2.165996679,
                        "test": [
                          0.8426966292,
                          0.3928306344
                        ]
                      },
                      {
                        "learn": [
                          0.8513323983,
                          0.3597141125
                        ],
                        "iteration": 29,
                        "passed_time": 0.06676133554,
                        "remaining_time": 2.158616516,
                        "test": [
                          0.8370786517,
                          0.3931345291
                        ]
                      },
                      {
                        "learn": [
                          0.8513323983,
                          0.3580107926
                        ],
                        "iteration": 30,
                        "passed_time": 0.0686131539,
                        "remaining_time": 2.144714391,
                        "test": [
                          0.8370786517,
                          0.3931646676
                        ]
                      },
                      {
                        "learn": [
                          0.8569424965,
                          0.3573938991
                        ],
                        "iteration": 31,
                        "passed_time": 0.07076731875,
                        "remaining_time": 2.140711392,
                        "test": [
                          0.8426966292,
                          0.393523535
                        ]
                      },
                      {
                        "learn": [
                          0.8555399719,
                          0.3544218409
                        ],
                        "iteration": 32,
                        "passed_time": 0.07316777225,
                        "remaining_time": 2.144037448,
                        "test": [
                          0.8426966292,
                          0.3947696583
                        ]
                      },
                      {
                        "learn": [
                          0.8555399719,
                          0.3529035841
                        ],
                        "iteration": 33,
                        "passed_time": 0.07533528295,
                        "remaining_time": 2.140408333,
                        "test": [
                          0.8426966292,
                          0.3953317876
                        ]
                      },
                      {
                        "learn": [
                          0.8569424965,
                          0.350349452
                        ],
                        "iteration": 34,
                        "passed_time": 0.0776926263,
                        "remaining_time": 2.142096697,
                        "test": [
                          0.8426966292,
                          0.3950351537
                        ]
                      },
                      {
                        "learn": [
                          0.858345021,
                          0.3453884171
                        ],
                        "iteration": 35,
                        "passed_time": 0.08002195801,
                        "remaining_time": 2.142810209,
                        "test": [
                          0.8370786517,
                          0.399056266
                        ]
                      },
                      {
                        "learn": [
                          0.8611500701,
                          0.3437084322
                        ],
                        "iteration": 36,
                        "passed_time": 0.08313210042,
                        "remaining_time": 2.163681424,
                        "test": [
                          0.8370786517,
                          0.3981262634
                        ]
                      },
                      {
                        "learn": [
                          0.8625525947,
                          0.3405594609
                        ],
                        "iteration": 37,
                        "passed_time": 0.0861531981,
                        "remaining_time": 2.181036226,
                        "test": [
                          0.8370786517,
                          0.3995650086
                        ]
                      },
                      {
                        "learn": [
                          0.8639551192,
                          0.3367729785
                        ],
                        "iteration": 38,
                        "passed_time": 0.08844324314,
                        "remaining_time": 2.179332222,
                        "test": [
                          0.8426966292,
                          0.4003261885
                        ]
                      },
                      {
                        "learn": [
                          0.8667601683,
                          0.3307344905
                        ],
                        "iteration": 39,
                        "passed_time": 0.09067334505,
                        "remaining_time": 2.176160281,
                        "test": [
                          0.8426966292,
                          0.3974608971
                        ]
                      },
                      {
                        "learn": [
                          0.8709677419,
                          0.324121485
                        ],
                        "iteration": 40,
                        "passed_time": 0.09322259189,
                        "remaining_time": 2.180499162,
                        "test": [
                          0.8426966292,
                          0.3947200278
                        ]
                      },
                      {
                        "learn": [
                          0.8723702665,
                          0.3206269013
                        ],
                        "iteration": 41,
                        "passed_time": 0.095290181,
                        "remaining_time": 2.173523652,
                        "test": [
                          0.8426966292,
                          0.3977342059
                        ]
                      },
                      {
                        "learn": [
                          0.8723702665,
                          0.3183909337
                        ],
                        "iteration": 42,
                        "passed_time": 0.09741171802,
                        "remaining_time": 2.167977073,
                        "test": [
                          0.8426966292,
                          0.3958032943
                        ]
                      },
                      {
                        "learn": [
                          0.8765778401,
                          0.3154764371
                        ],
                        "iteration": 43,
                        "passed_time": 0.09964122632,
                        "remaining_time": 2.164932099,
                        "test": [
                          0.8426966292,
                          0.3931017543
                        ]
                      },
                      {
                        "learn": [
                          0.8751753156,
                          0.3123236775
                        ],
                        "iteration": 44,
                        "passed_time": 0.1019075014,
                        "remaining_time": 2.16270364,
                        "test": [
                          0.8426966292,
                          0.3974377664
                        ]
                      },
                      {
                        "learn": [
                          0.8765778401,
                          0.3112424983
                        ],
                        "iteration": 45,
                        "passed_time": 0.1039215616,
                        "remaining_time": 2.155242822,
                        "test": [
                          0.8426966292,
                          0.396340493
                        ]
                      },
                      {
                        "learn": [
                          0.8807854137,
                          0.3083414448
                        ],
                        "iteration": 46,
                        "passed_time": 0.1060340608,
                        "remaining_time": 2.150009787,
                        "test": [
                          0.8483146067,
                          0.3946831979
                        ]
                      },
                      {
                        "learn": [
                          0.8821879383,
                          0.3030890476
                        ],
                        "iteration": 47,
                        "passed_time": 0.1082421,
                        "remaining_time": 2.146801649,
                        "test": [
                          0.8539325843,
                          0.3897666318
                        ]
                      },
                      {
                        "learn": [
                          0.8821879383,
                          0.3005045006
                        ],
                        "iteration": 48,
                        "passed_time": 0.1105248198,
                        "remaining_time": 2.145083748,
                        "test": [
                          0.8539325843,
                          0.3909312776
                        ]
                      },
                      {
                        "learn": [
                          0.8835904628,
                          0.2968343484
                        ],
                        "iteration": 49,
                        "passed_time": 0.1129956224,
                        "remaining_time": 2.146916826,
                        "test": [
                          0.8539325843,
                          0.3901069738
                        ]
                      },
                      {
                        "learn": [
                          0.8835904628,
                          0.2962896767
                        ],
                        "iteration": 50,
                        "passed_time": 0.1151916448,
                        "remaining_time": 2.143468056,
                        "test": [
                          0.8539325843,
                          0.3894149915
                        ]
                      },
                      {
                        "learn": [
                          0.8835904628,
                          0.2961492628
                        ],
                        "iteration": 51,
                        "passed_time": 0.1172850801,
                        "remaining_time": 2.13819723,
                        "test": [
                          0.8595505618,
                          0.3894265907
                        ]
                      },
                      {
                        "learn": [
                          0.8849929874,
                          0.2928260822
                        ],
                        "iteration": 52,
                        "passed_time": 0.1195146421,
                        "remaining_time": 2.135478604,
                        "test": [
                          0.8595505618,
                          0.3926252405
                        ]
                      },
                      {
                        "learn": [
                          0.889200561,
                          0.287640689
                        ],
                        "iteration": 53,
                        "passed_time": 0.1217407332,
                        "remaining_time": 2.132717289,
                        "test": [
                          0.8595505618,
                          0.391152776
                        ]
                      },
                      {
                        "learn": [
                          0.8835904628,
                          0.2869026528
                        ],
                        "iteration": 54,
                        "passed_time": 0.1240097873,
                        "remaining_time": 2.130713617,
                        "test": [
                          0.8483146067,
                          0.3930643074
                        ]
                      },
                      {
                        "learn": [
                          0.8906030856,
                          0.2847350315
                        ],
                        "iteration": 55,
                        "passed_time": 0.1263309493,
                        "remaining_time": 2.129578859,
                        "test": [
                          0.8483146067,
                          0.3949809807
                        ]
                      },
                      {
                        "learn": [
                          0.889200561,
                          0.2833790254
                        ],
                        "iteration": 56,
                        "passed_time": 0.1287761183,
                        "remaining_time": 2.130454028,
                        "test": [
                          0.8483146067,
                          0.3937604391
                        ]
                      },
                      {
                        "learn": [
                          0.889200561,
                          0.2813071703
                        ],
                        "iteration": 57,
                        "passed_time": 0.1312842049,
                        "remaining_time": 2.13223657,
                        "test": [
                          0.8539325843,
                          0.3947170097
                        ]
                      },
                      {
                        "learn": [
                          0.889200561,
                          0.2808522133
                        ],
                        "iteration": 58,
                        "passed_time": 0.1334593644,
                        "remaining_time": 2.128563762,
                        "test": [
                          0.8539325843,
                          0.3944999838
                        ]
                      },
                      {
                        "learn": [
                          0.8906030856,
                          0.2779953374
                        ],
                        "iteration": 59,
                        "passed_time": 0.1356642719,
                        "remaining_time": 2.125406926,
                        "test": [
                          0.8483146067,
                          0.3963116105
                        ]
                      },
                      {
                        "learn": [
                          0.8920056101,
                          0.27557189
                        ],
                        "iteration": 60,
                        "passed_time": 0.1379464436,
                        "remaining_time": 2.123470664,
                        "test": [
                          0.8539325843,
                          0.397142738
                        ]
                      },
                      {
                        "learn": [
                          0.8976157083,
                          0.2723099423
                        ],
                        "iteration": 61,
                        "passed_time": 0.1403001507,
                        "remaining_time": 2.122605506,
                        "test": [
                          0.8539325843,
                          0.3984259935
                        ]
                      },
                      {
                        "learn": [
                          0.9018232819,
                          0.2682466851
                        ],
                        "iteration": 62,
                        "passed_time": 0.142336891,
                        "remaining_time": 2.116978839,
                        "test": [
                          0.8483146067,
                          0.3972621112
                        ]
                      },
                      {
                        "learn": [
                          0.9018232819,
                          0.2668326219
                        ],
                        "iteration": 63,
                        "passed_time": 0.1445189139,
                        "remaining_time": 2.113589115,
                        "test": [
                          0.8483146067,
                          0.3962551723
                        ]
                      },
                      {
                        "learn": [
                          0.904628331,
                          0.2660081489
                        ],
                        "iteration": 64,
                        "passed_time": 0.146791815,
                        "remaining_time": 2.111543801,
                        "test": [
                          0.8483146067,
                          0.3969472802
                        ]
                      },
                      {
                        "learn": [
                          0.9018232819,
                          0.2648103962
                        ],
                        "iteration": 65,
                        "passed_time": 0.1490548184,
                        "remaining_time": 2.109351521,
                        "test": [
                          0.8483146067,
                          0.3957353139
                        ]
                      },
                      {
                        "learn": [
                          0.9018232819,
                          0.2643207465
                        ],
                        "iteration": 66,
                        "passed_time": 0.151317669,
                        "remaining_time": 2.107155003,
                        "test": [
                          0.8483146067,
                          0.3970819419
                        ]
                      },
                      {
                        "learn": [
                          0.9032258065,
                          0.2603815873
                        ],
                        "iteration": 67,
                        "passed_time": 0.1535984326,
                        "remaining_time": 2.105202047,
                        "test": [
                          0.8483146067,
                          0.3947799586
                        ]
                      },
                      {
                        "learn": [
                          0.9032258065,
                          0.2570136333
                        ],
                        "iteration": 68,
                        "passed_time": 0.1558101389,
                        "remaining_time": 2.102307816,
                        "test": [
                          0.8483146067,
                          0.3979159766
                        ]
                      },
                      {
                        "learn": [
                          0.9018232819,
                          0.2564045361
                        ],
                        "iteration": 69,
                        "passed_time": 0.1579171092,
                        "remaining_time": 2.098041594,
                        "test": [
                          0.8483146067,
                          0.3978122725
                        ]
                      },
                      {
                        "learn": [
                          0.9004207574,
                          0.2556963524
                        ],
                        "iteration": 70,
                        "passed_time": 0.1601076599,
                        "remaining_time": 2.094929804,
                        "test": [
                          0.8483146067,
                          0.3978725237
                        ]
                      },
                      {
                        "learn": [
                          0.904628331,
                          0.2531454931
                        ],
                        "iteration": 71,
                        "passed_time": 0.1624525374,
                        "remaining_time": 2.093832704,
                        "test": [
                          0.8539325843,
                          0.3974568744
                        ]
                      },
                      {
                        "learn": [
                          0.9088359046,
                          0.2513598375
                        ],
                        "iteration": 72,
                        "passed_time": 0.1648293782,
                        "remaining_time": 2.093107309,
                        "test": [
                          0.8483146067,
                          0.3957311073
                        ]
                      },
                      {
                        "learn": [
                          0.9088359046,
                          0.2497518122
                        ],
                        "iteration": 73,
                        "passed_time": 0.1670788148,
                        "remaining_time": 2.090743007,
                        "test": [
                          0.8483146067,
                          0.3952911231
                        ]
                      },
                      {
                        "learn": [
                          0.9130434783,
                          0.2485663683
                        ],
                        "iteration": 74,
                        "passed_time": 0.1724791222,
                        "remaining_time": 2.127242508,
                        "test": [
                          0.8483146067,
                          0.3950244223
                        ]
                      },
                      {
                        "learn": [
                          0.9102384292,
                          0.2457625269
                        ],
                        "iteration": 75,
                        "passed_time": 0.1747269407,
                        "remaining_time": 2.124311753,
                        "test": [
                          0.8539325843,
                          0.3949950743
                        ]
                      },
                      {
                        "learn": [
                          0.9102384292,
                          0.2441822556
                        ],
                        "iteration": 76,
                        "passed_time": 0.177057526,
                        "remaining_time": 2.122390864,
                        "test": [
                          0.8539325843,
                          0.3954725422
                        ]
                      },
                      {
                        "learn": [
                          0.9144460028,
                          0.2420987769
                        ],
                        "iteration": 77,
                        "passed_time": 0.1792031694,
                        "remaining_time": 2.118273361,
                        "test": [
                          0.8539325843,
                          0.3942043527
                        ]
                      },
                      {
                        "learn": [
                          0.9172510519,
                          0.2400746561
                        ],
                        "iteration": 78,
                        "passed_time": 0.1814614175,
                        "remaining_time": 2.115518551,
                        "test": [
                          0.8539325843,
                          0.3945241762
                        ]
                      },
                      {
                        "learn": [
                          0.920056101,
                          0.2391712291
                        ],
                        "iteration": 79,
                        "passed_time": 0.1836111852,
                        "remaining_time": 2.11152863,
                        "test": [
                          0.8539325843,
                          0.3946652405
                        ]
                      },
                      {
                        "learn": [
                          0.9186535764,
                          0.2373221935
                        ],
                        "iteration": 80,
                        "passed_time": 0.1858557802,
                        "remaining_time": 2.108660025,
                        "test": [
                          0.8483146067,
                          0.3931877331
                        ]
                      },
                      {
                        "learn": [
                          0.9172510519,
                          0.2358034213
                        ],
                        "iteration": 81,
                        "passed_time": 0.1882189379,
                        "remaining_time": 2.107133963,
                        "test": [
                          0.8483146067,
                          0.3936548656
                        ]
                      },
                      {
                        "learn": [
                          0.9186535764,
                          0.2341276463
                        ],
                        "iteration": 82,
                        "passed_time": 0.1905241505,
                        "remaining_time": 2.104947543,
                        "test": [
                          0.8426966292,
                          0.3944175715
                        ]
                      },
                      {
                        "learn": [
                          0.9214586255,
                          0.2325030975
                        ],
                        "iteration": 83,
                        "passed_time": 0.1927748871,
                        "remaining_time": 2.102164245,
                        "test": [
                          0.8370786517,
                          0.397862185
                        ]
                      },
                      {
                        "learn": [
                          0.9228611501,
                          0.2306898077
                        ],
                        "iteration": 84,
                        "passed_time": 0.1950028427,
                        "remaining_time": 2.099148248,
                        "test": [
                          0.8539325843,
                          0.3958585466
                        ]
                      },
                      {
                        "learn": [
                          0.9242636746,
                          0.2288730744
                        ],
                        "iteration": 85,
                        "passed_time": 0.1971820066,
                        "remaining_time": 2.095632024,
                        "test": [
                          0.8483146067,
                          0.3964363008
                        ]
                      },
                      {
                        "learn": [
                          0.9256661992,
                          0.2260346863
                        ],
                        "iteration": 86,
                        "passed_time": 0.1994315696,
                        "remaining_time": 2.092885322,
                        "test": [
                          0.8426966292,
                          0.3957368604
                        ]
                      },
                      {
                        "learn": [
                          0.9284712482,
                          0.2232729324
                        ],
                        "iteration": 87,
                        "passed_time": 0.2016870714,
                        "remaining_time": 2.090211468,
                        "test": [
                          0.8314606742,
                          0.3968905458
                        ]
                      },
                      {
                        "learn": [
                          0.9256661992,
                          0.2204606111
                        ],
                        "iteration": 88,
                        "passed_time": 0.203894786,
                        "remaining_time": 2.087057866,
                        "test": [
                          0.8426966292,
                          0.3955657694
                        ]
                      },
                      {
                        "learn": [
                          0.9270687237,
                          0.2182772397
                        ],
                        "iteration": 89,
                        "passed_time": 0.2060938873,
                        "remaining_time": 2.083838194,
                        "test": [
                          0.8426966292,
                          0.3940042093
                        ]
                      },
                      {
                        "learn": [
                          0.9270687237,
                          0.2171789862
                        ],
                        "iteration": 90,
                        "passed_time": 0.2090245903,
                        "remaining_time": 2.08794893,
                        "test": [
                          0.8426966292,
                          0.3927052161
                        ]
                      },
                      {
                        "learn": [
                          0.9298737728,
                          0.215340614
                        ],
                        "iteration": 91,
                        "passed_time": 0.2132344811,
                        "remaining_time": 2.104531618,
                        "test": [
                          0.8370786517,
                          0.3946393286
                        ]
                      },
                      {
                        "learn": [
                          0.9312762973,
                          0.2139157553
                        ],
                        "iteration": 92,
                        "passed_time": 0.2160667515,
                        "remaining_time": 2.107231652,
                        "test": [
                          0.8370786517,
                          0.3954877248
                        ]
                      },
                      {
                        "learn": [
                          0.9312762973,
                          0.2124197565
                        ],
                        "iteration": 93,
                        "passed_time": 0.2183672507,
                        "remaining_time": 2.104688608,
                        "test": [
                          0.8370786517,
                          0.3955313298
                        ]
                      },
                      {
                        "learn": [
                          0.9312762973,
                          0.2089410884
                        ],
                        "iteration": 94,
                        "passed_time": 0.2206920026,
                        "remaining_time": 2.102381709,
                        "test": [
                          0.8370786517,
                          0.3977321878
                        ]
                      },
                      {
                        "learn": [
                          0.9312762973,
                          0.2084184665
                        ],
                        "iteration": 95,
                        "passed_time": 0.2227441641,
                        "remaining_time": 2.097507545,
                        "test": [
                          0.8426966292,
                          0.3964411988
                        ]
                      },
                      {
                        "learn": [
                          0.9326788219,
                          0.2066937194
                        ],
                        "iteration": 96,
                        "passed_time": 0.2248747471,
                        "remaining_time": 2.093421615,
                        "test": [
                          0.8426966292,
                          0.3991319561
                        ]
                      },
                      {
                        "learn": [
                          0.9326788219,
                          0.2065098263
                        ],
                        "iteration": 97,
                        "passed_time": 0.2271154986,
                        "remaining_time": 2.09038959,
                        "test": [
                          0.8426966292,
                          0.3993744405
                        ]
                      },
                      {
                        "learn": [
                          0.9326788219,
                          0.2049601763
                        ],
                        "iteration": 98,
                        "passed_time": 0.2292743888,
                        "remaining_time": 2.086628528,
                        "test": [
                          0.8483146067,
                          0.4006924817
                        ]
                      },
                      {
                        "learn": [
                          0.9340813464,
                          0.2034362143
                        ],
                        "iteration": 99,
                        "passed_time": 0.2314236893,
                        "remaining_time": 2.082813203,
                        "test": [
                          0.8483146067,
                          0.401482233
                        ]
                      },
                      {
                        "learn": [
                          0.935483871,
                          0.2012189056
                        ],
                        "iteration": 100,
                        "passed_time": 0.2335781068,
                        "remaining_time": 2.079076416,
                        "test": [
                          0.8314606742,
                          0.4061181378
                        ]
                      },
                      {
                        "learn": [
                          0.9368863955,
                          0.1998430669
                        ],
                        "iteration": 101,
                        "passed_time": 0.2357819461,
                        "remaining_time": 2.075805761,
                        "test": [
                          0.8314606742,
                          0.407587485
                        ]
                      },
                      {
                        "learn": [
                          0.935483871,
                          0.198673746
                        ],
                        "iteration": 102,
                        "passed_time": 0.2379933742,
                        "remaining_time": 2.072621909,
                        "test": [
                          0.8314606742,
                          0.4079789884
                        ]
                      },
                      {
                        "learn": [
                          0.935483871,
                          0.1983561122
                        ],
                        "iteration": 103,
                        "passed_time": 0.2400290355,
                        "remaining_time": 2.067942459,
                        "test": [
                          0.8314606742,
                          0.4068265267
                        ]
                      },
                      {
                        "learn": [
                          0.9368863955,
                          0.1960903652
                        ],
                        "iteration": 104,
                        "passed_time": 0.2422630336,
                        "remaining_time": 2.065003953,
                        "test": [
                          0.8314606742,
                          0.4049457306
                        ]
                      },
                      {
                        "learn": [
                          0.9368863955,
                          0.1955582201
                        ],
                        "iteration": 105,
                        "passed_time": 0.2444333742,
                        "remaining_time": 2.061541854,
                        "test": [
                          0.8370786517,
                          0.4042756807
                        ]
                      },
                      {
                        "learn": [
                          0.9382889201,
                          0.1945944073
                        ],
                        "iteration": 106,
                        "passed_time": 0.2466831953,
                        "remaining_time": 2.058767228,
                        "test": [
                          0.8370786517,
                          0.4074157196
                        ]
                      },
                      {
                        "learn": [
                          0.9382889201,
                          0.1935737456
                        ],
                        "iteration": 107,
                        "passed_time": 0.2684022978,
                        "remaining_time": 2.216804164,
                        "test": [
                          0.8370786517,
                          0.4082511906
                        ]
                      },
                      {
                        "learn": [
                          0.9382889201,
                          0.1916891462
                        ],
                        "iteration": 108,
                        "passed_time": 0.2722646948,
                        "remaining_time": 2.225576542,
                        "test": [
                          0.8426966292,
                          0.410292469
                        ]
                      },
                      {
                        "learn": [
                          0.9382889201,
                          0.1904669979
                        ],
                        "iteration": 109,
                        "passed_time": 0.2759856863,
                        "remaining_time": 2.232975098,
                        "test": [
                          0.8370786517,
                          0.4101221
                        ]
                      },
                      {
                        "learn": [
                          0.9382889201,
                          0.1901225106
                        ],
                        "iteration": 110,
                        "passed_time": 0.2796053381,
                        "remaining_time": 2.239361672,
                        "test": [
                          0.8370786517,
                          0.4099890265
                        ]
                      },
                      {
                        "learn": [
                          0.9368863955,
                          0.1877617712
                        ],
                        "iteration": 111,
                        "passed_time": 0.283162006,
                        "remaining_time": 2.24507019,
                        "test": [
                          0.8426966292,
                          0.4145669381
                        ]
                      },
                      {
                        "learn": [
                          0.9368863955,
                          0.1869312252
                        ],
                        "iteration": 112,
                        "passed_time": 0.286501614,
                        "remaining_time": 2.2489109,
                        "test": [
                          0.8426966292,
                          0.4161202562
                        ]
                      },
                      {
                        "learn": [
                          0.935483871,
                          0.1866419917
                        ],
                        "iteration": 113,
                        "passed_time": 0.2906647621,
                        "remaining_time": 2.259026133,
                        "test": [
                          0.8426966292,
                          0.4156532858
                        ]
                      },
                      {
                        "learn": [
                          0.9368863955,
                          0.1857577875
                        ],
                        "iteration": 114,
                        "passed_time": 0.2942989179,
                        "remaining_time": 2.264822107,
                        "test": [
                          0.8370786517,
                          0.4155835741
                        ]
                      },
                      {
                        "learn": [
                          0.9410939691,
                          0.1839827218
                        ],
                        "iteration": 115,
                        "passed_time": 0.29891975,
                        "remaining_time": 2.277974647,
                        "test": [
                          0.8426966292,
                          0.4156377675
                        ]
                      },
                      {
                        "learn": [
                          0.9410939691,
                          0.1827989408
                        ],
                        "iteration": 116,
                        "passed_time": 0.3021320748,
                        "remaining_time": 2.280193351,
                        "test": [
                          0.8483146067,
                          0.414994174
                        ]
                      },
                      {
                        "learn": [
                          0.9396914446,
                          0.1822714765
                        ],
                        "iteration": 117,
                        "passed_time": 0.3042628688,
                        "remaining_time": 2.274236019,
                        "test": [
                          0.8426966292,
                          0.4154019629
                        ]
                      },
                      {
                        "learn": [
                          0.9424964937,
                          0.1818086911
                        ],
                        "iteration": 118,
                        "passed_time": 0.3066182022,
                        "remaining_time": 2.270005346,
                        "test": [
                          0.8426966292,
                          0.4159748357
                        ]
                      },
                      {
                        "learn": [
                          0.9396914446,
                          0.1802199437
                        ],
                        "iteration": 119,
                        "passed_time": 0.3088932169,
                        "remaining_time": 2.265216924,
                        "test": [
                          0.8426966292,
                          0.4162346869
                        ]
                      },
                      {
                        "learn": [
                          0.9424964937,
                          0.179306922
                        ],
                        "iteration": 120,
                        "passed_time": 0.3110817195,
                        "remaining_time": 2.259841582,
                        "test": [
                          0.8370786517,
                          0.4176851539
                        ]
                      },
                      {
                        "learn": [
                          0.9438990182,
                          0.1790913472
                        ],
                        "iteration": 121,
                        "passed_time": 0.3134536214,
                        "remaining_time": 2.255838357,
                        "test": [
                          0.8370786517,
                          0.4170994837
                        ]
                      },
                      {
                        "learn": [
                          0.9438990182,
                          0.1776881872
                        ],
                        "iteration": 122,
                        "passed_time": 0.3158270678,
                        "remaining_time": 2.25187267,
                        "test": [
                          0.8314606742,
                          0.4199724138
                        ]
                      },
                      {
                        "learn": [
                          0.9453015428,
                          0.1768004876
                        ],
                        "iteration": 123,
                        "passed_time": 0.3181368911,
                        "remaining_time": 2.247483199,
                        "test": [
                          0.8258426966,
                          0.4203307658
                        ]
                      },
                      {
                        "learn": [
                          0.9438990182,
                          0.1748296057
                        ],
                        "iteration": 124,
                        "passed_time": 0.320387235,
                        "remaining_time": 2.242710645,
                        "test": [
                          0.8258426966,
                          0.4189512952
                        ]
                      },
                      {
                        "learn": [
                          0.9438990182,
                          0.1743394914
                        ],
                        "iteration": 125,
                        "passed_time": 0.3226226158,
                        "remaining_time": 2.237874335,
                        "test": [
                          0.8258426966,
                          0.4176907805
                        ]
                      },
                      {
                        "learn": [
                          0.9438990182,
                          0.1737650901
                        ],
                        "iteration": 126,
                        "passed_time": 0.3248750305,
                        "remaining_time": 2.233196076,
                        "test": [
                          0.8258426966,
                          0.4192052985
                        ]
                      },
                      {
                        "learn": [
                          0.9438990182,
                          0.1731926169
                        ],
                        "iteration": 127,
                        "passed_time": 0.3270966609,
                        "remaining_time": 2.228346002,
                        "test": [
                          0.8314606742,
                          0.4188764996
                        ]
                      },
                      {
                        "learn": [
                          0.9438990182,
                          0.1725078084
                        ],
                        "iteration": 128,
                        "passed_time": 0.329497618,
                        "remaining_time": 2.224747483,
                        "test": [
                          0.8314606742,
                          0.4182241828
                        ]
                      },
                      {
                        "learn": [
                          0.9453015428,
                          0.1720697739
                        ],
                        "iteration": 129,
                        "passed_time": 0.3316719385,
                        "remaining_time": 2.219650665,
                        "test": [
                          0.8314606742,
                          0.4183935573
                        ]
                      },
                      {
                        "learn": [
                          0.9453015428,
                          0.1709562244
                        ],
                        "iteration": 130,
                        "passed_time": 0.333895977,
                        "remaining_time": 2.214928275,
                        "test": [
                          0.8314606742,
                          0.417560564
                        ]
                      },
                      {
                        "learn": [
                          0.9453015428,
                          0.1693957656
                        ],
                        "iteration": 131,
                        "passed_time": 0.3360710292,
                        "remaining_time": 2.209921616,
                        "test": [
                          0.8314606742,
                          0.4186573377
                        ]
                      },
                      {
                        "learn": [
                          0.9453015428,
                          0.1693221756
                        ],
                        "iteration": 132,
                        "passed_time": 0.3383805344,
                        "remaining_time": 2.20583401,
                        "test": [
                          0.8314606742,
                          0.4191768931
                        ]
                      },
                      {
                        "learn": [
                          0.9453015428,
                          0.1681737856
                        ],
                        "iteration": 133,
                        "passed_time": 0.3405687225,
                        "remaining_time": 2.200988908,
                        "test": [
                          0.8314606742,
                          0.4182918832
                        ]
                      },
                      {
                        "learn": [
                          0.9467040673,
                          0.1668654911
                        ],
                        "iteration": 134,
                        "passed_time": 0.3428095549,
                        "remaining_time": 2.196520481,
                        "test": [
                          0.8314606742,
                          0.4184212351
                        ]
                      },
                      {
                        "learn": [
                          0.9453015428,
                          0.166674074
                        ],
                        "iteration": 135,
                        "passed_time": 0.3450814124,
                        "remaining_time": 2.192281914,
                        "test": [
                          0.8314606742,
                          0.4181888845
                        ]
                      },
                      {
                        "learn": [
                          0.9453015428,
                          0.1661958605
                        ],
                        "iteration": 136,
                        "passed_time": 0.3472819546,
                        "remaining_time": 2.187622823,
                        "test": [
                          0.8314606742,
                          0.4184312363
                        ]
                      },
                      {
                        "learn": [
                          0.9453015428,
                          0.1661074516
                        ],
                        "iteration": 137,
                        "passed_time": 0.3495132446,
                        "remaining_time": 2.183191427,
                        "test": [
                          0.8314606742,
                          0.4191253423
                        ]
                      },
                      {
                        "learn": [
                          0.9481065919,
                          0.165249759
                        ],
                        "iteration": 138,
                        "passed_time": 0.3516823262,
                        "remaining_time": 2.178406351,
                        "test": [
                          0.8314606742,
                          0.4174380363
                        ]
                      },
                      {
                        "learn": [
                          0.9495091164,
                          0.1643107139
                        ],
                        "iteration": 139,
                        "passed_time": 0.3538465879,
                        "remaining_time": 2.17362904,
                        "test": [
                          0.8258426966,
                          0.4176289793
                        ]
                      },
                      {
                        "learn": [
                          0.9495091164,
                          0.1641442989
                        ],
                        "iteration": 140,
                        "passed_time": 0.356158613,
                        "remaining_time": 2.169788997,
                        "test": [
                          0.8258426966,
                          0.4175786625
                        ]
                      },
                      {
                        "learn": [
                          0.9481065919,
                          0.1633263469
                        ],
                        "iteration": 141,
                        "passed_time": 0.3584779069,
                        "remaining_time": 2.166014395,
                        "test": [
                          0.8258426966,
                          0.4182856309
                        ]
                      },
                      {
                        "learn": [
                          0.9495091164,
                          0.1617376338
                        ],
                        "iteration": 142,
                        "passed_time": 0.3606409323,
                        "remaining_time": 2.161323629,
                        "test": [
                          0.8202247191,
                          0.4220636583
                        ]
                      },
                      {
                        "learn": [
                          0.9495091164,
                          0.1611942595
                        ],
                        "iteration": 143,
                        "passed_time": 0.3629530974,
                        "remaining_time": 2.157554524,
                        "test": [
                          0.8202247191,
                          0.4216904202
                        ]
                      },
                      {
                        "learn": [
                          0.9495091164,
                          0.1609397753
                        ],
                        "iteration": 144,
                        "passed_time": 0.3652603109,
                        "remaining_time": 2.153776316,
                        "test": [
                          0.8202247191,
                          0.421667857
                        ]
                      },
                      {
                        "learn": [
                          0.9481065919,
                          0.1594936952
                        ],
                        "iteration": 145,
                        "passed_time": 0.3674706481,
                        "remaining_time": 2.149451599,
                        "test": [
                          0.8202247191,
                          0.421480056
                        ]
                      },
                      {
                        "learn": [
                          0.9481065919,
                          0.1585080827
                        ],
                        "iteration": 146,
                        "passed_time": 0.3697875512,
                        "remaining_time": 2.145774022,
                        "test": [
                          0.8202247191,
                          0.4221820155
                        ]
                      },
                      {
                        "learn": [
                          0.9495091164,
                          0.1573957114
                        ],
                        "iteration": 147,
                        "passed_time": 0.3719940895,
                        "remaining_time": 2.141479488,
                        "test": [
                          0.8202247191,
                          0.4245690216
                        ]
                      },
                      {
                        "learn": [
                          0.9495091164,
                          0.1567602488
                        ],
                        "iteration": 148,
                        "passed_time": 0.3742920033,
                        "remaining_time": 2.137734865,
                        "test": [
                          0.8202247191,
                          0.4243673392
                        ]
                      },
                      {
                        "learn": [
                          0.9523141655,
                          0.1560934025
                        ],
                        "iteration": 149,
                        "passed_time": 0.3765048559,
                        "remaining_time": 2.133527517,
                        "test": [
                          0.8202247191,
                          0.4241457929
                        ]
                      },
                      {
                        "learn": [
                          0.9551192146,
                          0.1551886516
                        ],
                        "iteration": 150,
                        "passed_time": 0.3787921093,
                        "remaining_time": 2.129764906,
                        "test": [
                          0.8202247191,
                          0.426461901
                        ]
                      },
                      {
                        "learn": [
                          0.95371669,
                          0.1544067328
                        ],
                        "iteration": 151,
                        "passed_time": 0.3809531384,
                        "remaining_time": 2.125317509,
                        "test": [
                          0.8202247191,
                          0.4252251396
                        ]
                      }
                    ],
                    "meta": {
                      "test_sets": [
                        "test"
                      ],
                      "test_metrics": [
                        {
                          "best_value": "Max",
                          "name": "Accuracy"
                        },
                        {
                          "best_value": "Min",
                          "name": "Logloss"
                        }
                      ],
                      "learn_metrics": [
                        {
                          "best_value": "Max",
                          "name": "Accuracy"
                        },
                        {
                          "best_value": "Min",
                          "name": "Logloss"
                        }
                      ],
                      "launch_mode": "Train",
                      "parameters": "",
                      "iteration_count": 1000,
                      "learn_sets": [
                        "learn"
                      ],
                      "name": "experiment"
                    }
                  }
                }
              },
              "catboost_info/fold-3": {
                "path": "catboost_info/fold-3",
                "name": "fold-3",
                "content": {
                  "passed_iterations": 120,
                  "total_iterations": 1000,
                  "data": {
                    "iterations": [
                      {
                        "learn": [
                          0.7545582048,
                          0.6200780919
                        ],
                        "iteration": 0,
                        "passed_time": 0.002693403988,
                        "remaining_time": 2.690710584,
                        "test": [
                          0.8146067416,
                          0.6082556298
                        ]
                      },
                      {
                        "learn": [
                          0.7896213184,
                          0.5657170502
                        ],
                        "iteration": 1,
                        "passed_time": 0.005142948319,
                        "remaining_time": 2.566331211,
                        "test": [
                          0.8258426966,
                          0.5476000082
                        ]
                      },
                      {
                        "learn": [
                          0.8050490884,
                          0.5237018686
                        ],
                        "iteration": 2,
                        "passed_time": 0.007453130769,
                        "remaining_time": 2.476923792,
                        "test": [
                          0.8764044944,
                          0.4974586546
                        ]
                      },
                      {
                        "learn": [
                          0.8120617111,
                          0.4839566471
                        ],
                        "iteration": 3,
                        "passed_time": 0.009466814688,
                        "remaining_time": 2.357236857,
                        "test": [
                          0.8707865169,
                          0.4511110648
                        ]
                      },
                      {
                        "learn": [
                          0.8134642356,
                          0.47298415
                        ],
                        "iteration": 4,
                        "passed_time": 0.01168276533,
                        "remaining_time": 2.3248703,
                        "test": [
                          0.8595505618,
                          0.4351314859
                        ]
                      },
                      {
                        "learn": [
                          0.8134642356,
                          0.4615924323
                        ],
                        "iteration": 5,
                        "passed_time": 0.0138946334,
                        "remaining_time": 2.3018776,
                        "test": [
                          0.8595505618,
                          0.4316246458
                        ]
                      },
                      {
                        "learn": [
                          0.8148667602,
                          0.4549609199
                        ],
                        "iteration": 6,
                        "passed_time": 0.01582140704,
                        "remaining_time": 2.244379599,
                        "test": [
                          0.8651685393,
                          0.4257544845
                        ]
                      },
                      {
                        "learn": [
                          0.8218793829,
                          0.4477691329
                        ],
                        "iteration": 7,
                        "passed_time": 0.01806902646,
                        "remaining_time": 2.240559281,
                        "test": [
                          0.8651685393,
                          0.4174694392
                        ]
                      },
                      {
                        "learn": [
                          0.824684432,
                          0.4396079017
                        ],
                        "iteration": 8,
                        "passed_time": 0.02043412951,
                        "remaining_time": 2.250024705,
                        "test": [
                          0.8595505618,
                          0.404503621
                        ]
                      },
                      {
                        "learn": [
                          0.824684432,
                          0.4319842744
                        ],
                        "iteration": 9,
                        "passed_time": 0.02256986144,
                        "remaining_time": 2.234416282,
                        "test": [
                          0.8595505618,
                          0.3981030723
                        ]
                      },
                      {
                        "learn": [
                          0.8260869565,
                          0.4232028787
                        ],
                        "iteration": 10,
                        "passed_time": 0.02476915818,
                        "remaining_time": 2.226972494,
                        "test": [
                          0.8651685393,
                          0.3920935188
                        ]
                      },
                      {
                        "learn": [
                          0.8232819074,
                          0.41924227
                        ],
                        "iteration": 11,
                        "passed_time": 0.02714433175,
                        "remaining_time": 2.234883314,
                        "test": [
                          0.8651685393,
                          0.3875545251
                        ]
                      },
                      {
                        "learn": [
                          0.8260869565,
                          0.4087935742
                        ],
                        "iteration": 12,
                        "passed_time": 0.02937956255,
                        "remaining_time": 2.230586788,
                        "test": [
                          0.8651685393,
                          0.380360563
                        ]
                      },
                      {
                        "learn": [
                          0.8288920056,
                          0.4038615797
                        ],
                        "iteration": 13,
                        "passed_time": 0.03169465117,
                        "remaining_time": 2.232209004,
                        "test": [
                          0.8651685393,
                          0.3796713709
                        ]
                      },
                      {
                        "learn": [
                          0.8359046283,
                          0.3971228788
                        ],
                        "iteration": 14,
                        "passed_time": 0.0338369283,
                        "remaining_time": 2.221958292,
                        "test": [
                          0.8707865169,
                          0.3736103763
                        ]
                      },
                      {
                        "learn": [
                          0.8345021038,
                          0.3938317966
                        ],
                        "iteration": 15,
                        "passed_time": 0.03578065947,
                        "remaining_time": 2.200510558,
                        "test": [
                          0.8707865169,
                          0.3716852954
                        ]
                      },
                      {
                        "learn": [
                          0.8359046283,
                          0.3890506771
                        ],
                        "iteration": 16,
                        "passed_time": 0.03803421775,
                        "remaining_time": 2.199272709,
                        "test": [
                          0.8764044944,
                          0.3727298261
                        ]
                      },
                      {
                        "learn": [
                          0.8345021038,
                          0.3866722824
                        ],
                        "iteration": 17,
                        "passed_time": 0.04018179467,
                        "remaining_time": 2.192140131,
                        "test": [
                          0.8764044944,
                          0.3706120386
                        ]
                      },
                      {
                        "learn": [
                          0.8387096774,
                          0.382405216
                        ],
                        "iteration": 18,
                        "passed_time": 0.04229735283,
                        "remaining_time": 2.183879112,
                        "test": [
                          0.8764044944,
                          0.369195673
                        ]
                      },
                      {
                        "learn": [
                          0.8415147265,
                          0.3806645267
                        ],
                        "iteration": 19,
                        "passed_time": 0.0445361944,
                        "remaining_time": 2.182273526,
                        "test": [
                          0.8651685393,
                          0.3696291322
                        ]
                      },
                      {
                        "learn": [
                          0.8485273492,
                          0.3777861448
                        ],
                        "iteration": 20,
                        "passed_time": 0.04675433041,
                        "remaining_time": 2.179642356,
                        "test": [
                          0.8820224719,
                          0.3684265785
                        ]
                      },
                      {
                        "learn": [
                          0.8443197756,
                          0.3768248787
                        ],
                        "iteration": 21,
                        "passed_time": 0.04908377303,
                        "remaining_time": 2.181996819,
                        "test": [
                          0.8707865169,
                          0.3679585785
                        ]
                      },
                      {
                        "learn": [
                          0.8429172511,
                          0.3737894366
                        ],
                        "iteration": 22,
                        "passed_time": 0.0511767966,
                        "remaining_time": 2.173901317,
                        "test": [
                          0.8707865169,
                          0.3684701777
                        ]
                      },
                      {
                        "learn": [
                          0.8443197756,
                          0.372282138
                        ],
                        "iteration": 23,
                        "passed_time": 0.05338373577,
                        "remaining_time": 2.170938588,
                        "test": [
                          0.8707865169,
                          0.3695015337
                        ]
                      },
                      {
                        "learn": [
                          0.8513323983,
                          0.3692814034
                        ],
                        "iteration": 24,
                        "passed_time": 0.05581960336,
                        "remaining_time": 2.176964531,
                        "test": [
                          0.8539325843,
                          0.3682101135
                        ]
                      },
                      {
                        "learn": [
                          0.8471248247,
                          0.3683770293
                        ],
                        "iteration": 25,
                        "passed_time": 0.05805083796,
                        "remaining_time": 2.174673699,
                        "test": [
                          0.8595505618,
                          0.3665695479
                        ]
                      },
                      {
                        "learn": [
                          0.8471248247,
                          0.3647544025
                        ],
                        "iteration": 26,
                        "passed_time": 0.06029051131,
                        "remaining_time": 2.172691389,
                        "test": [
                          0.8651685393,
                          0.3622679104
                        ]
                      },
                      {
                        "learn": [
                          0.8485273492,
                          0.3626062889
                        ],
                        "iteration": 27,
                        "passed_time": 0.06246874887,
                        "remaining_time": 2.168557996,
                        "test": [
                          0.8595505618,
                          0.3611462014
                        ]
                      },
                      {
                        "learn": [
                          0.8513323983,
                          0.3606697708
                        ],
                        "iteration": 28,
                        "passed_time": 0.06482946664,
                        "remaining_time": 2.170669383,
                        "test": [
                          0.8595505618,
                          0.3605049348
                        ]
                      },
                      {
                        "learn": [
                          0.8499298738,
                          0.3598615051
                        ],
                        "iteration": 29,
                        "passed_time": 0.06725329923,
                        "remaining_time": 2.174523342,
                        "test": [
                          0.8595505618,
                          0.3593874328
                        ]
                      },
                      {
                        "learn": [
                          0.8499298738,
                          0.358421709
                        ],
                        "iteration": 30,
                        "passed_time": 0.06957172227,
                        "remaining_time": 2.174677383,
                        "test": [
                          0.8595505618,
                          0.3585949218
                        ]
                      },
                      {
                        "learn": [
                          0.8499298738,
                          0.3584215362
                        ],
                        "iteration": 31,
                        "passed_time": 0.07082550559,
                        "remaining_time": 2.142471544,
                        "test": [
                          0.8595505618,
                          0.358594998
                        ]
                      },
                      {
                        "learn": [
                          0.8527349229,
                          0.3550313054
                        ],
                        "iteration": 32,
                        "passed_time": 0.073143795,
                        "remaining_time": 2.143334841,
                        "test": [
                          0.8595505618,
                          0.3623894618
                        ]
                      },
                      {
                        "learn": [
                          0.8541374474,
                          0.3533259111
                        ],
                        "iteration": 33,
                        "passed_time": 0.07536315005,
                        "remaining_time": 2.141200087,
                        "test": [
                          0.8707865169,
                          0.3620870516
                        ]
                      },
                      {
                        "learn": [
                          0.858345021,
                          0.3509618867
                        ],
                        "iteration": 34,
                        "passed_time": 0.07768465479,
                        "remaining_time": 2.141876911,
                        "test": [
                          0.8707865169,
                          0.3613385344
                        ]
                      },
                      {
                        "learn": [
                          0.8625525947,
                          0.3482717074
                        ],
                        "iteration": 35,
                        "passed_time": 0.07988820137,
                        "remaining_time": 2.139228503,
                        "test": [
                          0.8707865169,
                          0.3590573127
                        ]
                      },
                      {
                        "learn": [
                          0.8653576438,
                          0.3457471063
                        ],
                        "iteration": 36,
                        "passed_time": 0.08207132328,
                        "remaining_time": 2.136072549,
                        "test": [
                          0.8707865169,
                          0.358702772
                        ]
                      },
                      {
                        "learn": [
                          0.8653576438,
                          0.3446051217
                        ],
                        "iteration": 37,
                        "passed_time": 0.08437973761,
                        "remaining_time": 2.136139673,
                        "test": [
                          0.8651685393,
                          0.3586091865
                        ]
                      },
                      {
                        "learn": [
                          0.8625525947,
                          0.342610212
                        ],
                        "iteration": 38,
                        "passed_time": 0.08663648667,
                        "remaining_time": 2.13481189,
                        "test": [
                          0.8707865169,
                          0.3590964009
                        ]
                      },
                      {
                        "learn": [
                          0.8653576438,
                          0.3421681031
                        ],
                        "iteration": 39,
                        "passed_time": 0.08838107646,
                        "remaining_time": 2.121145835,
                        "test": [
                          0.8707865169,
                          0.3586361202
                        ]
                      },
                      {
                        "learn": [
                          0.8625525947,
                          0.3406499907
                        ],
                        "iteration": 40,
                        "passed_time": 0.09054674904,
                        "remaining_time": 2.117910545,
                        "test": [
                          0.8707865169,
                          0.3567306423
                        ]
                      },
                      {
                        "learn": [
                          0.858345021,
                          0.3388851483
                        ],
                        "iteration": 41,
                        "passed_time": 0.09259495254,
                        "remaining_time": 2.112046775,
                        "test": [
                          0.8707865169,
                          0.355579521
                        ]
                      },
                      {
                        "learn": [
                          0.8611500701,
                          0.3365113377
                        ],
                        "iteration": 42,
                        "passed_time": 0.0949025569,
                        "remaining_time": 2.11213365,
                        "test": [
                          0.8707865169,
                          0.357037569
                        ]
                      },
                      {
                        "learn": [
                          0.8709677419,
                          0.3325350522
                        ],
                        "iteration": 43,
                        "passed_time": 0.09740011029,
                        "remaining_time": 2.11623876,
                        "test": [
                          0.8764044944,
                          0.3558871959
                        ]
                      },
                      {
                        "learn": [
                          0.8779803647,
                          0.3292247626
                        ],
                        "iteration": 44,
                        "passed_time": 0.09967924212,
                        "remaining_time": 2.115415027,
                        "test": [
                          0.8595505618,
                          0.3566350792
                        ]
                      },
                      {
                        "learn": [
                          0.8751753156,
                          0.3225124626
                        ],
                        "iteration": 45,
                        "passed_time": 0.1019320177,
                        "remaining_time": 2.113981411,
                        "test": [
                          0.8539325843,
                          0.353794482
                        ]
                      },
                      {
                        "learn": [
                          0.8877980365,
                          0.3153262825
                        ],
                        "iteration": 46,
                        "passed_time": 0.1070058441,
                        "remaining_time": 2.169714244,
                        "test": [
                          0.8651685393,
                          0.3517063096
                        ]
                      },
                      {
                        "learn": [
                          0.8863955119,
                          0.3124413622
                        ],
                        "iteration": 47,
                        "passed_time": 0.1100793234,
                        "remaining_time": 2.183239915,
                        "test": [
                          0.8651685393,
                          0.3522753296
                        ]
                      },
                      {
                        "learn": [
                          0.8877980365,
                          0.3116834801
                        ],
                        "iteration": 48,
                        "passed_time": 0.113788909,
                        "remaining_time": 2.208433724,
                        "test": [
                          0.8595505618,
                          0.3518388003
                        ]
                      },
                      {
                        "learn": [
                          0.8906030856,
                          0.3059935646
                        ],
                        "iteration": 49,
                        "passed_time": 0.1175324206,
                        "remaining_time": 2.233115991,
                        "test": [
                          0.8651685393,
                          0.3530833828
                        ]
                      },
                      {
                        "learn": [
                          0.8863955119,
                          0.3030424054
                        ],
                        "iteration": 50,
                        "passed_time": 0.1214225655,
                        "remaining_time": 2.259412053,
                        "test": [
                          0.8595505618,
                          0.3522501917
                        ]
                      },
                      {
                        "learn": [
                          0.8877980365,
                          0.3024471132
                        ],
                        "iteration": 51,
                        "passed_time": 0.1255210424,
                        "remaining_time": 2.288345158,
                        "test": [
                          0.8595505618,
                          0.3522927233
                        ]
                      },
                      {
                        "learn": [
                          0.889200561,
                          0.2991849208
                        ],
                        "iteration": 52,
                        "passed_time": 0.1295037811,
                        "remaining_time": 2.313963787,
                        "test": [
                          0.8707865169,
                          0.3503377561
                        ]
                      },
                      {
                        "learn": [
                          0.8863955119,
                          0.29526249
                        ],
                        "iteration": 53,
                        "passed_time": 0.1326031003,
                        "remaining_time": 2.323009868,
                        "test": [
                          0.8651685393,
                          0.3474348638
                        ]
                      },
                      {
                        "learn": [
                          0.8863955119,
                          0.2928035649
                        ],
                        "iteration": 54,
                        "passed_time": 0.1350333026,
                        "remaining_time": 2.320117654,
                        "test": [
                          0.8651685393,
                          0.3467582488
                        ]
                      },
                      {
                        "learn": [
                          0.889200561,
                          0.2909617361
                        ],
                        "iteration": 55,
                        "passed_time": 0.1372691016,
                        "remaining_time": 2.313964856,
                        "test": [
                          0.8651685393,
                          0.3521584842
                        ]
                      },
                      {
                        "learn": [
                          0.8906030856,
                          0.2878865564
                        ],
                        "iteration": 56,
                        "passed_time": 0.1395864183,
                        "remaining_time": 2.309298114,
                        "test": [
                          0.8539325843,
                          0.3504904952
                        ]
                      },
                      {
                        "learn": [
                          0.8920056101,
                          0.2868679529
                        ],
                        "iteration": 57,
                        "passed_time": 0.1418999397,
                        "remaining_time": 2.304650745,
                        "test": [
                          0.8539325843,
                          0.3504828431
                        ]
                      },
                      {
                        "learn": [
                          0.8920056101,
                          0.2854758899
                        ],
                        "iteration": 58,
                        "passed_time": 0.1440466385,
                        "remaining_time": 2.297421811,
                        "test": [
                          0.8539325843,
                          0.3524963602
                        ]
                      },
                      {
                        "learn": [
                          0.8948106592,
                          0.2825827754
                        ],
                        "iteration": 59,
                        "passed_time": 0.1462561521,
                        "remaining_time": 2.291346383,
                        "test": [
                          0.8595505618,
                          0.3507149797
                        ]
                      },
                      {
                        "learn": [
                          0.8990182328,
                          0.2805046902
                        ],
                        "iteration": 60,
                        "passed_time": 0.148459846,
                        "remaining_time": 2.285308121,
                        "test": [
                          0.8539325843,
                          0.3535674314
                        ]
                      },
                      {
                        "learn": [
                          0.8976157083,
                          0.2793915664
                        ],
                        "iteration": 61,
                        "passed_time": 0.1507208321,
                        "remaining_time": 2.280260331,
                        "test": [
                          0.8539325843,
                          0.3542352078
                        ]
                      },
                      {
                        "learn": [
                          0.8990182328,
                          0.2768051099
                        ],
                        "iteration": 62,
                        "passed_time": 0.1529347183,
                        "remaining_time": 2.274600493,
                        "test": [
                          0.8651685393,
                          0.353549601
                        ]
                      },
                      {
                        "learn": [
                          0.9004207574,
                          0.2752856933
                        ],
                        "iteration": 63,
                        "passed_time": 0.1551390858,
                        "remaining_time": 2.268909129,
                        "test": [
                          0.8707865169,
                          0.3535997805
                        ]
                      },
                      {
                        "learn": [
                          0.9032258065,
                          0.2730637171
                        ],
                        "iteration": 64,
                        "passed_time": 0.1572950196,
                        "remaining_time": 2.262628359,
                        "test": [
                          0.8764044944,
                          0.3533062555
                        ]
                      },
                      {
                        "learn": [
                          0.904628331,
                          0.2711749248
                        ],
                        "iteration": 65,
                        "passed_time": 0.1596049712,
                        "remaining_time": 2.258652168,
                        "test": [
                          0.8707865169,
                          0.3538564966
                        ]
                      },
                      {
                        "learn": [
                          0.9060308555,
                          0.2689046307
                        ],
                        "iteration": 66,
                        "passed_time": 0.1618542914,
                        "remaining_time": 2.253881402,
                        "test": [
                          0.8595505618,
                          0.3586916361
                        ]
                      },
                      {
                        "learn": [
                          0.9074333801,
                          0.2667657163
                        ],
                        "iteration": 67,
                        "passed_time": 0.1640663968,
                        "remaining_time": 2.248674732,
                        "test": [
                          0.8595505618,
                          0.3575007667
                        ]
                      },
                      {
                        "learn": [
                          0.9102384292,
                          0.2658003064
                        ],
                        "iteration": 68,
                        "passed_time": 0.1662307558,
                        "remaining_time": 2.242910632,
                        "test": [
                          0.8595505618,
                          0.3596060025
                        ]
                      },
                      {
                        "learn": [
                          0.9130434783,
                          0.263800195
                        ],
                        "iteration": 69,
                        "passed_time": 0.1692213864,
                        "remaining_time": 2.248226991,
                        "test": [
                          0.8595505618,
                          0.3591468609
                        ]
                      },
                      {
                        "learn": [
                          0.9158485273,
                          0.2592789267
                        ],
                        "iteration": 70,
                        "passed_time": 0.1722036238,
                        "remaining_time": 2.253199528,
                        "test": [
                          0.8595505618,
                          0.3613279366
                        ]
                      },
                      {
                        "learn": [
                          0.9130434783,
                          0.2566396406
                        ],
                        "iteration": 71,
                        "passed_time": 0.1744592347,
                        "remaining_time": 2.248585692,
                        "test": [
                          0.8707865169,
                          0.3559993865
                        ]
                      },
                      {
                        "learn": [
                          0.9130434783,
                          0.2530533997
                        ],
                        "iteration": 72,
                        "passed_time": 0.176754245,
                        "remaining_time": 2.244536783,
                        "test": [
                          0.8651685393,
                          0.3558125577
                        ]
                      },
                      {
                        "learn": [
                          0.9116409537,
                          0.2500435658
                        ],
                        "iteration": 73,
                        "passed_time": 0.1789724756,
                        "remaining_time": 2.239574492,
                        "test": [
                          0.8651685393,
                          0.3531566455
                        ]
                      },
                      {
                        "learn": [
                          0.9130434783,
                          0.2472910624
                        ],
                        "iteration": 74,
                        "passed_time": 0.1811867499,
                        "remaining_time": 2.234636582,
                        "test": [
                          0.8651685393,
                          0.3560389877
                        ]
                      },
                      {
                        "learn": [
                          0.9172510519,
                          0.2426716993
                        ],
                        "iteration": 75,
                        "passed_time": 0.1833373531,
                        "remaining_time": 2.22899624,
                        "test": [
                          0.8539325843,
                          0.3538016943
                        ]
                      },
                      {
                        "learn": [
                          0.9172510519,
                          0.242374886
                        ],
                        "iteration": 76,
                        "passed_time": 0.1854569711,
                        "remaining_time": 2.223075121,
                        "test": [
                          0.8539325843,
                          0.3538268666
                        ]
                      },
                      {
                        "learn": [
                          0.9172510519,
                          0.2390452279
                        ],
                        "iteration": 77,
                        "passed_time": 0.1877409018,
                        "remaining_time": 2.219193737,
                        "test": [
                          0.8539325843,
                          0.3547014079
                        ]
                      },
                      {
                        "learn": [
                          0.9214586255,
                          0.2378507872
                        ],
                        "iteration": 78,
                        "passed_time": 0.1899099534,
                        "remaining_time": 2.214013507,
                        "test": [
                          0.8595505618,
                          0.3551719055
                        ]
                      },
                      {
                        "learn": [
                          0.920056101,
                          0.2360931444
                        ],
                        "iteration": 79,
                        "passed_time": 0.1920940653,
                        "remaining_time": 2.20908175,
                        "test": [
                          0.8595505618,
                          0.3551570742
                        ]
                      },
                      {
                        "learn": [
                          0.9214586255,
                          0.2350160802
                        ],
                        "iteration": 80,
                        "passed_time": 0.1945163525,
                        "remaining_time": 2.206920098,
                        "test": [
                          0.8539325843,
                          0.355553227
                        ]
                      },
                      {
                        "learn": [
                          0.9228611501,
                          0.2339810941
                        ],
                        "iteration": 81,
                        "passed_time": 0.196721669,
                        "remaining_time": 2.202323075,
                        "test": [
                          0.8595505618,
                          0.3553562971
                        ]
                      },
                      {
                        "learn": [
                          0.9256661992,
                          0.2334148001
                        ],
                        "iteration": 82,
                        "passed_time": 0.1988339336,
                        "remaining_time": 2.196755628,
                        "test": [
                          0.8595505618,
                          0.3556674925
                        ]
                      },
                      {
                        "learn": [
                          0.9242636746,
                          0.2326084059
                        ],
                        "iteration": 83,
                        "passed_time": 0.2009746763,
                        "remaining_time": 2.191580994,
                        "test": [
                          0.8595505618,
                          0.3566409106
                        ]
                      },
                      {
                        "learn": [
                          0.9228611501,
                          0.2298416661
                        ],
                        "iteration": 84,
                        "passed_time": 0.2032972664,
                        "remaining_time": 2.18843528,
                        "test": [
                          0.8539325843,
                          0.3569880228
                        ]
                      },
                      {
                        "learn": [
                          0.9270687237,
                          0.2270546711
                        ],
                        "iteration": 85,
                        "passed_time": 0.2053977924,
                        "remaining_time": 2.182948631,
                        "test": [
                          0.8707865169,
                          0.3550762507
                        ]
                      },
                      {
                        "learn": [
                          0.9284712482,
                          0.2244012045
                        ],
                        "iteration": 86,
                        "passed_time": 0.2077100348,
                        "remaining_time": 2.17976163,
                        "test": [
                          0.8707865169,
                          0.3517712146
                        ]
                      },
                      {
                        "learn": [
                          0.9284712482,
                          0.2241651638
                        ],
                        "iteration": 87,
                        "passed_time": 0.209956417,
                        "remaining_time": 2.175911958,
                        "test": [
                          0.8707865169,
                          0.3514852494
                        ]
                      },
                      {
                        "learn": [
                          0.9298737728,
                          0.222598587
                        ],
                        "iteration": 88,
                        "passed_time": 0.2122132342,
                        "remaining_time": 2.172205128,
                        "test": [
                          0.8707865169,
                          0.3516559155
                        ]
                      },
                      {
                        "learn": [
                          0.9312762973,
                          0.2204780508
                        ],
                        "iteration": 89,
                        "passed_time": 0.2143121558,
                        "remaining_time": 2.166934019,
                        "test": [
                          0.8764044944,
                          0.3509466402
                        ]
                      },
                      {
                        "learn": [
                          0.9270687237,
                          0.2190031784
                        ],
                        "iteration": 90,
                        "passed_time": 0.2165885731,
                        "remaining_time": 2.163505637,
                        "test": [
                          0.8764044944,
                          0.3496363898
                        ]
                      },
                      {
                        "learn": [
                          0.9284712482,
                          0.2186582367
                        ],
                        "iteration": 91,
                        "passed_time": 0.2188131362,
                        "remaining_time": 2.159590518,
                        "test": [
                          0.8764044944,
                          0.3499087821
                        ]
                      },
                      {
                        "learn": [
                          0.9298737728,
                          0.2164441792
                        ],
                        "iteration": 92,
                        "passed_time": 0.2210743696,
                        "remaining_time": 2.15606939,
                        "test": [
                          0.8764044944,
                          0.3497123673
                        ]
                      },
                      {
                        "learn": [
                          0.9298737728,
                          0.2163120482
                        ],
                        "iteration": 93,
                        "passed_time": 0.2236006683,
                        "remaining_time": 2.155129845,
                        "test": [
                          0.8764044944,
                          0.3499780958
                        ]
                      },
                      {
                        "learn": [
                          0.9284712482,
                          0.2153120088
                        ],
                        "iteration": 94,
                        "passed_time": 0.2262872125,
                        "remaining_time": 2.155683445,
                        "test": [
                          0.8651685393,
                          0.3494666748
                        ]
                      },
                      {
                        "learn": [
                          0.9298737728,
                          0.2145981494
                        ],
                        "iteration": 95,
                        "passed_time": 0.2293752467,
                        "remaining_time": 2.15995024,
                        "test": [
                          0.8707865169,
                          0.3487647039
                        ]
                      },
                      {
                        "learn": [
                          0.9340813464,
                          0.2124924928
                        ],
                        "iteration": 96,
                        "passed_time": 0.2318705611,
                        "remaining_time": 2.158547594,
                        "test": [
                          0.8595505618,
                          0.3528685871
                        ]
                      },
                      {
                        "learn": [
                          0.935483871,
                          0.2119479469
                        ],
                        "iteration": 97,
                        "passed_time": 0.234274449,
                        "remaining_time": 2.156281153,
                        "test": [
                          0.8595505618,
                          0.3531454782
                        ]
                      },
                      {
                        "learn": [
                          0.9340813464,
                          0.2110898315
                        ],
                        "iteration": 98,
                        "passed_time": 0.2371123583,
                        "remaining_time": 2.157961968,
                        "test": [
                          0.8595505618,
                          0.3539537534
                        ]
                      },
                      {
                        "learn": [
                          0.935483871,
                          0.2102283516
                        ],
                        "iteration": 99,
                        "passed_time": 0.239784504,
                        "remaining_time": 2.158060536,
                        "test": [
                          0.8539325843,
                          0.3539228013
                        ]
                      },
                      {
                        "learn": [
                          0.9368863955,
                          0.2088563461
                        ],
                        "iteration": 100,
                        "passed_time": 0.2428255364,
                        "remaining_time": 2.161387695,
                        "test": [
                          0.8595505618,
                          0.3552910917
                        ]
                      },
                      {
                        "learn": [
                          0.9396914446,
                          0.2060176917
                        ],
                        "iteration": 101,
                        "passed_time": 0.2452850467,
                        "remaining_time": 2.159470313,
                        "test": [
                          0.8595505618,
                          0.3552093965
                        ]
                      },
                      {
                        "learn": [
                          0.9396914446,
                          0.2048313549
                        ],
                        "iteration": 102,
                        "passed_time": 0.2475491491,
                        "remaining_time": 2.155840648,
                        "test": [
                          0.8651685393,
                          0.3551669654
                        ]
                      },
                      {
                        "learn": [
                          0.9382889201,
                          0.2039784959
                        ],
                        "iteration": 103,
                        "passed_time": 0.2500065758,
                        "remaining_time": 2.153902807,
                        "test": [
                          0.8651685393,
                          0.3555297873
                        ]
                      },
                      {
                        "learn": [
                          0.9396914446,
                          0.2021881297
                        ],
                        "iteration": 104,
                        "passed_time": 0.252264903,
                        "remaining_time": 2.150257983,
                        "test": [
                          0.8539325843,
                          0.3552167938
                        ]
                      },
                      {
                        "learn": [
                          0.9410939691,
                          0.2003124528
                        ],
                        "iteration": 105,
                        "passed_time": 0.2545216594,
                        "remaining_time": 2.14662607,
                        "test": [
                          0.8595505618,
                          0.3545203559
                        ]
                      },
                      {
                        "learn": [
                          0.9424964937,
                          0.1990947226
                        ],
                        "iteration": 106,
                        "passed_time": 0.2566309714,
                        "remaining_time": 2.141789322,
                        "test": [
                          0.8483146067,
                          0.3546259639
                        ]
                      },
                      {
                        "learn": [
                          0.9424964937,
                          0.1977158881
                        ],
                        "iteration": 107,
                        "passed_time": 0.2591724022,
                        "remaining_time": 2.140572062,
                        "test": [
                          0.8539325843,
                          0.3534877858
                        ]
                      },
                      {
                        "learn": [
                          0.9438990182,
                          0.1972453945
                        ],
                        "iteration": 108,
                        "passed_time": 0.2618966677,
                        "remaining_time": 2.140825054,
                        "test": [
                          0.8539325843,
                          0.3535993182
                        ]
                      },
                      {
                        "learn": [
                          0.9438990182,
                          0.1952734369
                        ],
                        "iteration": 109,
                        "passed_time": 0.2731102839,
                        "remaining_time": 2.209710479,
                        "test": [
                          0.8539325843,
                          0.35172599
                        ]
                      },
                      {
                        "learn": [
                          0.9410939691,
                          0.1943531687
                        ],
                        "iteration": 110,
                        "passed_time": 0.2767644834,
                        "remaining_time": 2.216609241,
                        "test": [
                          0.8595505618,
                          0.3503303416
                        ]
                      },
                      {
                        "learn": [
                          0.9453015428,
                          0.1933987736
                        ],
                        "iteration": 111,
                        "passed_time": 0.2796369687,
                        "remaining_time": 2.21712168,
                        "test": [
                          0.8539325843,
                          0.3545754811
                        ]
                      },
                      {
                        "learn": [
                          0.9453015428,
                          0.1931628792
                        ],
                        "iteration": 112,
                        "passed_time": 0.2819502183,
                        "remaining_time": 2.213184457,
                        "test": [
                          0.8539325843,
                          0.3544198473
                        ]
                      },
                      {
                        "learn": [
                          0.9453015428,
                          0.1920760305
                        ],
                        "iteration": 113,
                        "passed_time": 0.2840984634,
                        "remaining_time": 2.207993321,
                        "test": [
                          0.8539325843,
                          0.3540405906
                        ]
                      },
                      {
                        "learn": [
                          0.9438990182,
                          0.1902927944
                        ],
                        "iteration": 114,
                        "passed_time": 0.2886462474,
                        "remaining_time": 2.221321122,
                        "test": [
                          0.8370786517,
                          0.3577902966
                        ]
                      },
                      {
                        "learn": [
                          0.9453015428,
                          0.1892301486
                        ],
                        "iteration": 115,
                        "passed_time": 0.2913795144,
                        "remaining_time": 2.220512851,
                        "test": [
                          0.8314606742,
                          0.3593589006
                        ]
                      },
                      {
                        "learn": [
                          0.9467040673,
                          0.1884322827
                        ],
                        "iteration": 116,
                        "passed_time": 0.2935851509,
                        "remaining_time": 2.215689643,
                        "test": [
                          0.8314606742,
                          0.3580800384
                        ]
                      },
                      {
                        "learn": [
                          0.9467040673,
                          0.1882576432
                        ],
                        "iteration": 117,
                        "passed_time": 0.2958689508,
                        "remaining_time": 2.211495039,
                        "test": [
                          0.8314606742,
                          0.3580878302
                        ]
                      },
                      {
                        "learn": [
                          0.9467040673,
                          0.1874728669
                        ],
                        "iteration": 118,
                        "passed_time": 0.298218249,
                        "remaining_time": 2.207817457,
                        "test": [
                          0.8314606742,
                          0.3569314264
                        ]
                      },
                      {
                        "learn": [
                          0.9481065919,
                          0.1870648437
                        ],
                        "iteration": 119,
                        "passed_time": 0.3003388587,
                        "remaining_time": 2.202484964,
                        "test": [
                          0.8314606742,
                          0.3576735782
                        ]
                      },
                      {
                        "learn": [
                          0.950911641,
                          0.1867947331
                        ],
                        "iteration": 120,
                        "passed_time": 0.3028281288,
                        "remaining_time": 2.19988368,
                        "test": [
                          0.8314606742,
                          0.3574421899
                        ]
                      }
                    ],
                    "meta": {
                      "test_sets": [
                        "test"
                      ],
                      "test_metrics": [
                        {
                          "best_value": "Max",
                          "name": "Accuracy"
                        },
                        {
                          "best_value": "Min",
                          "name": "Logloss"
                        }
                      ],
                      "learn_metrics": [
                        {
                          "best_value": "Max",
                          "name": "Accuracy"
                        },
                        {
                          "best_value": "Min",
                          "name": "Logloss"
                        }
                      ],
                      "launch_mode": "Train",
                      "parameters": "",
                      "iteration_count": 1000,
                      "learn_sets": [
                        "learn"
                      ],
                      "name": "experiment"
                    }
                  }
                }
              },
              "catboost_info/fold-4": {
                "path": "catboost_info/fold-4",
                "name": "fold-4",
                "content": {
                  "passed_iterations": 169,
                  "total_iterations": 1000,
                  "data": {
                    "iterations": [
                      {
                        "learn": [
                          0.8067226891,
                          0.5739207659
                        ],
                        "iteration": 0,
                        "passed_time": 0.003303537658,
                        "remaining_time": 3.30023412,
                        "test": [
                          0.7570621469,
                          0.598066046
                        ]
                      },
                      {
                        "learn": [
                          0.7983193277,
                          0.528417977
                        ],
                        "iteration": 1,
                        "passed_time": 0.005426686434,
                        "remaining_time": 2.70791653,
                        "test": [
                          0.7514124294,
                          0.5656889061
                        ]
                      },
                      {
                        "learn": [
                          0.8011204482,
                          0.4882906305
                        ],
                        "iteration": 2,
                        "passed_time": 0.007772519322,
                        "remaining_time": 2.583067255,
                        "test": [
                          0.7627118644,
                          0.5358166974
                        ]
                      },
                      {
                        "learn": [
                          0.8039215686,
                          0.4547701552
                        ],
                        "iteration": 3,
                        "passed_time": 0.01014412758,
                        "remaining_time": 2.525887767,
                        "test": [
                          0.7740112994,
                          0.5030077235
                        ]
                      },
                      {
                        "learn": [
                          0.8067226891,
                          0.4438144322
                        ],
                        "iteration": 4,
                        "passed_time": 0.01233368742,
                        "remaining_time": 2.454403797,
                        "test": [
                          0.7796610169,
                          0.4915127551
                        ]
                      },
                      {
                        "learn": [
                          0.8151260504,
                          0.4312192762
                        ],
                        "iteration": 5,
                        "passed_time": 0.01460877577,
                        "remaining_time": 2.420187186,
                        "test": [
                          0.7853107345,
                          0.488050232
                        ]
                      },
                      {
                        "learn": [
                          0.8137254902,
                          0.4280112018
                        ],
                        "iteration": 6,
                        "passed_time": 0.01599298586,
                        "remaining_time": 2.26871928,
                        "test": [
                          0.7796610169,
                          0.4876241757
                        ]
                      },
                      {
                        "learn": [
                          0.81232493,
                          0.4178123383
                        ],
                        "iteration": 7,
                        "passed_time": 0.01816967438,
                        "remaining_time": 2.253039624,
                        "test": [
                          0.7796610169,
                          0.4880536424
                        ]
                      },
                      {
                        "learn": [
                          0.8263305322,
                          0.4074216586
                        ],
                        "iteration": 8,
                        "passed_time": 0.0204399102,
                        "remaining_time": 2.250661223,
                        "test": [
                          0.8079096045,
                          0.4781038914
                        ]
                      },
                      {
                        "learn": [
                          0.8305322129,
                          0.4023600399
                        ],
                        "iteration": 9,
                        "passed_time": 0.0227070434,
                        "remaining_time": 2.247997297,
                        "test": [
                          0.802259887,
                          0.4759517141
                        ]
                      },
                      {
                        "learn": [
                          0.8305322129,
                          0.3988879551
                        ],
                        "iteration": 10,
                        "passed_time": 0.02498377533,
                        "remaining_time": 2.246268527,
                        "test": [
                          0.802259887,
                          0.4744496241
                        ]
                      },
                      {
                        "learn": [
                          0.8305322129,
                          0.3983062183
                        ],
                        "iteration": 11,
                        "passed_time": 0.02634635353,
                        "remaining_time": 2.169183107,
                        "test": [
                          0.802259887,
                          0.475351178
                        ]
                      },
                      {
                        "learn": [
                          0.8319327731,
                          0.3961858274
                        ],
                        "iteration": 12,
                        "passed_time": 0.02872052986,
                        "remaining_time": 2.180550998,
                        "test": [
                          0.802259887,
                          0.475125892
                        ]
                      },
                      {
                        "learn": [
                          0.8305322129,
                          0.3909772462
                        ],
                        "iteration": 13,
                        "passed_time": 0.03097455994,
                        "remaining_time": 2.181494007,
                        "test": [
                          0.7966101695,
                          0.4729266186
                        ]
                      },
                      {
                        "learn": [
                          0.8417366947,
                          0.3834635846
                        ],
                        "iteration": 14,
                        "passed_time": 0.03328319154,
                        "remaining_time": 2.185596244,
                        "test": [
                          0.802259887,
                          0.4677639692
                        ]
                      },
                      {
                        "learn": [
                          0.8389355742,
                          0.3809434124
                        ],
                        "iteration": 15,
                        "passed_time": 0.03488788128,
                        "remaining_time": 2.145604699,
                        "test": [
                          0.7966101695,
                          0.46470575
                        ]
                      },
                      {
                        "learn": [
                          0.8389355742,
                          0.3790365937
                        ],
                        "iteration": 16,
                        "passed_time": 0.03701492627,
                        "remaining_time": 2.140333678,
                        "test": [
                          0.802259887,
                          0.4613373099
                        ]
                      },
                      {
                        "learn": [
                          0.8403361345,
                          0.3777402394
                        ],
                        "iteration": 17,
                        "passed_time": 0.0392791205,
                        "remaining_time": 2.142894241,
                        "test": [
                          0.8079096045,
                          0.4605198511
                        ]
                      },
                      {
                        "learn": [
                          0.8403361345,
                          0.3763905803
                        ],
                        "iteration": 18,
                        "passed_time": 0.04157228088,
                        "remaining_time": 2.146442502,
                        "test": [
                          0.8079096045,
                          0.4604094612
                        ]
                      },
                      {
                        "learn": [
                          0.8403361345,
                          0.3745606036
                        ],
                        "iteration": 19,
                        "passed_time": 0.04392063276,
                        "remaining_time": 2.152111005,
                        "test": [
                          0.813559322,
                          0.4603821317
                        ]
                      },
                      {
                        "learn": [
                          0.8417366947,
                          0.3729763421
                        ],
                        "iteration": 20,
                        "passed_time": 0.04629756536,
                        "remaining_time": 2.158348404,
                        "test": [
                          0.813559322,
                          0.4598058879
                        ]
                      },
                      {
                        "learn": [
                          0.8417366947,
                          0.3708681268
                        ],
                        "iteration": 21,
                        "passed_time": 0.04857797077,
                        "remaining_time": 2.15951161,
                        "test": [
                          0.813559322,
                          0.4621874525
                        ]
                      },
                      {
                        "learn": [
                          0.8431372549,
                          0.3703723522
                        ],
                        "iteration": 22,
                        "passed_time": 0.05089487478,
                        "remaining_time": 2.161925768,
                        "test": [
                          0.813559322,
                          0.4613142055
                        ]
                      },
                      {
                        "learn": [
                          0.8445378151,
                          0.3666412007
                        ],
                        "iteration": 23,
                        "passed_time": 0.05328813765,
                        "remaining_time": 2.167050931,
                        "test": [
                          0.813559322,
                          0.4608889588
                        ]
                      },
                      {
                        "learn": [
                          0.8431372549,
                          0.3655912014
                        ],
                        "iteration": 24,
                        "passed_time": 0.05589208874,
                        "remaining_time": 2.179791461,
                        "test": [
                          0.813559322,
                          0.4623126709
                        ]
                      },
                      {
                        "learn": [
                          0.8431372549,
                          0.3633300089
                        ],
                        "iteration": 25,
                        "passed_time": 0.05846169933,
                        "remaining_time": 2.190065198,
                        "test": [
                          0.813559322,
                          0.4616623732
                        ]
                      },
                      {
                        "learn": [
                          0.8417366947,
                          0.3576284176
                        ],
                        "iteration": 26,
                        "passed_time": 0.06084261632,
                        "remaining_time": 2.192587618,
                        "test": [
                          0.813559322,
                          0.4590748395
                        ]
                      },
                      {
                        "learn": [
                          0.8445378151,
                          0.3564417985
                        ],
                        "iteration": 27,
                        "passed_time": 0.062733285,
                        "remaining_time": 2.177741179,
                        "test": [
                          0.813559322,
                          0.4578271904
                        ]
                      },
                      {
                        "learn": [
                          0.8487394958,
                          0.3549280248
                        ],
                        "iteration": 28,
                        "passed_time": 0.06512764419,
                        "remaining_time": 2.18065319,
                        "test": [
                          0.813559322,
                          0.4559041459
                        ]
                      },
                      {
                        "learn": [
                          0.850140056,
                          0.3529422836
                        ],
                        "iteration": 29,
                        "passed_time": 0.06731577954,
                        "remaining_time": 2.176543539,
                        "test": [
                          0.813559322,
                          0.4558689183
                        ]
                      },
                      {
                        "learn": [
                          0.8529411765,
                          0.3518069262
                        ],
                        "iteration": 30,
                        "passed_time": 0.06961001534,
                        "remaining_time": 2.17587435,
                        "test": [
                          0.813559322,
                          0.4548942131
                        ]
                      },
                      {
                        "learn": [
                          0.8571428571,
                          0.3457499846
                        ],
                        "iteration": 31,
                        "passed_time": 0.07185840291,
                        "remaining_time": 2.173716688,
                        "test": [
                          0.8192090395,
                          0.4517755669
                        ]
                      },
                      {
                        "learn": [
                          0.8585434174,
                          0.3410440463
                        ],
                        "iteration": 32,
                        "passed_time": 0.07411575467,
                        "remaining_time": 2.171816205,
                        "test": [
                          0.8192090395,
                          0.4536987552
                        ]
                      },
                      {
                        "learn": [
                          0.8557422969,
                          0.3395452776
                        ],
                        "iteration": 33,
                        "passed_time": 0.07626263616,
                        "remaining_time": 2.166756075,
                        "test": [
                          0.813559322,
                          0.4534917263
                        ]
                      },
                      {
                        "learn": [
                          0.8599439776,
                          0.3382116317
                        ],
                        "iteration": 34,
                        "passed_time": 0.07836983919,
                        "remaining_time": 2.160768423,
                        "test": [
                          0.813559322,
                          0.4530608041
                        ]
                      },
                      {
                        "learn": [
                          0.862745098,
                          0.3358039965
                        ],
                        "iteration": 35,
                        "passed_time": 0.0805257267,
                        "remaining_time": 2.156300015,
                        "test": [
                          0.813559322,
                          0.4518605491
                        ]
                      },
                      {
                        "learn": [
                          0.8613445378,
                          0.3342994162
                        ],
                        "iteration": 36,
                        "passed_time": 0.08276594186,
                        "remaining_time": 2.154151406,
                        "test": [
                          0.813559322,
                          0.4516616705
                        ]
                      },
                      {
                        "learn": [
                          0.8655462185,
                          0.3311940038
                        ],
                        "iteration": 37,
                        "passed_time": 0.08497239832,
                        "remaining_time": 2.151143347,
                        "test": [
                          0.813559322,
                          0.4513386432
                        ]
                      },
                      {
                        "learn": [
                          0.8683473389,
                          0.3294461833
                        ],
                        "iteration": 38,
                        "passed_time": 0.08718224374,
                        "remaining_time": 2.148259904,
                        "test": [
                          0.8192090395,
                          0.4475416788
                        ]
                      },
                      {
                        "learn": [
                          0.8725490196,
                          0.3271501102
                        ],
                        "iteration": 39,
                        "passed_time": 0.08931217953,
                        "remaining_time": 2.143492309,
                        "test": [
                          0.8192090395,
                          0.4486912639
                        ]
                      },
                      {
                        "learn": [
                          0.8711484594,
                          0.325486998
                        ],
                        "iteration": 40,
                        "passed_time": 0.09171501567,
                        "remaining_time": 2.145236586,
                        "test": [
                          0.8079096045,
                          0.4483636231
                        ]
                      },
                      {
                        "learn": [
                          0.8711484594,
                          0.3242625362
                        ],
                        "iteration": 41,
                        "passed_time": 0.09407023637,
                        "remaining_time": 2.145697296,
                        "test": [
                          0.8079096045,
                          0.4474126573
                        ]
                      },
                      {
                        "learn": [
                          0.8739495798,
                          0.3207551535
                        ],
                        "iteration": 42,
                        "passed_time": 0.09627094488,
                        "remaining_time": 2.142588238,
                        "test": [
                          0.8248587571,
                          0.4458405738
                        ]
                      },
                      {
                        "learn": [
                          0.8795518207,
                          0.3177800612
                        ],
                        "iteration": 43,
                        "passed_time": 0.09846555998,
                        "remaining_time": 2.139388076,
                        "test": [
                          0.8248587571,
                          0.4445667388
                        ]
                      },
                      {
                        "learn": [
                          0.880952381,
                          0.3139483274
                        ],
                        "iteration": 44,
                        "passed_time": 0.1006608796,
                        "remaining_time": 2.136247556,
                        "test": [
                          0.8248587571,
                          0.4451180173
                        ]
                      },
                      {
                        "learn": [
                          0.880952381,
                          0.3119237655
                        ],
                        "iteration": 45,
                        "passed_time": 0.1029268483,
                        "remaining_time": 2.134613332,
                        "test": [
                          0.8192090395,
                          0.4476320543
                        ]
                      },
                      {
                        "learn": [
                          0.8823529412,
                          0.3101538557
                        ],
                        "iteration": 46,
                        "passed_time": 0.1050619439,
                        "remaining_time": 2.130298564,
                        "test": [
                          0.8248587571,
                          0.4473989347
                        ]
                      },
                      {
                        "learn": [
                          0.8865546218,
                          0.3032574026
                        ],
                        "iteration": 47,
                        "passed_time": 0.1074389028,
                        "remaining_time": 2.130871573,
                        "test": [
                          0.8248587571,
                          0.4430932558
                        ]
                      },
                      {
                        "learn": [
                          0.8851540616,
                          0.2993648402
                        ],
                        "iteration": 48,
                        "passed_time": 0.1097148221,
                        "remaining_time": 2.129363179,
                        "test": [
                          0.8248587571,
                          0.437073486
                        ]
                      },
                      {
                        "learn": [
                          0.8893557423,
                          0.2977528459
                        ],
                        "iteration": 49,
                        "passed_time": 0.1120910411,
                        "remaining_time": 2.12972978,
                        "test": [
                          0.8248587571,
                          0.438250934
                        ]
                      },
                      {
                        "learn": [
                          0.8921568627,
                          0.2954459075
                        ],
                        "iteration": 50,
                        "passed_time": 0.1146102045,
                        "remaining_time": 2.132648708,
                        "test": [
                          0.8248587571,
                          0.4356794742
                        ]
                      },
                      {
                        "learn": [
                          0.8949579832,
                          0.289988779
                        ],
                        "iteration": 51,
                        "passed_time": 0.1169784738,
                        "remaining_time": 2.132607561,
                        "test": [
                          0.8192090395,
                          0.4374941737
                        ]
                      },
                      {
                        "learn": [
                          0.8977591036,
                          0.2882705687
                        ],
                        "iteration": 52,
                        "passed_time": 0.1191247935,
                        "remaining_time": 2.12851282,
                        "test": [
                          0.8248587571,
                          0.4391170687
                        ]
                      },
                      {
                        "learn": [
                          0.8977591036,
                          0.28486888
                        ],
                        "iteration": 53,
                        "passed_time": 0.1213381397,
                        "remaining_time": 2.125664447,
                        "test": [
                          0.8248587571,
                          0.4373356836
                        ]
                      },
                      {
                        "learn": [
                          0.9005602241,
                          0.2828674355
                        ],
                        "iteration": 54,
                        "passed_time": 0.1234524243,
                        "remaining_time": 2.121137108,
                        "test": [
                          0.8248587571,
                          0.4371390693
                        ]
                      },
                      {
                        "learn": [
                          0.9047619048,
                          0.2793633011
                        ],
                        "iteration": 55,
                        "passed_time": 0.1258081422,
                        "remaining_time": 2.120765826,
                        "test": [
                          0.8248587571,
                          0.4378577026
                        ]
                      },
                      {
                        "learn": [
                          0.9047619048,
                          0.2779369954
                        ],
                        "iteration": 56,
                        "passed_time": 0.1280495001,
                        "remaining_time": 2.118432957,
                        "test": [
                          0.8248587571,
                          0.4377015917
                        ]
                      },
                      {
                        "learn": [
                          0.906162465,
                          0.2767695836
                        ],
                        "iteration": 57,
                        "passed_time": 0.1301366812,
                        "remaining_time": 2.113599201,
                        "test": [
                          0.8192090395,
                          0.4354763382
                        ]
                      },
                      {
                        "learn": [
                          0.9075630252,
                          0.2744676016
                        ],
                        "iteration": 58,
                        "passed_time": 0.1323599306,
                        "remaining_time": 2.111028724,
                        "test": [
                          0.8192090395,
                          0.4370224742
                        ]
                      },
                      {
                        "learn": [
                          0.9047619048,
                          0.2726430996
                        ],
                        "iteration": 59,
                        "passed_time": 0.1346111926,
                        "remaining_time": 2.108908684,
                        "test": [
                          0.8192090395,
                          0.4376223203
                        ]
                      },
                      {
                        "learn": [
                          0.906162465,
                          0.2716417854
                        ],
                        "iteration": 60,
                        "passed_time": 0.1367971535,
                        "remaining_time": 2.105779133,
                        "test": [
                          0.8248587571,
                          0.4390348674
                        ]
                      },
                      {
                        "learn": [
                          0.9047619048,
                          0.2700627071
                        ],
                        "iteration": 61,
                        "passed_time": 0.1394081961,
                        "remaining_time": 2.109111096,
                        "test": [
                          0.8248587571,
                          0.438824479
                        ]
                      },
                      {
                        "learn": [
                          0.9075630252,
                          0.2660444709
                        ],
                        "iteration": 62,
                        "passed_time": 0.143388164,
                        "remaining_time": 2.132614439,
                        "test": [
                          0.8248587571,
                          0.4403738591
                        ]
                      },
                      {
                        "learn": [
                          0.9089635854,
                          0.2637629659
                        ],
                        "iteration": 63,
                        "passed_time": 0.1455711923,
                        "remaining_time": 2.128978687,
                        "test": [
                          0.8248587571,
                          0.4423799618
                        ]
                      },
                      {
                        "learn": [
                          0.9117647059,
                          0.2624721044
                        ],
                        "iteration": 64,
                        "passed_time": 0.1477377439,
                        "remaining_time": 2.125150624,
                        "test": [
                          0.8248587571,
                          0.4406877347
                        ]
                      },
                      {
                        "learn": [
                          0.9145658263,
                          0.2604540928
                        ],
                        "iteration": 65,
                        "passed_time": 0.150076528,
                        "remaining_time": 2.123810259,
                        "test": [
                          0.8248587571,
                          0.4378364065
                        ]
                      },
                      {
                        "learn": [
                          0.9145658263,
                          0.2587780073
                        ],
                        "iteration": 66,
                        "passed_time": 0.152383116,
                        "remaining_time": 2.12199175,
                        "test": [
                          0.8248587571,
                          0.4378559546
                        ]
                      },
                      {
                        "learn": [
                          0.9145658263,
                          0.2573952489
                        ],
                        "iteration": 67,
                        "passed_time": 0.1547230246,
                        "remaining_time": 2.120615572,
                        "test": [
                          0.8192090395,
                          0.4395728708
                        ]
                      },
                      {
                        "learn": [
                          0.9145658263,
                          0.2561184974
                        ],
                        "iteration": 68,
                        "passed_time": 0.1569086628,
                        "remaining_time": 2.117129928,
                        "test": [
                          0.8192090395,
                          0.4424508879
                        ]
                      },
                      {
                        "learn": [
                          0.9131652661,
                          0.2527210852
                        ],
                        "iteration": 69,
                        "passed_time": 0.1592665125,
                        "remaining_time": 2.11596938,
                        "test": [
                          0.8361581921,
                          0.4455285125
                        ]
                      },
                      {
                        "learn": [
                          0.9159663866,
                          0.2491849763
                        ],
                        "iteration": 70,
                        "passed_time": 0.1616977939,
                        "remaining_time": 2.115735922,
                        "test": [
                          0.8192090395,
                          0.4423119484
                        ]
                      },
                      {
                        "learn": [
                          0.9159663866,
                          0.247770205
                        ],
                        "iteration": 71,
                        "passed_time": 0.16421696,
                        "remaining_time": 2.116574152,
                        "test": [
                          0.8192090395,
                          0.4441627894
                        ]
                      },
                      {
                        "learn": [
                          0.9145658263,
                          0.246342504
                        ],
                        "iteration": 72,
                        "passed_time": 0.168266677,
                        "remaining_time": 2.136756296,
                        "test": [
                          0.8248587571,
                          0.4472074866
                        ]
                      },
                      {
                        "learn": [
                          0.9131652661,
                          0.2439874631
                        ],
                        "iteration": 73,
                        "passed_time": 0.172386194,
                        "remaining_time": 2.157156968,
                        "test": [
                          0.8305084746,
                          0.4485749015
                        ]
                      },
                      {
                        "learn": [
                          0.9145658263,
                          0.2425218017
                        ],
                        "iteration": 74,
                        "passed_time": 0.1752479906,
                        "remaining_time": 2.161391884,
                        "test": [
                          0.8305084746,
                          0.4506092289
                        ]
                      },
                      {
                        "learn": [
                          0.918767507,
                          0.2384196638
                        ],
                        "iteration": 75,
                        "passed_time": 0.1776014477,
                        "remaining_time": 2.159259706,
                        "test": [
                          0.8248587571,
                          0.4487629083
                        ]
                      },
                      {
                        "learn": [
                          0.9173669468,
                          0.2372837506
                        ],
                        "iteration": 76,
                        "passed_time": 0.1799181845,
                        "remaining_time": 2.156681614,
                        "test": [
                          0.8248587571,
                          0.4492238395
                        ]
                      },
                      {
                        "learn": [
                          0.9159663866,
                          0.2358379834
                        ],
                        "iteration": 77,
                        "passed_time": 0.1824288119,
                        "remaining_time": 2.15640211,
                        "test": [
                          0.8248587571,
                          0.4488360694
                        ]
                      },
                      {
                        "learn": [
                          0.9173669468,
                          0.2336817249
                        ],
                        "iteration": 78,
                        "passed_time": 0.1846919189,
                        "remaining_time": 2.153180472,
                        "test": [
                          0.813559322,
                          0.4492251914
                        ]
                      },
                      {
                        "learn": [
                          0.918767507,
                          0.2330939733
                        ],
                        "iteration": 79,
                        "passed_time": 0.1870646216,
                        "remaining_time": 2.151243149,
                        "test": [
                          0.813559322,
                          0.4498442432
                        ]
                      },
                      {
                        "learn": [
                          0.9215686275,
                          0.2307403182
                        ],
                        "iteration": 80,
                        "passed_time": 0.1893121365,
                        "remaining_time": 2.147874734,
                        "test": [
                          0.8079096045,
                          0.4529104937
                        ]
                      },
                      {
                        "learn": [
                          0.9201680672,
                          0.2281868963
                        ],
                        "iteration": 81,
                        "passed_time": 0.1915797861,
                        "remaining_time": 2.144759068,
                        "test": [
                          0.813559322,
                          0.4507541782
                        ]
                      },
                      {
                        "learn": [
                          0.9215686275,
                          0.227548371
                        ],
                        "iteration": 82,
                        "passed_time": 0.1938392105,
                        "remaining_time": 2.141572964,
                        "test": [
                          0.813559322,
                          0.4518149044
                        ]
                      },
                      {
                        "learn": [
                          0.9215686275,
                          0.2261293616
                        ],
                        "iteration": 83,
                        "passed_time": 0.1961028802,
                        "remaining_time": 2.138455217,
                        "test": [
                          0.8192090395,
                          0.4531558697
                        ]
                      },
                      {
                        "learn": [
                          0.9257703081,
                          0.2235934883
                        ],
                        "iteration": 84,
                        "passed_time": 0.1984162334,
                        "remaining_time": 2.135892395,
                        "test": [
                          0.813559322,
                          0.4544471842
                        ]
                      },
                      {
                        "learn": [
                          0.9271708683,
                          0.2231408469
                        ],
                        "iteration": 85,
                        "passed_time": 0.2006513933,
                        "remaining_time": 2.132504343,
                        "test": [
                          0.8079096045,
                          0.4551985333
                        ]
                      },
                      {
                        "learn": [
                          0.9285714286,
                          0.2224649211
                        ],
                        "iteration": 86,
                        "passed_time": 0.2027910505,
                        "remaining_time": 2.128140565,
                        "test": [
                          0.8079096045,
                          0.4556146638
                        ]
                      },
                      {
                        "learn": [
                          0.9327731092,
                          0.2197140922
                        ],
                        "iteration": 87,
                        "passed_time": 0.2050521958,
                        "remaining_time": 2.125086393,
                        "test": [
                          0.8079096045,
                          0.4591052302
                        ]
                      },
                      {
                        "learn": [
                          0.931372549,
                          0.2178438233
                        ],
                        "iteration": 88,
                        "passed_time": 0.2073623273,
                        "remaining_time": 2.122551463,
                        "test": [
                          0.802259887,
                          0.4599137222
                        ]
                      },
                      {
                        "learn": [
                          0.931372549,
                          0.216009443
                        ],
                        "iteration": 89,
                        "passed_time": 0.2100247034,
                        "remaining_time": 2.123583113,
                        "test": [
                          0.802259887,
                          0.4596583875
                        ]
                      },
                      {
                        "learn": [
                          0.931372549,
                          0.2153522642
                        ],
                        "iteration": 90,
                        "passed_time": 0.2122836906,
                        "remaining_time": 2.120504118,
                        "test": [
                          0.802259887,
                          0.4594742672
                        ]
                      },
                      {
                        "learn": [
                          0.931372549,
                          0.2140454022
                        ],
                        "iteration": 91,
                        "passed_time": 0.2145614598,
                        "remaining_time": 2.11762832,
                        "test": [
                          0.802259887,
                          0.4629620969
                        ]
                      },
                      {
                        "learn": [
                          0.931372549,
                          0.2133759317
                        ],
                        "iteration": 92,
                        "passed_time": 0.2169169223,
                        "remaining_time": 2.115523102,
                        "test": [
                          0.7966101695,
                          0.4632097042
                        ]
                      },
                      {
                        "learn": [
                          0.9341736695,
                          0.2110351567
                        ],
                        "iteration": 93,
                        "passed_time": 0.2192200804,
                        "remaining_time": 2.112908435,
                        "test": [
                          0.802259887,
                          0.4667610415
                        ]
                      },
                      {
                        "learn": [
                          0.9355742297,
                          0.2086868481
                        ],
                        "iteration": 94,
                        "passed_time": 0.22155718,
                        "remaining_time": 2.110623662,
                        "test": [
                          0.802259887,
                          0.4662369833
                        ]
                      },
                      {
                        "learn": [
                          0.9355742297,
                          0.2084966495
                        ],
                        "iteration": 95,
                        "passed_time": 0.2243727966,
                        "remaining_time": 2.112843834,
                        "test": [
                          0.802259887,
                          0.4668315533
                        ]
                      },
                      {
                        "learn": [
                          0.9355742297,
                          0.2074238387
                        ],
                        "iteration": 96,
                        "passed_time": 0.226615588,
                        "remaining_time": 2.109627587,
                        "test": [
                          0.8079096045,
                          0.4672031984
                        ]
                      },
                      {
                        "learn": [
                          0.9383753501,
                          0.2065794085
                        ],
                        "iteration": 97,
                        "passed_time": 0.2289317057,
                        "remaining_time": 2.107106107,
                        "test": [
                          0.8079096045,
                          0.4673181901
                        ]
                      },
                      {
                        "learn": [
                          0.9369747899,
                          0.203935082
                        ],
                        "iteration": 98,
                        "passed_time": 0.2311037853,
                        "remaining_time": 2.103277884,
                        "test": [
                          0.8079096045,
                          0.4716599929
                        ]
                      },
                      {
                        "learn": [
                          0.9369747899,
                          0.202249757
                        ],
                        "iteration": 99,
                        "passed_time": 0.233358948,
                        "remaining_time": 2.100230532,
                        "test": [
                          0.8079096045,
                          0.4717964312
                        ]
                      },
                      {
                        "learn": [
                          0.9369747899,
                          0.2013066805
                        ],
                        "iteration": 100,
                        "passed_time": 0.2356447114,
                        "remaining_time": 2.097471243,
                        "test": [
                          0.8079096045,
                          0.4735490355
                        ]
                      },
                      {
                        "learn": [
                          0.9355742297,
                          0.1990497362
                        ],
                        "iteration": 101,
                        "passed_time": 0.2378244689,
                        "remaining_time": 2.093787971,
                        "test": [
                          0.8079096045,
                          0.4740216014
                        ]
                      },
                      {
                        "learn": [
                          0.9369747899,
                          0.1979722481
                        ],
                        "iteration": 102,
                        "passed_time": 0.2400663704,
                        "remaining_time": 2.09067509,
                        "test": [
                          0.813559322,
                          0.4754233684
                        ]
                      },
                      {
                        "learn": [
                          0.9369747899,
                          0.1976752558
                        ],
                        "iteration": 103,
                        "passed_time": 0.2422946424,
                        "remaining_time": 2.087461534,
                        "test": [
                          0.813559322,
                          0.4754291572
                        ]
                      },
                      {
                        "learn": [
                          0.9383753501,
                          0.1963147582
                        ],
                        "iteration": 104,
                        "passed_time": 0.2450853244,
                        "remaining_time": 2.089060622,
                        "test": [
                          0.813559322,
                          0.4762474364
                        ]
                      },
                      {
                        "learn": [
                          0.9383753501,
                          0.195185044
                        ],
                        "iteration": 105,
                        "passed_time": 0.2509619989,
                        "remaining_time": 2.116604028,
                        "test": [
                          0.813559322,
                          0.4751960714
                        ]
                      },
                      {
                        "learn": [
                          0.9397759104,
                          0.1944100372
                        ],
                        "iteration": 106,
                        "passed_time": 0.2551570002,
                        "remaining_time": 2.129487862,
                        "test": [
                          0.813559322,
                          0.4776817826
                        ]
                      },
                      {
                        "learn": [
                          0.9383753501,
                          0.1936582466
                        ],
                        "iteration": 107,
                        "passed_time": 0.2590857092,
                        "remaining_time": 2.139856042,
                        "test": [
                          0.813559322,
                          0.4770279536
                        ]
                      },
                      {
                        "learn": [
                          0.9397759104,
                          0.1920204972
                        ],
                        "iteration": 108,
                        "passed_time": 0.2632236964,
                        "remaining_time": 2.1516726,
                        "test": [
                          0.813559322,
                          0.4818271994
                        ]
                      },
                      {
                        "learn": [
                          0.9411764706,
                          0.190635355
                        ],
                        "iteration": 109,
                        "passed_time": 0.2671798569,
                        "remaining_time": 2.161727934,
                        "test": [
                          0.8192090395,
                          0.4808923583
                        ]
                      },
                      {
                        "learn": [
                          0.9425770308,
                          0.1895005271
                        ],
                        "iteration": 110,
                        "passed_time": 0.27130877,
                        "remaining_time": 2.172914383,
                        "test": [
                          0.8192090395,
                          0.4874488325
                        ]
                      },
                      {
                        "learn": [
                          0.9453781513,
                          0.1880721596
                        ],
                        "iteration": 111,
                        "passed_time": 0.2754105204,
                        "remaining_time": 2.183611983,
                        "test": [
                          0.813559322,
                          0.4893197703
                        ]
                      },
                      {
                        "learn": [
                          0.943977591,
                          0.1871487865
                        ],
                        "iteration": 112,
                        "passed_time": 0.2790732623,
                        "remaining_time": 2.190601625,
                        "test": [
                          0.813559322,
                          0.4902055349
                        ]
                      },
                      {
                        "learn": [
                          0.943977591,
                          0.1854012363
                        ],
                        "iteration": 113,
                        "passed_time": 0.2825837601,
                        "remaining_time": 2.196221153,
                        "test": [
                          0.8192090395,
                          0.4902820268
                        ]
                      },
                      {
                        "learn": [
                          0.943977591,
                          0.1835594451
                        ],
                        "iteration": 114,
                        "passed_time": 0.2856313168,
                        "remaining_time": 2.198119264,
                        "test": [
                          0.813559322,
                          0.4957325123
                        ]
                      },
                      {
                        "learn": [
                          0.9467787115,
                          0.1829214318
                        ],
                        "iteration": 115,
                        "passed_time": 0.2881001613,
                        "remaining_time": 2.195521919,
                        "test": [
                          0.813559322,
                          0.4947976002
                        ]
                      },
                      {
                        "learn": [
                          0.9481792717,
                          0.1812535851
                        ],
                        "iteration": 116,
                        "passed_time": 0.2908112555,
                        "remaining_time": 2.194755031,
                        "test": [
                          0.813559322,
                          0.4923085169
                        ]
                      },
                      {
                        "learn": [
                          0.9467787115,
                          0.1799814956
                        ],
                        "iteration": 117,
                        "passed_time": 0.2937746981,
                        "remaining_time": 2.195841388,
                        "test": [
                          0.813559322,
                          0.4914873024
                        ]
                      },
                      {
                        "learn": [
                          0.9467787115,
                          0.1771650125
                        ],
                        "iteration": 118,
                        "passed_time": 0.2969620167,
                        "remaining_time": 2.198517115,
                        "test": [
                          0.813559322,
                          0.4893207466
                        ]
                      },
                      {
                        "learn": [
                          0.9481792717,
                          0.1757355706
                        ],
                        "iteration": 119,
                        "passed_time": 0.3010783092,
                        "remaining_time": 2.207907601,
                        "test": [
                          0.8192090395,
                          0.4906245146
                        ]
                      },
                      {
                        "learn": [
                          0.9481792717,
                          0.1754668209
                        ],
                        "iteration": 120,
                        "passed_time": 0.3050480175,
                        "remaining_time": 2.216009978,
                        "test": [
                          0.813559322,
                          0.4908899905
                        ]
                      },
                      {
                        "learn": [
                          0.9481792717,
                          0.1750859891
                        ],
                        "iteration": 121,
                        "passed_time": 0.3088971331,
                        "remaining_time": 2.223046581,
                        "test": [
                          0.8192090395,
                          0.4906394427
                        ]
                      },
                      {
                        "learn": [
                          0.9481792717,
                          0.1740882403
                        ],
                        "iteration": 122,
                        "passed_time": 0.3126514133,
                        "remaining_time": 2.229229996,
                        "test": [
                          0.8192090395,
                          0.4916885605
                        ]
                      },
                      {
                        "learn": [
                          0.9467787115,
                          0.1733679397
                        ],
                        "iteration": 123,
                        "passed_time": 0.316502568,
                        "remaining_time": 2.235937497,
                        "test": [
                          0.8192090395,
                          0.4914735716
                        ]
                      },
                      {
                        "learn": [
                          0.9467787115,
                          0.1732392158
                        ],
                        "iteration": 124,
                        "passed_time": 0.3199448548,
                        "remaining_time": 2.239613984,
                        "test": [
                          0.8192090395,
                          0.4910487924
                        ]
                      },
                      {
                        "learn": [
                          0.9467787115,
                          0.1722208347
                        ],
                        "iteration": 125,
                        "passed_time": 0.3231452547,
                        "remaining_time": 2.241499624,
                        "test": [
                          0.8192090395,
                          0.491726167
                        ]
                      },
                      {
                        "learn": [
                          0.9523809524,
                          0.1713795724
                        ],
                        "iteration": 126,
                        "passed_time": 0.3277404033,
                        "remaining_time": 2.252892693,
                        "test": [
                          0.8192090395,
                          0.4931342891
                        ]
                      },
                      {
                        "learn": [
                          0.9509803922,
                          0.1708835139
                        ],
                        "iteration": 127,
                        "passed_time": 0.3305471783,
                        "remaining_time": 2.251852652,
                        "test": [
                          0.8192090395,
                          0.493878867
                        ]
                      },
                      {
                        "learn": [
                          0.9523809524,
                          0.1693557527
                        ],
                        "iteration": 128,
                        "passed_time": 0.3335353436,
                        "remaining_time": 2.252009956,
                        "test": [
                          0.8192090395,
                          0.494511963
                        ]
                      },
                      {
                        "learn": [
                          0.9523809524,
                          0.1673706959
                        ],
                        "iteration": 129,
                        "passed_time": 0.3371233267,
                        "remaining_time": 2.256133032,
                        "test": [
                          0.8192090395,
                          0.4934004803
                        ]
                      },
                      {
                        "learn": [
                          0.9523809524,
                          0.1663871506
                        ],
                        "iteration": 130,
                        "passed_time": 0.3407364496,
                        "remaining_time": 2.260305151,
                        "test": [
                          0.8192090395,
                          0.4933350087
                        ]
                      },
                      {
                        "learn": [
                          0.9523809524,
                          0.1655228395
                        ],
                        "iteration": 131,
                        "passed_time": 0.3446838251,
                        "remaining_time": 2.266557274,
                        "test": [
                          0.8192090395,
                          0.4914270632
                        ]
                      },
                      {
                        "learn": [
                          0.9523809524,
                          0.1649030261
                        ],
                        "iteration": 132,
                        "passed_time": 0.3486299843,
                        "remaining_time": 2.272648093,
                        "test": [
                          0.8192090395,
                          0.4910373982
                        ]
                      },
                      {
                        "learn": [
                          0.9523809524,
                          0.1640590226
                        ],
                        "iteration": 133,
                        "passed_time": 0.3529342777,
                        "remaining_time": 2.280903616,
                        "test": [
                          0.8192090395,
                          0.4914833705
                        ]
                      },
                      {
                        "learn": [
                          0.9523809524,
                          0.1624794927
                        ],
                        "iteration": 134,
                        "passed_time": 0.3565795113,
                        "remaining_time": 2.284750202,
                        "test": [
                          0.8192090395,
                          0.4884809276
                        ]
                      },
                      {
                        "learn": [
                          0.9551820728,
                          0.1609315187
                        ],
                        "iteration": 135,
                        "passed_time": 0.3592145775,
                        "remaining_time": 2.282069081,
                        "test": [
                          0.8192090395,
                          0.4891073113
                        ]
                      },
                      {
                        "learn": [
                          0.9551820728,
                          0.1594888856
                        ],
                        "iteration": 136,
                        "passed_time": 0.362614016,
                        "remaining_time": 2.284203619,
                        "test": [
                          0.813559322,
                          0.4886044802
                        ]
                      },
                      {
                        "learn": [
                          0.9579831933,
                          0.1583283679
                        ],
                        "iteration": 137,
                        "passed_time": 0.367334707,
                        "remaining_time": 2.294510996,
                        "test": [
                          0.813559322,
                          0.486844747
                        ]
                      },
                      {
                        "learn": [
                          0.9579831933,
                          0.1581503587
                        ],
                        "iteration": 138,
                        "passed_time": 0.3710496215,
                        "remaining_time": 2.298372116,
                        "test": [
                          0.813559322,
                          0.4866609561
                        ]
                      },
                      {
                        "learn": [
                          0.9579831933,
                          0.1578295774
                        ],
                        "iteration": 139,
                        "passed_time": 0.3749989887,
                        "remaining_time": 2.303565216,
                        "test": [
                          0.8192090395,
                          0.4864638102
                        ]
                      },
                      {
                        "learn": [
                          0.9593837535,
                          0.1572603699
                        ],
                        "iteration": 140,
                        "passed_time": 0.3790469739,
                        "remaining_time": 2.309229437,
                        "test": [
                          0.8192090395,
                          0.4856072725
                        ]
                      },
                      {
                        "learn": [
                          0.9593837535,
                          0.156827723
                        ],
                        "iteration": 141,
                        "passed_time": 0.3827924309,
                        "remaining_time": 2.312928913,
                        "test": [
                          0.8192090395,
                          0.4854217033
                        ]
                      },
                      {
                        "learn": [
                          0.9593837535,
                          0.1561673867
                        ],
                        "iteration": 142,
                        "passed_time": 0.3867587593,
                        "remaining_time": 2.317847949,
                        "test": [
                          0.8192090395,
                          0.4867556714
                        ]
                      },
                      {
                        "learn": [
                          0.9593837535,
                          0.154862392
                        ],
                        "iteration": 143,
                        "passed_time": 0.3905648566,
                        "remaining_time": 2.321691092,
                        "test": [
                          0.8192090395,
                          0.4870302539
                        ]
                      },
                      {
                        "learn": [
                          0.9593837535,
                          0.1535598448
                        ],
                        "iteration": 144,
                        "passed_time": 0.396268415,
                        "remaining_time": 2.336617206,
                        "test": [
                          0.8192090395,
                          0.4879762868
                        ]
                      },
                      {
                        "learn": [
                          0.9593837535,
                          0.153033723
                        ],
                        "iteration": 145,
                        "passed_time": 0.3995272562,
                        "remaining_time": 2.3369608,
                        "test": [
                          0.813559322,
                          0.4878372398
                        ]
                      },
                      {
                        "learn": [
                          0.9607843137,
                          0.1525255132
                        ],
                        "iteration": 146,
                        "passed_time": 0.4055106584,
                        "remaining_time": 2.353065249,
                        "test": [
                          0.813559322,
                          0.4867782451
                        ]
                      },
                      {
                        "learn": [
                          0.9593837535,
                          0.1515831222
                        ],
                        "iteration": 147,
                        "passed_time": 0.4081690283,
                        "remaining_time": 2.349729811,
                        "test": [
                          0.813559322,
                          0.4869991052
                        ]
                      },
                      {
                        "learn": [
                          0.9593837535,
                          0.1513804377
                        ],
                        "iteration": 148,
                        "passed_time": 0.411803045,
                        "remaining_time": 2.35197578,
                        "test": [
                          0.813559322,
                          0.487952183
                        ]
                      },
                      {
                        "learn": [
                          0.9593837535,
                          0.1503063703
                        ],
                        "iteration": 149,
                        "passed_time": 0.4166185396,
                        "remaining_time": 2.360838391,
                        "test": [
                          0.8079096045,
                          0.4885285879
                        ]
                      },
                      {
                        "learn": [
                          0.9607843137,
                          0.1488782336
                        ],
                        "iteration": 150,
                        "passed_time": 0.4210699301,
                        "remaining_time": 2.367472653,
                        "test": [
                          0.813559322,
                          0.4895721394
                        ]
                      },
                      {
                        "learn": [
                          0.9607843137,
                          0.1478344979
                        ],
                        "iteration": 151,
                        "passed_time": 0.4239953088,
                        "remaining_time": 2.365447512,
                        "test": [
                          0.813559322,
                          0.4909850997
                        ]
                      },
                      {
                        "learn": [
                          0.9607843137,
                          0.1474855943
                        ],
                        "iteration": 152,
                        "passed_time": 0.4281985262,
                        "remaining_time": 2.370484651,
                        "test": [
                          0.8079096045,
                          0.4914300027
                        ]
                      },
                      {
                        "learn": [
                          0.9607843137,
                          0.1470271803
                        ],
                        "iteration": 153,
                        "passed_time": 0.431716691,
                        "remaining_time": 2.371638445,
                        "test": [
                          0.8079096045,
                          0.4917205745
                        ]
                      },
                      {
                        "learn": [
                          0.9635854342,
                          0.1456391928
                        ],
                        "iteration": 154,
                        "passed_time": 0.4354283374,
                        "remaining_time": 2.373786743,
                        "test": [
                          0.813559322,
                          0.4928419713
                        ]
                      },
                      {
                        "learn": [
                          0.9635854342,
                          0.1449876465
                        ],
                        "iteration": 155,
                        "passed_time": 0.4393639361,
                        "remaining_time": 2.377071551,
                        "test": [
                          0.813559322,
                          0.4930108238
                        ]
                      },
                      {
                        "learn": [
                          0.9635854342,
                          0.1437900304
                        ],
                        "iteration": 156,
                        "passed_time": 0.4431676789,
                        "remaining_time": 2.379556391,
                        "test": [
                          0.813559322,
                          0.4935425288
                        ]
                      },
                      {
                        "learn": [
                          0.9635854342,
                          0.1434487478
                        ],
                        "iteration": 157,
                        "passed_time": 0.4472598515,
                        "remaining_time": 2.383498702,
                        "test": [
                          0.813559322,
                          0.4916659775
                        ]
                      },
                      {
                        "learn": [
                          0.9649859944,
                          0.1424962065
                        ],
                        "iteration": 158,
                        "passed_time": 0.4509914862,
                        "remaining_time": 2.385432956,
                        "test": [
                          0.8079096045,
                          0.4932521209
                        ]
                      },
                      {
                        "learn": [
                          0.9649859944,
                          0.1417769065
                        ],
                        "iteration": 159,
                        "passed_time": 0.4545465442,
                        "remaining_time": 2.386369357,
                        "test": [
                          0.8079096045,
                          0.4936832537
                        ]
                      },
                      {
                        "learn": [
                          0.9649859944,
                          0.1408580682
                        ],
                        "iteration": 160,
                        "passed_time": 0.4580397718,
                        "remaining_time": 2.386927755,
                        "test": [
                          0.8079096045,
                          0.4953739901
                        ]
                      },
                      {
                        "learn": [
                          0.9649859944,
                          0.1405237914
                        ],
                        "iteration": 161,
                        "passed_time": 0.4616071165,
                        "remaining_time": 2.387819529,
                        "test": [
                          0.8079096045,
                          0.4960903455
                        ]
                      },
                      {
                        "learn": [
                          0.9649859944,
                          0.1402293787
                        ],
                        "iteration": 162,
                        "passed_time": 0.4654148274,
                        "remaining_time": 2.389890862,
                        "test": [
                          0.8079096045,
                          0.4955154328
                        ]
                      },
                      {
                        "learn": [
                          0.9649859944,
                          0.1395352843
                        ],
                        "iteration": 163,
                        "passed_time": 0.4691475021,
                        "remaining_time": 2.391507998,
                        "test": [
                          0.8079096045,
                          0.4952721815
                        ]
                      },
                      {
                        "learn": [
                          0.9649859944,
                          0.1391102446
                        ],
                        "iteration": 164,
                        "passed_time": 0.4727644312,
                        "remaining_time": 2.392474546,
                        "test": [
                          0.8079096045,
                          0.495447481
                        ]
                      },
                      {
                        "learn": [
                          0.9649859944,
                          0.1377465434
                        ],
                        "iteration": 165,
                        "passed_time": 0.4761565082,
                        "remaining_time": 2.392256192,
                        "test": [
                          0.8079096045,
                          0.4963333212
                        ]
                      },
                      {
                        "learn": [
                          0.9649859944,
                          0.1370208917
                        ],
                        "iteration": 166,
                        "passed_time": 0.4797004138,
                        "remaining_time": 2.392757154,
                        "test": [
                          0.8079096045,
                          0.4975974688
                        ]
                      },
                      {
                        "learn": [
                          0.9649859944,
                          0.1366023057
                        ],
                        "iteration": 167,
                        "passed_time": 0.4833220655,
                        "remaining_time": 2.393594991,
                        "test": [
                          0.8079096045,
                          0.4970147329
                        ]
                      },
                      {
                        "learn": [
                          0.9649859944,
                          0.1351135872
                        ],
                        "iteration": 168,
                        "passed_time": 0.4873259588,
                        "remaining_time": 2.396259596,
                        "test": [
                          0.8079096045,
                          0.4979579133
                        ]
                      },
                      {
                        "learn": [
                          0.9635854342,
                          0.1342340678
                        ],
                        "iteration": 169,
                        "passed_time": 0.4912668946,
                        "remaining_time": 2.398538368,
                        "test": [
                          0.8079096045,
                          0.4985847878
                        ]
                      }
                    ],
                    "meta": {
                      "test_sets": [
                        "test"
                      ],
                      "test_metrics": [
                        {
                          "best_value": "Max",
                          "name": "Accuracy"
                        },
                        {
                          "best_value": "Min",
                          "name": "Logloss"
                        }
                      ],
                      "learn_metrics": [
                        {
                          "best_value": "Max",
                          "name": "Accuracy"
                        },
                        {
                          "best_value": "Min",
                          "name": "Logloss"
                        }
                      ],
                      "launch_mode": "Train",
                      "parameters": "",
                      "iteration_count": 1000,
                      "learn_sets": [
                        "learn"
                      ],
                      "name": "experiment"
                    }
                  }
                }
              }
            },
            "layout": "IPY_MODEL_82a425e6546f4142aaea4dd2e13b06bd"
          }
        }
      }
    }
  },
  "nbformat": 4,
  "nbformat_minor": 0
}